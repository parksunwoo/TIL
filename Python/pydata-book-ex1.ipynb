{
 "cells": [
  {
   "cell_type": "code",
   "execution_count": 3,
   "metadata": {},
   "outputs": [],
   "source": [
    "import numpy as np\n",
    "import pandas as pd"
   ]
  },
  {
   "cell_type": "code",
   "execution_count": 76,
   "metadata": {},
   "outputs": [
    {
     "data": {
      "text/html": [
       "<div>\n",
       "<style scoped>\n",
       "    .dataframe tbody tr th:only-of-type {\n",
       "        vertical-align: middle;\n",
       "    }\n",
       "\n",
       "    .dataframe tbody tr th {\n",
       "        vertical-align: top;\n",
       "    }\n",
       "\n",
       "    .dataframe thead th {\n",
       "        text-align: right;\n",
       "    }\n",
       "</style>\n",
       "<table border=\"1\" class=\"dataframe\">\n",
       "  <thead>\n",
       "    <tr style=\"text-align: right;\">\n",
       "      <th></th>\n",
       "      <th>ID</th>\n",
       "      <th>Price</th>\n",
       "      <th>Age</th>\n",
       "      <th>KM</th>\n",
       "      <th>HP</th>\n",
       "      <th>CC</th>\n",
       "      <th>Weight</th>\n",
       "    </tr>\n",
       "  </thead>\n",
       "  <tbody>\n",
       "    <tr>\n",
       "      <th>0</th>\n",
       "      <td>1</td>\n",
       "      <td>13500</td>\n",
       "      <td>23</td>\n",
       "      <td>46986</td>\n",
       "      <td>90</td>\n",
       "      <td>2000</td>\n",
       "      <td>1165</td>\n",
       "    </tr>\n",
       "    <tr>\n",
       "      <th>1</th>\n",
       "      <td>2</td>\n",
       "      <td>13750</td>\n",
       "      <td>23</td>\n",
       "      <td>72937</td>\n",
       "      <td>90</td>\n",
       "      <td>2000</td>\n",
       "      <td>1165</td>\n",
       "    </tr>\n",
       "    <tr>\n",
       "      <th>2</th>\n",
       "      <td>3</td>\n",
       "      <td>13950</td>\n",
       "      <td>24</td>\n",
       "      <td>41711</td>\n",
       "      <td>90</td>\n",
       "      <td>2000</td>\n",
       "      <td>1165</td>\n",
       "    </tr>\n",
       "    <tr>\n",
       "      <th>3</th>\n",
       "      <td>4</td>\n",
       "      <td>14950</td>\n",
       "      <td>26</td>\n",
       "      <td>48000</td>\n",
       "      <td>90</td>\n",
       "      <td>2000</td>\n",
       "      <td>1165</td>\n",
       "    </tr>\n",
       "    <tr>\n",
       "      <th>4</th>\n",
       "      <td>5</td>\n",
       "      <td>13750</td>\n",
       "      <td>30</td>\n",
       "      <td>38500</td>\n",
       "      <td>90</td>\n",
       "      <td>2000</td>\n",
       "      <td>1170</td>\n",
       "    </tr>\n",
       "  </tbody>\n",
       "</table>\n",
       "</div>"
      ],
      "text/plain": [
       "   ID  Price  Age     KM  HP    CC  Weight\n",
       "0   1  13500   23  46986  90  2000    1165\n",
       "1   2  13750   23  72937  90  2000    1165\n",
       "2   3  13950   24  41711  90  2000    1165\n",
       "3   4  14950   26  48000  90  2000    1165\n",
       "4   5  13750   30  38500  90  2000    1170"
      ]
     },
     "execution_count": 76,
     "metadata": {},
     "output_type": "execute_result"
    }
   ],
   "source": [
    "df_num = pd.read_csv(\"corolla_1.csv\")\n",
    "df_cat = pd.read_csv(\"corolla_2.csv\")\n",
    "\n",
    "# len(df_num)\n",
    "# len(df_cat)\n",
    "df_num.head()"
   ]
  },
  {
   "cell_type": "code",
   "execution_count": 77,
   "metadata": {},
   "outputs": [
    {
     "data": {
      "text/html": [
       "<div>\n",
       "<style scoped>\n",
       "    .dataframe tbody tr th:only-of-type {\n",
       "        vertical-align: middle;\n",
       "    }\n",
       "\n",
       "    .dataframe tbody tr th {\n",
       "        vertical-align: top;\n",
       "    }\n",
       "\n",
       "    .dataframe thead th {\n",
       "        text-align: right;\n",
       "    }\n",
       "</style>\n",
       "<table border=\"1\" class=\"dataframe\">\n",
       "  <thead>\n",
       "    <tr style=\"text-align: right;\">\n",
       "      <th></th>\n",
       "      <th>ID</th>\n",
       "      <th>FuelType</th>\n",
       "      <th>TransmissionType</th>\n",
       "      <th>Doors</th>\n",
       "    </tr>\n",
       "  </thead>\n",
       "  <tbody>\n",
       "    <tr>\n",
       "      <th>0</th>\n",
       "      <td>43</td>\n",
       "      <td>Petrol</td>\n",
       "      <td>Manual</td>\n",
       "      <td>2doors</td>\n",
       "    </tr>\n",
       "    <tr>\n",
       "      <th>1</th>\n",
       "      <td>44</td>\n",
       "      <td>Diesel</td>\n",
       "      <td>Manual</td>\n",
       "      <td>2doors</td>\n",
       "    </tr>\n",
       "    <tr>\n",
       "      <th>2</th>\n",
       "      <td>45</td>\n",
       "      <td>Diesel</td>\n",
       "      <td>Manual</td>\n",
       "      <td>5doors</td>\n",
       "    </tr>\n",
       "    <tr>\n",
       "      <th>3</th>\n",
       "      <td>46</td>\n",
       "      <td>Diesel</td>\n",
       "      <td>Manual</td>\n",
       "      <td>5doors</td>\n",
       "    </tr>\n",
       "    <tr>\n",
       "      <th>4</th>\n",
       "      <td>47</td>\n",
       "      <td>Diesel</td>\n",
       "      <td>Manual</td>\n",
       "      <td>5doors</td>\n",
       "    </tr>\n",
       "  </tbody>\n",
       "</table>\n",
       "</div>"
      ],
      "text/plain": [
       "   ID FuelType TransmissionType   Doors\n",
       "0  43   Petrol           Manual  2doors\n",
       "1  44   Diesel           Manual  2doors\n",
       "2  45   Diesel           Manual  5doors\n",
       "3  46   Diesel           Manual  5doors\n",
       "4  47   Diesel           Manual  5doors"
      ]
     },
     "execution_count": 77,
     "metadata": {},
     "output_type": "execute_result"
    }
   ],
   "source": [
    "df_cat.head()"
   ]
  },
  {
   "cell_type": "code",
   "execution_count": 85,
   "metadata": {},
   "outputs": [
    {
     "data": {
      "text/plain": [
       "(995, 10)"
      ]
     },
     "execution_count": 85,
     "metadata": {},
     "output_type": "execute_result"
    }
   ],
   "source": [
    "base_table = df_num.merge(df_cat)\n",
    "base_table = base_table.dropna() \n",
    "base_table.shape"
   ]
  },
  {
   "cell_type": "code",
   "execution_count": 84,
   "metadata": {},
   "outputs": [
    {
     "data": {
      "text/html": [
       "<div>\n",
       "<style scoped>\n",
       "    .dataframe tbody tr th:only-of-type {\n",
       "        vertical-align: middle;\n",
       "    }\n",
       "\n",
       "    .dataframe tbody tr th {\n",
       "        vertical-align: top;\n",
       "    }\n",
       "\n",
       "    .dataframe thead th {\n",
       "        text-align: right;\n",
       "    }\n",
       "</style>\n",
       "<table border=\"1\" class=\"dataframe\">\n",
       "  <thead>\n",
       "    <tr style=\"text-align: right;\">\n",
       "      <th></th>\n",
       "      <th>ID</th>\n",
       "      <th>Price</th>\n",
       "      <th>Age</th>\n",
       "      <th>KM</th>\n",
       "      <th>HP</th>\n",
       "      <th>CC</th>\n",
       "      <th>Weight</th>\n",
       "      <th>FuelType</th>\n",
       "      <th>TransmissionType</th>\n",
       "      <th>Doors</th>\n",
       "    </tr>\n",
       "  </thead>\n",
       "  <tbody>\n",
       "    <tr>\n",
       "      <th>0</th>\n",
       "      <td>1</td>\n",
       "      <td>13500</td>\n",
       "      <td>23</td>\n",
       "      <td>46986</td>\n",
       "      <td>90</td>\n",
       "      <td>2000</td>\n",
       "      <td>1165</td>\n",
       "      <td>Diesel</td>\n",
       "      <td>Manual</td>\n",
       "      <td>4doors</td>\n",
       "    </tr>\n",
       "    <tr>\n",
       "      <th>1</th>\n",
       "      <td>2</td>\n",
       "      <td>13750</td>\n",
       "      <td>23</td>\n",
       "      <td>72937</td>\n",
       "      <td>90</td>\n",
       "      <td>2000</td>\n",
       "      <td>1165</td>\n",
       "      <td>Diesel</td>\n",
       "      <td>Manual</td>\n",
       "      <td>3doors</td>\n",
       "    </tr>\n",
       "    <tr>\n",
       "      <th>2</th>\n",
       "      <td>3</td>\n",
       "      <td>13950</td>\n",
       "      <td>24</td>\n",
       "      <td>41711</td>\n",
       "      <td>90</td>\n",
       "      <td>2000</td>\n",
       "      <td>1165</td>\n",
       "      <td>Diesel</td>\n",
       "      <td>Manual</td>\n",
       "      <td>4doors</td>\n",
       "    </tr>\n",
       "    <tr>\n",
       "      <th>3</th>\n",
       "      <td>4</td>\n",
       "      <td>14950</td>\n",
       "      <td>26</td>\n",
       "      <td>48000</td>\n",
       "      <td>90</td>\n",
       "      <td>2000</td>\n",
       "      <td>1165</td>\n",
       "      <td>Diesel</td>\n",
       "      <td>Manual</td>\n",
       "      <td>3doors</td>\n",
       "    </tr>\n",
       "    <tr>\n",
       "      <th>4</th>\n",
       "      <td>5</td>\n",
       "      <td>13750</td>\n",
       "      <td>30</td>\n",
       "      <td>38500</td>\n",
       "      <td>90</td>\n",
       "      <td>2000</td>\n",
       "      <td>1170</td>\n",
       "      <td>Diesel</td>\n",
       "      <td>Manual</td>\n",
       "      <td>4doors</td>\n",
       "    </tr>\n",
       "  </tbody>\n",
       "</table>\n",
       "</div>"
      ],
      "text/plain": [
       "   ID  Price  Age     KM  HP    CC  Weight FuelType TransmissionType   Doors\n",
       "0   1  13500   23  46986  90  2000    1165   Diesel           Manual  4doors\n",
       "1   2  13750   23  72937  90  2000    1165   Diesel           Manual  3doors\n",
       "2   3  13950   24  41711  90  2000    1165   Diesel           Manual  4doors\n",
       "3   4  14950   26  48000  90  2000    1165   Diesel           Manual  3doors\n",
       "4   5  13750   30  38500  90  2000    1170   Diesel           Manual  4doors"
      ]
     },
     "execution_count": 84,
     "metadata": {},
     "output_type": "execute_result"
    }
   ],
   "source": [
    "# base_table = df_num.join(df_cat.set_index(\"ID\"), how=\"left\", on=\"ID\")\n",
    "# base_table.dropna()\n",
    "# base_table.shape\n",
    "# base_table.head()"
   ]
  },
  {
   "cell_type": "code",
   "execution_count": null,
   "metadata": {},
   "outputs": [],
   "source": []
  },
  {
   "cell_type": "code",
   "execution_count": null,
   "metadata": {},
   "outputs": [],
   "source": []
  },
  {
   "cell_type": "code",
   "execution_count": null,
   "metadata": {},
   "outputs": [],
   "source": []
  },
  {
   "cell_type": "code",
   "execution_count": null,
   "metadata": {},
   "outputs": [],
   "source": []
  },
  {
   "cell_type": "code",
   "execution_count": null,
   "metadata": {},
   "outputs": [],
   "source": []
  },
  {
   "cell_type": "code",
   "execution_count": null,
   "metadata": {},
   "outputs": [],
   "source": []
  },
  {
   "cell_type": "code",
   "execution_count": null,
   "metadata": {},
   "outputs": [],
   "source": []
  },
  {
   "cell_type": "code",
   "execution_count": 86,
   "metadata": {},
   "outputs": [],
   "source": [
    "base_table_auto = base_table[base_table.TransmissionType == \"Automatic\"]\n",
    "base_table_manual = base_table[base_table.TransmissionType == \"Manual\"]"
   ]
  },
  {
   "cell_type": "code",
   "execution_count": 87,
   "metadata": {},
   "outputs": [],
   "source": [
    "# 판매가격(Price)이 차이가 있는지 통계적으로 검정하고자 한다. 이 때, p-value\n",
    "from scipy.stats import levene\n",
    "stat, p = levene(base_table_auto.Price, base_table_manual.Price)\n"
   ]
  },
  {
   "cell_type": "code",
   "execution_count": 88,
   "metadata": {},
   "outputs": [
    {
     "data": {
      "text/plain": [
       "0.6209924557789868"
      ]
     },
     "execution_count": 88,
     "metadata": {},
     "output_type": "execute_result"
    }
   ],
   "source": [
    "p"
   ]
  },
  {
   "cell_type": "code",
   "execution_count": 89,
   "metadata": {},
   "outputs": [
    {
     "data": {
      "text/html": [
       "<div>\n",
       "<style scoped>\n",
       "    .dataframe tbody tr th:only-of-type {\n",
       "        vertical-align: middle;\n",
       "    }\n",
       "\n",
       "    .dataframe tbody tr th {\n",
       "        vertical-align: top;\n",
       "    }\n",
       "\n",
       "    .dataframe thead th {\n",
       "        text-align: right;\n",
       "    }\n",
       "</style>\n",
       "<table border=\"1\" class=\"dataframe\">\n",
       "  <thead>\n",
       "    <tr style=\"text-align: right;\">\n",
       "      <th></th>\n",
       "      <th>ID</th>\n",
       "      <th>Price</th>\n",
       "      <th>Age</th>\n",
       "      <th>KM</th>\n",
       "      <th>HP</th>\n",
       "      <th>CC</th>\n",
       "      <th>Weight</th>\n",
       "      <th>FuelType</th>\n",
       "      <th>TransmissionType</th>\n",
       "      <th>Doors</th>\n",
       "      <th>TransmissionType_dummy</th>\n",
       "    </tr>\n",
       "  </thead>\n",
       "  <tbody>\n",
       "    <tr>\n",
       "      <th>0</th>\n",
       "      <td>1</td>\n",
       "      <td>13500</td>\n",
       "      <td>23</td>\n",
       "      <td>46986</td>\n",
       "      <td>90</td>\n",
       "      <td>2000</td>\n",
       "      <td>1165</td>\n",
       "      <td>Diesel</td>\n",
       "      <td>Manual</td>\n",
       "      <td>4doors</td>\n",
       "      <td>1</td>\n",
       "    </tr>\n",
       "    <tr>\n",
       "      <th>1</th>\n",
       "      <td>2</td>\n",
       "      <td>13750</td>\n",
       "      <td>23</td>\n",
       "      <td>72937</td>\n",
       "      <td>90</td>\n",
       "      <td>2000</td>\n",
       "      <td>1165</td>\n",
       "      <td>Diesel</td>\n",
       "      <td>Manual</td>\n",
       "      <td>3doors</td>\n",
       "      <td>1</td>\n",
       "    </tr>\n",
       "    <tr>\n",
       "      <th>2</th>\n",
       "      <td>3</td>\n",
       "      <td>13950</td>\n",
       "      <td>24</td>\n",
       "      <td>41711</td>\n",
       "      <td>90</td>\n",
       "      <td>2000</td>\n",
       "      <td>1165</td>\n",
       "      <td>Diesel</td>\n",
       "      <td>Manual</td>\n",
       "      <td>4doors</td>\n",
       "      <td>1</td>\n",
       "    </tr>\n",
       "    <tr>\n",
       "      <th>3</th>\n",
       "      <td>4</td>\n",
       "      <td>14950</td>\n",
       "      <td>26</td>\n",
       "      <td>48000</td>\n",
       "      <td>90</td>\n",
       "      <td>2000</td>\n",
       "      <td>1165</td>\n",
       "      <td>Diesel</td>\n",
       "      <td>Manual</td>\n",
       "      <td>3doors</td>\n",
       "      <td>1</td>\n",
       "    </tr>\n",
       "    <tr>\n",
       "      <th>4</th>\n",
       "      <td>5</td>\n",
       "      <td>13750</td>\n",
       "      <td>30</td>\n",
       "      <td>38500</td>\n",
       "      <td>90</td>\n",
       "      <td>2000</td>\n",
       "      <td>1170</td>\n",
       "      <td>Diesel</td>\n",
       "      <td>Manual</td>\n",
       "      <td>4doors</td>\n",
       "      <td>1</td>\n",
       "    </tr>\n",
       "  </tbody>\n",
       "</table>\n",
       "</div>"
      ],
      "text/plain": [
       "   ID  Price  Age     KM  HP    CC  Weight FuelType TransmissionType   Doors  \\\n",
       "0   1  13500   23  46986  90  2000    1165   Diesel           Manual  4doors   \n",
       "1   2  13750   23  72937  90  2000    1165   Diesel           Manual  3doors   \n",
       "2   3  13950   24  41711  90  2000    1165   Diesel           Manual  4doors   \n",
       "3   4  14950   26  48000  90  2000    1165   Diesel           Manual  3doors   \n",
       "4   5  13750   30  38500  90  2000    1170   Diesel           Manual  4doors   \n",
       "\n",
       "   TransmissionType_dummy  \n",
       "0                       1  \n",
       "1                       1  \n",
       "2                       1  \n",
       "3                       1  \n",
       "4                       1  "
      ]
     },
     "execution_count": 89,
     "metadata": {},
     "output_type": "execute_result"
    }
   ],
   "source": [
    "base_table[\"TransmissionType_dummy\"] =  pd.get_dummies(df[\"TransmissionType\"], drop_first=True)\n",
    "base_table.head()"
   ]
  },
  {
   "cell_type": "code",
   "execution_count": 91,
   "metadata": {},
   "outputs": [],
   "source": [
    "from scipy.stats import ttest_ind\n",
    "stat, p = ttest_ind(base_table[\"Price\"], base_table[\"TransmissionType_dummy\"], equal_var=True)"
   ]
  },
  {
   "cell_type": "code",
   "execution_count": 74,
   "metadata": {},
   "outputs": [
    {
     "data": {
      "text/plain": [
       "0.0"
      ]
     },
     "execution_count": 74,
     "metadata": {},
     "output_type": "execute_result"
    }
   ],
   "source": [
    "p"
   ]
  },
  {
   "cell_type": "code",
   "execution_count": null,
   "metadata": {},
   "outputs": [],
   "source": []
  },
  {
   "cell_type": "code",
   "execution_count": 92,
   "metadata": {},
   "outputs": [],
   "source": [
    "# 일원분산\n",
    "# from scipy.stats import f_oneway\n",
    "# base_table[\"num_doors\"] = base_table.Doors.str.extract('(\\d+)').astype(int)\n",
    "# base_table\n",
    "# stat, p = f_oneway(base_table.Price, base_table.num_doors)"
   ]
  },
  {
   "cell_type": "code",
   "execution_count": 93,
   "metadata": {},
   "outputs": [],
   "source": [
    "import statsmodels.api as sm\n",
    "\n",
    "model = sm.OLS.from_formula(\"Price ~ Doors\", data=base_table)\n",
    "result = model.fit()\n"
   ]
  },
  {
   "cell_type": "code",
   "execution_count": 94,
   "metadata": {},
   "outputs": [
    {
     "name": "stdout",
     "output_type": "stream",
     "text": [
      "                            OLS Regression Results                            \n",
      "==============================================================================\n",
      "Dep. Variable:                  Price   R-squared:                       0.020\n",
      "Model:                            OLS   Adj. R-squared:                  0.017\n",
      "Method:                 Least Squares   F-statistic:                     6.653\n",
      "Date:                Wed, 21 Aug 2019   Prob (F-statistic):           0.000189\n",
      "Time:                        15:02:17   Log-Likelihood:                -9591.6\n",
      "No. Observations:                 995   AIC:                         1.919e+04\n",
      "Df Residuals:                     991   BIC:                         1.921e+04\n",
      "Df Model:                           3                                         \n",
      "Covariance Type:            nonrobust                                         \n",
      "===================================================================================\n",
      "                      coef    std err          t      P>|t|      [0.025      0.975]\n",
      "-----------------------------------------------------------------------------------\n",
      "Intercept        1.237e+04    265.410     46.614      0.000    1.19e+04    1.29e+04\n",
      "Doors[T.3doors]  -949.2964    368.230     -2.578      0.010   -1671.896    -226.696\n",
      "Doors[T.4doors] -1088.6182    345.158     -3.154      0.002   -1765.943    -411.293\n",
      "Doors[T.5doors]    35.3846    341.613      0.104      0.918    -634.984     705.753\n",
      "==============================================================================\n",
      "Omnibus:                      270.498   Durbin-Watson:                   0.340\n",
      "Prob(Omnibus):                  0.000   Jarque-Bera (JB):              640.959\n",
      "Skew:                           1.459   Prob(JB):                    6.57e-140\n",
      "Kurtosis:                       5.636   Cond. No.                         5.34\n",
      "==============================================================================\n",
      "\n",
      "Warnings:\n",
      "[1] Standard Errors assume that the covariance matrix of the errors is correctly specified.\n"
     ]
    }
   ],
   "source": [
    "print(result.summary())"
   ]
  },
  {
   "cell_type": "code",
   "execution_count": 95,
   "metadata": {},
   "outputs": [],
   "source": [
    "# 이원분산\n",
    "# from statsmodels.formula.api import ols\n",
    "# from statsmodels.stats.anova import anova_lm\n",
    "\n",
    "# formula = "
   ]
  },
  {
   "cell_type": "code",
   "execution_count": 96,
   "metadata": {},
   "outputs": [],
   "source": [
    "base_table_cate = base_table.select_dtypes(include=['object'])\n",
    "base_table_num = base_table.select_dtypes(exclude=['object'])"
   ]
  },
  {
   "cell_type": "code",
   "execution_count": 97,
   "metadata": {},
   "outputs": [
    {
     "data": {
      "text/html": [
       "<div>\n",
       "<style scoped>\n",
       "    .dataframe tbody tr th:only-of-type {\n",
       "        vertical-align: middle;\n",
       "    }\n",
       "\n",
       "    .dataframe tbody tr th {\n",
       "        vertical-align: top;\n",
       "    }\n",
       "\n",
       "    .dataframe thead th {\n",
       "        text-align: right;\n",
       "    }\n",
       "</style>\n",
       "<table border=\"1\" class=\"dataframe\">\n",
       "  <thead>\n",
       "    <tr style=\"text-align: right;\">\n",
       "      <th></th>\n",
       "      <th>ID</th>\n",
       "      <th>Price</th>\n",
       "      <th>Age</th>\n",
       "      <th>KM</th>\n",
       "      <th>HP</th>\n",
       "      <th>CC</th>\n",
       "      <th>Weight</th>\n",
       "      <th>TransmissionType_dummy</th>\n",
       "    </tr>\n",
       "  </thead>\n",
       "  <tbody>\n",
       "    <tr>\n",
       "      <th>0</th>\n",
       "      <td>1</td>\n",
       "      <td>13500</td>\n",
       "      <td>23</td>\n",
       "      <td>46986</td>\n",
       "      <td>90</td>\n",
       "      <td>2000</td>\n",
       "      <td>1165</td>\n",
       "      <td>1</td>\n",
       "    </tr>\n",
       "    <tr>\n",
       "      <th>1</th>\n",
       "      <td>2</td>\n",
       "      <td>13750</td>\n",
       "      <td>23</td>\n",
       "      <td>72937</td>\n",
       "      <td>90</td>\n",
       "      <td>2000</td>\n",
       "      <td>1165</td>\n",
       "      <td>1</td>\n",
       "    </tr>\n",
       "    <tr>\n",
       "      <th>2</th>\n",
       "      <td>3</td>\n",
       "      <td>13950</td>\n",
       "      <td>24</td>\n",
       "      <td>41711</td>\n",
       "      <td>90</td>\n",
       "      <td>2000</td>\n",
       "      <td>1165</td>\n",
       "      <td>1</td>\n",
       "    </tr>\n",
       "    <tr>\n",
       "      <th>3</th>\n",
       "      <td>4</td>\n",
       "      <td>14950</td>\n",
       "      <td>26</td>\n",
       "      <td>48000</td>\n",
       "      <td>90</td>\n",
       "      <td>2000</td>\n",
       "      <td>1165</td>\n",
       "      <td>1</td>\n",
       "    </tr>\n",
       "    <tr>\n",
       "      <th>4</th>\n",
       "      <td>5</td>\n",
       "      <td>13750</td>\n",
       "      <td>30</td>\n",
       "      <td>38500</td>\n",
       "      <td>90</td>\n",
       "      <td>2000</td>\n",
       "      <td>1170</td>\n",
       "      <td>1</td>\n",
       "    </tr>\n",
       "  </tbody>\n",
       "</table>\n",
       "</div>"
      ],
      "text/plain": [
       "   ID  Price  Age     KM  HP    CC  Weight  TransmissionType_dummy\n",
       "0   1  13500   23  46986  90  2000    1165                       1\n",
       "1   2  13750   23  72937  90  2000    1165                       1\n",
       "2   3  13950   24  41711  90  2000    1165                       1\n",
       "3   4  14950   26  48000  90  2000    1165                       1\n",
       "4   5  13750   30  38500  90  2000    1170                       1"
      ]
     },
     "execution_count": 97,
     "metadata": {},
     "output_type": "execute_result"
    }
   ],
   "source": [
    "base_table_num.head()"
   ]
  },
  {
   "cell_type": "code",
   "execution_count": 98,
   "metadata": {},
   "outputs": [
    {
     "data": {
      "text/html": [
       "<div>\n",
       "<style scoped>\n",
       "    .dataframe tbody tr th:only-of-type {\n",
       "        vertical-align: middle;\n",
       "    }\n",
       "\n",
       "    .dataframe tbody tr th {\n",
       "        vertical-align: top;\n",
       "    }\n",
       "\n",
       "    .dataframe thead th {\n",
       "        text-align: right;\n",
       "    }\n",
       "</style>\n",
       "<table border=\"1\" class=\"dataframe\">\n",
       "  <thead>\n",
       "    <tr style=\"text-align: right;\">\n",
       "      <th></th>\n",
       "      <th>FuelType</th>\n",
       "      <th>TransmissionType</th>\n",
       "      <th>Doors</th>\n",
       "    </tr>\n",
       "  </thead>\n",
       "  <tbody>\n",
       "    <tr>\n",
       "      <th>0</th>\n",
       "      <td>Diesel</td>\n",
       "      <td>Manual</td>\n",
       "      <td>4doors</td>\n",
       "    </tr>\n",
       "    <tr>\n",
       "      <th>1</th>\n",
       "      <td>Diesel</td>\n",
       "      <td>Manual</td>\n",
       "      <td>3doors</td>\n",
       "    </tr>\n",
       "    <tr>\n",
       "      <th>2</th>\n",
       "      <td>Diesel</td>\n",
       "      <td>Manual</td>\n",
       "      <td>4doors</td>\n",
       "    </tr>\n",
       "    <tr>\n",
       "      <th>3</th>\n",
       "      <td>Diesel</td>\n",
       "      <td>Manual</td>\n",
       "      <td>3doors</td>\n",
       "    </tr>\n",
       "    <tr>\n",
       "      <th>4</th>\n",
       "      <td>Diesel</td>\n",
       "      <td>Manual</td>\n",
       "      <td>4doors</td>\n",
       "    </tr>\n",
       "  </tbody>\n",
       "</table>\n",
       "</div>"
      ],
      "text/plain": [
       "  FuelType TransmissionType   Doors\n",
       "0   Diesel           Manual  4doors\n",
       "1   Diesel           Manual  3doors\n",
       "2   Diesel           Manual  4doors\n",
       "3   Diesel           Manual  3doors\n",
       "4   Diesel           Manual  4doors"
      ]
     },
     "execution_count": 98,
     "metadata": {},
     "output_type": "execute_result"
    }
   ],
   "source": [
    "base_table_cate.head()"
   ]
  },
  {
   "cell_type": "code",
   "execution_count": 99,
   "metadata": {},
   "outputs": [],
   "source": [
    "base_y = base_table[\"Price\"]"
   ]
  },
  {
   "cell_type": "code",
   "execution_count": 100,
   "metadata": {},
   "outputs": [],
   "source": [
    "# from scipy.stats.pearsonr\n",
    "# pearsonr(x1, x3)[0]\n",
    "# pearsonr(price, base_table)[0]\n",
    "\n",
    "corr = base_table.corr(method='pearson')"
   ]
  },
  {
   "cell_type": "code",
   "execution_count": 101,
   "metadata": {},
   "outputs": [],
   "source": [
    "base_table_num = base_table.loc[: , [\"Age\", \"KM\", \"HP\", \"Weight\"]]"
   ]
  },
  {
   "cell_type": "code",
   "execution_count": 102,
   "metadata": {},
   "outputs": [
    {
     "data": {
      "text/html": [
       "<div>\n",
       "<style scoped>\n",
       "    .dataframe tbody tr th:only-of-type {\n",
       "        vertical-align: middle;\n",
       "    }\n",
       "\n",
       "    .dataframe tbody tr th {\n",
       "        vertical-align: top;\n",
       "    }\n",
       "\n",
       "    .dataframe thead th {\n",
       "        text-align: right;\n",
       "    }\n",
       "</style>\n",
       "<table border=\"1\" class=\"dataframe\">\n",
       "  <thead>\n",
       "    <tr style=\"text-align: right;\">\n",
       "      <th></th>\n",
       "      <th>Age</th>\n",
       "      <th>KM</th>\n",
       "      <th>HP</th>\n",
       "      <th>Weight</th>\n",
       "    </tr>\n",
       "  </thead>\n",
       "  <tbody>\n",
       "    <tr>\n",
       "      <th>0</th>\n",
       "      <td>23</td>\n",
       "      <td>46986</td>\n",
       "      <td>90</td>\n",
       "      <td>1165</td>\n",
       "    </tr>\n",
       "    <tr>\n",
       "      <th>1</th>\n",
       "      <td>23</td>\n",
       "      <td>72937</td>\n",
       "      <td>90</td>\n",
       "      <td>1165</td>\n",
       "    </tr>\n",
       "    <tr>\n",
       "      <th>2</th>\n",
       "      <td>24</td>\n",
       "      <td>41711</td>\n",
       "      <td>90</td>\n",
       "      <td>1165</td>\n",
       "    </tr>\n",
       "    <tr>\n",
       "      <th>3</th>\n",
       "      <td>26</td>\n",
       "      <td>48000</td>\n",
       "      <td>90</td>\n",
       "      <td>1165</td>\n",
       "    </tr>\n",
       "    <tr>\n",
       "      <th>4</th>\n",
       "      <td>30</td>\n",
       "      <td>38500</td>\n",
       "      <td>90</td>\n",
       "      <td>1170</td>\n",
       "    </tr>\n",
       "  </tbody>\n",
       "</table>\n",
       "</div>"
      ],
      "text/plain": [
       "   Age     KM  HP  Weight\n",
       "0   23  46986  90    1165\n",
       "1   23  72937  90    1165\n",
       "2   24  41711  90    1165\n",
       "3   26  48000  90    1165\n",
       "4   30  38500  90    1170"
      ]
     },
     "execution_count": 102,
     "metadata": {},
     "output_type": "execute_result"
    }
   ],
   "source": [
    "base_table_num.head()"
   ]
  },
  {
   "cell_type": "code",
   "execution_count": 103,
   "metadata": {},
   "outputs": [
    {
     "data": {
      "text/html": [
       "<div>\n",
       "<style scoped>\n",
       "    .dataframe tbody tr th:only-of-type {\n",
       "        vertical-align: middle;\n",
       "    }\n",
       "\n",
       "    .dataframe tbody tr th {\n",
       "        vertical-align: top;\n",
       "    }\n",
       "\n",
       "    .dataframe thead th {\n",
       "        text-align: right;\n",
       "    }\n",
       "</style>\n",
       "<table border=\"1\" class=\"dataframe\">\n",
       "  <thead>\n",
       "    <tr style=\"text-align: right;\">\n",
       "      <th></th>\n",
       "      <th>FuelType_Diesel</th>\n",
       "      <th>FuelType_Petrol</th>\n",
       "      <th>TransmissionType_Manual</th>\n",
       "      <th>Doors_3doors</th>\n",
       "      <th>Doors_4doors</th>\n",
       "      <th>Doors_5doors</th>\n",
       "    </tr>\n",
       "  </thead>\n",
       "  <tbody>\n",
       "    <tr>\n",
       "      <th>0</th>\n",
       "      <td>1</td>\n",
       "      <td>0</td>\n",
       "      <td>1</td>\n",
       "      <td>0</td>\n",
       "      <td>1</td>\n",
       "      <td>0</td>\n",
       "    </tr>\n",
       "    <tr>\n",
       "      <th>1</th>\n",
       "      <td>1</td>\n",
       "      <td>0</td>\n",
       "      <td>1</td>\n",
       "      <td>1</td>\n",
       "      <td>0</td>\n",
       "      <td>0</td>\n",
       "    </tr>\n",
       "    <tr>\n",
       "      <th>2</th>\n",
       "      <td>1</td>\n",
       "      <td>0</td>\n",
       "      <td>1</td>\n",
       "      <td>0</td>\n",
       "      <td>1</td>\n",
       "      <td>0</td>\n",
       "    </tr>\n",
       "    <tr>\n",
       "      <th>3</th>\n",
       "      <td>1</td>\n",
       "      <td>0</td>\n",
       "      <td>1</td>\n",
       "      <td>1</td>\n",
       "      <td>0</td>\n",
       "      <td>0</td>\n",
       "    </tr>\n",
       "    <tr>\n",
       "      <th>4</th>\n",
       "      <td>1</td>\n",
       "      <td>0</td>\n",
       "      <td>1</td>\n",
       "      <td>0</td>\n",
       "      <td>1</td>\n",
       "      <td>0</td>\n",
       "    </tr>\n",
       "  </tbody>\n",
       "</table>\n",
       "</div>"
      ],
      "text/plain": [
       "   FuelType_Diesel  FuelType_Petrol  TransmissionType_Manual  Doors_3doors  \\\n",
       "0                1                0                        1             0   \n",
       "1                1                0                        1             1   \n",
       "2                1                0                        1             0   \n",
       "3                1                0                        1             1   \n",
       "4                1                0                        1             0   \n",
       "\n",
       "   Doors_4doors  Doors_5doors  \n",
       "0             1             0  \n",
       "1             0             0  \n",
       "2             1             0  \n",
       "3             0             0  \n",
       "4             1             0  "
      ]
     },
     "execution_count": 103,
     "metadata": {},
     "output_type": "execute_result"
    }
   ],
   "source": [
    "base_table_cate_dummy = pd.get_dummies(base_table_cate, drop_first=True)\n",
    "base_table_cate_dummy.head()"
   ]
  },
  {
   "cell_type": "code",
   "execution_count": 104,
   "metadata": {},
   "outputs": [
    {
     "data": {
      "text/html": [
       "<div>\n",
       "<style scoped>\n",
       "    .dataframe tbody tr th:only-of-type {\n",
       "        vertical-align: middle;\n",
       "    }\n",
       "\n",
       "    .dataframe tbody tr th {\n",
       "        vertical-align: top;\n",
       "    }\n",
       "\n",
       "    .dataframe thead th {\n",
       "        text-align: right;\n",
       "    }\n",
       "</style>\n",
       "<table border=\"1\" class=\"dataframe\">\n",
       "  <thead>\n",
       "    <tr style=\"text-align: right;\">\n",
       "      <th></th>\n",
       "      <th>FuelType_Diesel</th>\n",
       "      <th>FuelType_Petrol</th>\n",
       "      <th>TransmissionType_Manual</th>\n",
       "      <th>Doors_3doors</th>\n",
       "      <th>Doors_4doors</th>\n",
       "      <th>Doors_5doors</th>\n",
       "      <th>Age</th>\n",
       "      <th>KM</th>\n",
       "      <th>HP</th>\n",
       "      <th>Weight</th>\n",
       "    </tr>\n",
       "  </thead>\n",
       "  <tbody>\n",
       "    <tr>\n",
       "      <th>0</th>\n",
       "      <td>1</td>\n",
       "      <td>0</td>\n",
       "      <td>1</td>\n",
       "      <td>0</td>\n",
       "      <td>1</td>\n",
       "      <td>0</td>\n",
       "      <td>23</td>\n",
       "      <td>46986</td>\n",
       "      <td>90</td>\n",
       "      <td>1165</td>\n",
       "    </tr>\n",
       "    <tr>\n",
       "      <th>1</th>\n",
       "      <td>1</td>\n",
       "      <td>0</td>\n",
       "      <td>1</td>\n",
       "      <td>1</td>\n",
       "      <td>0</td>\n",
       "      <td>0</td>\n",
       "      <td>23</td>\n",
       "      <td>72937</td>\n",
       "      <td>90</td>\n",
       "      <td>1165</td>\n",
       "    </tr>\n",
       "    <tr>\n",
       "      <th>2</th>\n",
       "      <td>1</td>\n",
       "      <td>0</td>\n",
       "      <td>1</td>\n",
       "      <td>0</td>\n",
       "      <td>1</td>\n",
       "      <td>0</td>\n",
       "      <td>24</td>\n",
       "      <td>41711</td>\n",
       "      <td>90</td>\n",
       "      <td>1165</td>\n",
       "    </tr>\n",
       "    <tr>\n",
       "      <th>3</th>\n",
       "      <td>1</td>\n",
       "      <td>0</td>\n",
       "      <td>1</td>\n",
       "      <td>1</td>\n",
       "      <td>0</td>\n",
       "      <td>0</td>\n",
       "      <td>26</td>\n",
       "      <td>48000</td>\n",
       "      <td>90</td>\n",
       "      <td>1165</td>\n",
       "    </tr>\n",
       "    <tr>\n",
       "      <th>4</th>\n",
       "      <td>1</td>\n",
       "      <td>0</td>\n",
       "      <td>1</td>\n",
       "      <td>0</td>\n",
       "      <td>1</td>\n",
       "      <td>0</td>\n",
       "      <td>30</td>\n",
       "      <td>38500</td>\n",
       "      <td>90</td>\n",
       "      <td>1170</td>\n",
       "    </tr>\n",
       "  </tbody>\n",
       "</table>\n",
       "</div>"
      ],
      "text/plain": [
       "   FuelType_Diesel  FuelType_Petrol  TransmissionType_Manual  Doors_3doors  \\\n",
       "0                1                0                        1             0   \n",
       "1                1                0                        1             1   \n",
       "2                1                0                        1             0   \n",
       "3                1                0                        1             1   \n",
       "4                1                0                        1             0   \n",
       "\n",
       "   Doors_4doors  Doors_5doors  Age     KM  HP  Weight  \n",
       "0             1             0   23  46986  90    1165  \n",
       "1             0             0   23  72937  90    1165  \n",
       "2             1             0   24  41711  90    1165  \n",
       "3             0             0   26  48000  90    1165  \n",
       "4             1             0   30  38500  90    1170  "
      ]
     },
     "execution_count": 104,
     "metadata": {},
     "output_type": "execute_result"
    }
   ],
   "source": [
    "base_X = pd.concat([base_table_cate_dummy, base_table_num], axis=1)\n",
    "base_X.head()"
   ]
  },
  {
   "cell_type": "code",
   "execution_count": 105,
   "metadata": {
    "scrolled": true
   },
   "outputs": [
    {
     "name": "stdout",
     "output_type": "stream",
     "text": [
      "                            OLS Regression Results                            \n",
      "==============================================================================\n",
      "Dep. Variable:                  Price   R-squared:                       0.987\n",
      "Model:                            OLS   Adj. R-squared:                  0.987\n",
      "Method:                 Least Squares   F-statistic:                     7582.\n",
      "Date:                Wed, 21 Aug 2019   Prob (F-statistic):               0.00\n",
      "Time:                        15:02:42   Log-Likelihood:                -8626.7\n",
      "No. Observations:                 995   AIC:                         1.727e+04\n",
      "Df Residuals:                     985   BIC:                         1.732e+04\n",
      "Df Model:                          10                                         \n",
      "Covariance Type:            nonrobust                                         \n",
      "===========================================================================================\n",
      "                              coef    std err          t      P>|t|      [0.025      0.975]\n",
      "-------------------------------------------------------------------------------------------\n",
      "FuelType_Diesel           780.6326    466.028      1.675      0.094    -133.889    1695.155\n",
      "FuelType_Petrol           483.2390    391.117      1.236      0.217    -284.279    1250.757\n",
      "TransmissionType_Manual  -458.2475    203.490     -2.252      0.025    -857.572     -58.923\n",
      "Doors_3doors               26.4215    141.347      0.187      0.852    -250.954     303.797\n",
      "Doors_4doors              -22.6664    132.598     -0.171      0.864    -282.872     237.540\n",
      "Doors_5doors                6.8522    130.451      0.053      0.958    -249.141     262.845\n",
      "Age                      -140.4850      3.583    -39.213      0.000    -147.515    -133.455\n",
      "KM                         -0.0195      0.002    -10.562      0.000      -0.023      -0.016\n",
      "HP                         40.7777      3.953     10.316      0.000      33.021      48.535\n",
      "Weight                     14.4463      0.563     25.673      0.000      13.342      15.551\n",
      "==============================================================================\n",
      "Omnibus:                       84.601   Durbin-Watson:                   1.550\n",
      "Prob(Omnibus):                  0.000   Jarque-Bera (JB):              448.075\n",
      "Skew:                          -0.131   Prob(JB):                     5.03e-98\n",
      "Kurtosis:                       6.277   Cond. No.                     9.43e+05\n",
      "==============================================================================\n",
      "\n",
      "Warnings:\n",
      "[1] Standard Errors assume that the covariance matrix of the errors is correctly specified.\n",
      "[2] The condition number is large, 9.43e+05. This might indicate that there are\n",
      "strong multicollinearity or other numerical problems.\n"
     ]
    }
   ],
   "source": [
    "# import statsmodels.formula.api as smf\n",
    "import statsmodels.api as sm\n",
    "\n",
    "model = sm.OLS(base_y, base_X)\n",
    "result = model.fit()\n",
    "print(result.summary())"
   ]
  },
  {
   "cell_type": "code",
   "execution_count": 106,
   "metadata": {},
   "outputs": [],
   "source": [
    "#- 모델 계수의 유의성 검정은 유의수준 5%를 기준으로 검정하시오.\n",
    "# 모델에 들어간 변수들 중 유의한 변수의 개수???\n"
   ]
  },
  {
   "cell_type": "code",
   "execution_count": 107,
   "metadata": {},
   "outputs": [],
   "source": [
    "# 차량 연식(Age) 5년, 누적주행거리(KM) 50,000 Km, 143 마력(HP), 배기량(CC) 2000cc, 무게(Weight) 1170Kg, 사용연료(FuelType) Diesel, 변속기타입(TransmissionType) Automatic, 문 개수(Doors) 4doors 차량의 \n",
    "# FuelType_Diesel\tFuelType_Petrol\tTransmissionType_Manual\tDoors_3doors\tDoors_4doors\tDoors_5doors\tAge\tKM\tHP\tWeigh"
   ]
  },
  {
   "cell_type": "code",
   "execution_count": 108,
   "metadata": {},
   "outputs": [],
   "source": [
    "X_test = [1, 0, 0, 0, 1, 0, 5, 50000,143, 1170]"
   ]
  },
  {
   "cell_type": "code",
   "execution_count": 109,
   "metadata": {},
   "outputs": [],
   "source": [
    "y_pred = result.predict(X_test)"
   ]
  },
  {
   "cell_type": "code",
   "execution_count": 110,
   "metadata": {},
   "outputs": [
    {
     "data": {
      "text/plain": [
       "array([21813.87007116])"
      ]
     },
     "execution_count": 110,
     "metadata": {},
     "output_type": "execute_result"
    }
   ],
   "source": [
    "y_pred"
   ]
  },
  {
   "cell_type": "code",
   "execution_count": null,
   "metadata": {},
   "outputs": [],
   "source": []
  }
 ],
 "metadata": {
  "kernelspec": {
   "display_name": "Python 3",
   "language": "python",
   "name": "python3"
  },
  "language_info": {
   "codemirror_mode": {
    "name": "ipython",
    "version": 3
   },
   "file_extension": ".py",
   "mimetype": "text/x-python",
   "name": "python",
   "nbconvert_exporter": "python",
   "pygments_lexer": "ipython3",
   "version": "3.7.3"
  }
 },
 "nbformat": 4,
 "nbformat_minor": 2
}
