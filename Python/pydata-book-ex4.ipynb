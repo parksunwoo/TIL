{
 "cells": [
  {
   "cell_type": "markdown",
   "metadata": {},
   "source": [
    "## 고속도로"
   ]
  },
  {
   "cell_type": "code",
   "execution_count": 116,
   "metadata": {},
   "outputs": [],
   "source": [
    "import pandas as pd\n",
    "import numpy as np\n",
    "\n",
    "from scipy.stats import ttest_ind\n",
    "from sklearn.preprocessing import MinMaxScaler\n",
    "\n",
    "from sklearn.cluster import KMeans\n",
    "\n",
    "from statsmodels.formula.api import ols"
   ]
  },
  {
   "cell_type": "code",
   "execution_count": 2,
   "metadata": {},
   "outputs": [],
   "source": [
    "df_1 = pd.read_csv(\"highway_01_07.csv\")\n",
    "df_2 = pd.read_csv(\"highway_08_12.csv\")"
   ]
  },
  {
   "cell_type": "code",
   "execution_count": 3,
   "metadata": {},
   "outputs": [
    {
     "data": {
      "text/html": [
       "<div>\n",
       "<style scoped>\n",
       "    .dataframe tbody tr th:only-of-type {\n",
       "        vertical-align: middle;\n",
       "    }\n",
       "\n",
       "    .dataframe tbody tr th {\n",
       "        vertical-align: top;\n",
       "    }\n",
       "\n",
       "    .dataframe thead th {\n",
       "        text-align: right;\n",
       "    }\n",
       "</style>\n",
       "<table border=\"1\" class=\"dataframe\">\n",
       "  <thead>\n",
       "    <tr style=\"text-align: right;\">\n",
       "      <th></th>\n",
       "      <th>date</th>\n",
       "      <th>StartPoint</th>\n",
       "      <th>Gyeonggi</th>\n",
       "      <th>Chungcheong</th>\n",
       "      <th>Jeolla</th>\n",
       "      <th>Gyeongsang</th>\n",
       "      <th>Gangwon</th>\n",
       "    </tr>\n",
       "  </thead>\n",
       "  <tbody>\n",
       "    <tr>\n",
       "      <th>0</th>\n",
       "      <td>20140101</td>\n",
       "      <td>Chungcheong</td>\n",
       "      <td>83318.0</td>\n",
       "      <td>104617.0</td>\n",
       "      <td>4147.0</td>\n",
       "      <td>4126.0</td>\n",
       "      <td>6021.0</td>\n",
       "    </tr>\n",
       "    <tr>\n",
       "      <th>1</th>\n",
       "      <td>20140101</td>\n",
       "      <td>Gangwon</td>\n",
       "      <td>57398.0</td>\n",
       "      <td>5783.0</td>\n",
       "      <td>427.0</td>\n",
       "      <td>991.0</td>\n",
       "      <td>102850.0</td>\n",
       "    </tr>\n",
       "  </tbody>\n",
       "</table>\n",
       "</div>"
      ],
      "text/plain": [
       "       date   StartPoint  Gyeonggi  Chungcheong  Jeolla  Gyeongsang   Gangwon\n",
       "0  20140101  Chungcheong   83318.0     104617.0  4147.0      4126.0    6021.0\n",
       "1  20140101      Gangwon   57398.0       5783.0   427.0       991.0  102850.0"
      ]
     },
     "execution_count": 3,
     "metadata": {},
     "output_type": "execute_result"
    }
   ],
   "source": [
    "df_1.head(2)"
   ]
  },
  {
   "cell_type": "code",
   "execution_count": 4,
   "metadata": {},
   "outputs": [
    {
     "data": {
      "text/html": [
       "<div>\n",
       "<style scoped>\n",
       "    .dataframe tbody tr th:only-of-type {\n",
       "        vertical-align: middle;\n",
       "    }\n",
       "\n",
       "    .dataframe tbody tr th {\n",
       "        vertical-align: top;\n",
       "    }\n",
       "\n",
       "    .dataframe thead th {\n",
       "        text-align: right;\n",
       "    }\n",
       "</style>\n",
       "<table border=\"1\" class=\"dataframe\">\n",
       "  <thead>\n",
       "    <tr style=\"text-align: right;\">\n",
       "      <th></th>\n",
       "      <th>date</th>\n",
       "      <th>StartPoint</th>\n",
       "      <th>Gyeonggi</th>\n",
       "      <th>Chungcheong</th>\n",
       "      <th>Jeolla</th>\n",
       "      <th>Gyeongsang</th>\n",
       "      <th>Gangwon</th>\n",
       "    </tr>\n",
       "  </thead>\n",
       "  <tbody>\n",
       "    <tr>\n",
       "      <th>0</th>\n",
       "      <td>20140801</td>\n",
       "      <td>강원</td>\n",
       "      <td>63365.0</td>\n",
       "      <td>7044.0</td>\n",
       "      <td>892.0</td>\n",
       "      <td>1756.0</td>\n",
       "      <td>140258.0</td>\n",
       "    </tr>\n",
       "    <tr>\n",
       "      <th>1</th>\n",
       "      <td>20140801</td>\n",
       "      <td>경기</td>\n",
       "      <td>553781.0</td>\n",
       "      <td>110895.0</td>\n",
       "      <td>9961.0</td>\n",
       "      <td>12596.0</td>\n",
       "      <td>89665.0</td>\n",
       "    </tr>\n",
       "  </tbody>\n",
       "</table>\n",
       "</div>"
      ],
      "text/plain": [
       "       date StartPoint  Gyeonggi  Chungcheong  Jeolla  Gyeongsang   Gangwon\n",
       "0  20140801         강원   63365.0       7044.0   892.0      1756.0  140258.0\n",
       "1  20140801         경기  553781.0     110895.0  9961.0     12596.0   89665.0"
      ]
     },
     "execution_count": 4,
     "metadata": {},
     "output_type": "execute_result"
    }
   ],
   "source": [
    "df_2.head(2)"
   ]
  },
  {
   "cell_type": "code",
   "execution_count": 7,
   "metadata": {},
   "outputs": [
    {
     "name": "stdout",
     "output_type": "stream",
     "text": [
      "['Chungcheong' 'Gangwon' 'Gyeonggi' 'Gyeongsang' 'Jeolla']\n",
      "{'강원', '전라', '경상', '충청', '경기'}\n"
     ]
    }
   ],
   "source": [
    "names = df_1[\"StartPoint\"].unique()\n",
    "print(names)\n",
    "print(set(df_2[\"StartPoint\"]))"
   ]
  },
  {
   "cell_type": "code",
   "execution_count": 9,
   "metadata": {},
   "outputs": [],
   "source": [
    "df_1[\"StartPoint\"] = df_1[\"StartPoint\"].str.replace(names[0], \"충청\")\n",
    "df_1[\"StartPoint\"] = df_1[\"StartPoint\"].str.replace(names[1], \"강원\")\n",
    "df_1[\"StartPoint\"] = df_1[\"StartPoint\"].str.replace(names[2], \"경기\")\n",
    "df_1[\"StartPoint\"] = df_1[\"StartPoint\"].str.replace(names[3], \"경상\")\n",
    "df_1[\"StartPoint\"] = df_1[\"StartPoint\"].str.replace(names[4], \"전라\")"
   ]
  },
  {
   "cell_type": "code",
   "execution_count": 10,
   "metadata": {},
   "outputs": [
    {
     "data": {
      "text/html": [
       "<div>\n",
       "<style scoped>\n",
       "    .dataframe tbody tr th:only-of-type {\n",
       "        vertical-align: middle;\n",
       "    }\n",
       "\n",
       "    .dataframe tbody tr th {\n",
       "        vertical-align: top;\n",
       "    }\n",
       "\n",
       "    .dataframe thead th {\n",
       "        text-align: right;\n",
       "    }\n",
       "</style>\n",
       "<table border=\"1\" class=\"dataframe\">\n",
       "  <thead>\n",
       "    <tr style=\"text-align: right;\">\n",
       "      <th></th>\n",
       "      <th>date</th>\n",
       "      <th>StartPoint</th>\n",
       "      <th>Gyeonggi</th>\n",
       "      <th>Chungcheong</th>\n",
       "      <th>Jeolla</th>\n",
       "      <th>Gyeongsang</th>\n",
       "      <th>Gangwon</th>\n",
       "    </tr>\n",
       "  </thead>\n",
       "  <tbody>\n",
       "    <tr>\n",
       "      <th>0</th>\n",
       "      <td>20140101</td>\n",
       "      <td>충청</td>\n",
       "      <td>83318.0</td>\n",
       "      <td>104617.0</td>\n",
       "      <td>4147.0</td>\n",
       "      <td>4126.0</td>\n",
       "      <td>6021.0</td>\n",
       "    </tr>\n",
       "    <tr>\n",
       "      <th>1</th>\n",
       "      <td>20140101</td>\n",
       "      <td>강원</td>\n",
       "      <td>57398.0</td>\n",
       "      <td>5783.0</td>\n",
       "      <td>427.0</td>\n",
       "      <td>991.0</td>\n",
       "      <td>102850.0</td>\n",
       "    </tr>\n",
       "  </tbody>\n",
       "</table>\n",
       "</div>"
      ],
      "text/plain": [
       "       date StartPoint  Gyeonggi  Chungcheong  Jeolla  Gyeongsang   Gangwon\n",
       "0  20140101         충청   83318.0     104617.0  4147.0      4126.0    6021.0\n",
       "1  20140101         강원   57398.0       5783.0   427.0       991.0  102850.0"
      ]
     },
     "execution_count": 10,
     "metadata": {},
     "output_type": "execute_result"
    }
   ],
   "source": [
    "df_1.head(2)"
   ]
  },
  {
   "cell_type": "code",
   "execution_count": 11,
   "metadata": {},
   "outputs": [
    {
     "data": {
      "text/html": [
       "<div>\n",
       "<style scoped>\n",
       "    .dataframe tbody tr th:only-of-type {\n",
       "        vertical-align: middle;\n",
       "    }\n",
       "\n",
       "    .dataframe tbody tr th {\n",
       "        vertical-align: top;\n",
       "    }\n",
       "\n",
       "    .dataframe thead th {\n",
       "        text-align: right;\n",
       "    }\n",
       "</style>\n",
       "<table border=\"1\" class=\"dataframe\">\n",
       "  <thead>\n",
       "    <tr style=\"text-align: right;\">\n",
       "      <th></th>\n",
       "      <th>date</th>\n",
       "      <th>StartPoint</th>\n",
       "      <th>Gyeonggi</th>\n",
       "      <th>Chungcheong</th>\n",
       "      <th>Jeolla</th>\n",
       "      <th>Gyeongsang</th>\n",
       "      <th>Gangwon</th>\n",
       "    </tr>\n",
       "  </thead>\n",
       "  <tbody>\n",
       "    <tr>\n",
       "      <th>0</th>\n",
       "      <td>20140101</td>\n",
       "      <td>충청</td>\n",
       "      <td>83318.0</td>\n",
       "      <td>104617.0</td>\n",
       "      <td>4147.0</td>\n",
       "      <td>4126.0</td>\n",
       "      <td>6021.0</td>\n",
       "    </tr>\n",
       "    <tr>\n",
       "      <th>1</th>\n",
       "      <td>20140101</td>\n",
       "      <td>강원</td>\n",
       "      <td>57398.0</td>\n",
       "      <td>5783.0</td>\n",
       "      <td>427.0</td>\n",
       "      <td>991.0</td>\n",
       "      <td>102850.0</td>\n",
       "    </tr>\n",
       "    <tr>\n",
       "      <th>2</th>\n",
       "      <td>20140101</td>\n",
       "      <td>경기</td>\n",
       "      <td>373199.0</td>\n",
       "      <td>82263.0</td>\n",
       "      <td>3114.0</td>\n",
       "      <td>5841.0</td>\n",
       "      <td>51386.0</td>\n",
       "    </tr>\n",
       "    <tr>\n",
       "      <th>3</th>\n",
       "      <td>20140101</td>\n",
       "      <td>경상</td>\n",
       "      <td>6926.0</td>\n",
       "      <td>5368.0</td>\n",
       "      <td>15514.0</td>\n",
       "      <td>334217.0</td>\n",
       "      <td>986.0</td>\n",
       "    </tr>\n",
       "    <tr>\n",
       "      <th>4</th>\n",
       "      <td>20140101</td>\n",
       "      <td>전라</td>\n",
       "      <td>3298.0</td>\n",
       "      <td>4759.0</td>\n",
       "      <td>130474.0</td>\n",
       "      <td>14832.0</td>\n",
       "      <td>478.0</td>\n",
       "    </tr>\n",
       "  </tbody>\n",
       "</table>\n",
       "</div>"
      ],
      "text/plain": [
       "       date StartPoint  Gyeonggi  Chungcheong    Jeolla  Gyeongsang   Gangwon\n",
       "0  20140101         충청   83318.0     104617.0    4147.0      4126.0    6021.0\n",
       "1  20140101         강원   57398.0       5783.0     427.0       991.0  102850.0\n",
       "2  20140101         경기  373199.0      82263.0    3114.0      5841.0   51386.0\n",
       "3  20140101         경상    6926.0       5368.0   15514.0    334217.0     986.0\n",
       "4  20140101         전라    3298.0       4759.0  130474.0     14832.0     478.0"
      ]
     },
     "execution_count": 11,
     "metadata": {},
     "output_type": "execute_result"
    }
   ],
   "source": [
    "df = pd.concat([df_1, df_2])\n",
    "df.head()"
   ]
  },
  {
   "cell_type": "code",
   "execution_count": 13,
   "metadata": {},
   "outputs": [
    {
     "data": {
      "text/plain": [
       "date           0\n",
       "StartPoint     0\n",
       "Gyeonggi       0\n",
       "Chungcheong    0\n",
       "Jeolla         3\n",
       "Gyeongsang     0\n",
       "Gangwon        0\n",
       "dtype: int64"
      ]
     },
     "execution_count": 13,
     "metadata": {},
     "output_type": "execute_result"
    }
   ],
   "source": [
    "df.apply(lambda x: sum(x.isnull()))"
   ]
  },
  {
   "cell_type": "markdown",
   "metadata": {},
   "source": [
    "#### [문제 1] 2014년 고속도로 통행 시작시점이 강원인 모든 차량 통행량(강원을 포함한 모든 도착지점)의 q1,median,q3 를 구하시오.\n",
    "(정수형, 소수점 1자리에서 반올림) (10점)"
   ]
  },
  {
   "cell_type": "code",
   "execution_count": 16,
   "metadata": {},
   "outputs": [],
   "source": [
    "df_q1 = df"
   ]
  },
  {
   "cell_type": "code",
   "execution_count": 17,
   "metadata": {},
   "outputs": [
    {
     "data": {
      "text/html": [
       "<div>\n",
       "<style scoped>\n",
       "    .dataframe tbody tr th:only-of-type {\n",
       "        vertical-align: middle;\n",
       "    }\n",
       "\n",
       "    .dataframe tbody tr th {\n",
       "        vertical-align: top;\n",
       "    }\n",
       "\n",
       "    .dataframe thead th {\n",
       "        text-align: right;\n",
       "    }\n",
       "</style>\n",
       "<table border=\"1\" class=\"dataframe\">\n",
       "  <thead>\n",
       "    <tr style=\"text-align: right;\">\n",
       "      <th></th>\n",
       "      <th>date</th>\n",
       "      <th>StartPoint</th>\n",
       "      <th>variable</th>\n",
       "      <th>value</th>\n",
       "    </tr>\n",
       "  </thead>\n",
       "  <tbody>\n",
       "    <tr>\n",
       "      <th>0</th>\n",
       "      <td>20140101</td>\n",
       "      <td>충청</td>\n",
       "      <td>Gyeonggi</td>\n",
       "      <td>83318.0</td>\n",
       "    </tr>\n",
       "    <tr>\n",
       "      <th>1</th>\n",
       "      <td>20140101</td>\n",
       "      <td>강원</td>\n",
       "      <td>Gyeonggi</td>\n",
       "      <td>57398.0</td>\n",
       "    </tr>\n",
       "  </tbody>\n",
       "</table>\n",
       "</div>"
      ],
      "text/plain": [
       "       date StartPoint  variable    value\n",
       "0  20140101         충청  Gyeonggi  83318.0\n",
       "1  20140101         강원  Gyeonggi  57398.0"
      ]
     },
     "execution_count": 17,
     "metadata": {},
     "output_type": "execute_result"
    }
   ],
   "source": [
    "df_q1_melt = df_q1.melt(id_vars = [\"date\", \"StartPoint\"])\n",
    "df_q1_melt.head(2)"
   ]
  },
  {
   "cell_type": "code",
   "execution_count": 20,
   "metadata": {},
   "outputs": [
    {
     "data": {
      "text/plain": [
       "0.25      988.0\n",
       "0.50     5455.0\n",
       "0.75    54882.0\n",
       "Name: value, dtype: float64"
      ]
     },
     "execution_count": 20,
     "metadata": {},
     "output_type": "execute_result"
    }
   ],
   "source": [
    "df_q1_melt.loc[df_q1_melt[\"StartPoint\"] == \"강원\", \"value\"].quantile([0.25, 0.5, 0.75]).round(1)"
   ]
  },
  {
   "cell_type": "markdown",
   "metadata": {},
   "source": [
    "#### [문제 2] 2014년 경기를 출발하여 경상에 도착한 교통량과 경상을 출발하여 경기에 도착한 교통량을 비교한다. 두 교통량의 평균이 통계적으로 유의한 차이가 있는지 유의수준 5% 수준에서 검정하시오. \n",
    "단, 일별로 짝을 짓지 않는 검정법을 사용한다. (10점)\n",
    "- p_value는 소수 4째자리까지 기술한다(소수 4자리까지, 소수점 5자리에서 반올림)\n",
    "- 귀무 가설(두 교통량의 평균은 차이가 없다)의 기각 여부를 YES 또는 NO 로 답한다. (대문자)"
   ]
  },
  {
   "cell_type": "code",
   "execution_count": 22,
   "metadata": {},
   "outputs": [
    {
     "data": {
      "text/html": [
       "<div>\n",
       "<style scoped>\n",
       "    .dataframe tbody tr th:only-of-type {\n",
       "        vertical-align: middle;\n",
       "    }\n",
       "\n",
       "    .dataframe tbody tr th {\n",
       "        vertical-align: top;\n",
       "    }\n",
       "\n",
       "    .dataframe thead th {\n",
       "        text-align: right;\n",
       "    }\n",
       "</style>\n",
       "<table border=\"1\" class=\"dataframe\">\n",
       "  <thead>\n",
       "    <tr style=\"text-align: right;\">\n",
       "      <th></th>\n",
       "      <th>date</th>\n",
       "      <th>StartPoint</th>\n",
       "      <th>Gyeonggi</th>\n",
       "      <th>Chungcheong</th>\n",
       "      <th>Jeolla</th>\n",
       "      <th>Gyeongsang</th>\n",
       "      <th>Gangwon</th>\n",
       "    </tr>\n",
       "  </thead>\n",
       "  <tbody>\n",
       "    <tr>\n",
       "      <th>0</th>\n",
       "      <td>20140101</td>\n",
       "      <td>충청</td>\n",
       "      <td>83318.0</td>\n",
       "      <td>104617.0</td>\n",
       "      <td>4147.0</td>\n",
       "      <td>4126.0</td>\n",
       "      <td>6021.0</td>\n",
       "    </tr>\n",
       "    <tr>\n",
       "      <th>1</th>\n",
       "      <td>20140101</td>\n",
       "      <td>강원</td>\n",
       "      <td>57398.0</td>\n",
       "      <td>5783.0</td>\n",
       "      <td>427.0</td>\n",
       "      <td>991.0</td>\n",
       "      <td>102850.0</td>\n",
       "    </tr>\n",
       "  </tbody>\n",
       "</table>\n",
       "</div>"
      ],
      "text/plain": [
       "       date StartPoint  Gyeonggi  Chungcheong  Jeolla  Gyeongsang   Gangwon\n",
       "0  20140101         충청   83318.0     104617.0  4147.0      4126.0    6021.0\n",
       "1  20140101         강원   57398.0       5783.0   427.0       991.0  102850.0"
      ]
     },
     "execution_count": 22,
     "metadata": {},
     "output_type": "execute_result"
    }
   ],
   "source": [
    "df_q2 = df\n",
    "df_q2.head(2)"
   ]
  },
  {
   "cell_type": "code",
   "execution_count": 23,
   "metadata": {},
   "outputs": [
    {
     "data": {
      "text/plain": [
       "2     5841.0\n",
       "7     6662.0\n",
       "12    8137.0\n",
       "Name: Gyeongsang, dtype: float64"
      ]
     },
     "execution_count": 23,
     "metadata": {},
     "output_type": "execute_result"
    }
   ],
   "source": [
    "df_q2.loc[df_q2[\"StartPoint\"] == \"경기\", \"Gyeongsang\"]"
   ]
  },
  {
   "cell_type": "code",
   "execution_count": 26,
   "metadata": {},
   "outputs": [],
   "source": [
    "stat, p_value = ttest_ind(df_q2.loc[df_q2[\"StartPoint\"] == \"경기\", \"Gyeongsang\"],\n",
    "                          df_q2.loc[df_q2[\"StartPoint\"] == \"경상\", \"Gyeonggi\"])"
   ]
  },
  {
   "cell_type": "code",
   "execution_count": 27,
   "metadata": {},
   "outputs": [
    {
     "data": {
      "text/plain": [
       "0.0013"
      ]
     },
     "execution_count": 27,
     "metadata": {},
     "output_type": "execute_result"
    }
   ],
   "source": [
    "round(p_value, 4)"
   ]
  },
  {
   "cell_type": "markdown",
   "metadata": {},
   "source": [
    "#### [문제 3] 2014년 충청을 출발하여 강원으로 도착한 교통량에 대해서, 요일별 평균 교통량을 월 별로 정리한다. 요일별로 표준화(Min-Max Normalization)를 진행한 후, k가 3인 K-means 군집화를 수행한다.(iteration 수는 100회로 한다.) 10월과 같은 군집에 포함된 월 수(10월을 포함)와 해당 군집 월의 월요일 교통량의 평균 값(표준화된 값의 평균을 사용)을 구하시오. (10점)\n",
    " - 월 수는 정수형, 평균값은 소수 2자리까지, 3자리에서 반올림\n",
    " - Brightics의 경우요일변수 생성은 SQL 에서 date_format(timestamp,'u') 함수를 사용할 수 있음. <br> \n",
    "    ex) select date_format(‘2018-07-13’, ‘u’) from #{DF(0)}\n",
    " - R의 경우 weekdays 함수를 사용할 수 있음.  ex) weekdays(as.Date(‘2018-07-13’)))"
   ]
  },
  {
   "cell_type": "code",
   "execution_count": 34,
   "metadata": {},
   "outputs": [
    {
     "data": {
      "text/html": [
       "<div>\n",
       "<style scoped>\n",
       "    .dataframe tbody tr th:only-of-type {\n",
       "        vertical-align: middle;\n",
       "    }\n",
       "\n",
       "    .dataframe tbody tr th {\n",
       "        vertical-align: top;\n",
       "    }\n",
       "\n",
       "    .dataframe thead th {\n",
       "        text-align: right;\n",
       "    }\n",
       "</style>\n",
       "<table border=\"1\" class=\"dataframe\">\n",
       "  <thead>\n",
       "    <tr style=\"text-align: right;\">\n",
       "      <th></th>\n",
       "      <th>date</th>\n",
       "      <th>StartPoint</th>\n",
       "      <th>Gyeonggi</th>\n",
       "      <th>Chungcheong</th>\n",
       "      <th>Jeolla</th>\n",
       "      <th>Gyeongsang</th>\n",
       "      <th>Gangwon</th>\n",
       "    </tr>\n",
       "  </thead>\n",
       "  <tbody>\n",
       "    <tr>\n",
       "      <th>0</th>\n",
       "      <td>20140101</td>\n",
       "      <td>충청</td>\n",
       "      <td>83318.0</td>\n",
       "      <td>104617.0</td>\n",
       "      <td>4147.0</td>\n",
       "      <td>4126.0</td>\n",
       "      <td>6021.0</td>\n",
       "    </tr>\n",
       "    <tr>\n",
       "      <th>1</th>\n",
       "      <td>20140101</td>\n",
       "      <td>강원</td>\n",
       "      <td>57398.0</td>\n",
       "      <td>5783.0</td>\n",
       "      <td>427.0</td>\n",
       "      <td>991.0</td>\n",
       "      <td>102850.0</td>\n",
       "    </tr>\n",
       "  </tbody>\n",
       "</table>\n",
       "</div>"
      ],
      "text/plain": [
       "       date StartPoint  Gyeonggi  Chungcheong  Jeolla  Gyeongsang   Gangwon\n",
       "0  20140101         충청   83318.0     104617.0  4147.0      4126.0    6021.0\n",
       "1  20140101         강원   57398.0       5783.0   427.0       991.0  102850.0"
      ]
     },
     "execution_count": 34,
     "metadata": {},
     "output_type": "execute_result"
    }
   ],
   "source": [
    "df_q3 = df\n",
    "df_q3.head(2)"
   ]
  },
  {
   "cell_type": "code",
   "execution_count": 35,
   "metadata": {},
   "outputs": [
    {
     "data": {
      "text/html": [
       "<div>\n",
       "<style scoped>\n",
       "    .dataframe tbody tr th:only-of-type {\n",
       "        vertical-align: middle;\n",
       "    }\n",
       "\n",
       "    .dataframe tbody tr th {\n",
       "        vertical-align: top;\n",
       "    }\n",
       "\n",
       "    .dataframe thead th {\n",
       "        text-align: right;\n",
       "    }\n",
       "</style>\n",
       "<table border=\"1\" class=\"dataframe\">\n",
       "  <thead>\n",
       "    <tr style=\"text-align: right;\">\n",
       "      <th></th>\n",
       "      <th>date</th>\n",
       "      <th>Gangwon</th>\n",
       "    </tr>\n",
       "  </thead>\n",
       "  <tbody>\n",
       "    <tr>\n",
       "      <th>0</th>\n",
       "      <td>20140101</td>\n",
       "      <td>6021.0</td>\n",
       "    </tr>\n",
       "    <tr>\n",
       "      <th>5</th>\n",
       "      <td>20140102</td>\n",
       "      <td>5270.0</td>\n",
       "    </tr>\n",
       "  </tbody>\n",
       "</table>\n",
       "</div>"
      ],
      "text/plain": [
       "       date  Gangwon\n",
       "0  20140101   6021.0\n",
       "5  20140102   5270.0"
      ]
     },
     "execution_count": 35,
     "metadata": {},
     "output_type": "execute_result"
    }
   ],
   "source": [
    "df_q3 = df_q3.loc[df_q3[\"StartPoint\"] == \"충청\", [\"date\", \"Gangwon\"]]\n",
    "df_q3.head(2)"
   ]
  },
  {
   "cell_type": "code",
   "execution_count": 43,
   "metadata": {},
   "outputs": [
    {
     "name": "stdout",
     "output_type": "stream",
     "text": [
      "0    2014-01-01\n",
      "5    2014-01-02\n",
      "10   2014-01-03\n",
      "Name: date, dtype: datetime64[ns]\n",
      "0     2\n",
      "5     3\n",
      "10    4\n",
      "Name: date, dtype: int64\n"
     ]
    }
   ],
   "source": [
    "print(pd.to_datetime(df_q3[\"date\"], format = \"%Y%m%d\")[:3])\n",
    "print(pd.to_datetime(df_q3[\"date\"], format = \"%Y%m%d\")[:3].dt.weekday)"
   ]
  },
  {
   "cell_type": "code",
   "execution_count": 44,
   "metadata": {},
   "outputs": [],
   "source": [
    "df_q3[\"date\"] = pd.to_datetime(df_q3[\"date\"], format = \"%Y%m%d\")\n",
    "df_q3[\"month\"] = df_q3[\"date\"].dt.month\n",
    "df_q3[\"wday\"] = df_q3[\"date\"].dt.weekday"
   ]
  },
  {
   "cell_type": "code",
   "execution_count": 45,
   "metadata": {},
   "outputs": [
    {
     "data": {
      "text/html": [
       "<div>\n",
       "<style scoped>\n",
       "    .dataframe tbody tr th:only-of-type {\n",
       "        vertical-align: middle;\n",
       "    }\n",
       "\n",
       "    .dataframe tbody tr th {\n",
       "        vertical-align: top;\n",
       "    }\n",
       "\n",
       "    .dataframe thead th {\n",
       "        text-align: right;\n",
       "    }\n",
       "</style>\n",
       "<table border=\"1\" class=\"dataframe\">\n",
       "  <thead>\n",
       "    <tr style=\"text-align: right;\">\n",
       "      <th></th>\n",
       "      <th>date</th>\n",
       "      <th>Gangwon</th>\n",
       "      <th>month</th>\n",
       "      <th>wday</th>\n",
       "    </tr>\n",
       "  </thead>\n",
       "  <tbody>\n",
       "    <tr>\n",
       "      <th>0</th>\n",
       "      <td>2014-01-01</td>\n",
       "      <td>6021.0</td>\n",
       "      <td>1</td>\n",
       "      <td>2</td>\n",
       "    </tr>\n",
       "    <tr>\n",
       "      <th>5</th>\n",
       "      <td>2014-01-02</td>\n",
       "      <td>5270.0</td>\n",
       "      <td>1</td>\n",
       "      <td>3</td>\n",
       "    </tr>\n",
       "  </tbody>\n",
       "</table>\n",
       "</div>"
      ],
      "text/plain": [
       "        date  Gangwon  month  wday\n",
       "0 2014-01-01   6021.0      1     2\n",
       "5 2014-01-02   5270.0      1     3"
      ]
     },
     "execution_count": 45,
     "metadata": {},
     "output_type": "execute_result"
    }
   ],
   "source": [
    "df_q3.head(2)"
   ]
  },
  {
   "cell_type": "code",
   "execution_count": 85,
   "metadata": {},
   "outputs": [
    {
     "data": {
      "text/html": [
       "<div>\n",
       "<style scoped>\n",
       "    .dataframe tbody tr th:only-of-type {\n",
       "        vertical-align: middle;\n",
       "    }\n",
       "\n",
       "    .dataframe tbody tr th {\n",
       "        vertical-align: top;\n",
       "    }\n",
       "\n",
       "    .dataframe thead th {\n",
       "        text-align: right;\n",
       "    }\n",
       "</style>\n",
       "<table border=\"1\" class=\"dataframe\">\n",
       "  <thead>\n",
       "    <tr style=\"text-align: right;\">\n",
       "      <th>wday</th>\n",
       "      <th>0</th>\n",
       "      <th>1</th>\n",
       "      <th>2</th>\n",
       "      <th>3</th>\n",
       "      <th>4</th>\n",
       "      <th>5</th>\n",
       "      <th>6</th>\n",
       "    </tr>\n",
       "    <tr>\n",
       "      <th>month</th>\n",
       "      <th></th>\n",
       "      <th></th>\n",
       "      <th></th>\n",
       "      <th></th>\n",
       "      <th></th>\n",
       "      <th></th>\n",
       "      <th></th>\n",
       "    </tr>\n",
       "  </thead>\n",
       "  <tbody>\n",
       "    <tr>\n",
       "      <th>1</th>\n",
       "      <td>5094.5</td>\n",
       "      <td>5066.75</td>\n",
       "      <td>5635.2</td>\n",
       "      <td>5397.0</td>\n",
       "      <td>6253.40</td>\n",
       "      <td>6749.0</td>\n",
       "      <td>4552.50</td>\n",
       "    </tr>\n",
       "    <tr>\n",
       "      <th>2</th>\n",
       "      <td>5131.0</td>\n",
       "      <td>5064.75</td>\n",
       "      <td>5227.0</td>\n",
       "      <td>5284.5</td>\n",
       "      <td>6273.25</td>\n",
       "      <td>6245.5</td>\n",
       "      <td>4382.75</td>\n",
       "    </tr>\n",
       "  </tbody>\n",
       "</table>\n",
       "</div>"
      ],
      "text/plain": [
       "wday        0        1       2       3        4       5        6\n",
       "month                                                           \n",
       "1      5094.5  5066.75  5635.2  5397.0  6253.40  6749.0  4552.50\n",
       "2      5131.0  5064.75  5227.0  5284.5  6273.25  6245.5  4382.75"
      ]
     },
     "execution_count": 85,
     "metadata": {},
     "output_type": "execute_result"
    }
   ],
   "source": [
    "df_q3_pivot = df_q3.pivot_table(index = \"month\", columns = \"wday\", values = \"Gangwon\", aggfunc = \"mean\")\n",
    "df_q3_pivot.head(2)"
   ]
  },
  {
   "cell_type": "code",
   "execution_count": 87,
   "metadata": {},
   "outputs": [
    {
     "data": {
      "text/html": [
       "<div>\n",
       "<style scoped>\n",
       "    .dataframe tbody tr th:only-of-type {\n",
       "        vertical-align: middle;\n",
       "    }\n",
       "\n",
       "    .dataframe tbody tr th {\n",
       "        vertical-align: top;\n",
       "    }\n",
       "\n",
       "    .dataframe thead th {\n",
       "        text-align: right;\n",
       "    }\n",
       "</style>\n",
       "<table border=\"1\" class=\"dataframe\">\n",
       "  <thead>\n",
       "    <tr style=\"text-align: right;\">\n",
       "      <th>wday</th>\n",
       "      <th>0</th>\n",
       "      <th>1</th>\n",
       "      <th>2</th>\n",
       "      <th>3</th>\n",
       "      <th>4</th>\n",
       "      <th>5</th>\n",
       "      <th>6</th>\n",
       "    </tr>\n",
       "    <tr>\n",
       "      <th>month</th>\n",
       "      <th></th>\n",
       "      <th></th>\n",
       "      <th></th>\n",
       "      <th></th>\n",
       "      <th></th>\n",
       "      <th></th>\n",
       "      <th></th>\n",
       "    </tr>\n",
       "  </thead>\n",
       "  <tbody>\n",
       "    <tr>\n",
       "      <th>1</th>\n",
       "      <td>0.000000</td>\n",
       "      <td>0.001116</td>\n",
       "      <td>0.243047</td>\n",
       "      <td>0.088929</td>\n",
       "      <td>0.000000</td>\n",
       "      <td>0.221018</td>\n",
       "      <td>0.099979</td>\n",
       "    </tr>\n",
       "    <tr>\n",
       "      <th>2</th>\n",
       "      <td>0.018383</td>\n",
       "      <td>0.000000</td>\n",
       "      <td>0.028628</td>\n",
       "      <td>0.031596</td>\n",
       "      <td>0.007848</td>\n",
       "      <td>0.000000</td>\n",
       "      <td>0.000000</td>\n",
       "    </tr>\n",
       "    <tr>\n",
       "      <th>3</th>\n",
       "      <td>0.091614</td>\n",
       "      <td>0.042405</td>\n",
       "      <td>0.000000</td>\n",
       "      <td>0.000000</td>\n",
       "      <td>0.005080</td>\n",
       "      <td>0.247092</td>\n",
       "      <td>0.201343</td>\n",
       "    </tr>\n",
       "    <tr>\n",
       "      <th>4</th>\n",
       "      <td>0.219592</td>\n",
       "      <td>0.143088</td>\n",
       "      <td>0.163835</td>\n",
       "      <td>0.090712</td>\n",
       "      <td>0.101546</td>\n",
       "      <td>0.402199</td>\n",
       "      <td>0.241187</td>\n",
       "    </tr>\n",
       "    <tr>\n",
       "      <th>5</th>\n",
       "      <td>0.425837</td>\n",
       "      <td>0.236295</td>\n",
       "      <td>0.256861</td>\n",
       "      <td>0.292674</td>\n",
       "      <td>0.272713</td>\n",
       "      <td>0.608885</td>\n",
       "      <td>0.643019</td>\n",
       "    </tr>\n",
       "    <tr>\n",
       "      <th>6</th>\n",
       "      <td>0.320675</td>\n",
       "      <td>0.330869</td>\n",
       "      <td>0.290348</td>\n",
       "      <td>0.492292</td>\n",
       "      <td>0.548292</td>\n",
       "      <td>0.556933</td>\n",
       "      <td>0.331390</td>\n",
       "    </tr>\n",
       "    <tr>\n",
       "      <th>7</th>\n",
       "      <td>0.585621</td>\n",
       "      <td>0.458781</td>\n",
       "      <td>0.456100</td>\n",
       "      <td>0.501414</td>\n",
       "      <td>0.398355</td>\n",
       "      <td>0.606646</td>\n",
       "      <td>0.592220</td>\n",
       "    </tr>\n",
       "    <tr>\n",
       "      <th>8</th>\n",
       "      <td>1.000000</td>\n",
       "      <td>1.000000</td>\n",
       "      <td>1.000000</td>\n",
       "      <td>1.000000</td>\n",
       "      <td>1.000000</td>\n",
       "      <td>0.924674</td>\n",
       "      <td>1.000000</td>\n",
       "    </tr>\n",
       "    <tr>\n",
       "      <th>9</th>\n",
       "      <td>0.671619</td>\n",
       "      <td>0.330004</td>\n",
       "      <td>0.120420</td>\n",
       "      <td>0.442604</td>\n",
       "      <td>0.289436</td>\n",
       "      <td>0.602476</td>\n",
       "      <td>0.833260</td>\n",
       "    </tr>\n",
       "    <tr>\n",
       "      <th>10</th>\n",
       "      <td>0.529338</td>\n",
       "      <td>0.577765</td>\n",
       "      <td>0.670834</td>\n",
       "      <td>0.779055</td>\n",
       "      <td>0.685933</td>\n",
       "      <td>0.909859</td>\n",
       "      <td>0.901287</td>\n",
       "    </tr>\n",
       "    <tr>\n",
       "      <th>11</th>\n",
       "      <td>0.722488</td>\n",
       "      <td>0.652532</td>\n",
       "      <td>0.526986</td>\n",
       "      <td>0.613964</td>\n",
       "      <td>0.588420</td>\n",
       "      <td>1.000000</td>\n",
       "      <td>0.724239</td>\n",
       "    </tr>\n",
       "    <tr>\n",
       "      <th>12</th>\n",
       "      <td>0.476303</td>\n",
       "      <td>0.442823</td>\n",
       "      <td>0.613789</td>\n",
       "      <td>0.230475</td>\n",
       "      <td>0.252767</td>\n",
       "      <td>0.530705</td>\n",
       "      <td>0.521836</td>\n",
       "    </tr>\n",
       "  </tbody>\n",
       "</table>\n",
       "</div>"
      ],
      "text/plain": [
       "wday          0         1         2         3         4         5         6\n",
       "month                                                                      \n",
       "1      0.000000  0.001116  0.243047  0.088929  0.000000  0.221018  0.099979\n",
       "2      0.018383  0.000000  0.028628  0.031596  0.007848  0.000000  0.000000\n",
       "3      0.091614  0.042405  0.000000  0.000000  0.005080  0.247092  0.201343\n",
       "4      0.219592  0.143088  0.163835  0.090712  0.101546  0.402199  0.241187\n",
       "5      0.425837  0.236295  0.256861  0.292674  0.272713  0.608885  0.643019\n",
       "6      0.320675  0.330869  0.290348  0.492292  0.548292  0.556933  0.331390\n",
       "7      0.585621  0.458781  0.456100  0.501414  0.398355  0.606646  0.592220\n",
       "8      1.000000  1.000000  1.000000  1.000000  1.000000  0.924674  1.000000\n",
       "9      0.671619  0.330004  0.120420  0.442604  0.289436  0.602476  0.833260\n",
       "10     0.529338  0.577765  0.670834  0.779055  0.685933  0.909859  0.901287\n",
       "11     0.722488  0.652532  0.526986  0.613964  0.588420  1.000000  0.724239\n",
       "12     0.476303  0.442823  0.613789  0.230475  0.252767  0.530705  0.521836"
      ]
     },
     "execution_count": 87,
     "metadata": {},
     "output_type": "execute_result"
    }
   ],
   "source": [
    "df_q3_pivot = df_q3_pivot.apply(lambda x: (x - min(x))/(max(x) - min(x)))\n",
    "df_q3_pivot"
   ]
  },
  {
   "cell_type": "code",
   "execution_count": 88,
   "metadata": {},
   "outputs": [
    {
     "data": {
      "text/plain": [
       "KMeans(algorithm='auto', copy_x=True, init='k-means++', max_iter=100,\n",
       "       n_clusters=3, n_init=10, n_jobs=None, precompute_distances='auto',\n",
       "       random_state=None, tol=0.0001, verbose=0)"
      ]
     },
     "execution_count": 88,
     "metadata": {},
     "output_type": "execute_result"
    }
   ],
   "source": [
    "model = KMeans(n_clusters = 3, max_iter = 100).fit(df_q3_pivot)\n",
    "model"
   ]
  },
  {
   "cell_type": "code",
   "execution_count": 89,
   "metadata": {},
   "outputs": [
    {
     "data": {
      "text/plain": [
       "array([0, 0, 0, 0, 2, 2, 2, 1, 2, 1, 1, 2])"
      ]
     },
     "execution_count": 89,
     "metadata": {},
     "output_type": "execute_result"
    }
   ],
   "source": [
    "model.labels_"
   ]
  },
  {
   "cell_type": "code",
   "execution_count": 90,
   "metadata": {},
   "outputs": [
    {
     "data": {
      "text/html": [
       "<div>\n",
       "<style scoped>\n",
       "    .dataframe tbody tr th:only-of-type {\n",
       "        vertical-align: middle;\n",
       "    }\n",
       "\n",
       "    .dataframe tbody tr th {\n",
       "        vertical-align: top;\n",
       "    }\n",
       "\n",
       "    .dataframe thead th {\n",
       "        text-align: right;\n",
       "    }\n",
       "</style>\n",
       "<table border=\"1\" class=\"dataframe\">\n",
       "  <thead>\n",
       "    <tr style=\"text-align: right;\">\n",
       "      <th>wday</th>\n",
       "      <th>0</th>\n",
       "      <th>1</th>\n",
       "      <th>2</th>\n",
       "      <th>3</th>\n",
       "      <th>4</th>\n",
       "      <th>5</th>\n",
       "      <th>6</th>\n",
       "      <th>cluster</th>\n",
       "    </tr>\n",
       "    <tr>\n",
       "      <th>month</th>\n",
       "      <th></th>\n",
       "      <th></th>\n",
       "      <th></th>\n",
       "      <th></th>\n",
       "      <th></th>\n",
       "      <th></th>\n",
       "      <th></th>\n",
       "      <th></th>\n",
       "    </tr>\n",
       "  </thead>\n",
       "  <tbody>\n",
       "    <tr>\n",
       "      <th>1</th>\n",
       "      <td>0.000000</td>\n",
       "      <td>0.001116</td>\n",
       "      <td>0.243047</td>\n",
       "      <td>0.088929</td>\n",
       "      <td>0.000000</td>\n",
       "      <td>0.221018</td>\n",
       "      <td>0.099979</td>\n",
       "      <td>0</td>\n",
       "    </tr>\n",
       "    <tr>\n",
       "      <th>2</th>\n",
       "      <td>0.018383</td>\n",
       "      <td>0.000000</td>\n",
       "      <td>0.028628</td>\n",
       "      <td>0.031596</td>\n",
       "      <td>0.007848</td>\n",
       "      <td>0.000000</td>\n",
       "      <td>0.000000</td>\n",
       "      <td>0</td>\n",
       "    </tr>\n",
       "    <tr>\n",
       "      <th>3</th>\n",
       "      <td>0.091614</td>\n",
       "      <td>0.042405</td>\n",
       "      <td>0.000000</td>\n",
       "      <td>0.000000</td>\n",
       "      <td>0.005080</td>\n",
       "      <td>0.247092</td>\n",
       "      <td>0.201343</td>\n",
       "      <td>0</td>\n",
       "    </tr>\n",
       "    <tr>\n",
       "      <th>4</th>\n",
       "      <td>0.219592</td>\n",
       "      <td>0.143088</td>\n",
       "      <td>0.163835</td>\n",
       "      <td>0.090712</td>\n",
       "      <td>0.101546</td>\n",
       "      <td>0.402199</td>\n",
       "      <td>0.241187</td>\n",
       "      <td>0</td>\n",
       "    </tr>\n",
       "    <tr>\n",
       "      <th>5</th>\n",
       "      <td>0.425837</td>\n",
       "      <td>0.236295</td>\n",
       "      <td>0.256861</td>\n",
       "      <td>0.292674</td>\n",
       "      <td>0.272713</td>\n",
       "      <td>0.608885</td>\n",
       "      <td>0.643019</td>\n",
       "      <td>2</td>\n",
       "    </tr>\n",
       "    <tr>\n",
       "      <th>6</th>\n",
       "      <td>0.320675</td>\n",
       "      <td>0.330869</td>\n",
       "      <td>0.290348</td>\n",
       "      <td>0.492292</td>\n",
       "      <td>0.548292</td>\n",
       "      <td>0.556933</td>\n",
       "      <td>0.331390</td>\n",
       "      <td>2</td>\n",
       "    </tr>\n",
       "    <tr>\n",
       "      <th>7</th>\n",
       "      <td>0.585621</td>\n",
       "      <td>0.458781</td>\n",
       "      <td>0.456100</td>\n",
       "      <td>0.501414</td>\n",
       "      <td>0.398355</td>\n",
       "      <td>0.606646</td>\n",
       "      <td>0.592220</td>\n",
       "      <td>2</td>\n",
       "    </tr>\n",
       "    <tr>\n",
       "      <th>8</th>\n",
       "      <td>1.000000</td>\n",
       "      <td>1.000000</td>\n",
       "      <td>1.000000</td>\n",
       "      <td>1.000000</td>\n",
       "      <td>1.000000</td>\n",
       "      <td>0.924674</td>\n",
       "      <td>1.000000</td>\n",
       "      <td>1</td>\n",
       "    </tr>\n",
       "    <tr>\n",
       "      <th>9</th>\n",
       "      <td>0.671619</td>\n",
       "      <td>0.330004</td>\n",
       "      <td>0.120420</td>\n",
       "      <td>0.442604</td>\n",
       "      <td>0.289436</td>\n",
       "      <td>0.602476</td>\n",
       "      <td>0.833260</td>\n",
       "      <td>2</td>\n",
       "    </tr>\n",
       "    <tr>\n",
       "      <th>10</th>\n",
       "      <td>0.529338</td>\n",
       "      <td>0.577765</td>\n",
       "      <td>0.670834</td>\n",
       "      <td>0.779055</td>\n",
       "      <td>0.685933</td>\n",
       "      <td>0.909859</td>\n",
       "      <td>0.901287</td>\n",
       "      <td>1</td>\n",
       "    </tr>\n",
       "    <tr>\n",
       "      <th>11</th>\n",
       "      <td>0.722488</td>\n",
       "      <td>0.652532</td>\n",
       "      <td>0.526986</td>\n",
       "      <td>0.613964</td>\n",
       "      <td>0.588420</td>\n",
       "      <td>1.000000</td>\n",
       "      <td>0.724239</td>\n",
       "      <td>1</td>\n",
       "    </tr>\n",
       "    <tr>\n",
       "      <th>12</th>\n",
       "      <td>0.476303</td>\n",
       "      <td>0.442823</td>\n",
       "      <td>0.613789</td>\n",
       "      <td>0.230475</td>\n",
       "      <td>0.252767</td>\n",
       "      <td>0.530705</td>\n",
       "      <td>0.521836</td>\n",
       "      <td>2</td>\n",
       "    </tr>\n",
       "  </tbody>\n",
       "</table>\n",
       "</div>"
      ],
      "text/plain": [
       "wday          0         1         2         3         4         5         6  \\\n",
       "month                                                                         \n",
       "1      0.000000  0.001116  0.243047  0.088929  0.000000  0.221018  0.099979   \n",
       "2      0.018383  0.000000  0.028628  0.031596  0.007848  0.000000  0.000000   \n",
       "3      0.091614  0.042405  0.000000  0.000000  0.005080  0.247092  0.201343   \n",
       "4      0.219592  0.143088  0.163835  0.090712  0.101546  0.402199  0.241187   \n",
       "5      0.425837  0.236295  0.256861  0.292674  0.272713  0.608885  0.643019   \n",
       "6      0.320675  0.330869  0.290348  0.492292  0.548292  0.556933  0.331390   \n",
       "7      0.585621  0.458781  0.456100  0.501414  0.398355  0.606646  0.592220   \n",
       "8      1.000000  1.000000  1.000000  1.000000  1.000000  0.924674  1.000000   \n",
       "9      0.671619  0.330004  0.120420  0.442604  0.289436  0.602476  0.833260   \n",
       "10     0.529338  0.577765  0.670834  0.779055  0.685933  0.909859  0.901287   \n",
       "11     0.722488  0.652532  0.526986  0.613964  0.588420  1.000000  0.724239   \n",
       "12     0.476303  0.442823  0.613789  0.230475  0.252767  0.530705  0.521836   \n",
       "\n",
       "wday   cluster  \n",
       "month           \n",
       "1            0  \n",
       "2            0  \n",
       "3            0  \n",
       "4            0  \n",
       "5            2  \n",
       "6            2  \n",
       "7            2  \n",
       "8            1  \n",
       "9            2  \n",
       "10           1  \n",
       "11           1  \n",
       "12           2  "
      ]
     },
     "execution_count": 90,
     "metadata": {},
     "output_type": "execute_result"
    }
   ],
   "source": [
    "df_q3_pivot[\"cluster\"] = model.labels_\n",
    "df_q3_pivot"
   ]
  },
  {
   "cell_type": "code",
   "execution_count": 95,
   "metadata": {},
   "outputs": [
    {
     "data": {
      "text/plain": [
       "2    5\n",
       "0    4\n",
       "1    3\n",
       "Name: cluster, dtype: int64"
      ]
     },
     "execution_count": 95,
     "metadata": {},
     "output_type": "execute_result"
    }
   ],
   "source": [
    "df_q3_pivot[\"cluster\"].value_counts()"
   ]
  },
  {
   "cell_type": "code",
   "execution_count": 93,
   "metadata": {},
   "outputs": [
    {
     "data": {
      "text/plain": [
       "0.7506085788634266"
      ]
     },
     "execution_count": 93,
     "metadata": {},
     "output_type": "execute_result"
    }
   ],
   "source": [
    "df_q3_pivot.loc[df_q3_pivot[\"cluster\"] == 1, 0].mean()"
   ]
  },
  {
   "cell_type": "code",
   "execution_count": 94,
   "metadata": {},
   "outputs": [
    {
     "data": {
      "text/plain": [
       "0.75"
      ]
     },
     "execution_count": 94,
     "metadata": {},
     "output_type": "execute_result"
    }
   ],
   "source": [
    "round(df_q3_pivot.loc[df_q3_pivot[\"cluster\"] == 1, 0].mean(), 2)"
   ]
  },
  {
   "cell_type": "markdown",
   "metadata": {},
   "source": [
    "#### [문제 4] 경기를 출발하여 전라로 도착한 교통량 정보 중 14년 27주차, 28주차, 그리고 29주차 일요일(20140706, 20140713, 20140720) 정보가 삭제되었다. 삭제된 교통량을 선형 회귀 분석을 이용하여 예측한 값으로 채워 넣으려고 한다.\n",
    " - 종속 변수(Y)는 경기를 출발하여 전라에 도착한 일 교통량\n",
    " - 독립 변수(X)는 <br> \n",
    " ① 당일 경기를 출발하여 충청에 도착한 교통량 <br> \n",
    " ② 당일 경기를 출발하여 경상에 도착한 교통량 <br> \n",
    " ③ 당일 경기를 출발하여 강원에 도착한 교통량 <br> \n",
    " ④ 전일(일요일 기준 토요일) 경기를 출발하여 전라에 도착한 교통량으로 한다.  <br> \n",
    " <br> \n",
    " - 회귀 분석의 학습 데이터는 1월에서 6월까지의 일요일을 기준으로 사용\n",
    " - 예측은 삭제된 일요일 3일인 20140706, 20140713, 20140720에 대하여 수행\n",
    " - 예측된 3일의 예측 값을 차례대로 구하시오. (20점)"
   ]
  },
  {
   "cell_type": "code",
   "execution_count": 96,
   "metadata": {},
   "outputs": [
    {
     "data": {
      "text/html": [
       "<div>\n",
       "<style scoped>\n",
       "    .dataframe tbody tr th:only-of-type {\n",
       "        vertical-align: middle;\n",
       "    }\n",
       "\n",
       "    .dataframe tbody tr th {\n",
       "        vertical-align: top;\n",
       "    }\n",
       "\n",
       "    .dataframe thead th {\n",
       "        text-align: right;\n",
       "    }\n",
       "</style>\n",
       "<table border=\"1\" class=\"dataframe\">\n",
       "  <thead>\n",
       "    <tr style=\"text-align: right;\">\n",
       "      <th></th>\n",
       "      <th>date</th>\n",
       "      <th>StartPoint</th>\n",
       "      <th>Gyeonggi</th>\n",
       "      <th>Chungcheong</th>\n",
       "      <th>Jeolla</th>\n",
       "      <th>Gyeongsang</th>\n",
       "      <th>Gangwon</th>\n",
       "    </tr>\n",
       "  </thead>\n",
       "  <tbody>\n",
       "    <tr>\n",
       "      <th>0</th>\n",
       "      <td>20140101</td>\n",
       "      <td>충청</td>\n",
       "      <td>83318.0</td>\n",
       "      <td>104617.0</td>\n",
       "      <td>4147.0</td>\n",
       "      <td>4126.0</td>\n",
       "      <td>6021.0</td>\n",
       "    </tr>\n",
       "    <tr>\n",
       "      <th>1</th>\n",
       "      <td>20140101</td>\n",
       "      <td>강원</td>\n",
       "      <td>57398.0</td>\n",
       "      <td>5783.0</td>\n",
       "      <td>427.0</td>\n",
       "      <td>991.0</td>\n",
       "      <td>102850.0</td>\n",
       "    </tr>\n",
       "  </tbody>\n",
       "</table>\n",
       "</div>"
      ],
      "text/plain": [
       "       date StartPoint  Gyeonggi  Chungcheong  Jeolla  Gyeongsang   Gangwon\n",
       "0  20140101         충청   83318.0     104617.0  4147.0      4126.0    6021.0\n",
       "1  20140101         강원   57398.0       5783.0   427.0       991.0  102850.0"
      ]
     },
     "execution_count": 96,
     "metadata": {},
     "output_type": "execute_result"
    }
   ],
   "source": [
    "df_q4 = df\n",
    "df_q4.head(2)"
   ]
  },
  {
   "cell_type": "code",
   "execution_count": 98,
   "metadata": {},
   "outputs": [
    {
     "data": {
      "text/html": [
       "<div>\n",
       "<style scoped>\n",
       "    .dataframe tbody tr th:only-of-type {\n",
       "        vertical-align: middle;\n",
       "    }\n",
       "\n",
       "    .dataframe tbody tr th {\n",
       "        vertical-align: top;\n",
       "    }\n",
       "\n",
       "    .dataframe thead th {\n",
       "        text-align: right;\n",
       "    }\n",
       "</style>\n",
       "<table border=\"1\" class=\"dataframe\">\n",
       "  <thead>\n",
       "    <tr style=\"text-align: right;\">\n",
       "      <th></th>\n",
       "      <th>date</th>\n",
       "      <th>StartPoint</th>\n",
       "      <th>Gyeonggi</th>\n",
       "      <th>Chungcheong</th>\n",
       "      <th>Jeolla</th>\n",
       "      <th>Gyeongsang</th>\n",
       "      <th>Gangwon</th>\n",
       "    </tr>\n",
       "  </thead>\n",
       "  <tbody>\n",
       "    <tr>\n",
       "      <th>2</th>\n",
       "      <td>20140101</td>\n",
       "      <td>경기</td>\n",
       "      <td>373199.0</td>\n",
       "      <td>82263.0</td>\n",
       "      <td>3114.0</td>\n",
       "      <td>5841.0</td>\n",
       "      <td>51386.0</td>\n",
       "    </tr>\n",
       "    <tr>\n",
       "      <th>7</th>\n",
       "      <td>20140102</td>\n",
       "      <td>경기</td>\n",
       "      <td>517935.0</td>\n",
       "      <td>89221.0</td>\n",
       "      <td>3046.0</td>\n",
       "      <td>6662.0</td>\n",
       "      <td>43191.0</td>\n",
       "    </tr>\n",
       "  </tbody>\n",
       "</table>\n",
       "</div>"
      ],
      "text/plain": [
       "       date StartPoint  Gyeonggi  Chungcheong  Jeolla  Gyeongsang  Gangwon\n",
       "2  20140101         경기  373199.0      82263.0  3114.0      5841.0  51386.0\n",
       "7  20140102         경기  517935.0      89221.0  3046.0      6662.0  43191.0"
      ]
     },
     "execution_count": 98,
     "metadata": {},
     "output_type": "execute_result"
    }
   ],
   "source": [
    "df_q4 = df_q4[df_q4[\"StartPoint\"] == \"경기\"]\n",
    "df_q4.head(2)"
   ]
  },
  {
   "cell_type": "code",
   "execution_count": 99,
   "metadata": {},
   "outputs": [
    {
     "data": {
      "text/html": [
       "<div>\n",
       "<style scoped>\n",
       "    .dataframe tbody tr th:only-of-type {\n",
       "        vertical-align: middle;\n",
       "    }\n",
       "\n",
       "    .dataframe tbody tr th {\n",
       "        vertical-align: top;\n",
       "    }\n",
       "\n",
       "    .dataframe thead th {\n",
       "        text-align: right;\n",
       "    }\n",
       "</style>\n",
       "<table border=\"1\" class=\"dataframe\">\n",
       "  <thead>\n",
       "    <tr style=\"text-align: right;\">\n",
       "      <th></th>\n",
       "      <th>date</th>\n",
       "      <th>StartPoint</th>\n",
       "      <th>Gyeonggi</th>\n",
       "      <th>Chungcheong</th>\n",
       "      <th>Jeolla</th>\n",
       "      <th>Gyeongsang</th>\n",
       "      <th>Gangwon</th>\n",
       "      <th>month</th>\n",
       "      <th>wday</th>\n",
       "    </tr>\n",
       "  </thead>\n",
       "  <tbody>\n",
       "    <tr>\n",
       "      <th>2</th>\n",
       "      <td>2014-01-01</td>\n",
       "      <td>경기</td>\n",
       "      <td>373199.0</td>\n",
       "      <td>82263.0</td>\n",
       "      <td>3114.0</td>\n",
       "      <td>5841.0</td>\n",
       "      <td>51386.0</td>\n",
       "      <td>1</td>\n",
       "      <td>2</td>\n",
       "    </tr>\n",
       "    <tr>\n",
       "      <th>7</th>\n",
       "      <td>2014-01-02</td>\n",
       "      <td>경기</td>\n",
       "      <td>517935.0</td>\n",
       "      <td>89221.0</td>\n",
       "      <td>3046.0</td>\n",
       "      <td>6662.0</td>\n",
       "      <td>43191.0</td>\n",
       "      <td>1</td>\n",
       "      <td>3</td>\n",
       "    </tr>\n",
       "  </tbody>\n",
       "</table>\n",
       "</div>"
      ],
      "text/plain": [
       "        date StartPoint  Gyeonggi  Chungcheong  Jeolla  Gyeongsang  Gangwon  \\\n",
       "2 2014-01-01         경기  373199.0      82263.0  3114.0      5841.0  51386.0   \n",
       "7 2014-01-02         경기  517935.0      89221.0  3046.0      6662.0  43191.0   \n",
       "\n",
       "   month  wday  \n",
       "2      1     2  \n",
       "7      1     3  "
      ]
     },
     "execution_count": 99,
     "metadata": {},
     "output_type": "execute_result"
    }
   ],
   "source": [
    "df_q4[\"date\"] = pd.to_datetime(df_q4[\"date\"], format = \"%Y%m%d\")\n",
    "df_q4[\"month\"] = df_q4[\"date\"].dt.month\n",
    "df_q4[\"wday\"] = df_q4[\"date\"].dt.weekday\n",
    "df_q4.head(2)"
   ]
  },
  {
   "cell_type": "code",
   "execution_count": 142,
   "metadata": {},
   "outputs": [
    {
     "data": {
      "text/html": [
       "<div>\n",
       "<style scoped>\n",
       "    .dataframe tbody tr th:only-of-type {\n",
       "        vertical-align: middle;\n",
       "    }\n",
       "\n",
       "    .dataframe tbody tr th {\n",
       "        vertical-align: top;\n",
       "    }\n",
       "\n",
       "    .dataframe thead th {\n",
       "        text-align: right;\n",
       "    }\n",
       "</style>\n",
       "<table border=\"1\" class=\"dataframe\">\n",
       "  <thead>\n",
       "    <tr style=\"text-align: right;\">\n",
       "      <th></th>\n",
       "      <th>date</th>\n",
       "      <th>StartPoint</th>\n",
       "      <th>Gyeonggi</th>\n",
       "      <th>Chungcheong</th>\n",
       "      <th>Jeolla</th>\n",
       "      <th>Gyeongsang</th>\n",
       "      <th>Gangwon</th>\n",
       "      <th>month</th>\n",
       "      <th>wday</th>\n",
       "      <th>Jeolla_yes</th>\n",
       "    </tr>\n",
       "  </thead>\n",
       "  <tbody>\n",
       "    <tr>\n",
       "      <th>2</th>\n",
       "      <td>2014-01-01</td>\n",
       "      <td>경기</td>\n",
       "      <td>373199.0</td>\n",
       "      <td>82263.0</td>\n",
       "      <td>3114.0</td>\n",
       "      <td>5841.0</td>\n",
       "      <td>51386.0</td>\n",
       "      <td>1</td>\n",
       "      <td>2</td>\n",
       "      <td>NaN</td>\n",
       "    </tr>\n",
       "    <tr>\n",
       "      <th>7</th>\n",
       "      <td>2014-01-02</td>\n",
       "      <td>경기</td>\n",
       "      <td>517935.0</td>\n",
       "      <td>89221.0</td>\n",
       "      <td>3046.0</td>\n",
       "      <td>6662.0</td>\n",
       "      <td>43191.0</td>\n",
       "      <td>1</td>\n",
       "      <td>3</td>\n",
       "      <td>3114.0</td>\n",
       "    </tr>\n",
       "  </tbody>\n",
       "</table>\n",
       "</div>"
      ],
      "text/plain": [
       "        date StartPoint  Gyeonggi  Chungcheong  Jeolla  Gyeongsang  Gangwon  \\\n",
       "2 2014-01-01         경기  373199.0      82263.0  3114.0      5841.0  51386.0   \n",
       "7 2014-01-02         경기  517935.0      89221.0  3046.0      6662.0  43191.0   \n",
       "\n",
       "   month  wday  Jeolla_yes  \n",
       "2      1     2         NaN  \n",
       "7      1     3      3114.0  "
      ]
     },
     "execution_count": 142,
     "metadata": {},
     "output_type": "execute_result"
    }
   ],
   "source": [
    "df_q4[\"Jeolla_yes\"] = df_q4[\"Jeolla\"].shift(1)\n",
    "df_q4.head(2)"
   ]
  },
  {
   "cell_type": "code",
   "execution_count": 143,
   "metadata": {},
   "outputs": [
    {
     "data": {
      "text/html": [
       "<div>\n",
       "<style scoped>\n",
       "    .dataframe tbody tr th:only-of-type {\n",
       "        vertical-align: middle;\n",
       "    }\n",
       "\n",
       "    .dataframe tbody tr th {\n",
       "        vertical-align: top;\n",
       "    }\n",
       "\n",
       "    .dataframe thead th {\n",
       "        text-align: right;\n",
       "    }\n",
       "</style>\n",
       "<table border=\"1\" class=\"dataframe\">\n",
       "  <thead>\n",
       "    <tr style=\"text-align: right;\">\n",
       "      <th></th>\n",
       "      <th>Gyeonggi</th>\n",
       "      <th>Chungcheong</th>\n",
       "      <th>Jeolla</th>\n",
       "      <th>Gyeongsang</th>\n",
       "      <th>Gangwon</th>\n",
       "      <th>Jeolla_yes</th>\n",
       "    </tr>\n",
       "  </thead>\n",
       "  <tbody>\n",
       "    <tr>\n",
       "      <th>22</th>\n",
       "      <td>359233.0</td>\n",
       "      <td>74418.0</td>\n",
       "      <td>3058.0</td>\n",
       "      <td>5703.0</td>\n",
       "      <td>40280.0</td>\n",
       "      <td>4413.0</td>\n",
       "    </tr>\n",
       "    <tr>\n",
       "      <th>57</th>\n",
       "      <td>369717.0</td>\n",
       "      <td>76985.0</td>\n",
       "      <td>2819.0</td>\n",
       "      <td>5283.0</td>\n",
       "      <td>42210.0</td>\n",
       "      <td>4536.0</td>\n",
       "    </tr>\n",
       "    <tr>\n",
       "      <th>92</th>\n",
       "      <td>379265.0</td>\n",
       "      <td>81428.0</td>\n",
       "      <td>2818.0</td>\n",
       "      <td>5560.0</td>\n",
       "      <td>43549.0</td>\n",
       "      <td>4354.0</td>\n",
       "    </tr>\n",
       "    <tr>\n",
       "      <th>127</th>\n",
       "      <td>361135.0</td>\n",
       "      <td>71975.0</td>\n",
       "      <td>2437.0</td>\n",
       "      <td>4358.0</td>\n",
       "      <td>37041.0</td>\n",
       "      <td>3818.0</td>\n",
       "    </tr>\n",
       "    <tr>\n",
       "      <th>162</th>\n",
       "      <td>287950.0</td>\n",
       "      <td>59596.0</td>\n",
       "      <td>3316.0</td>\n",
       "      <td>7270.0</td>\n",
       "      <td>30180.0</td>\n",
       "      <td>4046.0</td>\n",
       "    </tr>\n",
       "  </tbody>\n",
       "</table>\n",
       "</div>"
      ],
      "text/plain": [
       "     Gyeonggi  Chungcheong  Jeolla  Gyeongsang  Gangwon  Jeolla_yes\n",
       "22   359233.0      74418.0  3058.0      5703.0  40280.0      4413.0\n",
       "57   369717.0      76985.0  2819.0      5283.0  42210.0      4536.0\n",
       "92   379265.0      81428.0  2818.0      5560.0  43549.0      4354.0\n",
       "127  361135.0      71975.0  2437.0      4358.0  37041.0      3818.0\n",
       "162  287950.0      59596.0  3316.0      7270.0  30180.0      4046.0"
      ]
     },
     "execution_count": 143,
     "metadata": {},
     "output_type": "execute_result"
    }
   ],
   "source": [
    "train = df_q4.loc[(df_q4[\"month\"] <= 6) & (df_q4[\"wday\"] == 6), ]\n",
    "train = train.iloc[:, [2, 3, 4, 5, 6, 9]]\n",
    "train.head()"
   ]
  },
  {
   "cell_type": "code",
   "execution_count": 144,
   "metadata": {},
   "outputs": [
    {
     "data": {
      "text/html": [
       "<div>\n",
       "<style scoped>\n",
       "    .dataframe tbody tr th:only-of-type {\n",
       "        vertical-align: middle;\n",
       "    }\n",
       "\n",
       "    .dataframe tbody tr th {\n",
       "        vertical-align: top;\n",
       "    }\n",
       "\n",
       "    .dataframe thead th {\n",
       "        text-align: right;\n",
       "    }\n",
       "</style>\n",
       "<table border=\"1\" class=\"dataframe\">\n",
       "  <thead>\n",
       "    <tr style=\"text-align: right;\">\n",
       "      <th></th>\n",
       "      <th>Gyeonggi</th>\n",
       "      <th>Chungcheong</th>\n",
       "      <th>Gyeongsang</th>\n",
       "      <th>Gangwon</th>\n",
       "      <th>Jeolla_yes</th>\n",
       "    </tr>\n",
       "  </thead>\n",
       "  <tbody>\n",
       "    <tr>\n",
       "      <th>932</th>\n",
       "      <td>420229.0</td>\n",
       "      <td>84761.0</td>\n",
       "      <td>5460.0</td>\n",
       "      <td>44771.0</td>\n",
       "      <td>4837.0</td>\n",
       "    </tr>\n",
       "    <tr>\n",
       "      <th>967</th>\n",
       "      <td>432308.0</td>\n",
       "      <td>85702.0</td>\n",
       "      <td>5492.0</td>\n",
       "      <td>47001.0</td>\n",
       "      <td>5082.0</td>\n",
       "    </tr>\n",
       "    <tr>\n",
       "      <th>1002</th>\n",
       "      <td>424885.0</td>\n",
       "      <td>82962.0</td>\n",
       "      <td>5356.0</td>\n",
       "      <td>47133.0</td>\n",
       "      <td>4434.0</td>\n",
       "    </tr>\n",
       "  </tbody>\n",
       "</table>\n",
       "</div>"
      ],
      "text/plain": [
       "      Gyeonggi  Chungcheong  Gyeongsang  Gangwon  Jeolla_yes\n",
       "932   420229.0      84761.0      5460.0  44771.0      4837.0\n",
       "967   432308.0      85702.0      5492.0  47001.0      5082.0\n",
       "1002  424885.0      82962.0      5356.0  47133.0      4434.0"
      ]
     },
     "execution_count": 144,
     "metadata": {},
     "output_type": "execute_result"
    }
   ],
   "source": [
    "test = df_q4.loc[df_q4[\"Jeolla\"].isnull(), :]\n",
    "test = test.iloc[:, [2, 3, 5, 6, 9]]\n",
    "test"
   ]
  },
  {
   "cell_type": "code",
   "execution_count": 145,
   "metadata": {},
   "outputs": [
    {
     "data": {
      "text/html": [
       "<table class=\"simpletable\">\n",
       "<caption>OLS Regression Results</caption>\n",
       "<tr>\n",
       "  <th>Dep. Variable:</th>         <td>Jeolla</td>      <th>  R-squared:         </th> <td>   0.989</td>\n",
       "</tr>\n",
       "<tr>\n",
       "  <th>Model:</th>                   <td>OLS</td>       <th>  Adj. R-squared:    </th> <td>   0.986</td>\n",
       "</tr>\n",
       "<tr>\n",
       "  <th>Method:</th>             <td>Least Squares</td>  <th>  F-statistic:       </th> <td>   348.8</td>\n",
       "</tr>\n",
       "<tr>\n",
       "  <th>Date:</th>             <td>Fri, 23 Aug 2019</td> <th>  Prob (F-statistic):</th> <td>9.79e-19</td>\n",
       "</tr>\n",
       "<tr>\n",
       "  <th>Time:</th>                 <td>15:15:07</td>     <th>  Log-Likelihood:    </th> <td> -175.70</td>\n",
       "</tr>\n",
       "<tr>\n",
       "  <th>No. Observations:</th>      <td>    26</td>      <th>  AIC:               </th> <td>   363.4</td>\n",
       "</tr>\n",
       "<tr>\n",
       "  <th>Df Residuals:</th>          <td>    20</td>      <th>  BIC:               </th> <td>   371.0</td>\n",
       "</tr>\n",
       "<tr>\n",
       "  <th>Df Model:</th>              <td>     5</td>      <th>                     </th>     <td> </td>   \n",
       "</tr>\n",
       "<tr>\n",
       "  <th>Covariance Type:</th>      <td>nonrobust</td>    <th>                     </th>     <td> </td>   \n",
       "</tr>\n",
       "</table>\n",
       "<table class=\"simpletable\">\n",
       "<tr>\n",
       "       <td></td>          <th>coef</th>     <th>std err</th>      <th>t</th>      <th>P>|t|</th>  <th>[0.025</th>    <th>0.975]</th>  \n",
       "</tr>\n",
       "<tr>\n",
       "  <th>Intercept</th>   <td> -335.0865</td> <td>  718.676</td> <td>   -0.466</td> <td> 0.646</td> <td>-1834.219</td> <td> 1164.046</td>\n",
       "</tr>\n",
       "<tr>\n",
       "  <th>Gyeonggi</th>    <td>   -0.0003</td> <td>    0.004</td> <td>   -0.076</td> <td> 0.940</td> <td>   -0.009</td> <td>    0.008</td>\n",
       "</tr>\n",
       "<tr>\n",
       "  <th>Chungcheong</th> <td>   -0.0438</td> <td>    0.022</td> <td>   -2.006</td> <td> 0.059</td> <td>   -0.089</td> <td>    0.002</td>\n",
       "</tr>\n",
       "<tr>\n",
       "  <th>Gyeongsang</th>  <td>    0.4801</td> <td>    0.067</td> <td>    7.216</td> <td> 0.000</td> <td>    0.341</td> <td>    0.619</td>\n",
       "</tr>\n",
       "<tr>\n",
       "  <th>Gangwon</th>     <td>    0.0673</td> <td>    0.025</td> <td>    2.723</td> <td> 0.013</td> <td>    0.016</td> <td>    0.119</td>\n",
       "</tr>\n",
       "<tr>\n",
       "  <th>Jeolla_yes</th>  <td>    0.3097</td> <td>    0.049</td> <td>    6.308</td> <td> 0.000</td> <td>    0.207</td> <td>    0.412</td>\n",
       "</tr>\n",
       "</table>\n",
       "<table class=\"simpletable\">\n",
       "<tr>\n",
       "  <th>Omnibus:</th>       <td> 2.158</td> <th>  Durbin-Watson:     </th> <td>   2.679</td>\n",
       "</tr>\n",
       "<tr>\n",
       "  <th>Prob(Omnibus):</th> <td> 0.340</td> <th>  Jarque-Bera (JB):  </th> <td>   0.982</td>\n",
       "</tr>\n",
       "<tr>\n",
       "  <th>Skew:</th>          <td> 0.419</td> <th>  Prob(JB):          </th> <td>   0.612</td>\n",
       "</tr>\n",
       "<tr>\n",
       "  <th>Kurtosis:</th>      <td> 3.451</td> <th>  Cond. No.          </th> <td>6.38e+06</td>\n",
       "</tr>\n",
       "</table><br/><br/>Warnings:<br/>[1] Standard Errors assume that the covariance matrix of the errors is correctly specified.<br/>[2] The condition number is large, 6.38e+06. This might indicate that there are<br/>strong multicollinearity or other numerical problems."
      ],
      "text/plain": [
       "<class 'statsmodels.iolib.summary.Summary'>\n",
       "\"\"\"\n",
       "                            OLS Regression Results                            \n",
       "==============================================================================\n",
       "Dep. Variable:                 Jeolla   R-squared:                       0.989\n",
       "Model:                            OLS   Adj. R-squared:                  0.986\n",
       "Method:                 Least Squares   F-statistic:                     348.8\n",
       "Date:                Fri, 23 Aug 2019   Prob (F-statistic):           9.79e-19\n",
       "Time:                        15:15:07   Log-Likelihood:                -175.70\n",
       "No. Observations:                  26   AIC:                             363.4\n",
       "Df Residuals:                      20   BIC:                             371.0\n",
       "Df Model:                           5                                         \n",
       "Covariance Type:            nonrobust                                         \n",
       "===============================================================================\n",
       "                  coef    std err          t      P>|t|      [0.025      0.975]\n",
       "-------------------------------------------------------------------------------\n",
       "Intercept    -335.0865    718.676     -0.466      0.646   -1834.219    1164.046\n",
       "Gyeonggi       -0.0003      0.004     -0.076      0.940      -0.009       0.008\n",
       "Chungcheong    -0.0438      0.022     -2.006      0.059      -0.089       0.002\n",
       "Gyeongsang      0.4801      0.067      7.216      0.000       0.341       0.619\n",
       "Gangwon         0.0673      0.025      2.723      0.013       0.016       0.119\n",
       "Jeolla_yes      0.3097      0.049      6.308      0.000       0.207       0.412\n",
       "==============================================================================\n",
       "Omnibus:                        2.158   Durbin-Watson:                   2.679\n",
       "Prob(Omnibus):                  0.340   Jarque-Bera (JB):                0.982\n",
       "Skew:                           0.419   Prob(JB):                        0.612\n",
       "Kurtosis:                       3.451   Cond. No.                     6.38e+06\n",
       "==============================================================================\n",
       "\n",
       "Warnings:\n",
       "[1] Standard Errors assume that the covariance matrix of the errors is correctly specified.\n",
       "[2] The condition number is large, 6.38e+06. This might indicate that there are\n",
       "strong multicollinearity or other numerical problems.\n",
       "\"\"\""
      ]
     },
     "execution_count": 145,
     "metadata": {},
     "output_type": "execute_result"
    }
   ],
   "source": [
    "model = ols(\"Jeolla ~ \" + \"+\".join(train.columns[[0, 1, 3, 4, 5]]), data = train)\n",
    "model_fit = model.fit()\n",
    "model_fit.summary()"
   ]
  },
  {
   "cell_type": "code",
   "execution_count": 146,
   "metadata": {},
   "outputs": [
    {
     "data": {
      "text/plain": [
       "932     2958.896604\n",
       "967     3155.450842\n",
       "1002    3020.628481\n",
       "dtype: float64"
      ]
     },
     "execution_count": 146,
     "metadata": {},
     "output_type": "execute_result"
    }
   ],
   "source": [
    "model_fit.predict(test)"
   ]
  },
  {
   "cell_type": "code",
   "execution_count": null,
   "metadata": {},
   "outputs": [],
   "source": []
  }
 ],
 "metadata": {
  "kernelspec": {
   "display_name": "Python 3",
   "language": "python",
   "name": "python3"
  },
  "language_info": {
   "codemirror_mode": {
    "name": "ipython",
    "version": 3
   },
   "file_extension": ".py",
   "mimetype": "text/x-python",
   "name": "python",
   "nbconvert_exporter": "python",
   "pygments_lexer": "ipython3",
   "version": "3.7.3"
  }
 },
 "nbformat": 4,
 "nbformat_minor": 2
}
