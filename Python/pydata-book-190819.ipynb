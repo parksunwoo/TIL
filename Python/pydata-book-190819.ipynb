{
 "cells": [
  {
   "cell_type": "code",
   "execution_count": 1,
   "metadata": {
    "scrolled": true
   },
   "outputs": [
    {
     "data": {
      "text/plain": [
       "2"
      ]
     },
     "execution_count": 1,
     "metadata": {},
     "output_type": "execute_result"
    }
   ],
   "source": [
    "1+1"
   ]
  },
  {
   "cell_type": "markdown",
   "metadata": {},
   "source": [
    "MARK DOWN 관련  \n",
    "\n",
    "# HEADING1\n",
    "## HEADING2\n",
    "### HEADING3\n",
    "#### HEADING4\n",
    "##### HEADING5\n",
    "\n"
   ]
  },
  {
   "cell_type": "markdown",
   "metadata": {},
   "source": [
    "LINE NUBER DISPLAY  \n",
    "----------------------------------\n",
    "\n",
    "1111111  \n",
    "__2222222__  \n",
    "**3333333**  \n",
    "\n",
    "* chapter1\n",
    "* chapter2"
   ]
  },
  {
   "cell_type": "markdown",
   "metadata": {},
   "source": [
    "[파이썬으로 배우는 알고리즘 트레이딩](https://wikidocs.net/2818)  \n",
    "배우는 것에서 그치지말고 실생활에서 활용할수있는 것으로까지"
   ]
  },
  {
   "cell_type": "markdown",
   "metadata": {},
   "source": [
    "```Programming Python ```"
   ]
  },
  {
   "cell_type": "code",
   "execution_count": 2,
   "metadata": {},
   "outputs": [
    {
     "data": {
      "text/plain": [
       "8"
      ]
     },
     "execution_count": 2,
     "metadata": {},
     "output_type": "execute_result"
    }
   ],
   "source": [
    "2**3"
   ]
  },
  {
   "cell_type": "code",
   "execution_count": 3,
   "metadata": {},
   "outputs": [
    {
     "data": {
      "text/plain": [
       "[2, 3, 4]"
      ]
     },
     "execution_count": 3,
     "metadata": {},
     "output_type": "execute_result"
    }
   ],
   "source": [
    "[2,3,4]"
   ]
  },
  {
   "cell_type": "code",
   "execution_count": 4,
   "metadata": {},
   "outputs": [
    {
     "data": {
      "text/plain": [
       "9"
      ]
     },
     "execution_count": 4,
     "metadata": {},
     "output_type": "execute_result"
    }
   ],
   "source": [
    "sum([2,3,4])"
   ]
  },
  {
   "cell_type": "code",
   "execution_count": 5,
   "metadata": {},
   "outputs": [],
   "source": [
    "import pandas as pd\n",
    "bike = pd.read_csv(\"bike_rental.csv\")"
   ]
  },
  {
   "cell_type": "code",
   "execution_count": 6,
   "metadata": {},
   "outputs": [
    {
     "data": {
      "text/plain": [
       "'abc'"
      ]
     },
     "execution_count": 6,
     "metadata": {},
     "output_type": "execute_result"
    }
   ],
   "source": [
    "\"a\" + \"b\" + \"c\""
   ]
  },
  {
   "cell_type": "code",
   "execution_count": 7,
   "metadata": {},
   "outputs": [
    {
     "data": {
      "text/plain": [
       "'aaaaaa'"
      ]
     },
     "execution_count": 7,
     "metadata": {},
     "output_type": "execute_result"
    }
   ],
   "source": [
    "\"aa\" * 3"
   ]
  },
  {
   "cell_type": "code",
   "execution_count": 8,
   "metadata": {},
   "outputs": [
    {
     "name": "stdout",
     "output_type": "stream",
     "text": [
      "hello!?\n"
     ]
    }
   ],
   "source": [
    "print('hello!?')"
   ]
  },
  {
   "cell_type": "code",
   "execution_count": 10,
   "metadata": {},
   "outputs": [],
   "source": [
    "# print('It's great!')"
   ]
  },
  {
   "cell_type": "code",
   "execution_count": 11,
   "metadata": {},
   "outputs": [
    {
     "data": {
      "text/plain": [
       "'column_1'"
      ]
     },
     "execution_count": 11,
     "metadata": {},
     "output_type": "execute_result"
    }
   ],
   "source": [
    "\"column_\" + str(1)"
   ]
  },
  {
   "cell_type": "code",
   "execution_count": 12,
   "metadata": {},
   "outputs": [
    {
     "name": "stdout",
     "output_type": "stream",
     "text": [
      "\u0007\n"
     ]
    }
   ],
   "source": [
    "print(\"\\a\")"
   ]
  },
  {
   "cell_type": "code",
   "execution_count": 13,
   "metadata": {},
   "outputs": [
    {
     "name": "stdout",
     "output_type": "stream",
     "text": [
      "H\n",
      "l\n",
      "Hell\n",
      "!\n",
      "l\n",
      "llo!\n",
      "He\n"
     ]
    }
   ],
   "source": [
    "tx = \"Hello!\"\n",
    "print(tx[0])\n",
    "print(tx[3])\n",
    "print(tx[0:4])\n",
    "\n",
    "print(tx[-1])\n",
    "print(tx[-3])\n",
    "print(tx[2:])\n",
    "print(tx[:2])"
   ]
  },
  {
   "cell_type": "code",
   "execution_count": 14,
   "metadata": {},
   "outputs": [
    {
     "name": "stdout",
     "output_type": "stream",
     "text": [
      "[1, 2, 3, 4, 5, 6]\n",
      "[1, 2, 3, 1, 2, 3]\n"
     ]
    }
   ],
   "source": [
    "aa = [1, 2, 3]\n",
    "bb = [4, 5, 6]\n",
    "print(aa + bb)\n",
    "print(aa * 2)"
   ]
  },
  {
   "cell_type": "code",
   "execution_count": 15,
   "metadata": {},
   "outputs": [
    {
     "name": "stdout",
     "output_type": "stream",
     "text": [
      "1\n",
      "[2, 3]\n",
      "[2, 3]\n",
      "[1, 2]\n"
     ]
    }
   ],
   "source": [
    "aa = [1,2,3]\n",
    "print(aa[0])\n",
    "print(aa[1:3])\n",
    "print(aa[1:])\n",
    "print(aa[:2])"
   ]
  },
  {
   "cell_type": "code",
   "execution_count": 16,
   "metadata": {},
   "outputs": [
    {
     "name": "stdout",
     "output_type": "stream",
     "text": [
      "1\n",
      "['b', 'c']\n"
     ]
    }
   ],
   "source": [
    "bb = [1,2, [\"a\", \"b\", \"c\"]]\n",
    "print(bb[0])\n",
    "print(bb[2][1:3])"
   ]
  },
  {
   "cell_type": "code",
   "execution_count": 17,
   "metadata": {},
   "outputs": [
    {
     "name": "stdout",
     "output_type": "stream",
     "text": [
      "[55, 2, 3]\n"
     ]
    }
   ],
   "source": [
    "aa = [1,2,3]\n",
    "aa[0] = 55\n",
    "print(aa)"
   ]
  },
  {
   "cell_type": "code",
   "execution_count": 18,
   "metadata": {},
   "outputs": [
    {
     "name": "stdout",
     "output_type": "stream",
     "text": [
      "[2, 3, [99, 99]]\n"
     ]
    }
   ],
   "source": [
    "bb = [2, 3, 4]\n",
    "bb[2] = [99, 99]\n",
    "print(bb)"
   ]
  },
  {
   "cell_type": "code",
   "execution_count": 19,
   "metadata": {},
   "outputs": [
    {
     "name": "stdout",
     "output_type": "stream",
     "text": [
      "[3, 99, 99, 5]\n"
     ]
    }
   ],
   "source": [
    "cc = [3,4,5]\n",
    "cc[1:2] = [99, 99]\n",
    "print(cc)"
   ]
  },
  {
   "cell_type": "code",
   "execution_count": 20,
   "metadata": {},
   "outputs": [
    {
     "name": "stdout",
     "output_type": "stream",
     "text": [
      "[4, 5, 99, 99, 6]\n"
     ]
    }
   ],
   "source": [
    "dd = [4, 5, 6]\n",
    "dd[2:2] = [99, 99]\n",
    "print(dd)"
   ]
  },
  {
   "cell_type": "code",
   "execution_count": 21,
   "metadata": {},
   "outputs": [
    {
     "name": "stdout",
     "output_type": "stream",
     "text": [
      "[2, 3]\n"
     ]
    }
   ],
   "source": [
    "kk = [1,2,3]\n",
    "del kk[0]\n",
    "print(kk)"
   ]
  },
  {
   "cell_type": "code",
   "execution_count": 22,
   "metadata": {},
   "outputs": [
    {
     "name": "stdout",
     "output_type": "stream",
     "text": [
      "[3]\n"
     ]
    }
   ],
   "source": [
    "kk = [1,2,3]\n",
    "del kk[0:2]\n",
    "print(kk)"
   ]
  },
  {
   "cell_type": "code",
   "execution_count": 23,
   "metadata": {},
   "outputs": [
    {
     "name": "stdout",
     "output_type": "stream",
     "text": [
      "[1, 2, 3, 'a', 'b']\n"
     ]
    }
   ],
   "source": [
    "gg = [1, 2, 3]\n",
    "gg.extend([\"a\", \"b\"])\n",
    "print(gg)"
   ]
  },
  {
   "cell_type": "code",
   "execution_count": 24,
   "metadata": {},
   "outputs": [
    {
     "name": "stdout",
     "output_type": "stream",
     "text": [
      "[1, 2, 3, ['a', 'b']]\n"
     ]
    }
   ],
   "source": [
    "gg = [1, 2, 3]\n",
    "gg.append([\"a\", \"b\"])\n",
    "print(gg)"
   ]
  },
  {
   "cell_type": "code",
   "execution_count": 25,
   "metadata": {},
   "outputs": [
    {
     "data": {
      "text/plain": [
       "[2, 3, 4, 99, 99]"
      ]
     },
     "execution_count": 25,
     "metadata": {},
     "output_type": "execute_result"
    }
   ],
   "source": [
    "bb = [2, 3, 4]\n",
    "bb + [99, 99]"
   ]
  },
  {
   "cell_type": "code",
   "execution_count": 26,
   "metadata": {},
   "outputs": [
    {
     "name": "stdout",
     "output_type": "stream",
     "text": [
      "[2, 3, 5]\n"
     ]
    }
   ],
   "source": [
    "ww = [2, 5, 3]\n",
    "ww.sort()\n",
    "print(ww)"
   ]
  },
  {
   "cell_type": "code",
   "execution_count": 27,
   "metadata": {},
   "outputs": [
    {
     "name": "stdout",
     "output_type": "stream",
     "text": [
      "[5, 3, 2]\n"
     ]
    }
   ],
   "source": [
    "ww.sort(reverse=True)\n",
    "print(ww)"
   ]
  },
  {
   "cell_type": "code",
   "execution_count": 28,
   "metadata": {},
   "outputs": [
    {
     "name": "stdout",
     "output_type": "stream",
     "text": [
      "[3, 2, 1]\n"
     ]
    }
   ],
   "source": [
    "pp = [1,2,3]\n",
    "pp.reverse()\n",
    "print(pp)"
   ]
  },
  {
   "cell_type": "code",
   "execution_count": 29,
   "metadata": {},
   "outputs": [
    {
     "data": {
      "text/plain": [
       "2"
      ]
     },
     "execution_count": 29,
     "metadata": {},
     "output_type": "execute_result"
    }
   ],
   "source": [
    "True + True"
   ]
  },
  {
   "cell_type": "code",
   "execution_count": 30,
   "metadata": {},
   "outputs": [
    {
     "data": {
      "text/plain": [
       "2"
      ]
     },
     "execution_count": 30,
     "metadata": {},
     "output_type": "execute_result"
    }
   ],
   "source": [
    "sum([True, True, False])"
   ]
  },
  {
   "cell_type": "code",
   "execution_count": 31,
   "metadata": {},
   "outputs": [
    {
     "data": {
      "text/plain": [
       "1"
      ]
     },
     "execution_count": 31,
     "metadata": {},
     "output_type": "execute_result"
    }
   ],
   "source": [
    "mm = [1, 2, 3, 2]\n",
    "#mm.index(1)\n",
    "#mm.index(2)\n",
    "mm.index(2)"
   ]
  },
  {
   "cell_type": "code",
   "execution_count": 32,
   "metadata": {},
   "outputs": [
    {
     "name": "stdout",
     "output_type": "stream",
     "text": [
      "[1, 2, 99, 3]\n"
     ]
    }
   ],
   "source": [
    "ss = [1, 2, 3]\n",
    "ss.insert(2, 99)\n",
    "print(ss)"
   ]
  },
  {
   "cell_type": "code",
   "execution_count": 33,
   "metadata": {},
   "outputs": [
    {
     "name": "stdout",
     "output_type": "stream",
     "text": [
      "[1, 2, 3, 99]\n"
     ]
    }
   ],
   "source": [
    "ss = [1, 2, 3]\n",
    "ss.insert(5, 99)\n",
    "print(ss)"
   ]
  },
  {
   "cell_type": "code",
   "execution_count": 34,
   "metadata": {},
   "outputs": [
    {
     "name": "stdout",
     "output_type": "stream",
     "text": [
      "[1, 3, 2]\n"
     ]
    }
   ],
   "source": [
    "tt = [1, 2, 3, 2]\n",
    "tt.remove(2)\n",
    "print(tt)"
   ]
  },
  {
   "cell_type": "code",
   "execution_count": 35,
   "metadata": {},
   "outputs": [
    {
     "data": {
      "text/plain": [
       "2"
      ]
     },
     "execution_count": 35,
     "metadata": {},
     "output_type": "execute_result"
    }
   ],
   "source": [
    "tt = [1, 2, 3, 2]\n",
    "tt.count(2)"
   ]
  },
  {
   "cell_type": "code",
   "execution_count": 36,
   "metadata": {},
   "outputs": [
    {
     "name": "stdout",
     "output_type": "stream",
     "text": [
      "(1, 2, 3)\n",
      "(1, 2, (5, 6, 7))\n"
     ]
    }
   ],
   "source": [
    "print((1, 2, 3))\n",
    "print((1, 2, (5, 6, 7)))"
   ]
  },
  {
   "cell_type": "code",
   "execution_count": 37,
   "metadata": {},
   "outputs": [
    {
     "name": "stdout",
     "output_type": "stream",
     "text": [
      "(1, 2, [5, 6, 2])\n"
     ]
    }
   ],
   "source": [
    "aa = (1, 2, [5,6,7])\n",
    "aa[2][2] = 2\n",
    "print(aa)"
   ]
  },
  {
   "cell_type": "code",
   "execution_count": null,
   "metadata": {},
   "outputs": [],
   "source": []
  },
  {
   "cell_type": "code",
   "execution_count": 38,
   "metadata": {},
   "outputs": [
    {
     "data": {
      "text/plain": [
       "{'k1': 1, 'k2': 'aa', 'k3': [1, 2, 3]}"
      ]
     },
     "execution_count": 38,
     "metadata": {},
     "output_type": "execute_result"
    }
   ],
   "source": [
    "dic = {\"k1\": 1, \"k2\":\"aa\", \"k3\":[1,2,3]}\n",
    "dic"
   ]
  },
  {
   "cell_type": "code",
   "execution_count": 39,
   "metadata": {},
   "outputs": [
    {
     "data": {
      "text/plain": [
       "[1, 2, 3]"
      ]
     },
     "execution_count": 39,
     "metadata": {},
     "output_type": "execute_result"
    }
   ],
   "source": [
    "dic[\"k3\"]"
   ]
  },
  {
   "cell_type": "code",
   "execution_count": 40,
   "metadata": {},
   "outputs": [
    {
     "data": {
      "text/plain": [
       "2"
      ]
     },
     "execution_count": 40,
     "metadata": {},
     "output_type": "execute_result"
    }
   ],
   "source": [
    "dic[\"k3\"][1]"
   ]
  },
  {
   "cell_type": "code",
   "execution_count": 41,
   "metadata": {},
   "outputs": [
    {
     "data": {
      "text/plain": [
       "array([[0., 0., 0., 0.],\n",
       "       [0., 0., 0., 0.],\n",
       "       [0., 0., 0., 0.],\n",
       "       [0., 0., 0., 0.],\n",
       "       [0., 0., 0., 0.]])"
      ]
     },
     "execution_count": 41,
     "metadata": {},
     "output_type": "execute_result"
    }
   ],
   "source": [
    "import numpy as np\n",
    "np.zeros([5,4])"
   ]
  },
  {
   "cell_type": "code",
   "execution_count": 42,
   "metadata": {},
   "outputs": [
    {
     "data": {
      "text/plain": [
       "array([0, 0, 0, 0])"
      ]
     },
     "execution_count": 42,
     "metadata": {},
     "output_type": "execute_result"
    }
   ],
   "source": [
    "np.zeros_like([2, 4, 5, 6])"
   ]
  },
  {
   "cell_type": "code",
   "execution_count": 43,
   "metadata": {},
   "outputs": [
    {
     "data": {
      "text/plain": [
       "1"
      ]
     },
     "execution_count": 43,
     "metadata": {},
     "output_type": "execute_result"
    }
   ],
   "source": [
    "data = np.array([2, 4, 7, 9.1])\n",
    "data.ndim"
   ]
  },
  {
   "cell_type": "code",
   "execution_count": 44,
   "metadata": {},
   "outputs": [
    {
     "data": {
      "text/plain": [
       "(4,)"
      ]
     },
     "execution_count": 44,
     "metadata": {},
     "output_type": "execute_result"
    }
   ],
   "source": [
    "data.shape"
   ]
  },
  {
   "cell_type": "code",
   "execution_count": 45,
   "metadata": {},
   "outputs": [
    {
     "data": {
      "text/plain": [
       "dtype('float64')"
      ]
     },
     "execution_count": 45,
     "metadata": {},
     "output_type": "execute_result"
    }
   ],
   "source": [
    "data.dtype"
   ]
  },
  {
   "cell_type": "code",
   "execution_count": null,
   "metadata": {},
   "outputs": [],
   "source": []
  },
  {
   "cell_type": "code",
   "execution_count": 46,
   "metadata": {},
   "outputs": [],
   "source": [
    "a = np.random.randn(100, 100)"
   ]
  },
  {
   "cell_type": "code",
   "execution_count": 47,
   "metadata": {},
   "outputs": [
    {
     "name": "stdout",
     "output_type": "stream",
     "text": [
      "21.5 µs ± 1.64 µs per loop (mean ± std. dev. of 7 runs, 10000 loops each)\n"
     ]
    }
   ],
   "source": [
    "%timeit np.dot(a,a)"
   ]
  },
  {
   "cell_type": "code",
   "execution_count": 48,
   "metadata": {},
   "outputs": [],
   "source": [
    "%debug?"
   ]
  },
  {
   "cell_type": "code",
   "execution_count": 49,
   "metadata": {},
   "outputs": [
    {
     "data": {
      "text/plain": [
       "'C:\\\\Users\\\\SDS\\\\Documents'"
      ]
     },
     "execution_count": 49,
     "metadata": {},
     "output_type": "execute_result"
    }
   ],
   "source": [
    "%pwd"
   ]
  },
  {
   "cell_type": "code",
   "execution_count": 50,
   "metadata": {},
   "outputs": [],
   "source": [
    "%magic"
   ]
  },
  {
   "cell_type": "code",
   "execution_count": 51,
   "metadata": {},
   "outputs": [
    {
     "name": "stdout",
     "output_type": "stream",
     "text": [
      "1+1\n",
      "2**3\n",
      "[2,3,4]\n",
      "sum([2,3,4])\n",
      "import pandas as pd\n",
      "bike = pd.read_csv(\"bike_rental.csv\")\n",
      "\"a\" + \"b\" + \"c\"\n",
      "\"aa\" * 3\n",
      "print('hello!?')\n",
      "print('It's great!')\n",
      "# print('It's great!')\n",
      "\"column_\" + str(1)\n",
      "print(\"\\a\")\n",
      "tx = \"Hello!\"\n",
      "print(tx[0])\n",
      "print(tx[3])\n",
      "print(tx[0:4])\n",
      "\n",
      "print(tx[-1])\n",
      "print(tx[-3])\n",
      "print(tx[2:])\n",
      "print(tx[:2])\n",
      "aa = [1, 2, 3]\n",
      "bb = [4, 5, 6]\n",
      "print(aa + bb)\n",
      "print(aa * 2)\n",
      "aa = [1,2,3]\n",
      "print(aa[0])\n",
      "print(aa[1:3])\n",
      "print(aa[1:])\n",
      "print(aa[:2])\n",
      "bb = [1,2, [\"a\", \"b\", \"c\"]]\n",
      "print(bb[0])\n",
      "print(bb[2][1:3])\n",
      "aa = [1,2,3]\n",
      "aa[0] = 55\n",
      "print(aa)\n",
      "bb = [2, 3, 4]\n",
      "bb[2] = [99, 99]\n",
      "print(bb)\n",
      "cc = [3,4,5]\n",
      "cc[1:2] = [99, 99]\n",
      "print(cc)\n",
      "dd = [4, 5, 6]\n",
      "dd[2:2] = [99, 99]\n",
      "print(dd)\n",
      "kk = [1,2,3]\n",
      "del kk[0]\n",
      "print(kk)\n",
      "kk = [1,2,3]\n",
      "del kk[0:2]\n",
      "print(kk)\n",
      "gg = [1, 2, 3]\n",
      "gg.extend([\"a\", \"b\"])\n",
      "print(gg)\n",
      "gg = [1, 2, 3]\n",
      "gg.append([\"a\", \"b\"])\n",
      "print(gg)\n",
      "bb = [2, 3, 4]\n",
      "bb + [99, 99]\n",
      "ww = [2, 5, 3]\n",
      "ww.sort()\n",
      "print(ww)\n",
      "ww.sort(reverse=True)\n",
      "print(ww)\n",
      "pp = [1,2,3]\n",
      "pp.reverse()\n",
      "print(pp)\n",
      "True + True\n",
      "sum([True, True, False])\n",
      "mm = [1, 2, 3, 2]\n",
      "#mm.index(1)\n",
      "#mm.index(2)\n",
      "mm.index(2)\n",
      "ss = [1, 2, 3]\n",
      "ss.insert(2, 99)\n",
      "print(ss)\n",
      "ss = [1, 2, 3]\n",
      "ss.insert(5, 99)\n",
      "print(ss)\n",
      "tt = [1, 2, 3, 2]\n",
      "tt.remove(2)\n",
      "print(tt)\n",
      "tt = [1, 2, 3, 2]\n",
      "tt.count(2)\n",
      "print((1, 2, 3))\n",
      "print((1, 2, (5, 6, 7)))\n",
      "aa = (1, 2, [5,6,7])\n",
      "aa[2][2] = 2\n",
      "print(aa)\n",
      "dic = {\"k1\": 1, \"k2\":\"aa\", \"k3\":[1,2,3]}\n",
      "dic\n",
      "dic[\"k3\"]\n",
      "dic[\"k3\"][1]\n",
      "import numpy as np\n",
      "np.zeros([5,4])\n",
      "np.zeros_like([2, 4, 5, 6])\n",
      "data = np.array([2, 4, 7, 9.1])\n",
      "data.ndim\n",
      "data.shape\n",
      "data.dtype\n",
      "a = np.random.randn(100, 100)\n",
      "%timeit np.dot(a,a)\n",
      "%debug?\n",
      "%pwd\n",
      "%magic\n",
      "%hist\n"
     ]
    }
   ],
   "source": [
    "%hist"
   ]
  },
  {
   "cell_type": "code",
   "execution_count": 52,
   "metadata": {},
   "outputs": [
    {
     "name": "stdout",
     "output_type": "stream",
     "text": [
      "Using matplotlib backend: Qt5Agg\n"
     ]
    }
   ],
   "source": [
    "%matplotlib"
   ]
  },
  {
   "cell_type": "code",
   "execution_count": 53,
   "metadata": {},
   "outputs": [],
   "source": [
    "%matplotlib inline"
   ]
  },
  {
   "cell_type": "code",
   "execution_count": null,
   "metadata": {},
   "outputs": [],
   "source": []
  },
  {
   "cell_type": "code",
   "execution_count": 54,
   "metadata": {},
   "outputs": [
    {
     "data": {
      "text/plain": [
       "array([[1, 2, 3],\n",
       "       [4, 5, 6]])"
      ]
     },
     "execution_count": 54,
     "metadata": {},
     "output_type": "execute_result"
    }
   ],
   "source": [
    "arr = np.array([[1,2,3], [4,5,6]])\n",
    "arr"
   ]
  },
  {
   "cell_type": "code",
   "execution_count": 55,
   "metadata": {},
   "outputs": [
    {
     "data": {
      "text/plain": [
       "array([1, 2])"
      ]
     },
     "execution_count": 55,
     "metadata": {},
     "output_type": "execute_result"
    }
   ],
   "source": [
    "arr_sub = arr[0, 0:2]\n",
    "arr_sub\n"
   ]
  },
  {
   "cell_type": "code",
   "execution_count": 56,
   "metadata": {},
   "outputs": [],
   "source": [
    "arr[0, 0:2] = [99, 88]"
   ]
  },
  {
   "cell_type": "code",
   "execution_count": 57,
   "metadata": {},
   "outputs": [
    {
     "data": {
      "text/plain": [
       "array([99, 88])"
      ]
     },
     "execution_count": 57,
     "metadata": {},
     "output_type": "execute_result"
    }
   ],
   "source": [
    "arr_sub"
   ]
  },
  {
   "cell_type": "code",
   "execution_count": 58,
   "metadata": {},
   "outputs": [
    {
     "data": {
      "text/plain": [
       "array([[1, 2, 3],\n",
       "       [4, 5, 6]])"
      ]
     },
     "execution_count": 58,
     "metadata": {},
     "output_type": "execute_result"
    }
   ],
   "source": [
    "arr = np.array([[1,2,3], [4,5,6]])\n",
    "arr"
   ]
  },
  {
   "cell_type": "code",
   "execution_count": 59,
   "metadata": {},
   "outputs": [
    {
     "data": {
      "text/plain": [
       "array([1, 2])"
      ]
     },
     "execution_count": 59,
     "metadata": {},
     "output_type": "execute_result"
    }
   ],
   "source": [
    "arr_sub = arr[0, 0:2].copy()\n",
    "arr_sub"
   ]
  },
  {
   "cell_type": "code",
   "execution_count": 60,
   "metadata": {},
   "outputs": [
    {
     "data": {
      "text/plain": [
       "array([[99, 88,  3],\n",
       "       [ 4,  5,  6]])"
      ]
     },
     "execution_count": 60,
     "metadata": {},
     "output_type": "execute_result"
    }
   ],
   "source": [
    "arr[0, 0:2] = [99, 88]\n",
    "arr"
   ]
  },
  {
   "cell_type": "code",
   "execution_count": 61,
   "metadata": {},
   "outputs": [
    {
     "data": {
      "text/plain": [
       "array([1, 2])"
      ]
     },
     "execution_count": 61,
     "metadata": {},
     "output_type": "execute_result"
    }
   ],
   "source": [
    "arr_sub"
   ]
  },
  {
   "cell_type": "markdown",
   "metadata": {},
   "source": [
    "## pandas series"
   ]
  },
  {
   "cell_type": "code",
   "execution_count": 62,
   "metadata": {},
   "outputs": [
    {
     "data": {
      "text/plain": [
       "a    2\n",
       "b    4\n",
       "c    7\n",
       "d    8\n",
       "dtype: int64"
      ]
     },
     "execution_count": 62,
     "metadata": {},
     "output_type": "execute_result"
    }
   ],
   "source": [
    "import pandas as pd\n",
    "ser2 = pd.Series([2,4,7,8], index=[\"a\",\"b\", \"c\", \"d\"])\n",
    "ser2"
   ]
  },
  {
   "cell_type": "code",
   "execution_count": 63,
   "metadata": {},
   "outputs": [
    {
     "data": {
      "text/plain": [
       "a    4\n",
       "b    4\n",
       "c    7\n",
       "d    8\n",
       "dtype: int64"
      ]
     },
     "execution_count": 63,
     "metadata": {},
     "output_type": "execute_result"
    }
   ],
   "source": [
    "ser2[\"a\"] = 4\n",
    "ser2"
   ]
  },
  {
   "cell_type": "code",
   "execution_count": 64,
   "metadata": {},
   "outputs": [
    {
     "data": {
      "text/plain": [
       "4"
      ]
     },
     "execution_count": 64,
     "metadata": {},
     "output_type": "execute_result"
    }
   ],
   "source": [
    "ser2[\"a\"]"
   ]
  },
  {
   "cell_type": "code",
   "execution_count": 65,
   "metadata": {},
   "outputs": [
    {
     "data": {
      "text/plain": [
       "c    7\n",
       "d    8\n",
       "dtype: int64"
      ]
     },
     "execution_count": 65,
     "metadata": {},
     "output_type": "execute_result"
    }
   ],
   "source": [
    "ser2[2:]"
   ]
  },
  {
   "cell_type": "code",
   "execution_count": 66,
   "metadata": {},
   "outputs": [],
   "source": [
    "ser2[\"a\"] = \"asdf\""
   ]
  },
  {
   "cell_type": "code",
   "execution_count": 67,
   "metadata": {},
   "outputs": [
    {
     "data": {
      "text/plain": [
       "a    asdf\n",
       "b       4\n",
       "c       7\n",
       "d       8\n",
       "dtype: object"
      ]
     },
     "execution_count": 67,
     "metadata": {},
     "output_type": "execute_result"
    }
   ],
   "source": [
    "ser2"
   ]
  },
  {
   "cell_type": "code",
   "execution_count": 68,
   "metadata": {},
   "outputs": [
    {
     "data": {
      "text/html": [
       "<div>\n",
       "<style scoped>\n",
       "    .dataframe tbody tr th:only-of-type {\n",
       "        vertical-align: middle;\n",
       "    }\n",
       "\n",
       "    .dataframe tbody tr th {\n",
       "        vertical-align: top;\n",
       "    }\n",
       "\n",
       "    .dataframe thead th {\n",
       "        text-align: right;\n",
       "    }\n",
       "</style>\n",
       "<table border=\"1\" class=\"dataframe\">\n",
       "  <thead>\n",
       "    <tr style=\"text-align: right;\">\n",
       "      <th></th>\n",
       "      <th>aa</th>\n",
       "      <th>bb</th>\n",
       "    </tr>\n",
       "  </thead>\n",
       "  <tbody>\n",
       "    <tr>\n",
       "      <th>0</th>\n",
       "      <td>1</td>\n",
       "      <td>a</td>\n",
       "    </tr>\n",
       "    <tr>\n",
       "      <th>1</th>\n",
       "      <td>2</td>\n",
       "      <td>b</td>\n",
       "    </tr>\n",
       "    <tr>\n",
       "      <th>2</th>\n",
       "      <td>3</td>\n",
       "      <td>c</td>\n",
       "    </tr>\n",
       "  </tbody>\n",
       "</table>\n",
       "</div>"
      ],
      "text/plain": [
       "   aa bb\n",
       "0   1  a\n",
       "1   2  b\n",
       "2   3  c"
      ]
     },
     "execution_count": 68,
     "metadata": {},
     "output_type": "execute_result"
    }
   ],
   "source": [
    "values = {\"aa\" : [1,2,3],\n",
    "         \"bb\" : [\"a\", \"b\", \"c\"]}\n",
    "df = pd.DataFrame(values)\n",
    "df"
   ]
  },
  {
   "cell_type": "code",
   "execution_count": 69,
   "metadata": {},
   "outputs": [
    {
     "data": {
      "text/html": [
       "<div>\n",
       "<style scoped>\n",
       "    .dataframe tbody tr th:only-of-type {\n",
       "        vertical-align: middle;\n",
       "    }\n",
       "\n",
       "    .dataframe tbody tr th {\n",
       "        vertical-align: top;\n",
       "    }\n",
       "\n",
       "    .dataframe thead th {\n",
       "        text-align: right;\n",
       "    }\n",
       "</style>\n",
       "<table border=\"1\" class=\"dataframe\">\n",
       "  <thead>\n",
       "    <tr style=\"text-align: right;\">\n",
       "      <th></th>\n",
       "      <th>aa</th>\n",
       "      <th>bb</th>\n",
       "    </tr>\n",
       "  </thead>\n",
       "  <tbody>\n",
       "    <tr>\n",
       "      <th>a</th>\n",
       "      <td>0</td>\n",
       "      <td>1</td>\n",
       "    </tr>\n",
       "    <tr>\n",
       "      <th>b</th>\n",
       "      <td>2</td>\n",
       "      <td>3</td>\n",
       "    </tr>\n",
       "    <tr>\n",
       "      <th>c</th>\n",
       "      <td>4</td>\n",
       "      <td>5</td>\n",
       "    </tr>\n",
       "  </tbody>\n",
       "</table>\n",
       "</div>"
      ],
      "text/plain": [
       "   aa  bb\n",
       "a   0   1\n",
       "b   2   3\n",
       "c   4   5"
      ]
     },
     "execution_count": 69,
     "metadata": {},
     "output_type": "execute_result"
    }
   ],
   "source": [
    "df = pd.DataFrame(np.arange(6).reshape(3, 2), index=[\"a\", \"b\", \"c\"], columns=[\"aa\", \"bb\"])\n",
    "df"
   ]
  },
  {
   "cell_type": "code",
   "execution_count": 70,
   "metadata": {},
   "outputs": [
    {
     "data": {
      "text/plain": [
       "a    0\n",
       "b    2\n",
       "c    4\n",
       "Name: aa, dtype: int32"
      ]
     },
     "execution_count": 70,
     "metadata": {},
     "output_type": "execute_result"
    }
   ],
   "source": [
    "df[\"aa\"]"
   ]
  },
  {
   "cell_type": "code",
   "execution_count": 71,
   "metadata": {},
   "outputs": [
    {
     "data": {
      "text/plain": [
       "2"
      ]
     },
     "execution_count": 71,
     "metadata": {},
     "output_type": "execute_result"
    }
   ],
   "source": [
    "df[\"aa\"][1]"
   ]
  },
  {
   "cell_type": "code",
   "execution_count": 72,
   "metadata": {},
   "outputs": [
    {
     "data": {
      "text/plain": [
       "a    0\n",
       "b    2\n",
       "Name: aa, dtype: int32"
      ]
     },
     "execution_count": 72,
     "metadata": {},
     "output_type": "execute_result"
    }
   ],
   "source": [
    "df[\"aa\"][:2]"
   ]
  },
  {
   "cell_type": "code",
   "execution_count": 73,
   "metadata": {},
   "outputs": [
    {
     "data": {
      "text/plain": [
       "Index(['aa', 'bb'], dtype='object')"
      ]
     },
     "execution_count": 73,
     "metadata": {},
     "output_type": "execute_result"
    }
   ],
   "source": [
    "df.columns"
   ]
  },
  {
   "cell_type": "code",
   "execution_count": 74,
   "metadata": {},
   "outputs": [
    {
     "data": {
      "text/plain": [
       "'bb'"
      ]
     },
     "execution_count": 74,
     "metadata": {},
     "output_type": "execute_result"
    }
   ],
   "source": [
    "df.columns[1]"
   ]
  },
  {
   "cell_type": "code",
   "execution_count": 75,
   "metadata": {},
   "outputs": [
    {
     "data": {
      "text/plain": [
       "Index(['xx', 'yy'], dtype='object')"
      ]
     },
     "execution_count": 75,
     "metadata": {},
     "output_type": "execute_result"
    }
   ],
   "source": [
    "df.columns = [\"xx\", \"yy\"]\n",
    "df.columns"
   ]
  },
  {
   "cell_type": "code",
   "execution_count": 76,
   "metadata": {},
   "outputs": [
    {
     "data": {
      "text/html": [
       "<div>\n",
       "<style scoped>\n",
       "    .dataframe tbody tr th:only-of-type {\n",
       "        vertical-align: middle;\n",
       "    }\n",
       "\n",
       "    .dataframe tbody tr th {\n",
       "        vertical-align: top;\n",
       "    }\n",
       "\n",
       "    .dataframe thead th {\n",
       "        text-align: right;\n",
       "    }\n",
       "</style>\n",
       "<table border=\"1\" class=\"dataframe\">\n",
       "  <thead>\n",
       "    <tr style=\"text-align: right;\">\n",
       "      <th></th>\n",
       "      <th>xx</th>\n",
       "      <th>abs</th>\n",
       "    </tr>\n",
       "  </thead>\n",
       "  <tbody>\n",
       "    <tr>\n",
       "      <th>a</th>\n",
       "      <td>0</td>\n",
       "      <td>1</td>\n",
       "    </tr>\n",
       "    <tr>\n",
       "      <th>b</th>\n",
       "      <td>2</td>\n",
       "      <td>3</td>\n",
       "    </tr>\n",
       "    <tr>\n",
       "      <th>c</th>\n",
       "      <td>4</td>\n",
       "      <td>5</td>\n",
       "    </tr>\n",
       "  </tbody>\n",
       "</table>\n",
       "</div>"
      ],
      "text/plain": [
       "   xx  abs\n",
       "a   0    1\n",
       "b   2    3\n",
       "c   4    5"
      ]
     },
     "execution_count": 76,
     "metadata": {},
     "output_type": "execute_result"
    }
   ],
   "source": [
    "df = df.rename(columns={\"yy\": \"abs\"})\n",
    "df"
   ]
  },
  {
   "cell_type": "code",
   "execution_count": 77,
   "metadata": {},
   "outputs": [],
   "source": [
    "df.rename(columns={\"yy\":\"abs\"}, inplace=True)"
   ]
  },
  {
   "cell_type": "code",
   "execution_count": 78,
   "metadata": {},
   "outputs": [
    {
     "data": {
      "text/html": [
       "<div>\n",
       "<style scoped>\n",
       "    .dataframe tbody tr th:only-of-type {\n",
       "        vertical-align: middle;\n",
       "    }\n",
       "\n",
       "    .dataframe tbody tr th {\n",
       "        vertical-align: top;\n",
       "    }\n",
       "\n",
       "    .dataframe thead th {\n",
       "        text-align: right;\n",
       "    }\n",
       "</style>\n",
       "<table border=\"1\" class=\"dataframe\">\n",
       "  <thead>\n",
       "    <tr style=\"text-align: right;\">\n",
       "      <th></th>\n",
       "      <th>xx</th>\n",
       "      <th>abs</th>\n",
       "    </tr>\n",
       "  </thead>\n",
       "  <tbody>\n",
       "    <tr>\n",
       "      <th>a</th>\n",
       "      <td>0</td>\n",
       "      <td>1</td>\n",
       "    </tr>\n",
       "    <tr>\n",
       "      <th>b</th>\n",
       "      <td>2</td>\n",
       "      <td>3</td>\n",
       "    </tr>\n",
       "    <tr>\n",
       "      <th>c</th>\n",
       "      <td>4</td>\n",
       "      <td>5</td>\n",
       "    </tr>\n",
       "  </tbody>\n",
       "</table>\n",
       "</div>"
      ],
      "text/plain": [
       "   xx  abs\n",
       "a   0    1\n",
       "b   2    3\n",
       "c   4    5"
      ]
     },
     "execution_count": 78,
     "metadata": {},
     "output_type": "execute_result"
    }
   ],
   "source": [
    "df"
   ]
  },
  {
   "cell_type": "markdown",
   "metadata": {},
   "source": [
    "## read csv"
   ]
  },
  {
   "cell_type": "code",
   "execution_count": 79,
   "metadata": {},
   "outputs": [],
   "source": [
    "df = pd.read_csv(\"AWS_sample.txt\", sep= \"#\")"
   ]
  },
  {
   "cell_type": "code",
   "execution_count": 80,
   "metadata": {},
   "outputs": [
    {
     "data": {
      "text/html": [
       "<div>\n",
       "<style scoped>\n",
       "    .dataframe tbody tr th:only-of-type {\n",
       "        vertical-align: middle;\n",
       "    }\n",
       "\n",
       "    .dataframe tbody tr th {\n",
       "        vertical-align: top;\n",
       "    }\n",
       "\n",
       "    .dataframe thead th {\n",
       "        text-align: right;\n",
       "    }\n",
       "</style>\n",
       "<table border=\"1\" class=\"dataframe\">\n",
       "  <thead>\n",
       "    <tr style=\"text-align: right;\">\n",
       "      <th></th>\n",
       "      <th>AWS_ID</th>\n",
       "      <th>TM</th>\n",
       "      <th>TA</th>\n",
       "      <th>Wind</th>\n",
       "      <th>X.</th>\n",
       "    </tr>\n",
       "  </thead>\n",
       "  <tbody>\n",
       "    <tr>\n",
       "      <th>0</th>\n",
       "      <td>108</td>\n",
       "      <td>2016-07-01 00</td>\n",
       "      <td>24.2</td>\n",
       "      <td>2.3</td>\n",
       "      <td>=</td>\n",
       "    </tr>\n",
       "    <tr>\n",
       "      <th>1</th>\n",
       "      <td>108</td>\n",
       "      <td>2016-07-01 01</td>\n",
       "      <td>24.3</td>\n",
       "      <td>2.3</td>\n",
       "      <td>=</td>\n",
       "    </tr>\n",
       "    <tr>\n",
       "      <th>2</th>\n",
       "      <td>108</td>\n",
       "      <td>2016-07-01 02</td>\n",
       "      <td>23.7</td>\n",
       "      <td>3.8</td>\n",
       "      <td>=</td>\n",
       "    </tr>\n",
       "    <tr>\n",
       "      <th>3</th>\n",
       "      <td>108</td>\n",
       "      <td>2016-07-01 03</td>\n",
       "      <td>23.3</td>\n",
       "      <td>3.0</td>\n",
       "      <td>=</td>\n",
       "    </tr>\n",
       "    <tr>\n",
       "      <th>4</th>\n",
       "      <td>108</td>\n",
       "      <td>2016-07-01 04</td>\n",
       "      <td>23.5</td>\n",
       "      <td>2.1</td>\n",
       "      <td>=</td>\n",
       "    </tr>\n",
       "  </tbody>\n",
       "</table>\n",
       "</div>"
      ],
      "text/plain": [
       "   AWS_ID             TM    TA  Wind X.\n",
       "0     108  2016-07-01 00  24.2   2.3  =\n",
       "1     108  2016-07-01 01  24.3   2.3  =\n",
       "2     108  2016-07-01 02  23.7   3.8  =\n",
       "3     108  2016-07-01 03  23.3   3.0  =\n",
       "4     108  2016-07-01 04  23.5   2.1  ="
      ]
     },
     "execution_count": 80,
     "metadata": {},
     "output_type": "execute_result"
    }
   ],
   "source": [
    "df.head()"
   ]
  },
  {
   "cell_type": "code",
   "execution_count": 81,
   "metadata": {},
   "outputs": [
    {
     "data": {
      "text/html": [
       "<div>\n",
       "<style scoped>\n",
       "    .dataframe tbody tr th:only-of-type {\n",
       "        vertical-align: middle;\n",
       "    }\n",
       "\n",
       "    .dataframe tbody tr th {\n",
       "        vertical-align: top;\n",
       "    }\n",
       "\n",
       "    .dataframe thead th {\n",
       "        text-align: right;\n",
       "    }\n",
       "</style>\n",
       "<table border=\"1\" class=\"dataframe\">\n",
       "  <thead>\n",
       "    <tr style=\"text-align: right;\">\n",
       "      <th></th>\n",
       "      <th>AWS_ID</th>\n",
       "      <th>TM</th>\n",
       "      <th>TA</th>\n",
       "      <th>Wind</th>\n",
       "      <th>X.</th>\n",
       "    </tr>\n",
       "  </thead>\n",
       "  <tbody>\n",
       "    <tr>\n",
       "      <th>0</th>\n",
       "      <td>108</td>\n",
       "      <td>2016-07-01 00</td>\n",
       "      <td>24.2</td>\n",
       "      <td>2.3</td>\n",
       "      <td>=</td>\n",
       "    </tr>\n",
       "    <tr>\n",
       "      <th>1</th>\n",
       "      <td>108</td>\n",
       "      <td>2016-07-01 01</td>\n",
       "      <td>24.3</td>\n",
       "      <td>2.3</td>\n",
       "      <td>=</td>\n",
       "    </tr>\n",
       "    <tr>\n",
       "      <th>2</th>\n",
       "      <td>108</td>\n",
       "      <td>2016-07-01 02</td>\n",
       "      <td>23.7</td>\n",
       "      <td>3.8</td>\n",
       "      <td>=</td>\n",
       "    </tr>\n",
       "  </tbody>\n",
       "</table>\n",
       "</div>"
      ],
      "text/plain": [
       "   AWS_ID             TM    TA  Wind X.\n",
       "0     108  2016-07-01 00  24.2   2.3  =\n",
       "1     108  2016-07-01 01  24.3   2.3  =\n",
       "2     108  2016-07-01 02  23.7   3.8  ="
      ]
     },
     "execution_count": 81,
     "metadata": {},
     "output_type": "execute_result"
    }
   ],
   "source": [
    "df.iloc[:3]"
   ]
  },
  {
   "cell_type": "code",
   "execution_count": null,
   "metadata": {},
   "outputs": [],
   "source": []
  },
  {
   "cell_type": "code",
   "execution_count": 82,
   "metadata": {},
   "outputs": [
    {
     "data": {
      "text/html": [
       "<div>\n",
       "<style scoped>\n",
       "    .dataframe tbody tr th:only-of-type {\n",
       "        vertical-align: middle;\n",
       "    }\n",
       "\n",
       "    .dataframe tbody tr th {\n",
       "        vertical-align: top;\n",
       "    }\n",
       "\n",
       "    .dataframe thead th {\n",
       "        text-align: right;\n",
       "    }\n",
       "</style>\n",
       "<table border=\"1\" class=\"dataframe\">\n",
       "  <thead>\n",
       "    <tr style=\"text-align: right;\">\n",
       "      <th></th>\n",
       "      <th>date_time</th>\n",
       "      <th>site_name</th>\n",
       "      <th>posa_continent</th>\n",
       "      <th>user_location_country</th>\n",
       "      <th>user_location_region</th>\n",
       "      <th>user_location_city</th>\n",
       "      <th>orig_destination_distance</th>\n",
       "      <th>user_id</th>\n",
       "      <th>is_mobile</th>\n",
       "      <th>is_package</th>\n",
       "      <th>...</th>\n",
       "      <th>srch_ci</th>\n",
       "      <th>srch_co</th>\n",
       "      <th>srch_adults_cnt</th>\n",
       "      <th>srch_children_cnt</th>\n",
       "      <th>srch_rm_cnt</th>\n",
       "      <th>srch_destination_id</th>\n",
       "      <th>srch_destination_type_id</th>\n",
       "      <th>is_booking</th>\n",
       "      <th>cnt</th>\n",
       "      <th>hotel_country</th>\n",
       "    </tr>\n",
       "  </thead>\n",
       "  <tbody>\n",
       "    <tr>\n",
       "      <th>0</th>\n",
       "      <td>2014-07-07</td>\n",
       "      <td>11</td>\n",
       "      <td>3</td>\n",
       "      <td>205</td>\n",
       "      <td>354</td>\n",
       "      <td>25315</td>\n",
       "      <td>383.3362</td>\n",
       "      <td>163906</td>\n",
       "      <td>0</td>\n",
       "      <td>0</td>\n",
       "      <td>...</td>\n",
       "      <td>2014-08-04</td>\n",
       "      <td>2014-08-08</td>\n",
       "      <td>4</td>\n",
       "      <td>0</td>\n",
       "      <td>2</td>\n",
       "      <td>11569</td>\n",
       "      <td>1</td>\n",
       "      <td>0</td>\n",
       "      <td>1</td>\n",
       "      <td>50</td>\n",
       "    </tr>\n",
       "    <tr>\n",
       "      <th>1</th>\n",
       "      <td>2014-09-20</td>\n",
       "      <td>2</td>\n",
       "      <td>3</td>\n",
       "      <td>66</td>\n",
       "      <td>153</td>\n",
       "      <td>20706</td>\n",
       "      <td>2297.5172</td>\n",
       "      <td>201303</td>\n",
       "      <td>1</td>\n",
       "      <td>0</td>\n",
       "      <td>...</td>\n",
       "      <td>2015-01-01</td>\n",
       "      <td>2015-01-03</td>\n",
       "      <td>2</td>\n",
       "      <td>0</td>\n",
       "      <td>1</td>\n",
       "      <td>19137</td>\n",
       "      <td>5</td>\n",
       "      <td>0</td>\n",
       "      <td>1</td>\n",
       "      <td>128</td>\n",
       "    </tr>\n",
       "    <tr>\n",
       "      <th>2</th>\n",
       "      <td>2014-10-23</td>\n",
       "      <td>2</td>\n",
       "      <td>3</td>\n",
       "      <td>66</td>\n",
       "      <td>442</td>\n",
       "      <td>35390</td>\n",
       "      <td>1139.8157</td>\n",
       "      <td>173990</td>\n",
       "      <td>0</td>\n",
       "      <td>1</td>\n",
       "      <td>...</td>\n",
       "      <td>2014-11-30</td>\n",
       "      <td>2014-12-07</td>\n",
       "      <td>2</td>\n",
       "      <td>1</td>\n",
       "      <td>1</td>\n",
       "      <td>11923</td>\n",
       "      <td>1</td>\n",
       "      <td>0</td>\n",
       "      <td>2</td>\n",
       "      <td>80</td>\n",
       "    </tr>\n",
       "    <tr>\n",
       "      <th>3</th>\n",
       "      <td>2013-11-07</td>\n",
       "      <td>37</td>\n",
       "      <td>1</td>\n",
       "      <td>69</td>\n",
       "      <td>923</td>\n",
       "      <td>54859</td>\n",
       "      <td>NaN</td>\n",
       "      <td>584851</td>\n",
       "      <td>0</td>\n",
       "      <td>1</td>\n",
       "      <td>...</td>\n",
       "      <td>2013-12-22</td>\n",
       "      <td>2013-12-27</td>\n",
       "      <td>3</td>\n",
       "      <td>0</td>\n",
       "      <td>2</td>\n",
       "      <td>18965</td>\n",
       "      <td>1</td>\n",
       "      <td>0</td>\n",
       "      <td>1</td>\n",
       "      <td>77</td>\n",
       "    </tr>\n",
       "    <tr>\n",
       "      <th>4</th>\n",
       "      <td>2013-02-24</td>\n",
       "      <td>2</td>\n",
       "      <td>3</td>\n",
       "      <td>66</td>\n",
       "      <td>311</td>\n",
       "      <td>5405</td>\n",
       "      <td>3279.1369</td>\n",
       "      <td>1154606</td>\n",
       "      <td>0</td>\n",
       "      <td>1</td>\n",
       "      <td>...</td>\n",
       "      <td>2013-03-01</td>\n",
       "      <td>2013-03-04</td>\n",
       "      <td>1</td>\n",
       "      <td>0</td>\n",
       "      <td>1</td>\n",
       "      <td>8253</td>\n",
       "      <td>1</td>\n",
       "      <td>0</td>\n",
       "      <td>1</td>\n",
       "      <td>70</td>\n",
       "    </tr>\n",
       "    <tr>\n",
       "      <th>5</th>\n",
       "      <td>2013-03-01</td>\n",
       "      <td>2</td>\n",
       "      <td>3</td>\n",
       "      <td>66</td>\n",
       "      <td>331</td>\n",
       "      <td>28112</td>\n",
       "      <td>1193.7376</td>\n",
       "      <td>214240</td>\n",
       "      <td>0</td>\n",
       "      <td>1</td>\n",
       "      <td>...</td>\n",
       "      <td>2013-06-25</td>\n",
       "      <td>2013-07-02</td>\n",
       "      <td>1</td>\n",
       "      <td>0</td>\n",
       "      <td>1</td>\n",
       "      <td>8864</td>\n",
       "      <td>1</td>\n",
       "      <td>0</td>\n",
       "      <td>3</td>\n",
       "      <td>47</td>\n",
       "    </tr>\n",
       "    <tr>\n",
       "      <th>6</th>\n",
       "      <td>2014-08-07</td>\n",
       "      <td>24</td>\n",
       "      <td>2</td>\n",
       "      <td>3</td>\n",
       "      <td>50</td>\n",
       "      <td>31800</td>\n",
       "      <td>NaN</td>\n",
       "      <td>976552</td>\n",
       "      <td>0</td>\n",
       "      <td>0</td>\n",
       "      <td>...</td>\n",
       "      <td>2014-12-20</td>\n",
       "      <td>2014-12-23</td>\n",
       "      <td>2</td>\n",
       "      <td>0</td>\n",
       "      <td>1</td>\n",
       "      <td>20833</td>\n",
       "      <td>1</td>\n",
       "      <td>0</td>\n",
       "      <td>1</td>\n",
       "      <td>182</td>\n",
       "    </tr>\n",
       "    <tr>\n",
       "      <th>7</th>\n",
       "      <td>2014-06-01</td>\n",
       "      <td>2</td>\n",
       "      <td>3</td>\n",
       "      <td>66</td>\n",
       "      <td>332</td>\n",
       "      <td>2113</td>\n",
       "      <td>298.2371</td>\n",
       "      <td>850829</td>\n",
       "      <td>0</td>\n",
       "      <td>0</td>\n",
       "      <td>...</td>\n",
       "      <td>2014-06-13</td>\n",
       "      <td>2014-06-14</td>\n",
       "      <td>5</td>\n",
       "      <td>7</td>\n",
       "      <td>4</td>\n",
       "      <td>27262</td>\n",
       "      <td>1</td>\n",
       "      <td>1</td>\n",
       "      <td>1</td>\n",
       "      <td>50</td>\n",
       "    </tr>\n",
       "    <tr>\n",
       "      <th>8</th>\n",
       "      <td>2014-04-14</td>\n",
       "      <td>2</td>\n",
       "      <td>3</td>\n",
       "      <td>215</td>\n",
       "      <td>780</td>\n",
       "      <td>20241</td>\n",
       "      <td>NaN</td>\n",
       "      <td>734314</td>\n",
       "      <td>0</td>\n",
       "      <td>1</td>\n",
       "      <td>...</td>\n",
       "      <td>2014-05-09</td>\n",
       "      <td>2014-05-11</td>\n",
       "      <td>2</td>\n",
       "      <td>1</td>\n",
       "      <td>1</td>\n",
       "      <td>8250</td>\n",
       "      <td>1</td>\n",
       "      <td>0</td>\n",
       "      <td>1</td>\n",
       "      <td>50</td>\n",
       "    </tr>\n",
       "    <tr>\n",
       "      <th>9</th>\n",
       "      <td>2014-08-16</td>\n",
       "      <td>2</td>\n",
       "      <td>3</td>\n",
       "      <td>12</td>\n",
       "      <td>790</td>\n",
       "      <td>53139</td>\n",
       "      <td>NaN</td>\n",
       "      <td>1014341</td>\n",
       "      <td>0</td>\n",
       "      <td>0</td>\n",
       "      <td>...</td>\n",
       "      <td>2014-10-31</td>\n",
       "      <td>2014-11-04</td>\n",
       "      <td>3</td>\n",
       "      <td>0</td>\n",
       "      <td>1</td>\n",
       "      <td>7635</td>\n",
       "      <td>3</td>\n",
       "      <td>0</td>\n",
       "      <td>1</td>\n",
       "      <td>50</td>\n",
       "    </tr>\n",
       "    <tr>\n",
       "      <th>10</th>\n",
       "      <td>2014-11-29</td>\n",
       "      <td>24</td>\n",
       "      <td>2</td>\n",
       "      <td>3</td>\n",
       "      <td>64</td>\n",
       "      <td>3169</td>\n",
       "      <td>NaN</td>\n",
       "      <td>259108</td>\n",
       "      <td>0</td>\n",
       "      <td>0</td>\n",
       "      <td>...</td>\n",
       "      <td>2015-02-08</td>\n",
       "      <td>2015-02-09</td>\n",
       "      <td>1</td>\n",
       "      <td>0</td>\n",
       "      <td>1</td>\n",
       "      <td>14026</td>\n",
       "      <td>6</td>\n",
       "      <td>1</td>\n",
       "      <td>1</td>\n",
       "      <td>168</td>\n",
       "    </tr>\n",
       "    <tr>\n",
       "      <th>11</th>\n",
       "      <td>2014-10-30</td>\n",
       "      <td>2</td>\n",
       "      <td>3</td>\n",
       "      <td>66</td>\n",
       "      <td>174</td>\n",
       "      <td>46432</td>\n",
       "      <td>444.6033</td>\n",
       "      <td>977292</td>\n",
       "      <td>1</td>\n",
       "      <td>0</td>\n",
       "      <td>...</td>\n",
       "      <td>2014-10-31</td>\n",
       "      <td>2014-11-01</td>\n",
       "      <td>2</td>\n",
       "      <td>0</td>\n",
       "      <td>1</td>\n",
       "      <td>24952</td>\n",
       "      <td>3</td>\n",
       "      <td>0</td>\n",
       "      <td>2</td>\n",
       "      <td>50</td>\n",
       "    </tr>\n",
       "    <tr>\n",
       "      <th>12</th>\n",
       "      <td>2014-12-20</td>\n",
       "      <td>24</td>\n",
       "      <td>2</td>\n",
       "      <td>3</td>\n",
       "      <td>52</td>\n",
       "      <td>28633</td>\n",
       "      <td>NaN</td>\n",
       "      <td>1018241</td>\n",
       "      <td>0</td>\n",
       "      <td>0</td>\n",
       "      <td>...</td>\n",
       "      <td>2015-03-13</td>\n",
       "      <td>2015-03-15</td>\n",
       "      <td>1</td>\n",
       "      <td>0</td>\n",
       "      <td>1</td>\n",
       "      <td>8746</td>\n",
       "      <td>1</td>\n",
       "      <td>0</td>\n",
       "      <td>1</td>\n",
       "      <td>105</td>\n",
       "    </tr>\n",
       "    <tr>\n",
       "      <th>13</th>\n",
       "      <td>2014-01-25</td>\n",
       "      <td>23</td>\n",
       "      <td>1</td>\n",
       "      <td>1</td>\n",
       "      <td>439</td>\n",
       "      <td>2299</td>\n",
       "      <td>752.5993</td>\n",
       "      <td>266798</td>\n",
       "      <td>0</td>\n",
       "      <td>1</td>\n",
       "      <td>...</td>\n",
       "      <td>2014-01-30</td>\n",
       "      <td>2014-02-02</td>\n",
       "      <td>2</td>\n",
       "      <td>0</td>\n",
       "      <td>1</td>\n",
       "      <td>8253</td>\n",
       "      <td>1</td>\n",
       "      <td>0</td>\n",
       "      <td>1</td>\n",
       "      <td>70</td>\n",
       "    </tr>\n",
       "    <tr>\n",
       "      <th>14</th>\n",
       "      <td>2014-12-19</td>\n",
       "      <td>2</td>\n",
       "      <td>3</td>\n",
       "      <td>66</td>\n",
       "      <td>174</td>\n",
       "      <td>24103</td>\n",
       "      <td>7236.7934</td>\n",
       "      <td>954754</td>\n",
       "      <td>0</td>\n",
       "      <td>0</td>\n",
       "      <td>...</td>\n",
       "      <td>2014-12-19</td>\n",
       "      <td>2014-12-20</td>\n",
       "      <td>2</td>\n",
       "      <td>0</td>\n",
       "      <td>1</td>\n",
       "      <td>268</td>\n",
       "      <td>1</td>\n",
       "      <td>0</td>\n",
       "      <td>1</td>\n",
       "      <td>99</td>\n",
       "    </tr>\n",
       "    <tr>\n",
       "      <th>15</th>\n",
       "      <td>2014-11-30</td>\n",
       "      <td>24</td>\n",
       "      <td>2</td>\n",
       "      <td>3</td>\n",
       "      <td>50</td>\n",
       "      <td>22013</td>\n",
       "      <td>NaN</td>\n",
       "      <td>343100</td>\n",
       "      <td>0</td>\n",
       "      <td>0</td>\n",
       "      <td>...</td>\n",
       "      <td>2015-02-08</td>\n",
       "      <td>2015-02-14</td>\n",
       "      <td>2</td>\n",
       "      <td>0</td>\n",
       "      <td>1</td>\n",
       "      <td>8808</td>\n",
       "      <td>1</td>\n",
       "      <td>0</td>\n",
       "      <td>3</td>\n",
       "      <td>169</td>\n",
       "    </tr>\n",
       "    <tr>\n",
       "      <th>16</th>\n",
       "      <td>2014-09-10</td>\n",
       "      <td>2</td>\n",
       "      <td>3</td>\n",
       "      <td>66</td>\n",
       "      <td>363</td>\n",
       "      <td>12346</td>\n",
       "      <td>83.2610</td>\n",
       "      <td>969885</td>\n",
       "      <td>0</td>\n",
       "      <td>0</td>\n",
       "      <td>...</td>\n",
       "      <td>2014-09-12</td>\n",
       "      <td>2014-09-13</td>\n",
       "      <td>1</td>\n",
       "      <td>0</td>\n",
       "      <td>1</td>\n",
       "      <td>8267</td>\n",
       "      <td>1</td>\n",
       "      <td>0</td>\n",
       "      <td>2</td>\n",
       "      <td>50</td>\n",
       "    </tr>\n",
       "    <tr>\n",
       "      <th>17</th>\n",
       "      <td>2013-10-31</td>\n",
       "      <td>2</td>\n",
       "      <td>3</td>\n",
       "      <td>59</td>\n",
       "      <td>364</td>\n",
       "      <td>36776</td>\n",
       "      <td>NaN</td>\n",
       "      <td>551161</td>\n",
       "      <td>0</td>\n",
       "      <td>0</td>\n",
       "      <td>...</td>\n",
       "      <td>2013-11-30</td>\n",
       "      <td>2013-12-05</td>\n",
       "      <td>2</td>\n",
       "      <td>2</td>\n",
       "      <td>1</td>\n",
       "      <td>8746</td>\n",
       "      <td>1</td>\n",
       "      <td>1</td>\n",
       "      <td>1</td>\n",
       "      <td>105</td>\n",
       "    </tr>\n",
       "    <tr>\n",
       "      <th>18</th>\n",
       "      <td>2014-08-02</td>\n",
       "      <td>11</td>\n",
       "      <td>3</td>\n",
       "      <td>66</td>\n",
       "      <td>174</td>\n",
       "      <td>54662</td>\n",
       "      <td>176.4438</td>\n",
       "      <td>777063</td>\n",
       "      <td>0</td>\n",
       "      <td>0</td>\n",
       "      <td>...</td>\n",
       "      <td>2014-08-10</td>\n",
       "      <td>2014-08-12</td>\n",
       "      <td>2</td>\n",
       "      <td>0</td>\n",
       "      <td>1</td>\n",
       "      <td>8250</td>\n",
       "      <td>1</td>\n",
       "      <td>0</td>\n",
       "      <td>2</td>\n",
       "      <td>50</td>\n",
       "    </tr>\n",
       "    <tr>\n",
       "      <th>19</th>\n",
       "      <td>2014-10-07</td>\n",
       "      <td>37</td>\n",
       "      <td>1</td>\n",
       "      <td>69</td>\n",
       "      <td>555</td>\n",
       "      <td>538</td>\n",
       "      <td>NaN</td>\n",
       "      <td>546481</td>\n",
       "      <td>0</td>\n",
       "      <td>1</td>\n",
       "      <td>...</td>\n",
       "      <td>2015-03-23</td>\n",
       "      <td>2015-03-29</td>\n",
       "      <td>2</td>\n",
       "      <td>2</td>\n",
       "      <td>1</td>\n",
       "      <td>243</td>\n",
       "      <td>1</td>\n",
       "      <td>0</td>\n",
       "      <td>3</td>\n",
       "      <td>206</td>\n",
       "    </tr>\n",
       "    <tr>\n",
       "      <th>20</th>\n",
       "      <td>2014-04-20</td>\n",
       "      <td>34</td>\n",
       "      <td>3</td>\n",
       "      <td>205</td>\n",
       "      <td>155</td>\n",
       "      <td>14703</td>\n",
       "      <td>112.3052</td>\n",
       "      <td>737637</td>\n",
       "      <td>0</td>\n",
       "      <td>0</td>\n",
       "      <td>...</td>\n",
       "      <td>2014-07-29</td>\n",
       "      <td>2014-07-30</td>\n",
       "      <td>2</td>\n",
       "      <td>1</td>\n",
       "      <td>1</td>\n",
       "      <td>39852</td>\n",
       "      <td>6</td>\n",
       "      <td>0</td>\n",
       "      <td>2</td>\n",
       "      <td>198</td>\n",
       "    </tr>\n",
       "    <tr>\n",
       "      <th>21</th>\n",
       "      <td>2014-11-16</td>\n",
       "      <td>8</td>\n",
       "      <td>4</td>\n",
       "      <td>77</td>\n",
       "      <td>824</td>\n",
       "      <td>15015</td>\n",
       "      <td>1949.8294</td>\n",
       "      <td>408428</td>\n",
       "      <td>1</td>\n",
       "      <td>1</td>\n",
       "      <td>...</td>\n",
       "      <td>2015-06-14</td>\n",
       "      <td>2015-06-21</td>\n",
       "      <td>2</td>\n",
       "      <td>0</td>\n",
       "      <td>1</td>\n",
       "      <td>14907</td>\n",
       "      <td>1</td>\n",
       "      <td>0</td>\n",
       "      <td>1</td>\n",
       "      <td>87</td>\n",
       "    </tr>\n",
       "    <tr>\n",
       "      <th>22</th>\n",
       "      <td>2014-07-15</td>\n",
       "      <td>2</td>\n",
       "      <td>3</td>\n",
       "      <td>66</td>\n",
       "      <td>442</td>\n",
       "      <td>46296</td>\n",
       "      <td>71.4266</td>\n",
       "      <td>1051352</td>\n",
       "      <td>1</td>\n",
       "      <td>0</td>\n",
       "      <td>...</td>\n",
       "      <td>2014-08-16</td>\n",
       "      <td>2014-08-17</td>\n",
       "      <td>2</td>\n",
       "      <td>0</td>\n",
       "      <td>1</td>\n",
       "      <td>8218</td>\n",
       "      <td>1</td>\n",
       "      <td>0</td>\n",
       "      <td>1</td>\n",
       "      <td>50</td>\n",
       "    </tr>\n",
       "    <tr>\n",
       "      <th>23</th>\n",
       "      <td>2014-11-12</td>\n",
       "      <td>37</td>\n",
       "      <td>1</td>\n",
       "      <td>69</td>\n",
       "      <td>626</td>\n",
       "      <td>38124</td>\n",
       "      <td>NaN</td>\n",
       "      <td>806802</td>\n",
       "      <td>0</td>\n",
       "      <td>0</td>\n",
       "      <td>...</td>\n",
       "      <td>2014-11-14</td>\n",
       "      <td>2014-11-16</td>\n",
       "      <td>2</td>\n",
       "      <td>1</td>\n",
       "      <td>1</td>\n",
       "      <td>8253</td>\n",
       "      <td>1</td>\n",
       "      <td>0</td>\n",
       "      <td>4</td>\n",
       "      <td>70</td>\n",
       "    </tr>\n",
       "    <tr>\n",
       "      <th>24</th>\n",
       "      <td>2014-11-05</td>\n",
       "      <td>2</td>\n",
       "      <td>3</td>\n",
       "      <td>66</td>\n",
       "      <td>311</td>\n",
       "      <td>23862</td>\n",
       "      <td>NaN</td>\n",
       "      <td>55175</td>\n",
       "      <td>0</td>\n",
       "      <td>0</td>\n",
       "      <td>...</td>\n",
       "      <td>2015-03-13</td>\n",
       "      <td>2015-03-14</td>\n",
       "      <td>1</td>\n",
       "      <td>0</td>\n",
       "      <td>1</td>\n",
       "      <td>12951</td>\n",
       "      <td>5</td>\n",
       "      <td>0</td>\n",
       "      <td>1</td>\n",
       "      <td>198</td>\n",
       "    </tr>\n",
       "    <tr>\n",
       "      <th>25</th>\n",
       "      <td>2014-08-27</td>\n",
       "      <td>24</td>\n",
       "      <td>2</td>\n",
       "      <td>66</td>\n",
       "      <td>337</td>\n",
       "      <td>6988</td>\n",
       "      <td>4001.1979</td>\n",
       "      <td>1153909</td>\n",
       "      <td>0</td>\n",
       "      <td>0</td>\n",
       "      <td>...</td>\n",
       "      <td>2014-09-11</td>\n",
       "      <td>2014-09-14</td>\n",
       "      <td>1</td>\n",
       "      <td>0</td>\n",
       "      <td>1</td>\n",
       "      <td>53357</td>\n",
       "      <td>6</td>\n",
       "      <td>0</td>\n",
       "      <td>1</td>\n",
       "      <td>204</td>\n",
       "    </tr>\n",
       "    <tr>\n",
       "      <th>26</th>\n",
       "      <td>2014-01-15</td>\n",
       "      <td>2</td>\n",
       "      <td>3</td>\n",
       "      <td>66</td>\n",
       "      <td>174</td>\n",
       "      <td>9890</td>\n",
       "      <td>1196.3253</td>\n",
       "      <td>508090</td>\n",
       "      <td>0</td>\n",
       "      <td>0</td>\n",
       "      <td>...</td>\n",
       "      <td>2014-03-01</td>\n",
       "      <td>2014-03-04</td>\n",
       "      <td>2</td>\n",
       "      <td>0</td>\n",
       "      <td>1</td>\n",
       "      <td>8218</td>\n",
       "      <td>1</td>\n",
       "      <td>0</td>\n",
       "      <td>1</td>\n",
       "      <td>50</td>\n",
       "    </tr>\n",
       "    <tr>\n",
       "      <th>27</th>\n",
       "      <td>2014-08-13</td>\n",
       "      <td>13</td>\n",
       "      <td>1</td>\n",
       "      <td>46</td>\n",
       "      <td>172</td>\n",
       "      <td>56153</td>\n",
       "      <td>931.9639</td>\n",
       "      <td>957120</td>\n",
       "      <td>0</td>\n",
       "      <td>0</td>\n",
       "      <td>...</td>\n",
       "      <td>2014-10-14</td>\n",
       "      <td>2014-10-16</td>\n",
       "      <td>2</td>\n",
       "      <td>0</td>\n",
       "      <td>1</td>\n",
       "      <td>8215</td>\n",
       "      <td>1</td>\n",
       "      <td>0</td>\n",
       "      <td>1</td>\n",
       "      <td>208</td>\n",
       "    </tr>\n",
       "    <tr>\n",
       "      <th>28</th>\n",
       "      <td>2014-09-26</td>\n",
       "      <td>2</td>\n",
       "      <td>3</td>\n",
       "      <td>66</td>\n",
       "      <td>337</td>\n",
       "      <td>26644</td>\n",
       "      <td>2458.1679</td>\n",
       "      <td>1032394</td>\n",
       "      <td>0</td>\n",
       "      <td>0</td>\n",
       "      <td>...</td>\n",
       "      <td>2014-10-02</td>\n",
       "      <td>2014-10-03</td>\n",
       "      <td>1</td>\n",
       "      <td>0</td>\n",
       "      <td>1</td>\n",
       "      <td>12603</td>\n",
       "      <td>5</td>\n",
       "      <td>0</td>\n",
       "      <td>1</td>\n",
       "      <td>50</td>\n",
       "    </tr>\n",
       "    <tr>\n",
       "      <th>29</th>\n",
       "      <td>2014-03-30</td>\n",
       "      <td>2</td>\n",
       "      <td>3</td>\n",
       "      <td>66</td>\n",
       "      <td>363</td>\n",
       "      <td>2495</td>\n",
       "      <td>2018.6907</td>\n",
       "      <td>627885</td>\n",
       "      <td>0</td>\n",
       "      <td>1</td>\n",
       "      <td>...</td>\n",
       "      <td>2014-07-19</td>\n",
       "      <td>2014-07-26</td>\n",
       "      <td>2</td>\n",
       "      <td>2</td>\n",
       "      <td>1</td>\n",
       "      <td>11334</td>\n",
       "      <td>1</td>\n",
       "      <td>0</td>\n",
       "      <td>1</td>\n",
       "      <td>96</td>\n",
       "    </tr>\n",
       "    <tr>\n",
       "      <th>...</th>\n",
       "      <td>...</td>\n",
       "      <td>...</td>\n",
       "      <td>...</td>\n",
       "      <td>...</td>\n",
       "      <td>...</td>\n",
       "      <td>...</td>\n",
       "      <td>...</td>\n",
       "      <td>...</td>\n",
       "      <td>...</td>\n",
       "      <td>...</td>\n",
       "      <td>...</td>\n",
       "      <td>...</td>\n",
       "      <td>...</td>\n",
       "      <td>...</td>\n",
       "      <td>...</td>\n",
       "      <td>...</td>\n",
       "      <td>...</td>\n",
       "      <td>...</td>\n",
       "      <td>...</td>\n",
       "      <td>...</td>\n",
       "      <td>...</td>\n",
       "    </tr>\n",
       "    <tr>\n",
       "      <th>999970</th>\n",
       "      <td>2014-10-29</td>\n",
       "      <td>11</td>\n",
       "      <td>3</td>\n",
       "      <td>205</td>\n",
       "      <td>135</td>\n",
       "      <td>13888</td>\n",
       "      <td>1322.7699</td>\n",
       "      <td>46362</td>\n",
       "      <td>1</td>\n",
       "      <td>0</td>\n",
       "      <td>...</td>\n",
       "      <td>2014-11-13</td>\n",
       "      <td>2014-11-19</td>\n",
       "      <td>2</td>\n",
       "      <td>0</td>\n",
       "      <td>1</td>\n",
       "      <td>43033</td>\n",
       "      <td>1</td>\n",
       "      <td>0</td>\n",
       "      <td>1</td>\n",
       "      <td>50</td>\n",
       "    </tr>\n",
       "    <tr>\n",
       "      <th>999971</th>\n",
       "      <td>2014-11-25</td>\n",
       "      <td>2</td>\n",
       "      <td>3</td>\n",
       "      <td>66</td>\n",
       "      <td>356</td>\n",
       "      <td>22202</td>\n",
       "      <td>1716.6428</td>\n",
       "      <td>734965</td>\n",
       "      <td>0</td>\n",
       "      <td>1</td>\n",
       "      <td>...</td>\n",
       "      <td>2014-12-18</td>\n",
       "      <td>2014-12-22</td>\n",
       "      <td>2</td>\n",
       "      <td>0</td>\n",
       "      <td>1</td>\n",
       "      <td>12220</td>\n",
       "      <td>6</td>\n",
       "      <td>0</td>\n",
       "      <td>1</td>\n",
       "      <td>8</td>\n",
       "    </tr>\n",
       "    <tr>\n",
       "      <th>999972</th>\n",
       "      <td>2014-08-08</td>\n",
       "      <td>2</td>\n",
       "      <td>3</td>\n",
       "      <td>66</td>\n",
       "      <td>174</td>\n",
       "      <td>23706</td>\n",
       "      <td>362.5897</td>\n",
       "      <td>1148858</td>\n",
       "      <td>0</td>\n",
       "      <td>0</td>\n",
       "      <td>...</td>\n",
       "      <td>2014-08-16</td>\n",
       "      <td>2014-08-17</td>\n",
       "      <td>4</td>\n",
       "      <td>0</td>\n",
       "      <td>1</td>\n",
       "      <td>11359</td>\n",
       "      <td>1</td>\n",
       "      <td>0</td>\n",
       "      <td>1</td>\n",
       "      <td>50</td>\n",
       "    </tr>\n",
       "    <tr>\n",
       "      <th>999973</th>\n",
       "      <td>2014-05-27</td>\n",
       "      <td>34</td>\n",
       "      <td>3</td>\n",
       "      <td>205</td>\n",
       "      <td>155</td>\n",
       "      <td>14703</td>\n",
       "      <td>4925.4251</td>\n",
       "      <td>91905</td>\n",
       "      <td>0</td>\n",
       "      <td>0</td>\n",
       "      <td>...</td>\n",
       "      <td>2014-08-19</td>\n",
       "      <td>2014-08-24</td>\n",
       "      <td>3</td>\n",
       "      <td>0</td>\n",
       "      <td>1</td>\n",
       "      <td>8745</td>\n",
       "      <td>1</td>\n",
       "      <td>0</td>\n",
       "      <td>1</td>\n",
       "      <td>204</td>\n",
       "    </tr>\n",
       "    <tr>\n",
       "      <th>999974</th>\n",
       "      <td>2014-04-15</td>\n",
       "      <td>2</td>\n",
       "      <td>3</td>\n",
       "      <td>179</td>\n",
       "      <td>410</td>\n",
       "      <td>16634</td>\n",
       "      <td>NaN</td>\n",
       "      <td>263747</td>\n",
       "      <td>0</td>\n",
       "      <td>0</td>\n",
       "      <td>...</td>\n",
       "      <td>2014-04-17</td>\n",
       "      <td>2014-04-20</td>\n",
       "      <td>1</td>\n",
       "      <td>2</td>\n",
       "      <td>1</td>\n",
       "      <td>12654</td>\n",
       "      <td>5</td>\n",
       "      <td>0</td>\n",
       "      <td>1</td>\n",
       "      <td>50</td>\n",
       "    </tr>\n",
       "    <tr>\n",
       "      <th>999975</th>\n",
       "      <td>2013-05-02</td>\n",
       "      <td>2</td>\n",
       "      <td>3</td>\n",
       "      <td>66</td>\n",
       "      <td>435</td>\n",
       "      <td>5391</td>\n",
       "      <td>1529.5502</td>\n",
       "      <td>811513</td>\n",
       "      <td>0</td>\n",
       "      <td>1</td>\n",
       "      <td>...</td>\n",
       "      <td>2013-05-24</td>\n",
       "      <td>2013-05-30</td>\n",
       "      <td>2</td>\n",
       "      <td>0</td>\n",
       "      <td>1</td>\n",
       "      <td>958</td>\n",
       "      <td>6</td>\n",
       "      <td>0</td>\n",
       "      <td>1</td>\n",
       "      <td>163</td>\n",
       "    </tr>\n",
       "    <tr>\n",
       "      <th>999976</th>\n",
       "      <td>2013-07-16</td>\n",
       "      <td>37</td>\n",
       "      <td>1</td>\n",
       "      <td>69</td>\n",
       "      <td>1008</td>\n",
       "      <td>13500</td>\n",
       "      <td>NaN</td>\n",
       "      <td>246541</td>\n",
       "      <td>0</td>\n",
       "      <td>0</td>\n",
       "      <td>...</td>\n",
       "      <td>2013-09-05</td>\n",
       "      <td>2013-09-07</td>\n",
       "      <td>2</td>\n",
       "      <td>0</td>\n",
       "      <td>1</td>\n",
       "      <td>44157</td>\n",
       "      <td>1</td>\n",
       "      <td>0</td>\n",
       "      <td>2</td>\n",
       "      <td>104</td>\n",
       "    </tr>\n",
       "    <tr>\n",
       "      <th>999977</th>\n",
       "      <td>2014-10-21</td>\n",
       "      <td>37</td>\n",
       "      <td>1</td>\n",
       "      <td>69</td>\n",
       "      <td>739</td>\n",
       "      <td>23715</td>\n",
       "      <td>NaN</td>\n",
       "      <td>530963</td>\n",
       "      <td>0</td>\n",
       "      <td>1</td>\n",
       "      <td>...</td>\n",
       "      <td>2014-12-19</td>\n",
       "      <td>2014-12-21</td>\n",
       "      <td>2</td>\n",
       "      <td>0</td>\n",
       "      <td>1</td>\n",
       "      <td>8745</td>\n",
       "      <td>1</td>\n",
       "      <td>0</td>\n",
       "      <td>1</td>\n",
       "      <td>204</td>\n",
       "    </tr>\n",
       "    <tr>\n",
       "      <th>999978</th>\n",
       "      <td>2014-09-10</td>\n",
       "      <td>2</td>\n",
       "      <td>3</td>\n",
       "      <td>66</td>\n",
       "      <td>348</td>\n",
       "      <td>47997</td>\n",
       "      <td>3833.9664</td>\n",
       "      <td>1066462</td>\n",
       "      <td>0</td>\n",
       "      <td>1</td>\n",
       "      <td>...</td>\n",
       "      <td>2015-02-13</td>\n",
       "      <td>2015-02-13</td>\n",
       "      <td>2</td>\n",
       "      <td>2</td>\n",
       "      <td>1</td>\n",
       "      <td>8788</td>\n",
       "      <td>1</td>\n",
       "      <td>0</td>\n",
       "      <td>1</td>\n",
       "      <td>77</td>\n",
       "    </tr>\n",
       "    <tr>\n",
       "      <th>999979</th>\n",
       "      <td>2014-10-28</td>\n",
       "      <td>2</td>\n",
       "      <td>3</td>\n",
       "      <td>66</td>\n",
       "      <td>174</td>\n",
       "      <td>16634</td>\n",
       "      <td>5368.9954</td>\n",
       "      <td>543397</td>\n",
       "      <td>0</td>\n",
       "      <td>0</td>\n",
       "      <td>...</td>\n",
       "      <td>2015-01-07</td>\n",
       "      <td>2015-01-11</td>\n",
       "      <td>2</td>\n",
       "      <td>0</td>\n",
       "      <td>1</td>\n",
       "      <td>8253</td>\n",
       "      <td>1</td>\n",
       "      <td>0</td>\n",
       "      <td>2</td>\n",
       "      <td>70</td>\n",
       "    </tr>\n",
       "    <tr>\n",
       "      <th>999980</th>\n",
       "      <td>2014-06-09</td>\n",
       "      <td>2</td>\n",
       "      <td>3</td>\n",
       "      <td>215</td>\n",
       "      <td>646</td>\n",
       "      <td>51733</td>\n",
       "      <td>1188.6820</td>\n",
       "      <td>1089986</td>\n",
       "      <td>0</td>\n",
       "      <td>1</td>\n",
       "      <td>...</td>\n",
       "      <td>2014-07-16</td>\n",
       "      <td>2014-07-23</td>\n",
       "      <td>2</td>\n",
       "      <td>0</td>\n",
       "      <td>1</td>\n",
       "      <td>8284</td>\n",
       "      <td>1</td>\n",
       "      <td>0</td>\n",
       "      <td>2</td>\n",
       "      <td>50</td>\n",
       "    </tr>\n",
       "    <tr>\n",
       "      <th>999981</th>\n",
       "      <td>2013-01-20</td>\n",
       "      <td>24</td>\n",
       "      <td>2</td>\n",
       "      <td>194</td>\n",
       "      <td>38</td>\n",
       "      <td>42328</td>\n",
       "      <td>NaN</td>\n",
       "      <td>1155677</td>\n",
       "      <td>0</td>\n",
       "      <td>0</td>\n",
       "      <td>...</td>\n",
       "      <td>2013-01-26</td>\n",
       "      <td>2013-01-29</td>\n",
       "      <td>2</td>\n",
       "      <td>0</td>\n",
       "      <td>1</td>\n",
       "      <td>11623</td>\n",
       "      <td>1</td>\n",
       "      <td>0</td>\n",
       "      <td>1</td>\n",
       "      <td>204</td>\n",
       "    </tr>\n",
       "    <tr>\n",
       "      <th>999982</th>\n",
       "      <td>2013-05-26</td>\n",
       "      <td>2</td>\n",
       "      <td>3</td>\n",
       "      <td>66</td>\n",
       "      <td>258</td>\n",
       "      <td>19931</td>\n",
       "      <td>6280.1206</td>\n",
       "      <td>378733</td>\n",
       "      <td>1</td>\n",
       "      <td>0</td>\n",
       "      <td>...</td>\n",
       "      <td>2013-06-23</td>\n",
       "      <td>2013-06-29</td>\n",
       "      <td>1</td>\n",
       "      <td>0</td>\n",
       "      <td>1</td>\n",
       "      <td>8747</td>\n",
       "      <td>1</td>\n",
       "      <td>0</td>\n",
       "      <td>1</td>\n",
       "      <td>106</td>\n",
       "    </tr>\n",
       "    <tr>\n",
       "      <th>999983</th>\n",
       "      <td>2014-09-14</td>\n",
       "      <td>2</td>\n",
       "      <td>3</td>\n",
       "      <td>209</td>\n",
       "      <td>221</td>\n",
       "      <td>49618</td>\n",
       "      <td>NaN</td>\n",
       "      <td>525265</td>\n",
       "      <td>0</td>\n",
       "      <td>1</td>\n",
       "      <td>...</td>\n",
       "      <td>2014-12-27</td>\n",
       "      <td>2015-01-01</td>\n",
       "      <td>2</td>\n",
       "      <td>0</td>\n",
       "      <td>1</td>\n",
       "      <td>11373</td>\n",
       "      <td>1</td>\n",
       "      <td>0</td>\n",
       "      <td>3</td>\n",
       "      <td>128</td>\n",
       "    </tr>\n",
       "    <tr>\n",
       "      <th>999984</th>\n",
       "      <td>2014-04-17</td>\n",
       "      <td>32</td>\n",
       "      <td>1</td>\n",
       "      <td>62</td>\n",
       "      <td>23</td>\n",
       "      <td>1856</td>\n",
       "      <td>NaN</td>\n",
       "      <td>585710</td>\n",
       "      <td>0</td>\n",
       "      <td>1</td>\n",
       "      <td>...</td>\n",
       "      <td>2014-12-19</td>\n",
       "      <td>2015-01-01</td>\n",
       "      <td>2</td>\n",
       "      <td>0</td>\n",
       "      <td>1</td>\n",
       "      <td>8818</td>\n",
       "      <td>1</td>\n",
       "      <td>0</td>\n",
       "      <td>1</td>\n",
       "      <td>99</td>\n",
       "    </tr>\n",
       "    <tr>\n",
       "      <th>999985</th>\n",
       "      <td>2014-10-10</td>\n",
       "      <td>37</td>\n",
       "      <td>1</td>\n",
       "      <td>69</td>\n",
       "      <td>986</td>\n",
       "      <td>4611</td>\n",
       "      <td>1109.3203</td>\n",
       "      <td>1084895</td>\n",
       "      <td>0</td>\n",
       "      <td>0</td>\n",
       "      <td>...</td>\n",
       "      <td>2014-11-23</td>\n",
       "      <td>2014-11-26</td>\n",
       "      <td>1</td>\n",
       "      <td>0</td>\n",
       "      <td>1</td>\n",
       "      <td>20061</td>\n",
       "      <td>6</td>\n",
       "      <td>0</td>\n",
       "      <td>1</td>\n",
       "      <td>170</td>\n",
       "    </tr>\n",
       "    <tr>\n",
       "      <th>999986</th>\n",
       "      <td>2014-05-25</td>\n",
       "      <td>2</td>\n",
       "      <td>3</td>\n",
       "      <td>27</td>\n",
       "      <td>418</td>\n",
       "      <td>22879</td>\n",
       "      <td>NaN</td>\n",
       "      <td>402161</td>\n",
       "      <td>1</td>\n",
       "      <td>0</td>\n",
       "      <td>...</td>\n",
       "      <td>2014-06-30</td>\n",
       "      <td>2014-07-01</td>\n",
       "      <td>2</td>\n",
       "      <td>2</td>\n",
       "      <td>2</td>\n",
       "      <td>8815</td>\n",
       "      <td>1</td>\n",
       "      <td>0</td>\n",
       "      <td>1</td>\n",
       "      <td>196</td>\n",
       "    </tr>\n",
       "    <tr>\n",
       "      <th>999987</th>\n",
       "      <td>2013-12-15</td>\n",
       "      <td>34</td>\n",
       "      <td>3</td>\n",
       "      <td>205</td>\n",
       "      <td>354</td>\n",
       "      <td>33452</td>\n",
       "      <td>208.4360</td>\n",
       "      <td>94838</td>\n",
       "      <td>0</td>\n",
       "      <td>1</td>\n",
       "      <td>...</td>\n",
       "      <td>2013-12-31</td>\n",
       "      <td>2014-01-03</td>\n",
       "      <td>2</td>\n",
       "      <td>2</td>\n",
       "      <td>1</td>\n",
       "      <td>8270</td>\n",
       "      <td>1</td>\n",
       "      <td>0</td>\n",
       "      <td>2</td>\n",
       "      <td>198</td>\n",
       "    </tr>\n",
       "    <tr>\n",
       "      <th>999988</th>\n",
       "      <td>2014-05-21</td>\n",
       "      <td>37</td>\n",
       "      <td>1</td>\n",
       "      <td>69</td>\n",
       "      <td>965</td>\n",
       "      <td>50820</td>\n",
       "      <td>NaN</td>\n",
       "      <td>1080174</td>\n",
       "      <td>0</td>\n",
       "      <td>1</td>\n",
       "      <td>...</td>\n",
       "      <td>2014-06-02</td>\n",
       "      <td>2014-06-04</td>\n",
       "      <td>1</td>\n",
       "      <td>0</td>\n",
       "      <td>1</td>\n",
       "      <td>17660</td>\n",
       "      <td>5</td>\n",
       "      <td>1</td>\n",
       "      <td>1</td>\n",
       "      <td>77</td>\n",
       "    </tr>\n",
       "    <tr>\n",
       "      <th>999989</th>\n",
       "      <td>2013-11-23</td>\n",
       "      <td>8</td>\n",
       "      <td>4</td>\n",
       "      <td>77</td>\n",
       "      <td>977</td>\n",
       "      <td>21258</td>\n",
       "      <td>10549.3745</td>\n",
       "      <td>968828</td>\n",
       "      <td>0</td>\n",
       "      <td>0</td>\n",
       "      <td>...</td>\n",
       "      <td>2014-07-17</td>\n",
       "      <td>2014-07-19</td>\n",
       "      <td>2</td>\n",
       "      <td>1</td>\n",
       "      <td>1</td>\n",
       "      <td>20813</td>\n",
       "      <td>6</td>\n",
       "      <td>0</td>\n",
       "      <td>1</td>\n",
       "      <td>70</td>\n",
       "    </tr>\n",
       "    <tr>\n",
       "      <th>999990</th>\n",
       "      <td>2014-10-18</td>\n",
       "      <td>2</td>\n",
       "      <td>3</td>\n",
       "      <td>66</td>\n",
       "      <td>226</td>\n",
       "      <td>39061</td>\n",
       "      <td>593.3818</td>\n",
       "      <td>94107</td>\n",
       "      <td>1</td>\n",
       "      <td>0</td>\n",
       "      <td>...</td>\n",
       "      <td>2014-10-31</td>\n",
       "      <td>2014-11-02</td>\n",
       "      <td>2</td>\n",
       "      <td>0</td>\n",
       "      <td>1</td>\n",
       "      <td>12189</td>\n",
       "      <td>6</td>\n",
       "      <td>0</td>\n",
       "      <td>1</td>\n",
       "      <td>50</td>\n",
       "    </tr>\n",
       "    <tr>\n",
       "      <th>999991</th>\n",
       "      <td>2014-10-16</td>\n",
       "      <td>37</td>\n",
       "      <td>1</td>\n",
       "      <td>69</td>\n",
       "      <td>826</td>\n",
       "      <td>27381</td>\n",
       "      <td>NaN</td>\n",
       "      <td>633226</td>\n",
       "      <td>0</td>\n",
       "      <td>0</td>\n",
       "      <td>...</td>\n",
       "      <td>2014-10-31</td>\n",
       "      <td>2014-11-02</td>\n",
       "      <td>2</td>\n",
       "      <td>0</td>\n",
       "      <td>1</td>\n",
       "      <td>8213</td>\n",
       "      <td>1</td>\n",
       "      <td>0</td>\n",
       "      <td>1</td>\n",
       "      <td>68</td>\n",
       "    </tr>\n",
       "    <tr>\n",
       "      <th>999992</th>\n",
       "      <td>2014-11-29</td>\n",
       "      <td>13</td>\n",
       "      <td>1</td>\n",
       "      <td>46</td>\n",
       "      <td>172</td>\n",
       "      <td>56153</td>\n",
       "      <td>655.0128</td>\n",
       "      <td>167669</td>\n",
       "      <td>0</td>\n",
       "      <td>1</td>\n",
       "      <td>...</td>\n",
       "      <td>2015-03-27</td>\n",
       "      <td>2015-03-30</td>\n",
       "      <td>2</td>\n",
       "      <td>0</td>\n",
       "      <td>1</td>\n",
       "      <td>8788</td>\n",
       "      <td>1</td>\n",
       "      <td>0</td>\n",
       "      <td>1</td>\n",
       "      <td>77</td>\n",
       "    </tr>\n",
       "    <tr>\n",
       "      <th>999993</th>\n",
       "      <td>2013-08-11</td>\n",
       "      <td>37</td>\n",
       "      <td>1</td>\n",
       "      <td>133</td>\n",
       "      <td>20</td>\n",
       "      <td>4447</td>\n",
       "      <td>NaN</td>\n",
       "      <td>570754</td>\n",
       "      <td>0</td>\n",
       "      <td>0</td>\n",
       "      <td>...</td>\n",
       "      <td>2013-08-19</td>\n",
       "      <td>2013-08-29</td>\n",
       "      <td>1</td>\n",
       "      <td>0</td>\n",
       "      <td>1</td>\n",
       "      <td>22615</td>\n",
       "      <td>6</td>\n",
       "      <td>0</td>\n",
       "      <td>1</td>\n",
       "      <td>204</td>\n",
       "    </tr>\n",
       "    <tr>\n",
       "      <th>999994</th>\n",
       "      <td>2014-01-30</td>\n",
       "      <td>2</td>\n",
       "      <td>3</td>\n",
       "      <td>66</td>\n",
       "      <td>174</td>\n",
       "      <td>54799</td>\n",
       "      <td>233.5927</td>\n",
       "      <td>1154078</td>\n",
       "      <td>0</td>\n",
       "      <td>1</td>\n",
       "      <td>...</td>\n",
       "      <td>2014-02-27</td>\n",
       "      <td>2014-03-01</td>\n",
       "      <td>2</td>\n",
       "      <td>0</td>\n",
       "      <td>1</td>\n",
       "      <td>12206</td>\n",
       "      <td>6</td>\n",
       "      <td>0</td>\n",
       "      <td>1</td>\n",
       "      <td>50</td>\n",
       "    </tr>\n",
       "    <tr>\n",
       "      <th>999995</th>\n",
       "      <td>2014-05-27</td>\n",
       "      <td>2</td>\n",
       "      <td>3</td>\n",
       "      <td>66</td>\n",
       "      <td>447</td>\n",
       "      <td>21649</td>\n",
       "      <td>338.5685</td>\n",
       "      <td>759767</td>\n",
       "      <td>0</td>\n",
       "      <td>0</td>\n",
       "      <td>...</td>\n",
       "      <td>2014-06-02</td>\n",
       "      <td>2014-06-04</td>\n",
       "      <td>2</td>\n",
       "      <td>0</td>\n",
       "      <td>1</td>\n",
       "      <td>12208</td>\n",
       "      <td>6</td>\n",
       "      <td>0</td>\n",
       "      <td>1</td>\n",
       "      <td>50</td>\n",
       "    </tr>\n",
       "    <tr>\n",
       "      <th>999996</th>\n",
       "      <td>2013-05-23</td>\n",
       "      <td>11</td>\n",
       "      <td>3</td>\n",
       "      <td>205</td>\n",
       "      <td>385</td>\n",
       "      <td>45494</td>\n",
       "      <td>1144.2738</td>\n",
       "      <td>188106</td>\n",
       "      <td>0</td>\n",
       "      <td>0</td>\n",
       "      <td>...</td>\n",
       "      <td>2013-08-17</td>\n",
       "      <td>2013-08-24</td>\n",
       "      <td>2</td>\n",
       "      <td>0</td>\n",
       "      <td>1</td>\n",
       "      <td>10422</td>\n",
       "      <td>3</td>\n",
       "      <td>0</td>\n",
       "      <td>1</td>\n",
       "      <td>50</td>\n",
       "    </tr>\n",
       "    <tr>\n",
       "      <th>999997</th>\n",
       "      <td>2014-08-14</td>\n",
       "      <td>2</td>\n",
       "      <td>3</td>\n",
       "      <td>66</td>\n",
       "      <td>174</td>\n",
       "      <td>40600</td>\n",
       "      <td>382.0922</td>\n",
       "      <td>968698</td>\n",
       "      <td>1</td>\n",
       "      <td>0</td>\n",
       "      <td>...</td>\n",
       "      <td>2014-08-30</td>\n",
       "      <td>2014-09-01</td>\n",
       "      <td>2</td>\n",
       "      <td>0</td>\n",
       "      <td>1</td>\n",
       "      <td>13237</td>\n",
       "      <td>4</td>\n",
       "      <td>0</td>\n",
       "      <td>1</td>\n",
       "      <td>50</td>\n",
       "    </tr>\n",
       "    <tr>\n",
       "      <th>999998</th>\n",
       "      <td>2014-11-07</td>\n",
       "      <td>11</td>\n",
       "      <td>3</td>\n",
       "      <td>205</td>\n",
       "      <td>354</td>\n",
       "      <td>2875</td>\n",
       "      <td>1021.9359</td>\n",
       "      <td>192542</td>\n",
       "      <td>0</td>\n",
       "      <td>1</td>\n",
       "      <td>...</td>\n",
       "      <td>2014-12-08</td>\n",
       "      <td>2014-12-13</td>\n",
       "      <td>2</td>\n",
       "      <td>0</td>\n",
       "      <td>1</td>\n",
       "      <td>8268</td>\n",
       "      <td>1</td>\n",
       "      <td>0</td>\n",
       "      <td>4</td>\n",
       "      <td>50</td>\n",
       "    </tr>\n",
       "    <tr>\n",
       "      <th>999999</th>\n",
       "      <td>2014-01-14</td>\n",
       "      <td>40</td>\n",
       "      <td>3</td>\n",
       "      <td>66</td>\n",
       "      <td>184</td>\n",
       "      <td>11878</td>\n",
       "      <td>67.5305</td>\n",
       "      <td>543025</td>\n",
       "      <td>0</td>\n",
       "      <td>0</td>\n",
       "      <td>...</td>\n",
       "      <td>2014-06-05</td>\n",
       "      <td>2014-06-06</td>\n",
       "      <td>2</td>\n",
       "      <td>2</td>\n",
       "      <td>1</td>\n",
       "      <td>12196</td>\n",
       "      <td>6</td>\n",
       "      <td>0</td>\n",
       "      <td>1</td>\n",
       "      <td>50</td>\n",
       "    </tr>\n",
       "  </tbody>\n",
       "</table>\n",
       "<p>1000000 rows × 21 columns</p>\n",
       "</div>"
      ],
      "text/plain": [
       "         date_time  site_name  posa_continent  user_location_country  \\\n",
       "0       2014-07-07         11               3                    205   \n",
       "1       2014-09-20          2               3                     66   \n",
       "2       2014-10-23          2               3                     66   \n",
       "3       2013-11-07         37               1                     69   \n",
       "4       2013-02-24          2               3                     66   \n",
       "5       2013-03-01          2               3                     66   \n",
       "6       2014-08-07         24               2                      3   \n",
       "7       2014-06-01          2               3                     66   \n",
       "8       2014-04-14          2               3                    215   \n",
       "9       2014-08-16          2               3                     12   \n",
       "10      2014-11-29         24               2                      3   \n",
       "11      2014-10-30          2               3                     66   \n",
       "12      2014-12-20         24               2                      3   \n",
       "13      2014-01-25         23               1                      1   \n",
       "14      2014-12-19          2               3                     66   \n",
       "15      2014-11-30         24               2                      3   \n",
       "16      2014-09-10          2               3                     66   \n",
       "17      2013-10-31          2               3                     59   \n",
       "18      2014-08-02         11               3                     66   \n",
       "19      2014-10-07         37               1                     69   \n",
       "20      2014-04-20         34               3                    205   \n",
       "21      2014-11-16          8               4                     77   \n",
       "22      2014-07-15          2               3                     66   \n",
       "23      2014-11-12         37               1                     69   \n",
       "24      2014-11-05          2               3                     66   \n",
       "25      2014-08-27         24               2                     66   \n",
       "26      2014-01-15          2               3                     66   \n",
       "27      2014-08-13         13               1                     46   \n",
       "28      2014-09-26          2               3                     66   \n",
       "29      2014-03-30          2               3                     66   \n",
       "...            ...        ...             ...                    ...   \n",
       "999970  2014-10-29         11               3                    205   \n",
       "999971  2014-11-25          2               3                     66   \n",
       "999972  2014-08-08          2               3                     66   \n",
       "999973  2014-05-27         34               3                    205   \n",
       "999974  2014-04-15          2               3                    179   \n",
       "999975  2013-05-02          2               3                     66   \n",
       "999976  2013-07-16         37               1                     69   \n",
       "999977  2014-10-21         37               1                     69   \n",
       "999978  2014-09-10          2               3                     66   \n",
       "999979  2014-10-28          2               3                     66   \n",
       "999980  2014-06-09          2               3                    215   \n",
       "999981  2013-01-20         24               2                    194   \n",
       "999982  2013-05-26          2               3                     66   \n",
       "999983  2014-09-14          2               3                    209   \n",
       "999984  2014-04-17         32               1                     62   \n",
       "999985  2014-10-10         37               1                     69   \n",
       "999986  2014-05-25          2               3                     27   \n",
       "999987  2013-12-15         34               3                    205   \n",
       "999988  2014-05-21         37               1                     69   \n",
       "999989  2013-11-23          8               4                     77   \n",
       "999990  2014-10-18          2               3                     66   \n",
       "999991  2014-10-16         37               1                     69   \n",
       "999992  2014-11-29         13               1                     46   \n",
       "999993  2013-08-11         37               1                    133   \n",
       "999994  2014-01-30          2               3                     66   \n",
       "999995  2014-05-27          2               3                     66   \n",
       "999996  2013-05-23         11               3                    205   \n",
       "999997  2014-08-14          2               3                     66   \n",
       "999998  2014-11-07         11               3                    205   \n",
       "999999  2014-01-14         40               3                     66   \n",
       "\n",
       "        user_location_region  user_location_city  orig_destination_distance  \\\n",
       "0                        354               25315                   383.3362   \n",
       "1                        153               20706                  2297.5172   \n",
       "2                        442               35390                  1139.8157   \n",
       "3                        923               54859                        NaN   \n",
       "4                        311                5405                  3279.1369   \n",
       "5                        331               28112                  1193.7376   \n",
       "6                         50               31800                        NaN   \n",
       "7                        332                2113                   298.2371   \n",
       "8                        780               20241                        NaN   \n",
       "9                        790               53139                        NaN   \n",
       "10                        64                3169                        NaN   \n",
       "11                       174               46432                   444.6033   \n",
       "12                        52               28633                        NaN   \n",
       "13                       439                2299                   752.5993   \n",
       "14                       174               24103                  7236.7934   \n",
       "15                        50               22013                        NaN   \n",
       "16                       363               12346                    83.2610   \n",
       "17                       364               36776                        NaN   \n",
       "18                       174               54662                   176.4438   \n",
       "19                       555                 538                        NaN   \n",
       "20                       155               14703                   112.3052   \n",
       "21                       824               15015                  1949.8294   \n",
       "22                       442               46296                    71.4266   \n",
       "23                       626               38124                        NaN   \n",
       "24                       311               23862                        NaN   \n",
       "25                       337                6988                  4001.1979   \n",
       "26                       174                9890                  1196.3253   \n",
       "27                       172               56153                   931.9639   \n",
       "28                       337               26644                  2458.1679   \n",
       "29                       363                2495                  2018.6907   \n",
       "...                      ...                 ...                        ...   \n",
       "999970                   135               13888                  1322.7699   \n",
       "999971                   356               22202                  1716.6428   \n",
       "999972                   174               23706                   362.5897   \n",
       "999973                   155               14703                  4925.4251   \n",
       "999974                   410               16634                        NaN   \n",
       "999975                   435                5391                  1529.5502   \n",
       "999976                  1008               13500                        NaN   \n",
       "999977                   739               23715                        NaN   \n",
       "999978                   348               47997                  3833.9664   \n",
       "999979                   174               16634                  5368.9954   \n",
       "999980                   646               51733                  1188.6820   \n",
       "999981                    38               42328                        NaN   \n",
       "999982                   258               19931                  6280.1206   \n",
       "999983                   221               49618                        NaN   \n",
       "999984                    23                1856                        NaN   \n",
       "999985                   986                4611                  1109.3203   \n",
       "999986                   418               22879                        NaN   \n",
       "999987                   354               33452                   208.4360   \n",
       "999988                   965               50820                        NaN   \n",
       "999989                   977               21258                 10549.3745   \n",
       "999990                   226               39061                   593.3818   \n",
       "999991                   826               27381                        NaN   \n",
       "999992                   172               56153                   655.0128   \n",
       "999993                    20                4447                        NaN   \n",
       "999994                   174               54799                   233.5927   \n",
       "999995                   447               21649                   338.5685   \n",
       "999996                   385               45494                  1144.2738   \n",
       "999997                   174               40600                   382.0922   \n",
       "999998                   354                2875                  1021.9359   \n",
       "999999                   184               11878                    67.5305   \n",
       "\n",
       "        user_id  is_mobile  is_package  ...     srch_ci     srch_co  \\\n",
       "0        163906          0           0  ...  2014-08-04  2014-08-08   \n",
       "1        201303          1           0  ...  2015-01-01  2015-01-03   \n",
       "2        173990          0           1  ...  2014-11-30  2014-12-07   \n",
       "3        584851          0           1  ...  2013-12-22  2013-12-27   \n",
       "4       1154606          0           1  ...  2013-03-01  2013-03-04   \n",
       "5        214240          0           1  ...  2013-06-25  2013-07-02   \n",
       "6        976552          0           0  ...  2014-12-20  2014-12-23   \n",
       "7        850829          0           0  ...  2014-06-13  2014-06-14   \n",
       "8        734314          0           1  ...  2014-05-09  2014-05-11   \n",
       "9       1014341          0           0  ...  2014-10-31  2014-11-04   \n",
       "10       259108          0           0  ...  2015-02-08  2015-02-09   \n",
       "11       977292          1           0  ...  2014-10-31  2014-11-01   \n",
       "12      1018241          0           0  ...  2015-03-13  2015-03-15   \n",
       "13       266798          0           1  ...  2014-01-30  2014-02-02   \n",
       "14       954754          0           0  ...  2014-12-19  2014-12-20   \n",
       "15       343100          0           0  ...  2015-02-08  2015-02-14   \n",
       "16       969885          0           0  ...  2014-09-12  2014-09-13   \n",
       "17       551161          0           0  ...  2013-11-30  2013-12-05   \n",
       "18       777063          0           0  ...  2014-08-10  2014-08-12   \n",
       "19       546481          0           1  ...  2015-03-23  2015-03-29   \n",
       "20       737637          0           0  ...  2014-07-29  2014-07-30   \n",
       "21       408428          1           1  ...  2015-06-14  2015-06-21   \n",
       "22      1051352          1           0  ...  2014-08-16  2014-08-17   \n",
       "23       806802          0           0  ...  2014-11-14  2014-11-16   \n",
       "24        55175          0           0  ...  2015-03-13  2015-03-14   \n",
       "25      1153909          0           0  ...  2014-09-11  2014-09-14   \n",
       "26       508090          0           0  ...  2014-03-01  2014-03-04   \n",
       "27       957120          0           0  ...  2014-10-14  2014-10-16   \n",
       "28      1032394          0           0  ...  2014-10-02  2014-10-03   \n",
       "29       627885          0           1  ...  2014-07-19  2014-07-26   \n",
       "...         ...        ...         ...  ...         ...         ...   \n",
       "999970    46362          1           0  ...  2014-11-13  2014-11-19   \n",
       "999971   734965          0           1  ...  2014-12-18  2014-12-22   \n",
       "999972  1148858          0           0  ...  2014-08-16  2014-08-17   \n",
       "999973    91905          0           0  ...  2014-08-19  2014-08-24   \n",
       "999974   263747          0           0  ...  2014-04-17  2014-04-20   \n",
       "999975   811513          0           1  ...  2013-05-24  2013-05-30   \n",
       "999976   246541          0           0  ...  2013-09-05  2013-09-07   \n",
       "999977   530963          0           1  ...  2014-12-19  2014-12-21   \n",
       "999978  1066462          0           1  ...  2015-02-13  2015-02-13   \n",
       "999979   543397          0           0  ...  2015-01-07  2015-01-11   \n",
       "999980  1089986          0           1  ...  2014-07-16  2014-07-23   \n",
       "999981  1155677          0           0  ...  2013-01-26  2013-01-29   \n",
       "999982   378733          1           0  ...  2013-06-23  2013-06-29   \n",
       "999983   525265          0           1  ...  2014-12-27  2015-01-01   \n",
       "999984   585710          0           1  ...  2014-12-19  2015-01-01   \n",
       "999985  1084895          0           0  ...  2014-11-23  2014-11-26   \n",
       "999986   402161          1           0  ...  2014-06-30  2014-07-01   \n",
       "999987    94838          0           1  ...  2013-12-31  2014-01-03   \n",
       "999988  1080174          0           1  ...  2014-06-02  2014-06-04   \n",
       "999989   968828          0           0  ...  2014-07-17  2014-07-19   \n",
       "999990    94107          1           0  ...  2014-10-31  2014-11-02   \n",
       "999991   633226          0           0  ...  2014-10-31  2014-11-02   \n",
       "999992   167669          0           1  ...  2015-03-27  2015-03-30   \n",
       "999993   570754          0           0  ...  2013-08-19  2013-08-29   \n",
       "999994  1154078          0           1  ...  2014-02-27  2014-03-01   \n",
       "999995   759767          0           0  ...  2014-06-02  2014-06-04   \n",
       "999996   188106          0           0  ...  2013-08-17  2013-08-24   \n",
       "999997   968698          1           0  ...  2014-08-30  2014-09-01   \n",
       "999998   192542          0           1  ...  2014-12-08  2014-12-13   \n",
       "999999   543025          0           0  ...  2014-06-05  2014-06-06   \n",
       "\n",
       "       srch_adults_cnt  srch_children_cnt  srch_rm_cnt  srch_destination_id  \\\n",
       "0                    4                  0            2                11569   \n",
       "1                    2                  0            1                19137   \n",
       "2                    2                  1            1                11923   \n",
       "3                    3                  0            2                18965   \n",
       "4                    1                  0            1                 8253   \n",
       "5                    1                  0            1                 8864   \n",
       "6                    2                  0            1                20833   \n",
       "7                    5                  7            4                27262   \n",
       "8                    2                  1            1                 8250   \n",
       "9                    3                  0            1                 7635   \n",
       "10                   1                  0            1                14026   \n",
       "11                   2                  0            1                24952   \n",
       "12                   1                  0            1                 8746   \n",
       "13                   2                  0            1                 8253   \n",
       "14                   2                  0            1                  268   \n",
       "15                   2                  0            1                 8808   \n",
       "16                   1                  0            1                 8267   \n",
       "17                   2                  2            1                 8746   \n",
       "18                   2                  0            1                 8250   \n",
       "19                   2                  2            1                  243   \n",
       "20                   2                  1            1                39852   \n",
       "21                   2                  0            1                14907   \n",
       "22                   2                  0            1                 8218   \n",
       "23                   2                  1            1                 8253   \n",
       "24                   1                  0            1                12951   \n",
       "25                   1                  0            1                53357   \n",
       "26                   2                  0            1                 8218   \n",
       "27                   2                  0            1                 8215   \n",
       "28                   1                  0            1                12603   \n",
       "29                   2                  2            1                11334   \n",
       "...                ...                ...          ...                  ...   \n",
       "999970               2                  0            1                43033   \n",
       "999971               2                  0            1                12220   \n",
       "999972               4                  0            1                11359   \n",
       "999973               3                  0            1                 8745   \n",
       "999974               1                  2            1                12654   \n",
       "999975               2                  0            1                  958   \n",
       "999976               2                  0            1                44157   \n",
       "999977               2                  0            1                 8745   \n",
       "999978               2                  2            1                 8788   \n",
       "999979               2                  0            1                 8253   \n",
       "999980               2                  0            1                 8284   \n",
       "999981               2                  0            1                11623   \n",
       "999982               1                  0            1                 8747   \n",
       "999983               2                  0            1                11373   \n",
       "999984               2                  0            1                 8818   \n",
       "999985               1                  0            1                20061   \n",
       "999986               2                  2            2                 8815   \n",
       "999987               2                  2            1                 8270   \n",
       "999988               1                  0            1                17660   \n",
       "999989               2                  1            1                20813   \n",
       "999990               2                  0            1                12189   \n",
       "999991               2                  0            1                 8213   \n",
       "999992               2                  0            1                 8788   \n",
       "999993               1                  0            1                22615   \n",
       "999994               2                  0            1                12206   \n",
       "999995               2                  0            1                12208   \n",
       "999996               2                  0            1                10422   \n",
       "999997               2                  0            1                13237   \n",
       "999998               2                  0            1                 8268   \n",
       "999999               2                  2            1                12196   \n",
       "\n",
       "        srch_destination_type_id  is_booking  cnt  hotel_country  \n",
       "0                              1           0    1             50  \n",
       "1                              5           0    1            128  \n",
       "2                              1           0    2             80  \n",
       "3                              1           0    1             77  \n",
       "4                              1           0    1             70  \n",
       "5                              1           0    3             47  \n",
       "6                              1           0    1            182  \n",
       "7                              1           1    1             50  \n",
       "8                              1           0    1             50  \n",
       "9                              3           0    1             50  \n",
       "10                             6           1    1            168  \n",
       "11                             3           0    2             50  \n",
       "12                             1           0    1            105  \n",
       "13                             1           0    1             70  \n",
       "14                             1           0    1             99  \n",
       "15                             1           0    3            169  \n",
       "16                             1           0    2             50  \n",
       "17                             1           1    1            105  \n",
       "18                             1           0    2             50  \n",
       "19                             1           0    3            206  \n",
       "20                             6           0    2            198  \n",
       "21                             1           0    1             87  \n",
       "22                             1           0    1             50  \n",
       "23                             1           0    4             70  \n",
       "24                             5           0    1            198  \n",
       "25                             6           0    1            204  \n",
       "26                             1           0    1             50  \n",
       "27                             1           0    1            208  \n",
       "28                             5           0    1             50  \n",
       "29                             1           0    1             96  \n",
       "...                          ...         ...  ...            ...  \n",
       "999970                         1           0    1             50  \n",
       "999971                         6           0    1              8  \n",
       "999972                         1           0    1             50  \n",
       "999973                         1           0    1            204  \n",
       "999974                         5           0    1             50  \n",
       "999975                         6           0    1            163  \n",
       "999976                         1           0    2            104  \n",
       "999977                         1           0    1            204  \n",
       "999978                         1           0    1             77  \n",
       "999979                         1           0    2             70  \n",
       "999980                         1           0    2             50  \n",
       "999981                         1           0    1            204  \n",
       "999982                         1           0    1            106  \n",
       "999983                         1           0    3            128  \n",
       "999984                         1           0    1             99  \n",
       "999985                         6           0    1            170  \n",
       "999986                         1           0    1            196  \n",
       "999987                         1           0    2            198  \n",
       "999988                         5           1    1             77  \n",
       "999989                         6           0    1             70  \n",
       "999990                         6           0    1             50  \n",
       "999991                         1           0    1             68  \n",
       "999992                         1           0    1             77  \n",
       "999993                         6           0    1            204  \n",
       "999994                         6           0    1             50  \n",
       "999995                         6           0    1             50  \n",
       "999996                         3           0    1             50  \n",
       "999997                         4           0    1             50  \n",
       "999998                         1           0    4             50  \n",
       "999999                         6           0    1             50  \n",
       "\n",
       "[1000000 rows x 21 columns]"
      ]
     },
     "execution_count": 82,
     "metadata": {},
     "output_type": "execute_result"
    }
   ],
   "source": [
    "df2 = pd.read_csv(\"hotel_booking_train_1m.zip\")\n",
    "df2"
   ]
  },
  {
   "cell_type": "code",
   "execution_count": 83,
   "metadata": {},
   "outputs": [],
   "source": [
    "df2.to_csv(\"hotel_test.gz\", compression=\"gzip\", index=False)"
   ]
  },
  {
   "cell_type": "code",
   "execution_count": null,
   "metadata": {},
   "outputs": [],
   "source": []
  },
  {
   "cell_type": "code",
   "execution_count": 84,
   "metadata": {},
   "outputs": [
    {
     "data": {
      "text/html": [
       "<div>\n",
       "<style scoped>\n",
       "    .dataframe tbody tr th:only-of-type {\n",
       "        vertical-align: middle;\n",
       "    }\n",
       "\n",
       "    .dataframe tbody tr th {\n",
       "        vertical-align: top;\n",
       "    }\n",
       "\n",
       "    .dataframe thead th {\n",
       "        text-align: right;\n",
       "    }\n",
       "</style>\n",
       "<table border=\"1\" class=\"dataframe\">\n",
       "  <thead>\n",
       "    <tr style=\"text-align: right;\">\n",
       "      <th></th>\n",
       "      <th>atemp</th>\n",
       "      <th>casual</th>\n",
       "      <th>count</th>\n",
       "      <th>datetime</th>\n",
       "      <th>holiday</th>\n",
       "      <th>humidity</th>\n",
       "      <th>registered</th>\n",
       "      <th>season</th>\n",
       "      <th>temp</th>\n",
       "      <th>weather</th>\n",
       "      <th>windspeed</th>\n",
       "      <th>workingday</th>\n",
       "    </tr>\n",
       "  </thead>\n",
       "  <tbody>\n",
       "    <tr>\n",
       "      <th>0</th>\n",
       "      <td>14.395</td>\n",
       "      <td>3</td>\n",
       "      <td>16</td>\n",
       "      <td>2011-01-01 00:00:00</td>\n",
       "      <td>0</td>\n",
       "      <td>81</td>\n",
       "      <td>13</td>\n",
       "      <td>1</td>\n",
       "      <td>9.84</td>\n",
       "      <td>1</td>\n",
       "      <td>0.0000</td>\n",
       "      <td>0</td>\n",
       "    </tr>\n",
       "    <tr>\n",
       "      <th>1</th>\n",
       "      <td>13.635</td>\n",
       "      <td>8</td>\n",
       "      <td>40</td>\n",
       "      <td>2011-01-01 01:00:00</td>\n",
       "      <td>0</td>\n",
       "      <td>80</td>\n",
       "      <td>32</td>\n",
       "      <td>1</td>\n",
       "      <td>9.02</td>\n",
       "      <td>1</td>\n",
       "      <td>0.0000</td>\n",
       "      <td>0</td>\n",
       "    </tr>\n",
       "    <tr>\n",
       "      <th>2</th>\n",
       "      <td>13.635</td>\n",
       "      <td>5</td>\n",
       "      <td>32</td>\n",
       "      <td>2011-01-01 02:00:00</td>\n",
       "      <td>0</td>\n",
       "      <td>80</td>\n",
       "      <td>27</td>\n",
       "      <td>1</td>\n",
       "      <td>9.02</td>\n",
       "      <td>1</td>\n",
       "      <td>0.0000</td>\n",
       "      <td>0</td>\n",
       "    </tr>\n",
       "    <tr>\n",
       "      <th>3</th>\n",
       "      <td>14.395</td>\n",
       "      <td>3</td>\n",
       "      <td>13</td>\n",
       "      <td>2011-01-01 03:00:00</td>\n",
       "      <td>0</td>\n",
       "      <td>75</td>\n",
       "      <td>10</td>\n",
       "      <td>1</td>\n",
       "      <td>9.84</td>\n",
       "      <td>1</td>\n",
       "      <td>0.0000</td>\n",
       "      <td>0</td>\n",
       "    </tr>\n",
       "    <tr>\n",
       "      <th>4</th>\n",
       "      <td>14.395</td>\n",
       "      <td>0</td>\n",
       "      <td>1</td>\n",
       "      <td>2011-01-01 04:00:00</td>\n",
       "      <td>0</td>\n",
       "      <td>75</td>\n",
       "      <td>1</td>\n",
       "      <td>1</td>\n",
       "      <td>9.84</td>\n",
       "      <td>1</td>\n",
       "      <td>0.0000</td>\n",
       "      <td>0</td>\n",
       "    </tr>\n",
       "    <tr>\n",
       "      <th>5</th>\n",
       "      <td>12.880</td>\n",
       "      <td>0</td>\n",
       "      <td>1</td>\n",
       "      <td>2011-01-01 05:00:00</td>\n",
       "      <td>0</td>\n",
       "      <td>75</td>\n",
       "      <td>1</td>\n",
       "      <td>1</td>\n",
       "      <td>9.84</td>\n",
       "      <td>2</td>\n",
       "      <td>6.0032</td>\n",
       "      <td>0</td>\n",
       "    </tr>\n",
       "    <tr>\n",
       "      <th>6</th>\n",
       "      <td>13.635</td>\n",
       "      <td>2</td>\n",
       "      <td>2</td>\n",
       "      <td>2011-01-01 06:00:00</td>\n",
       "      <td>0</td>\n",
       "      <td>80</td>\n",
       "      <td>0</td>\n",
       "      <td>1</td>\n",
       "      <td>9.02</td>\n",
       "      <td>1</td>\n",
       "      <td>0.0000</td>\n",
       "      <td>0</td>\n",
       "    </tr>\n",
       "    <tr>\n",
       "      <th>7</th>\n",
       "      <td>12.880</td>\n",
       "      <td>1</td>\n",
       "      <td>3</td>\n",
       "      <td>2011-01-01 07:00:00</td>\n",
       "      <td>0</td>\n",
       "      <td>86</td>\n",
       "      <td>2</td>\n",
       "      <td>1</td>\n",
       "      <td>8.20</td>\n",
       "      <td>1</td>\n",
       "      <td>0.0000</td>\n",
       "      <td>0</td>\n",
       "    </tr>\n",
       "    <tr>\n",
       "      <th>8</th>\n",
       "      <td>14.395</td>\n",
       "      <td>1</td>\n",
       "      <td>8</td>\n",
       "      <td>2011-01-01 08:00:00</td>\n",
       "      <td>0</td>\n",
       "      <td>75</td>\n",
       "      <td>7</td>\n",
       "      <td>1</td>\n",
       "      <td>9.84</td>\n",
       "      <td>1</td>\n",
       "      <td>0.0000</td>\n",
       "      <td>0</td>\n",
       "    </tr>\n",
       "    <tr>\n",
       "      <th>9</th>\n",
       "      <td>17.425</td>\n",
       "      <td>8</td>\n",
       "      <td>14</td>\n",
       "      <td>2011-01-01 09:00:00</td>\n",
       "      <td>0</td>\n",
       "      <td>76</td>\n",
       "      <td>6</td>\n",
       "      <td>1</td>\n",
       "      <td>13.12</td>\n",
       "      <td>1</td>\n",
       "      <td>0.0000</td>\n",
       "      <td>0</td>\n",
       "    </tr>\n",
       "    <tr>\n",
       "      <th>10</th>\n",
       "      <td>19.695</td>\n",
       "      <td>12</td>\n",
       "      <td>36</td>\n",
       "      <td>2011-01-01 10:00:00</td>\n",
       "      <td>0</td>\n",
       "      <td>76</td>\n",
       "      <td>24</td>\n",
       "      <td>1</td>\n",
       "      <td>15.58</td>\n",
       "      <td>1</td>\n",
       "      <td>16.9979</td>\n",
       "      <td>0</td>\n",
       "    </tr>\n",
       "    <tr>\n",
       "      <th>11</th>\n",
       "      <td>16.665</td>\n",
       "      <td>26</td>\n",
       "      <td>56</td>\n",
       "      <td>2011-01-01 11:00:00</td>\n",
       "      <td>0</td>\n",
       "      <td>81</td>\n",
       "      <td>30</td>\n",
       "      <td>1</td>\n",
       "      <td>14.76</td>\n",
       "      <td>1</td>\n",
       "      <td>19.0012</td>\n",
       "      <td>0</td>\n",
       "    </tr>\n",
       "    <tr>\n",
       "      <th>12</th>\n",
       "      <td>21.210</td>\n",
       "      <td>29</td>\n",
       "      <td>84</td>\n",
       "      <td>2011-01-01 12:00:00</td>\n",
       "      <td>0</td>\n",
       "      <td>77</td>\n",
       "      <td>55</td>\n",
       "      <td>1</td>\n",
       "      <td>17.22</td>\n",
       "      <td>1</td>\n",
       "      <td>19.0012</td>\n",
       "      <td>0</td>\n",
       "    </tr>\n",
       "    <tr>\n",
       "      <th>13</th>\n",
       "      <td>22.725</td>\n",
       "      <td>47</td>\n",
       "      <td>94</td>\n",
       "      <td>2011-01-01 13:00:00</td>\n",
       "      <td>0</td>\n",
       "      <td>72</td>\n",
       "      <td>47</td>\n",
       "      <td>1</td>\n",
       "      <td>18.86</td>\n",
       "      <td>2</td>\n",
       "      <td>19.9995</td>\n",
       "      <td>0</td>\n",
       "    </tr>\n",
       "    <tr>\n",
       "      <th>14</th>\n",
       "      <td>22.725</td>\n",
       "      <td>35</td>\n",
       "      <td>106</td>\n",
       "      <td>2011-01-01 14:00:00</td>\n",
       "      <td>0</td>\n",
       "      <td>72</td>\n",
       "      <td>71</td>\n",
       "      <td>1</td>\n",
       "      <td>18.86</td>\n",
       "      <td>2</td>\n",
       "      <td>19.0012</td>\n",
       "      <td>0</td>\n",
       "    </tr>\n",
       "    <tr>\n",
       "      <th>15</th>\n",
       "      <td>21.970</td>\n",
       "      <td>40</td>\n",
       "      <td>110</td>\n",
       "      <td>2011-01-01 15:00:00</td>\n",
       "      <td>0</td>\n",
       "      <td>77</td>\n",
       "      <td>70</td>\n",
       "      <td>1</td>\n",
       "      <td>18.04</td>\n",
       "      <td>2</td>\n",
       "      <td>19.9995</td>\n",
       "      <td>0</td>\n",
       "    </tr>\n",
       "    <tr>\n",
       "      <th>16</th>\n",
       "      <td>21.210</td>\n",
       "      <td>41</td>\n",
       "      <td>93</td>\n",
       "      <td>2011-01-01 16:00:00</td>\n",
       "      <td>0</td>\n",
       "      <td>82</td>\n",
       "      <td>52</td>\n",
       "      <td>1</td>\n",
       "      <td>17.22</td>\n",
       "      <td>2</td>\n",
       "      <td>19.9995</td>\n",
       "      <td>0</td>\n",
       "    </tr>\n",
       "    <tr>\n",
       "      <th>17</th>\n",
       "      <td>21.970</td>\n",
       "      <td>15</td>\n",
       "      <td>67</td>\n",
       "      <td>2011-01-01 17:00:00</td>\n",
       "      <td>0</td>\n",
       "      <td>82</td>\n",
       "      <td>52</td>\n",
       "      <td>1</td>\n",
       "      <td>18.04</td>\n",
       "      <td>2</td>\n",
       "      <td>19.0012</td>\n",
       "      <td>0</td>\n",
       "    </tr>\n",
       "    <tr>\n",
       "      <th>18</th>\n",
       "      <td>21.210</td>\n",
       "      <td>9</td>\n",
       "      <td>35</td>\n",
       "      <td>2011-01-01 18:00:00</td>\n",
       "      <td>0</td>\n",
       "      <td>88</td>\n",
       "      <td>26</td>\n",
       "      <td>1</td>\n",
       "      <td>17.22</td>\n",
       "      <td>3</td>\n",
       "      <td>16.9979</td>\n",
       "      <td>0</td>\n",
       "    </tr>\n",
       "    <tr>\n",
       "      <th>19</th>\n",
       "      <td>21.210</td>\n",
       "      <td>6</td>\n",
       "      <td>37</td>\n",
       "      <td>2011-01-01 19:00:00</td>\n",
       "      <td>0</td>\n",
       "      <td>88</td>\n",
       "      <td>31</td>\n",
       "      <td>1</td>\n",
       "      <td>17.22</td>\n",
       "      <td>3</td>\n",
       "      <td>16.9979</td>\n",
       "      <td>0</td>\n",
       "    </tr>\n",
       "    <tr>\n",
       "      <th>20</th>\n",
       "      <td>20.455</td>\n",
       "      <td>11</td>\n",
       "      <td>36</td>\n",
       "      <td>2011-01-01 20:00:00</td>\n",
       "      <td>0</td>\n",
       "      <td>87</td>\n",
       "      <td>25</td>\n",
       "      <td>1</td>\n",
       "      <td>16.40</td>\n",
       "      <td>2</td>\n",
       "      <td>16.9979</td>\n",
       "      <td>0</td>\n",
       "    </tr>\n",
       "    <tr>\n",
       "      <th>21</th>\n",
       "      <td>20.455</td>\n",
       "      <td>3</td>\n",
       "      <td>34</td>\n",
       "      <td>2011-01-01 21:00:00</td>\n",
       "      <td>0</td>\n",
       "      <td>87</td>\n",
       "      <td>31</td>\n",
       "      <td>1</td>\n",
       "      <td>16.40</td>\n",
       "      <td>2</td>\n",
       "      <td>12.9980</td>\n",
       "      <td>0</td>\n",
       "    </tr>\n",
       "    <tr>\n",
       "      <th>22</th>\n",
       "      <td>20.455</td>\n",
       "      <td>11</td>\n",
       "      <td>28</td>\n",
       "      <td>2011-01-01 22:00:00</td>\n",
       "      <td>0</td>\n",
       "      <td>94</td>\n",
       "      <td>17</td>\n",
       "      <td>1</td>\n",
       "      <td>16.40</td>\n",
       "      <td>2</td>\n",
       "      <td>15.0013</td>\n",
       "      <td>0</td>\n",
       "    </tr>\n",
       "    <tr>\n",
       "      <th>23</th>\n",
       "      <td>22.725</td>\n",
       "      <td>15</td>\n",
       "      <td>39</td>\n",
       "      <td>2011-01-01 23:00:00</td>\n",
       "      <td>0</td>\n",
       "      <td>88</td>\n",
       "      <td>24</td>\n",
       "      <td>1</td>\n",
       "      <td>18.86</td>\n",
       "      <td>2</td>\n",
       "      <td>19.9995</td>\n",
       "      <td>0</td>\n",
       "    </tr>\n",
       "    <tr>\n",
       "      <th>24</th>\n",
       "      <td>22.725</td>\n",
       "      <td>4</td>\n",
       "      <td>17</td>\n",
       "      <td>2011-01-02 00:00:00</td>\n",
       "      <td>0</td>\n",
       "      <td>88</td>\n",
       "      <td>13</td>\n",
       "      <td>1</td>\n",
       "      <td>18.86</td>\n",
       "      <td>2</td>\n",
       "      <td>19.9995</td>\n",
       "      <td>0</td>\n",
       "    </tr>\n",
       "    <tr>\n",
       "      <th>25</th>\n",
       "      <td>21.970</td>\n",
       "      <td>1</td>\n",
       "      <td>17</td>\n",
       "      <td>2011-01-02 01:00:00</td>\n",
       "      <td>0</td>\n",
       "      <td>94</td>\n",
       "      <td>16</td>\n",
       "      <td>1</td>\n",
       "      <td>18.04</td>\n",
       "      <td>2</td>\n",
       "      <td>16.9979</td>\n",
       "      <td>0</td>\n",
       "    </tr>\n",
       "    <tr>\n",
       "      <th>26</th>\n",
       "      <td>21.210</td>\n",
       "      <td>1</td>\n",
       "      <td>9</td>\n",
       "      <td>2011-01-02 02:00:00</td>\n",
       "      <td>0</td>\n",
       "      <td>100</td>\n",
       "      <td>8</td>\n",
       "      <td>1</td>\n",
       "      <td>17.22</td>\n",
       "      <td>2</td>\n",
       "      <td>19.0012</td>\n",
       "      <td>0</td>\n",
       "    </tr>\n",
       "    <tr>\n",
       "      <th>27</th>\n",
       "      <td>22.725</td>\n",
       "      <td>2</td>\n",
       "      <td>6</td>\n",
       "      <td>2011-01-02 03:00:00</td>\n",
       "      <td>0</td>\n",
       "      <td>94</td>\n",
       "      <td>4</td>\n",
       "      <td>1</td>\n",
       "      <td>18.86</td>\n",
       "      <td>2</td>\n",
       "      <td>12.9980</td>\n",
       "      <td>0</td>\n",
       "    </tr>\n",
       "    <tr>\n",
       "      <th>28</th>\n",
       "      <td>22.725</td>\n",
       "      <td>2</td>\n",
       "      <td>3</td>\n",
       "      <td>2011-01-02 04:00:00</td>\n",
       "      <td>0</td>\n",
       "      <td>94</td>\n",
       "      <td>1</td>\n",
       "      <td>1</td>\n",
       "      <td>18.86</td>\n",
       "      <td>2</td>\n",
       "      <td>12.9980</td>\n",
       "      <td>0</td>\n",
       "    </tr>\n",
       "    <tr>\n",
       "      <th>29</th>\n",
       "      <td>21.210</td>\n",
       "      <td>0</td>\n",
       "      <td>2</td>\n",
       "      <td>2011-01-02 06:00:00</td>\n",
       "      <td>0</td>\n",
       "      <td>77</td>\n",
       "      <td>2</td>\n",
       "      <td>1</td>\n",
       "      <td>17.22</td>\n",
       "      <td>3</td>\n",
       "      <td>19.9995</td>\n",
       "      <td>0</td>\n",
       "    </tr>\n",
       "    <tr>\n",
       "      <th>...</th>\n",
       "      <td>...</td>\n",
       "      <td>...</td>\n",
       "      <td>...</td>\n",
       "      <td>...</td>\n",
       "      <td>...</td>\n",
       "      <td>...</td>\n",
       "      <td>...</td>\n",
       "      <td>...</td>\n",
       "      <td>...</td>\n",
       "      <td>...</td>\n",
       "      <td>...</td>\n",
       "      <td>...</td>\n",
       "    </tr>\n",
       "    <tr>\n",
       "      <th>10856</th>\n",
       "      <td>19.695</td>\n",
       "      <td>13</td>\n",
       "      <td>525</td>\n",
       "      <td>2012-12-18 18:00:00</td>\n",
       "      <td>0</td>\n",
       "      <td>46</td>\n",
       "      <td>512</td>\n",
       "      <td>4</td>\n",
       "      <td>15.58</td>\n",
       "      <td>1</td>\n",
       "      <td>22.0028</td>\n",
       "      <td>1</td>\n",
       "    </tr>\n",
       "    <tr>\n",
       "      <th>10857</th>\n",
       "      <td>19.695</td>\n",
       "      <td>19</td>\n",
       "      <td>353</td>\n",
       "      <td>2012-12-18 19:00:00</td>\n",
       "      <td>0</td>\n",
       "      <td>46</td>\n",
       "      <td>334</td>\n",
       "      <td>4</td>\n",
       "      <td>15.58</td>\n",
       "      <td>1</td>\n",
       "      <td>26.0027</td>\n",
       "      <td>1</td>\n",
       "    </tr>\n",
       "    <tr>\n",
       "      <th>10858</th>\n",
       "      <td>16.665</td>\n",
       "      <td>4</td>\n",
       "      <td>268</td>\n",
       "      <td>2012-12-18 20:00:00</td>\n",
       "      <td>0</td>\n",
       "      <td>50</td>\n",
       "      <td>264</td>\n",
       "      <td>4</td>\n",
       "      <td>14.76</td>\n",
       "      <td>1</td>\n",
       "      <td>16.9979</td>\n",
       "      <td>1</td>\n",
       "    </tr>\n",
       "    <tr>\n",
       "      <th>10859</th>\n",
       "      <td>17.425</td>\n",
       "      <td>9</td>\n",
       "      <td>168</td>\n",
       "      <td>2012-12-18 21:00:00</td>\n",
       "      <td>0</td>\n",
       "      <td>50</td>\n",
       "      <td>159</td>\n",
       "      <td>4</td>\n",
       "      <td>14.76</td>\n",
       "      <td>1</td>\n",
       "      <td>15.0013</td>\n",
       "      <td>1</td>\n",
       "    </tr>\n",
       "    <tr>\n",
       "      <th>10860</th>\n",
       "      <td>16.665</td>\n",
       "      <td>5</td>\n",
       "      <td>132</td>\n",
       "      <td>2012-12-18 22:00:00</td>\n",
       "      <td>0</td>\n",
       "      <td>49</td>\n",
       "      <td>127</td>\n",
       "      <td>4</td>\n",
       "      <td>13.94</td>\n",
       "      <td>1</td>\n",
       "      <td>0.0000</td>\n",
       "      <td>1</td>\n",
       "    </tr>\n",
       "    <tr>\n",
       "      <th>10861</th>\n",
       "      <td>17.425</td>\n",
       "      <td>1</td>\n",
       "      <td>81</td>\n",
       "      <td>2012-12-18 23:00:00</td>\n",
       "      <td>0</td>\n",
       "      <td>49</td>\n",
       "      <td>80</td>\n",
       "      <td>4</td>\n",
       "      <td>13.94</td>\n",
       "      <td>1</td>\n",
       "      <td>6.0032</td>\n",
       "      <td>1</td>\n",
       "    </tr>\n",
       "    <tr>\n",
       "      <th>10862</th>\n",
       "      <td>15.910</td>\n",
       "      <td>6</td>\n",
       "      <td>41</td>\n",
       "      <td>2012-12-19 00:00:00</td>\n",
       "      <td>0</td>\n",
       "      <td>61</td>\n",
       "      <td>35</td>\n",
       "      <td>4</td>\n",
       "      <td>12.30</td>\n",
       "      <td>1</td>\n",
       "      <td>0.0000</td>\n",
       "      <td>1</td>\n",
       "    </tr>\n",
       "    <tr>\n",
       "      <th>10863</th>\n",
       "      <td>15.910</td>\n",
       "      <td>1</td>\n",
       "      <td>15</td>\n",
       "      <td>2012-12-19 01:00:00</td>\n",
       "      <td>0</td>\n",
       "      <td>65</td>\n",
       "      <td>14</td>\n",
       "      <td>4</td>\n",
       "      <td>12.30</td>\n",
       "      <td>1</td>\n",
       "      <td>6.0032</td>\n",
       "      <td>1</td>\n",
       "    </tr>\n",
       "    <tr>\n",
       "      <th>10864</th>\n",
       "      <td>15.150</td>\n",
       "      <td>1</td>\n",
       "      <td>3</td>\n",
       "      <td>2012-12-19 02:00:00</td>\n",
       "      <td>0</td>\n",
       "      <td>65</td>\n",
       "      <td>2</td>\n",
       "      <td>4</td>\n",
       "      <td>11.48</td>\n",
       "      <td>1</td>\n",
       "      <td>6.0032</td>\n",
       "      <td>1</td>\n",
       "    </tr>\n",
       "    <tr>\n",
       "      <th>10865</th>\n",
       "      <td>13.635</td>\n",
       "      <td>0</td>\n",
       "      <td>5</td>\n",
       "      <td>2012-12-19 03:00:00</td>\n",
       "      <td>0</td>\n",
       "      <td>75</td>\n",
       "      <td>5</td>\n",
       "      <td>4</td>\n",
       "      <td>10.66</td>\n",
       "      <td>1</td>\n",
       "      <td>8.9981</td>\n",
       "      <td>1</td>\n",
       "    </tr>\n",
       "    <tr>\n",
       "      <th>10866</th>\n",
       "      <td>12.120</td>\n",
       "      <td>1</td>\n",
       "      <td>7</td>\n",
       "      <td>2012-12-19 04:00:00</td>\n",
       "      <td>0</td>\n",
       "      <td>75</td>\n",
       "      <td>6</td>\n",
       "      <td>4</td>\n",
       "      <td>9.84</td>\n",
       "      <td>1</td>\n",
       "      <td>8.9981</td>\n",
       "      <td>1</td>\n",
       "    </tr>\n",
       "    <tr>\n",
       "      <th>10867</th>\n",
       "      <td>14.395</td>\n",
       "      <td>2</td>\n",
       "      <td>31</td>\n",
       "      <td>2012-12-19 05:00:00</td>\n",
       "      <td>0</td>\n",
       "      <td>75</td>\n",
       "      <td>29</td>\n",
       "      <td>4</td>\n",
       "      <td>10.66</td>\n",
       "      <td>1</td>\n",
       "      <td>6.0032</td>\n",
       "      <td>1</td>\n",
       "    </tr>\n",
       "    <tr>\n",
       "      <th>10868</th>\n",
       "      <td>12.880</td>\n",
       "      <td>3</td>\n",
       "      <td>112</td>\n",
       "      <td>2012-12-19 06:00:00</td>\n",
       "      <td>0</td>\n",
       "      <td>75</td>\n",
       "      <td>109</td>\n",
       "      <td>4</td>\n",
       "      <td>9.84</td>\n",
       "      <td>1</td>\n",
       "      <td>6.0032</td>\n",
       "      <td>1</td>\n",
       "    </tr>\n",
       "    <tr>\n",
       "      <th>10869</th>\n",
       "      <td>13.635</td>\n",
       "      <td>3</td>\n",
       "      <td>363</td>\n",
       "      <td>2012-12-19 07:00:00</td>\n",
       "      <td>0</td>\n",
       "      <td>75</td>\n",
       "      <td>360</td>\n",
       "      <td>4</td>\n",
       "      <td>10.66</td>\n",
       "      <td>1</td>\n",
       "      <td>8.9981</td>\n",
       "      <td>1</td>\n",
       "    </tr>\n",
       "    <tr>\n",
       "      <th>10870</th>\n",
       "      <td>12.880</td>\n",
       "      <td>13</td>\n",
       "      <td>678</td>\n",
       "      <td>2012-12-19 08:00:00</td>\n",
       "      <td>0</td>\n",
       "      <td>87</td>\n",
       "      <td>665</td>\n",
       "      <td>4</td>\n",
       "      <td>9.84</td>\n",
       "      <td>1</td>\n",
       "      <td>7.0015</td>\n",
       "      <td>1</td>\n",
       "    </tr>\n",
       "    <tr>\n",
       "      <th>10871</th>\n",
       "      <td>14.395</td>\n",
       "      <td>8</td>\n",
       "      <td>317</td>\n",
       "      <td>2012-12-19 09:00:00</td>\n",
       "      <td>0</td>\n",
       "      <td>75</td>\n",
       "      <td>309</td>\n",
       "      <td>4</td>\n",
       "      <td>11.48</td>\n",
       "      <td>1</td>\n",
       "      <td>7.0015</td>\n",
       "      <td>1</td>\n",
       "    </tr>\n",
       "    <tr>\n",
       "      <th>10872</th>\n",
       "      <td>16.665</td>\n",
       "      <td>17</td>\n",
       "      <td>164</td>\n",
       "      <td>2012-12-19 10:00:00</td>\n",
       "      <td>0</td>\n",
       "      <td>70</td>\n",
       "      <td>147</td>\n",
       "      <td>4</td>\n",
       "      <td>13.12</td>\n",
       "      <td>1</td>\n",
       "      <td>7.0015</td>\n",
       "      <td>1</td>\n",
       "    </tr>\n",
       "    <tr>\n",
       "      <th>10873</th>\n",
       "      <td>20.455</td>\n",
       "      <td>31</td>\n",
       "      <td>200</td>\n",
       "      <td>2012-12-19 11:00:00</td>\n",
       "      <td>0</td>\n",
       "      <td>54</td>\n",
       "      <td>169</td>\n",
       "      <td>4</td>\n",
       "      <td>16.40</td>\n",
       "      <td>1</td>\n",
       "      <td>15.0013</td>\n",
       "      <td>1</td>\n",
       "    </tr>\n",
       "    <tr>\n",
       "      <th>10874</th>\n",
       "      <td>20.455</td>\n",
       "      <td>33</td>\n",
       "      <td>236</td>\n",
       "      <td>2012-12-19 12:00:00</td>\n",
       "      <td>0</td>\n",
       "      <td>54</td>\n",
       "      <td>203</td>\n",
       "      <td>4</td>\n",
       "      <td>16.40</td>\n",
       "      <td>1</td>\n",
       "      <td>19.0012</td>\n",
       "      <td>1</td>\n",
       "    </tr>\n",
       "    <tr>\n",
       "      <th>10875</th>\n",
       "      <td>21.210</td>\n",
       "      <td>30</td>\n",
       "      <td>213</td>\n",
       "      <td>2012-12-19 13:00:00</td>\n",
       "      <td>0</td>\n",
       "      <td>50</td>\n",
       "      <td>183</td>\n",
       "      <td>4</td>\n",
       "      <td>17.22</td>\n",
       "      <td>1</td>\n",
       "      <td>12.9980</td>\n",
       "      <td>1</td>\n",
       "    </tr>\n",
       "    <tr>\n",
       "      <th>10876</th>\n",
       "      <td>21.210</td>\n",
       "      <td>33</td>\n",
       "      <td>218</td>\n",
       "      <td>2012-12-19 14:00:00</td>\n",
       "      <td>0</td>\n",
       "      <td>50</td>\n",
       "      <td>185</td>\n",
       "      <td>4</td>\n",
       "      <td>17.22</td>\n",
       "      <td>1</td>\n",
       "      <td>12.9980</td>\n",
       "      <td>1</td>\n",
       "    </tr>\n",
       "    <tr>\n",
       "      <th>10877</th>\n",
       "      <td>21.210</td>\n",
       "      <td>28</td>\n",
       "      <td>237</td>\n",
       "      <td>2012-12-19 15:00:00</td>\n",
       "      <td>0</td>\n",
       "      <td>50</td>\n",
       "      <td>209</td>\n",
       "      <td>4</td>\n",
       "      <td>17.22</td>\n",
       "      <td>1</td>\n",
       "      <td>19.0012</td>\n",
       "      <td>1</td>\n",
       "    </tr>\n",
       "    <tr>\n",
       "      <th>10878</th>\n",
       "      <td>21.210</td>\n",
       "      <td>37</td>\n",
       "      <td>334</td>\n",
       "      <td>2012-12-19 16:00:00</td>\n",
       "      <td>0</td>\n",
       "      <td>50</td>\n",
       "      <td>297</td>\n",
       "      <td>4</td>\n",
       "      <td>17.22</td>\n",
       "      <td>1</td>\n",
       "      <td>23.9994</td>\n",
       "      <td>1</td>\n",
       "    </tr>\n",
       "    <tr>\n",
       "      <th>10879</th>\n",
       "      <td>20.455</td>\n",
       "      <td>26</td>\n",
       "      <td>562</td>\n",
       "      <td>2012-12-19 17:00:00</td>\n",
       "      <td>0</td>\n",
       "      <td>50</td>\n",
       "      <td>536</td>\n",
       "      <td>4</td>\n",
       "      <td>16.40</td>\n",
       "      <td>1</td>\n",
       "      <td>26.0027</td>\n",
       "      <td>1</td>\n",
       "    </tr>\n",
       "    <tr>\n",
       "      <th>10880</th>\n",
       "      <td>19.695</td>\n",
       "      <td>23</td>\n",
       "      <td>569</td>\n",
       "      <td>2012-12-19 18:00:00</td>\n",
       "      <td>0</td>\n",
       "      <td>50</td>\n",
       "      <td>546</td>\n",
       "      <td>4</td>\n",
       "      <td>15.58</td>\n",
       "      <td>1</td>\n",
       "      <td>23.9994</td>\n",
       "      <td>1</td>\n",
       "    </tr>\n",
       "    <tr>\n",
       "      <th>10881</th>\n",
       "      <td>19.695</td>\n",
       "      <td>7</td>\n",
       "      <td>336</td>\n",
       "      <td>2012-12-19 19:00:00</td>\n",
       "      <td>0</td>\n",
       "      <td>50</td>\n",
       "      <td>329</td>\n",
       "      <td>4</td>\n",
       "      <td>15.58</td>\n",
       "      <td>1</td>\n",
       "      <td>26.0027</td>\n",
       "      <td>1</td>\n",
       "    </tr>\n",
       "    <tr>\n",
       "      <th>10882</th>\n",
       "      <td>17.425</td>\n",
       "      <td>10</td>\n",
       "      <td>241</td>\n",
       "      <td>2012-12-19 20:00:00</td>\n",
       "      <td>0</td>\n",
       "      <td>57</td>\n",
       "      <td>231</td>\n",
       "      <td>4</td>\n",
       "      <td>14.76</td>\n",
       "      <td>1</td>\n",
       "      <td>15.0013</td>\n",
       "      <td>1</td>\n",
       "    </tr>\n",
       "    <tr>\n",
       "      <th>10883</th>\n",
       "      <td>15.910</td>\n",
       "      <td>4</td>\n",
       "      <td>168</td>\n",
       "      <td>2012-12-19 21:00:00</td>\n",
       "      <td>0</td>\n",
       "      <td>61</td>\n",
       "      <td>164</td>\n",
       "      <td>4</td>\n",
       "      <td>13.94</td>\n",
       "      <td>1</td>\n",
       "      <td>15.0013</td>\n",
       "      <td>1</td>\n",
       "    </tr>\n",
       "    <tr>\n",
       "      <th>10884</th>\n",
       "      <td>17.425</td>\n",
       "      <td>12</td>\n",
       "      <td>129</td>\n",
       "      <td>2012-12-19 22:00:00</td>\n",
       "      <td>0</td>\n",
       "      <td>61</td>\n",
       "      <td>117</td>\n",
       "      <td>4</td>\n",
       "      <td>13.94</td>\n",
       "      <td>1</td>\n",
       "      <td>6.0032</td>\n",
       "      <td>1</td>\n",
       "    </tr>\n",
       "    <tr>\n",
       "      <th>10885</th>\n",
       "      <td>16.665</td>\n",
       "      <td>4</td>\n",
       "      <td>88</td>\n",
       "      <td>2012-12-19 23:00:00</td>\n",
       "      <td>0</td>\n",
       "      <td>66</td>\n",
       "      <td>84</td>\n",
       "      <td>4</td>\n",
       "      <td>13.12</td>\n",
       "      <td>1</td>\n",
       "      <td>8.9981</td>\n",
       "      <td>1</td>\n",
       "    </tr>\n",
       "  </tbody>\n",
       "</table>\n",
       "<p>10886 rows × 12 columns</p>\n",
       "</div>"
      ],
      "text/plain": [
       "        atemp  casual  count            datetime  holiday  humidity  \\\n",
       "0      14.395       3     16 2011-01-01 00:00:00        0        81   \n",
       "1      13.635       8     40 2011-01-01 01:00:00        0        80   \n",
       "2      13.635       5     32 2011-01-01 02:00:00        0        80   \n",
       "3      14.395       3     13 2011-01-01 03:00:00        0        75   \n",
       "4      14.395       0      1 2011-01-01 04:00:00        0        75   \n",
       "5      12.880       0      1 2011-01-01 05:00:00        0        75   \n",
       "6      13.635       2      2 2011-01-01 06:00:00        0        80   \n",
       "7      12.880       1      3 2011-01-01 07:00:00        0        86   \n",
       "8      14.395       1      8 2011-01-01 08:00:00        0        75   \n",
       "9      17.425       8     14 2011-01-01 09:00:00        0        76   \n",
       "10     19.695      12     36 2011-01-01 10:00:00        0        76   \n",
       "11     16.665      26     56 2011-01-01 11:00:00        0        81   \n",
       "12     21.210      29     84 2011-01-01 12:00:00        0        77   \n",
       "13     22.725      47     94 2011-01-01 13:00:00        0        72   \n",
       "14     22.725      35    106 2011-01-01 14:00:00        0        72   \n",
       "15     21.970      40    110 2011-01-01 15:00:00        0        77   \n",
       "16     21.210      41     93 2011-01-01 16:00:00        0        82   \n",
       "17     21.970      15     67 2011-01-01 17:00:00        0        82   \n",
       "18     21.210       9     35 2011-01-01 18:00:00        0        88   \n",
       "19     21.210       6     37 2011-01-01 19:00:00        0        88   \n",
       "20     20.455      11     36 2011-01-01 20:00:00        0        87   \n",
       "21     20.455       3     34 2011-01-01 21:00:00        0        87   \n",
       "22     20.455      11     28 2011-01-01 22:00:00        0        94   \n",
       "23     22.725      15     39 2011-01-01 23:00:00        0        88   \n",
       "24     22.725       4     17 2011-01-02 00:00:00        0        88   \n",
       "25     21.970       1     17 2011-01-02 01:00:00        0        94   \n",
       "26     21.210       1      9 2011-01-02 02:00:00        0       100   \n",
       "27     22.725       2      6 2011-01-02 03:00:00        0        94   \n",
       "28     22.725       2      3 2011-01-02 04:00:00        0        94   \n",
       "29     21.210       0      2 2011-01-02 06:00:00        0        77   \n",
       "...       ...     ...    ...                 ...      ...       ...   \n",
       "10856  19.695      13    525 2012-12-18 18:00:00        0        46   \n",
       "10857  19.695      19    353 2012-12-18 19:00:00        0        46   \n",
       "10858  16.665       4    268 2012-12-18 20:00:00        0        50   \n",
       "10859  17.425       9    168 2012-12-18 21:00:00        0        50   \n",
       "10860  16.665       5    132 2012-12-18 22:00:00        0        49   \n",
       "10861  17.425       1     81 2012-12-18 23:00:00        0        49   \n",
       "10862  15.910       6     41 2012-12-19 00:00:00        0        61   \n",
       "10863  15.910       1     15 2012-12-19 01:00:00        0        65   \n",
       "10864  15.150       1      3 2012-12-19 02:00:00        0        65   \n",
       "10865  13.635       0      5 2012-12-19 03:00:00        0        75   \n",
       "10866  12.120       1      7 2012-12-19 04:00:00        0        75   \n",
       "10867  14.395       2     31 2012-12-19 05:00:00        0        75   \n",
       "10868  12.880       3    112 2012-12-19 06:00:00        0        75   \n",
       "10869  13.635       3    363 2012-12-19 07:00:00        0        75   \n",
       "10870  12.880      13    678 2012-12-19 08:00:00        0        87   \n",
       "10871  14.395       8    317 2012-12-19 09:00:00        0        75   \n",
       "10872  16.665      17    164 2012-12-19 10:00:00        0        70   \n",
       "10873  20.455      31    200 2012-12-19 11:00:00        0        54   \n",
       "10874  20.455      33    236 2012-12-19 12:00:00        0        54   \n",
       "10875  21.210      30    213 2012-12-19 13:00:00        0        50   \n",
       "10876  21.210      33    218 2012-12-19 14:00:00        0        50   \n",
       "10877  21.210      28    237 2012-12-19 15:00:00        0        50   \n",
       "10878  21.210      37    334 2012-12-19 16:00:00        0        50   \n",
       "10879  20.455      26    562 2012-12-19 17:00:00        0        50   \n",
       "10880  19.695      23    569 2012-12-19 18:00:00        0        50   \n",
       "10881  19.695       7    336 2012-12-19 19:00:00        0        50   \n",
       "10882  17.425      10    241 2012-12-19 20:00:00        0        57   \n",
       "10883  15.910       4    168 2012-12-19 21:00:00        0        61   \n",
       "10884  17.425      12    129 2012-12-19 22:00:00        0        61   \n",
       "10885  16.665       4     88 2012-12-19 23:00:00        0        66   \n",
       "\n",
       "       registered  season   temp  weather  windspeed  workingday  \n",
       "0              13       1   9.84        1     0.0000           0  \n",
       "1              32       1   9.02        1     0.0000           0  \n",
       "2              27       1   9.02        1     0.0000           0  \n",
       "3              10       1   9.84        1     0.0000           0  \n",
       "4               1       1   9.84        1     0.0000           0  \n",
       "5               1       1   9.84        2     6.0032           0  \n",
       "6               0       1   9.02        1     0.0000           0  \n",
       "7               2       1   8.20        1     0.0000           0  \n",
       "8               7       1   9.84        1     0.0000           0  \n",
       "9               6       1  13.12        1     0.0000           0  \n",
       "10             24       1  15.58        1    16.9979           0  \n",
       "11             30       1  14.76        1    19.0012           0  \n",
       "12             55       1  17.22        1    19.0012           0  \n",
       "13             47       1  18.86        2    19.9995           0  \n",
       "14             71       1  18.86        2    19.0012           0  \n",
       "15             70       1  18.04        2    19.9995           0  \n",
       "16             52       1  17.22        2    19.9995           0  \n",
       "17             52       1  18.04        2    19.0012           0  \n",
       "18             26       1  17.22        3    16.9979           0  \n",
       "19             31       1  17.22        3    16.9979           0  \n",
       "20             25       1  16.40        2    16.9979           0  \n",
       "21             31       1  16.40        2    12.9980           0  \n",
       "22             17       1  16.40        2    15.0013           0  \n",
       "23             24       1  18.86        2    19.9995           0  \n",
       "24             13       1  18.86        2    19.9995           0  \n",
       "25             16       1  18.04        2    16.9979           0  \n",
       "26              8       1  17.22        2    19.0012           0  \n",
       "27              4       1  18.86        2    12.9980           0  \n",
       "28              1       1  18.86        2    12.9980           0  \n",
       "29              2       1  17.22        3    19.9995           0  \n",
       "...           ...     ...    ...      ...        ...         ...  \n",
       "10856         512       4  15.58        1    22.0028           1  \n",
       "10857         334       4  15.58        1    26.0027           1  \n",
       "10858         264       4  14.76        1    16.9979           1  \n",
       "10859         159       4  14.76        1    15.0013           1  \n",
       "10860         127       4  13.94        1     0.0000           1  \n",
       "10861          80       4  13.94        1     6.0032           1  \n",
       "10862          35       4  12.30        1     0.0000           1  \n",
       "10863          14       4  12.30        1     6.0032           1  \n",
       "10864           2       4  11.48        1     6.0032           1  \n",
       "10865           5       4  10.66        1     8.9981           1  \n",
       "10866           6       4   9.84        1     8.9981           1  \n",
       "10867          29       4  10.66        1     6.0032           1  \n",
       "10868         109       4   9.84        1     6.0032           1  \n",
       "10869         360       4  10.66        1     8.9981           1  \n",
       "10870         665       4   9.84        1     7.0015           1  \n",
       "10871         309       4  11.48        1     7.0015           1  \n",
       "10872         147       4  13.12        1     7.0015           1  \n",
       "10873         169       4  16.40        1    15.0013           1  \n",
       "10874         203       4  16.40        1    19.0012           1  \n",
       "10875         183       4  17.22        1    12.9980           1  \n",
       "10876         185       4  17.22        1    12.9980           1  \n",
       "10877         209       4  17.22        1    19.0012           1  \n",
       "10878         297       4  17.22        1    23.9994           1  \n",
       "10879         536       4  16.40        1    26.0027           1  \n",
       "10880         546       4  15.58        1    23.9994           1  \n",
       "10881         329       4  15.58        1    26.0027           1  \n",
       "10882         231       4  14.76        1    15.0013           1  \n",
       "10883         164       4  13.94        1    15.0013           1  \n",
       "10884         117       4  13.94        1     6.0032           1  \n",
       "10885          84       4  13.12        1     8.9981           1  \n",
       "\n",
       "[10886 rows x 12 columns]"
      ]
     },
     "execution_count": 84,
     "metadata": {},
     "output_type": "execute_result"
    }
   ],
   "source": [
    "bike_json = pd.read_json(\"bike.json\")\n",
    "bike_json"
   ]
  },
  {
   "cell_type": "code",
   "execution_count": null,
   "metadata": {},
   "outputs": [],
   "source": []
  },
  {
   "cell_type": "code",
   "execution_count": 85,
   "metadata": {},
   "outputs": [
    {
     "data": {
      "text/html": [
       "<div>\n",
       "<style scoped>\n",
       "    .dataframe tbody tr th:only-of-type {\n",
       "        vertical-align: middle;\n",
       "    }\n",
       "\n",
       "    .dataframe tbody tr th {\n",
       "        vertical-align: top;\n",
       "    }\n",
       "\n",
       "    .dataframe thead th {\n",
       "        text-align: right;\n",
       "    }\n",
       "</style>\n",
       "<table border=\"1\" class=\"dataframe\">\n",
       "  <thead>\n",
       "    <tr style=\"text-align: right;\">\n",
       "      <th></th>\n",
       "      <th>datetime</th>\n",
       "      <th>casual</th>\n",
       "      <th>registered</th>\n",
       "      <th>count</th>\n",
       "    </tr>\n",
       "  </thead>\n",
       "  <tbody>\n",
       "    <tr>\n",
       "      <th>0</th>\n",
       "      <td>2011-01-01 00:00:00</td>\n",
       "      <td>3</td>\n",
       "      <td>13</td>\n",
       "      <td>16</td>\n",
       "    </tr>\n",
       "    <tr>\n",
       "      <th>1</th>\n",
       "      <td>2011-01-01 01:00:00</td>\n",
       "      <td>8</td>\n",
       "      <td>32</td>\n",
       "      <td>40</td>\n",
       "    </tr>\n",
       "    <tr>\n",
       "      <th>2</th>\n",
       "      <td>2011-01-01 02:00:00</td>\n",
       "      <td>5</td>\n",
       "      <td>27</td>\n",
       "      <td>32</td>\n",
       "    </tr>\n",
       "    <tr>\n",
       "      <th>3</th>\n",
       "      <td>2011-01-01 03:00:00</td>\n",
       "      <td>3</td>\n",
       "      <td>10</td>\n",
       "      <td>13</td>\n",
       "    </tr>\n",
       "    <tr>\n",
       "      <th>4</th>\n",
       "      <td>2011-01-01 04:00:00</td>\n",
       "      <td>0</td>\n",
       "      <td>1</td>\n",
       "      <td>1</td>\n",
       "    </tr>\n",
       "  </tbody>\n",
       "</table>\n",
       "</div>"
      ],
      "text/plain": [
       "              datetime  casual  registered  count\n",
       "0  2011-01-01 00:00:00       3          13     16\n",
       "1  2011-01-01 01:00:00       8          32     40\n",
       "2  2011-01-01 02:00:00       5          27     32\n",
       "3  2011-01-01 03:00:00       3          10     13\n",
       "4  2011-01-01 04:00:00       0           1      1"
      ]
     },
     "execution_count": 85,
     "metadata": {},
     "output_type": "execute_result"
    }
   ],
   "source": [
    "bike.head()"
   ]
  },
  {
   "cell_type": "code",
   "execution_count": 86,
   "metadata": {},
   "outputs": [
    {
     "data": {
      "text/html": [
       "<div>\n",
       "<style scoped>\n",
       "    .dataframe tbody tr th:only-of-type {\n",
       "        vertical-align: middle;\n",
       "    }\n",
       "\n",
       "    .dataframe tbody tr th {\n",
       "        vertical-align: top;\n",
       "    }\n",
       "\n",
       "    .dataframe thead th {\n",
       "        text-align: right;\n",
       "    }\n",
       "</style>\n",
       "<table border=\"1\" class=\"dataframe\">\n",
       "  <thead>\n",
       "    <tr style=\"text-align: right;\">\n",
       "      <th></th>\n",
       "      <th>datetime</th>\n",
       "      <th>casual</th>\n",
       "      <th>registered</th>\n",
       "      <th>count</th>\n",
       "    </tr>\n",
       "  </thead>\n",
       "  <tbody>\n",
       "    <tr>\n",
       "      <th>10884</th>\n",
       "      <td>2012-12-19 22:00:00</td>\n",
       "      <td>12</td>\n",
       "      <td>117</td>\n",
       "      <td>129</td>\n",
       "    </tr>\n",
       "    <tr>\n",
       "      <th>10885</th>\n",
       "      <td>2012-12-19 23:00:00</td>\n",
       "      <td>4</td>\n",
       "      <td>84</td>\n",
       "      <td>88</td>\n",
       "    </tr>\n",
       "  </tbody>\n",
       "</table>\n",
       "</div>"
      ],
      "text/plain": [
       "                  datetime  casual  registered  count\n",
       "10884  2012-12-19 22:00:00      12         117    129\n",
       "10885  2012-12-19 23:00:00       4          84     88"
      ]
     },
     "execution_count": 86,
     "metadata": {},
     "output_type": "execute_result"
    }
   ],
   "source": [
    "bike.tail(2)"
   ]
  },
  {
   "cell_type": "code",
   "execution_count": 87,
   "metadata": {},
   "outputs": [
    {
     "data": {
      "text/html": [
       "<div>\n",
       "<style scoped>\n",
       "    .dataframe tbody tr th:only-of-type {\n",
       "        vertical-align: middle;\n",
       "    }\n",
       "\n",
       "    .dataframe tbody tr th {\n",
       "        vertical-align: top;\n",
       "    }\n",
       "\n",
       "    .dataframe thead th {\n",
       "        text-align: right;\n",
       "    }\n",
       "</style>\n",
       "<table border=\"1\" class=\"dataframe\">\n",
       "  <thead>\n",
       "    <tr style=\"text-align: right;\">\n",
       "      <th></th>\n",
       "      <th>datetime</th>\n",
       "      <th>casual</th>\n",
       "      <th>registered</th>\n",
       "      <th>count</th>\n",
       "    </tr>\n",
       "  </thead>\n",
       "  <tbody>\n",
       "    <tr>\n",
       "      <th>0</th>\n",
       "      <td>2011-01-01 00:00:00</td>\n",
       "      <td>3</td>\n",
       "      <td>13</td>\n",
       "      <td>16</td>\n",
       "    </tr>\n",
       "    <tr>\n",
       "      <th>1</th>\n",
       "      <td>2011-01-01 01:00:00</td>\n",
       "      <td>8</td>\n",
       "      <td>32</td>\n",
       "      <td>40</td>\n",
       "    </tr>\n",
       "    <tr>\n",
       "      <th>2</th>\n",
       "      <td>2011-01-01 02:00:00</td>\n",
       "      <td>5</td>\n",
       "      <td>27</td>\n",
       "      <td>32</td>\n",
       "    </tr>\n",
       "    <tr>\n",
       "      <th>3</th>\n",
       "      <td>2011-01-01 03:00:00</td>\n",
       "      <td>3</td>\n",
       "      <td>10</td>\n",
       "      <td>13</td>\n",
       "    </tr>\n",
       "    <tr>\n",
       "      <th>4</th>\n",
       "      <td>2011-01-01 04:00:00</td>\n",
       "      <td>0</td>\n",
       "      <td>1</td>\n",
       "      <td>1</td>\n",
       "    </tr>\n",
       "  </tbody>\n",
       "</table>\n",
       "</div>"
      ],
      "text/plain": [
       "              datetime  casual  registered  count\n",
       "0  2011-01-01 00:00:00       3          13     16\n",
       "1  2011-01-01 01:00:00       8          32     40\n",
       "2  2011-01-01 02:00:00       5          27     32\n",
       "3  2011-01-01 03:00:00       3          10     13\n",
       "4  2011-01-01 04:00:00       0           1      1"
      ]
     },
     "execution_count": 87,
     "metadata": {},
     "output_type": "execute_result"
    }
   ],
   "source": [
    "bike.head(5)"
   ]
  },
  {
   "cell_type": "code",
   "execution_count": 88,
   "metadata": {},
   "outputs": [
    {
     "data": {
      "text/plain": [
       "datetime      object\n",
       "casual         int64\n",
       "registered     int64\n",
       "count          int64\n",
       "dtype: object"
      ]
     },
     "execution_count": 88,
     "metadata": {},
     "output_type": "execute_result"
    }
   ],
   "source": [
    "bike.columns\n",
    "bike.shape\n",
    "bike.size\n",
    "bike.dtypes"
   ]
  },
  {
   "cell_type": "code",
   "execution_count": 89,
   "metadata": {},
   "outputs": [
    {
     "data": {
      "text/plain": [
       "atemp                      13.635\n",
       "casual                          8\n",
       "count                          40\n",
       "datetime      2011-01-01 01:00:00\n",
       "holiday                         0\n",
       "humidity                       80\n",
       "registered                     32\n",
       "season                          1\n",
       "temp                         9.02\n",
       "weather                         1\n",
       "windspeed                       0\n",
       "workingday                      0\n",
       "Name: 1, dtype: object"
      ]
     },
     "execution_count": 89,
     "metadata": {},
     "output_type": "execute_result"
    }
   ],
   "source": [
    "bike_json.iloc[1]"
   ]
  },
  {
   "cell_type": "code",
   "execution_count": 90,
   "metadata": {},
   "outputs": [
    {
     "data": {
      "text/plain": [
       "10886"
      ]
     },
     "execution_count": 90,
     "metadata": {},
     "output_type": "execute_result"
    }
   ],
   "source": [
    "bike_json.shape[0]"
   ]
  },
  {
   "cell_type": "code",
   "execution_count": 91,
   "metadata": {},
   "outputs": [
    {
     "data": {
      "text/plain": [
       "12"
      ]
     },
     "execution_count": 91,
     "metadata": {},
     "output_type": "execute_result"
    }
   ],
   "source": [
    "bike_json.shape[1]"
   ]
  },
  {
   "cell_type": "code",
   "execution_count": 92,
   "metadata": {},
   "outputs": [
    {
     "data": {
      "text/plain": [
       "14.395"
      ]
     },
     "execution_count": 92,
     "metadata": {},
     "output_type": "execute_result"
    }
   ],
   "source": [
    "bike_json.iloc[0, 0]"
   ]
  },
  {
   "cell_type": "code",
   "execution_count": 93,
   "metadata": {},
   "outputs": [
    {
     "data": {
      "text/plain": [
       "0    1\n",
       "1    1\n",
       "2    1\n",
       "Name: weather, dtype: int64"
      ]
     },
     "execution_count": 93,
     "metadata": {},
     "output_type": "execute_result"
    }
   ],
   "source": [
    "bike_json.iloc[0:3, 9]"
   ]
  },
  {
   "cell_type": "code",
   "execution_count": 94,
   "metadata": {},
   "outputs": [
    {
     "data": {
      "text/plain": [
       "0    16\n",
       "1    40\n",
       "2    32\n",
       "Name: count, dtype: int64"
      ]
     },
     "execution_count": 94,
     "metadata": {},
     "output_type": "execute_result"
    }
   ],
   "source": [
    "bike_json.iloc[0:3, 2]"
   ]
  },
  {
   "cell_type": "code",
   "execution_count": 95,
   "metadata": {},
   "outputs": [
    {
     "data": {
      "text/plain": [
       "atemp     14.395\n",
       "casual         3\n",
       "Name: 0, dtype: object"
      ]
     },
     "execution_count": 95,
     "metadata": {},
     "output_type": "execute_result"
    }
   ],
   "source": [
    "bike_json.iloc[0, :2]"
   ]
  },
  {
   "cell_type": "code",
   "execution_count": 96,
   "metadata": {},
   "outputs": [
    {
     "data": {
      "text/html": [
       "<div>\n",
       "<style scoped>\n",
       "    .dataframe tbody tr th:only-of-type {\n",
       "        vertical-align: middle;\n",
       "    }\n",
       "\n",
       "    .dataframe tbody tr th {\n",
       "        vertical-align: top;\n",
       "    }\n",
       "\n",
       "    .dataframe thead th {\n",
       "        text-align: right;\n",
       "    }\n",
       "</style>\n",
       "<table border=\"1\" class=\"dataframe\">\n",
       "  <thead>\n",
       "    <tr style=\"text-align: right;\">\n",
       "      <th></th>\n",
       "      <th>atemp</th>\n",
       "      <th>casual</th>\n",
       "    </tr>\n",
       "  </thead>\n",
       "  <tbody>\n",
       "    <tr>\n",
       "      <th>0</th>\n",
       "      <td>14.395</td>\n",
       "      <td>3</td>\n",
       "    </tr>\n",
       "  </tbody>\n",
       "</table>\n",
       "</div>"
      ],
      "text/plain": [
       "    atemp  casual\n",
       "0  14.395       3"
      ]
     },
     "execution_count": 96,
     "metadata": {},
     "output_type": "execute_result"
    }
   ],
   "source": [
    "bike_json.iloc[[0], :2]"
   ]
  },
  {
   "cell_type": "code",
   "execution_count": 97,
   "metadata": {},
   "outputs": [
    {
     "data": {
      "text/plain": [
       "atemp      14.395\n",
       "holiday         0\n",
       "Name: 0, dtype: object"
      ]
     },
     "execution_count": 97,
     "metadata": {},
     "output_type": "execute_result"
    }
   ],
   "source": [
    "bike_json.iloc[0, [0, 4]]"
   ]
  },
  {
   "cell_type": "code",
   "execution_count": 98,
   "metadata": {},
   "outputs": [
    {
     "data": {
      "text/html": [
       "<div>\n",
       "<style scoped>\n",
       "    .dataframe tbody tr th:only-of-type {\n",
       "        vertical-align: middle;\n",
       "    }\n",
       "\n",
       "    .dataframe tbody tr th {\n",
       "        vertical-align: top;\n",
       "    }\n",
       "\n",
       "    .dataframe thead th {\n",
       "        text-align: right;\n",
       "    }\n",
       "</style>\n",
       "<table border=\"1\" class=\"dataframe\">\n",
       "  <thead>\n",
       "    <tr style=\"text-align: right;\">\n",
       "      <th></th>\n",
       "      <th>atemp</th>\n",
       "      <th>holiday</th>\n",
       "    </tr>\n",
       "  </thead>\n",
       "  <tbody>\n",
       "    <tr>\n",
       "      <th>0</th>\n",
       "      <td>14.395</td>\n",
       "      <td>0</td>\n",
       "    </tr>\n",
       "  </tbody>\n",
       "</table>\n",
       "</div>"
      ],
      "text/plain": [
       "    atemp  holiday\n",
       "0  14.395        0"
      ]
     },
     "execution_count": 98,
     "metadata": {},
     "output_type": "execute_result"
    }
   ],
   "source": [
    "bike_json.iloc[[0], [0, 4]]"
   ]
  },
  {
   "cell_type": "code",
   "execution_count": 99,
   "metadata": {},
   "outputs": [
    {
     "data": {
      "text/html": [
       "<div>\n",
       "<style scoped>\n",
       "    .dataframe tbody tr th:only-of-type {\n",
       "        vertical-align: middle;\n",
       "    }\n",
       "\n",
       "    .dataframe tbody tr th {\n",
       "        vertical-align: top;\n",
       "    }\n",
       "\n",
       "    .dataframe thead th {\n",
       "        text-align: right;\n",
       "    }\n",
       "</style>\n",
       "<table border=\"1\" class=\"dataframe\">\n",
       "  <thead>\n",
       "    <tr style=\"text-align: right;\">\n",
       "      <th></th>\n",
       "      <th>atemp</th>\n",
       "      <th>holiday</th>\n",
       "    </tr>\n",
       "  </thead>\n",
       "  <tbody>\n",
       "    <tr>\n",
       "      <th>0</th>\n",
       "      <td>14.395</td>\n",
       "      <td>0</td>\n",
       "    </tr>\n",
       "    <tr>\n",
       "      <th>1</th>\n",
       "      <td>13.635</td>\n",
       "      <td>0</td>\n",
       "    </tr>\n",
       "  </tbody>\n",
       "</table>\n",
       "</div>"
      ],
      "text/plain": [
       "    atemp  holiday\n",
       "0  14.395        0\n",
       "1  13.635        0"
      ]
     },
     "execution_count": 99,
     "metadata": {},
     "output_type": "execute_result"
    }
   ],
   "source": [
    "bike_json.iloc[:2, [0, 4]]"
   ]
  },
  {
   "cell_type": "code",
   "execution_count": null,
   "metadata": {},
   "outputs": [],
   "source": []
  },
  {
   "cell_type": "code",
   "execution_count": 100,
   "metadata": {},
   "outputs": [
    {
     "data": {
      "text/html": [
       "<div>\n",
       "<style scoped>\n",
       "    .dataframe tbody tr th:only-of-type {\n",
       "        vertical-align: middle;\n",
       "    }\n",
       "\n",
       "    .dataframe tbody tr th {\n",
       "        vertical-align: top;\n",
       "    }\n",
       "\n",
       "    .dataframe thead th {\n",
       "        text-align: right;\n",
       "    }\n",
       "</style>\n",
       "<table border=\"1\" class=\"dataframe\">\n",
       "  <thead>\n",
       "    <tr style=\"text-align: right;\">\n",
       "      <th></th>\n",
       "      <th>datetime</th>\n",
       "      <th>weather</th>\n",
       "    </tr>\n",
       "  </thead>\n",
       "  <tbody>\n",
       "    <tr>\n",
       "      <th>0</th>\n",
       "      <td>2011-01-01</td>\n",
       "      <td>1</td>\n",
       "    </tr>\n",
       "  </tbody>\n",
       "</table>\n",
       "</div>"
      ],
      "text/plain": [
       "    datetime  weather\n",
       "0 2011-01-01        1"
      ]
     },
     "execution_count": 100,
     "metadata": {},
     "output_type": "execute_result"
    }
   ],
   "source": [
    "bike_json.loc[[0], [\"datetime\", \"weather\"]]"
   ]
  },
  {
   "cell_type": "code",
   "execution_count": 101,
   "metadata": {},
   "outputs": [
    {
     "data": {
      "text/html": [
       "<div>\n",
       "<style scoped>\n",
       "    .dataframe tbody tr th:only-of-type {\n",
       "        vertical-align: middle;\n",
       "    }\n",
       "\n",
       "    .dataframe tbody tr th {\n",
       "        vertical-align: top;\n",
       "    }\n",
       "\n",
       "    .dataframe thead th {\n",
       "        text-align: right;\n",
       "    }\n",
       "</style>\n",
       "<table border=\"1\" class=\"dataframe\">\n",
       "  <thead>\n",
       "    <tr style=\"text-align: right;\">\n",
       "      <th></th>\n",
       "      <th>datetime</th>\n",
       "      <th>weather</th>\n",
       "    </tr>\n",
       "  </thead>\n",
       "  <tbody>\n",
       "    <tr>\n",
       "      <th>0</th>\n",
       "      <td>2011-01-01 00:00:00</td>\n",
       "      <td>1</td>\n",
       "    </tr>\n",
       "    <tr>\n",
       "      <th>1</th>\n",
       "      <td>2011-01-01 01:00:00</td>\n",
       "      <td>1</td>\n",
       "    </tr>\n",
       "    <tr>\n",
       "      <th>2</th>\n",
       "      <td>2011-01-01 02:00:00</td>\n",
       "      <td>1</td>\n",
       "    </tr>\n",
       "  </tbody>\n",
       "</table>\n",
       "</div>"
      ],
      "text/plain": [
       "             datetime  weather\n",
       "0 2011-01-01 00:00:00        1\n",
       "1 2011-01-01 01:00:00        1\n",
       "2 2011-01-01 02:00:00        1"
      ]
     },
     "execution_count": 101,
     "metadata": {},
     "output_type": "execute_result"
    }
   ],
   "source": [
    "bike_json.loc[:2, [\"datetime\", \"weather\"]]"
   ]
  },
  {
   "cell_type": "code",
   "execution_count": 102,
   "metadata": {},
   "outputs": [
    {
     "data": {
      "text/html": [
       "<div>\n",
       "<style scoped>\n",
       "    .dataframe tbody tr th:only-of-type {\n",
       "        vertical-align: middle;\n",
       "    }\n",
       "\n",
       "    .dataframe tbody tr th {\n",
       "        vertical-align: top;\n",
       "    }\n",
       "\n",
       "    .dataframe thead th {\n",
       "        text-align: right;\n",
       "    }\n",
       "</style>\n",
       "<table border=\"1\" class=\"dataframe\">\n",
       "  <thead>\n",
       "    <tr style=\"text-align: right;\">\n",
       "      <th></th>\n",
       "      <th>datetime</th>\n",
       "      <th>holiday</th>\n",
       "      <th>humidity</th>\n",
       "      <th>registered</th>\n",
       "      <th>season</th>\n",
       "      <th>temp</th>\n",
       "      <th>weather</th>\n",
       "    </tr>\n",
       "  </thead>\n",
       "  <tbody>\n",
       "    <tr>\n",
       "      <th>0</th>\n",
       "      <td>2011-01-01 00:00:00</td>\n",
       "      <td>0</td>\n",
       "      <td>81</td>\n",
       "      <td>13</td>\n",
       "      <td>1</td>\n",
       "      <td>9.84</td>\n",
       "      <td>1</td>\n",
       "    </tr>\n",
       "    <tr>\n",
       "      <th>1</th>\n",
       "      <td>2011-01-01 01:00:00</td>\n",
       "      <td>0</td>\n",
       "      <td>80</td>\n",
       "      <td>32</td>\n",
       "      <td>1</td>\n",
       "      <td>9.02</td>\n",
       "      <td>1</td>\n",
       "    </tr>\n",
       "    <tr>\n",
       "      <th>2</th>\n",
       "      <td>2011-01-01 02:00:00</td>\n",
       "      <td>0</td>\n",
       "      <td>80</td>\n",
       "      <td>27</td>\n",
       "      <td>1</td>\n",
       "      <td>9.02</td>\n",
       "      <td>1</td>\n",
       "    </tr>\n",
       "  </tbody>\n",
       "</table>\n",
       "</div>"
      ],
      "text/plain": [
       "             datetime  holiday  humidity  registered  season  temp  weather\n",
       "0 2011-01-01 00:00:00        0        81          13       1  9.84        1\n",
       "1 2011-01-01 01:00:00        0        80          32       1  9.02        1\n",
       "2 2011-01-01 02:00:00        0        80          27       1  9.02        1"
      ]
     },
     "execution_count": 102,
     "metadata": {},
     "output_type": "execute_result"
    }
   ],
   "source": [
    "bike_json.loc[:2, \"datetime\" : \"weather\"]"
   ]
  },
  {
   "cell_type": "code",
   "execution_count": null,
   "metadata": {},
   "outputs": [],
   "source": []
  },
  {
   "cell_type": "code",
   "execution_count": 103,
   "metadata": {},
   "outputs": [
    {
     "data": {
      "text/plain": [
       "6"
      ]
     },
     "execution_count": 103,
     "metadata": {},
     "output_type": "execute_result"
    }
   ],
   "source": [
    "nums = [1, 2, 2, 5, 8,8]\n",
    "len(nums)"
   ]
  },
  {
   "cell_type": "code",
   "execution_count": 104,
   "metadata": {},
   "outputs": [
    {
     "data": {
      "text/plain": [
       "{1, 2, 5, 8}"
      ]
     },
     "execution_count": 104,
     "metadata": {},
     "output_type": "execute_result"
    }
   ],
   "source": [
    "set(nums)"
   ]
  },
  {
   "cell_type": "code",
   "execution_count": 105,
   "metadata": {},
   "outputs": [
    {
     "data": {
      "text/plain": [
       "[8, 1, 2, 5]"
      ]
     },
     "execution_count": 105,
     "metadata": {},
     "output_type": "execute_result"
    }
   ],
   "source": [
    "list(set(nums))"
   ]
  },
  {
   "cell_type": "code",
   "execution_count": 106,
   "metadata": {},
   "outputs": [
    {
     "data": {
      "text/plain": [
       "array([1, 2, 5, 8])"
      ]
     },
     "execution_count": 106,
     "metadata": {},
     "output_type": "execute_result"
    }
   ],
   "source": [
    "np.unique(nums)"
   ]
  },
  {
   "cell_type": "code",
   "execution_count": 107,
   "metadata": {},
   "outputs": [
    {
     "data": {
      "text/plain": [
       "4"
      ]
     },
     "execution_count": 107,
     "metadata": {},
     "output_type": "execute_result"
    }
   ],
   "source": [
    "len(set(nums))"
   ]
  },
  {
   "cell_type": "code",
   "execution_count": 108,
   "metadata": {},
   "outputs": [
    {
     "data": {
      "text/plain": [
       "4"
      ]
     },
     "execution_count": 108,
     "metadata": {},
     "output_type": "execute_result"
    }
   ],
   "source": [
    "len(set(bike_json[\"weather\"]))"
   ]
  },
  {
   "cell_type": "code",
   "execution_count": 109,
   "metadata": {},
   "outputs": [
    {
     "data": {
      "text/plain": [
       "{1, 2, 3, 4}"
      ]
     },
     "execution_count": 109,
     "metadata": {},
     "output_type": "execute_result"
    }
   ],
   "source": [
    "set(bike_json[\"weather\"])"
   ]
  },
  {
   "cell_type": "code",
   "execution_count": 110,
   "metadata": {},
   "outputs": [
    {
     "data": {
      "text/plain": [
       "26"
      ]
     },
     "execution_count": 110,
     "metadata": {},
     "output_type": "execute_result"
    }
   ],
   "source": [
    "sum(nums)"
   ]
  },
  {
   "cell_type": "code",
   "execution_count": 111,
   "metadata": {},
   "outputs": [
    {
     "data": {
      "text/plain": [
       "1"
      ]
     },
     "execution_count": 111,
     "metadata": {},
     "output_type": "execute_result"
    }
   ],
   "source": [
    "min(nums)"
   ]
  },
  {
   "cell_type": "code",
   "execution_count": 112,
   "metadata": {},
   "outputs": [
    {
     "data": {
      "text/plain": [
       "4.333333333333333"
      ]
     },
     "execution_count": 112,
     "metadata": {},
     "output_type": "execute_result"
    }
   ],
   "source": [
    "np.average(nums)"
   ]
  },
  {
   "cell_type": "code",
   "execution_count": 113,
   "metadata": {},
   "outputs": [
    {
     "data": {
      "text/plain": [
       "4.333333333333333"
      ]
     },
     "execution_count": 113,
     "metadata": {},
     "output_type": "execute_result"
    }
   ],
   "source": [
    "np.mean(nums)"
   ]
  },
  {
   "cell_type": "code",
   "execution_count": 114,
   "metadata": {},
   "outputs": [
    {
     "data": {
      "text/plain": [
       "8.222222222222221"
      ]
     },
     "execution_count": 114,
     "metadata": {},
     "output_type": "execute_result"
    }
   ],
   "source": [
    "np.var(nums)"
   ]
  },
  {
   "cell_type": "code",
   "execution_count": 115,
   "metadata": {},
   "outputs": [
    {
     "data": {
      "text/plain": [
       "2.8674417556808756"
      ]
     },
     "execution_count": 115,
     "metadata": {},
     "output_type": "execute_result"
    }
   ],
   "source": [
    "np.std(nums)"
   ]
  },
  {
   "cell_type": "code",
   "execution_count": 116,
   "metadata": {},
   "outputs": [
    {
     "data": {
      "text/plain": [
       "4    2734\n",
       "3    2733\n",
       "2    2733\n",
       "1    2686\n",
       "Name: season, dtype: int64"
      ]
     },
     "execution_count": 116,
     "metadata": {},
     "output_type": "execute_result"
    }
   ],
   "source": [
    "bike_json[\"season\"].value_counts()"
   ]
  },
  {
   "cell_type": "code",
   "execution_count": null,
   "metadata": {},
   "outputs": [],
   "source": []
  },
  {
   "cell_type": "code",
   "execution_count": 117,
   "metadata": {},
   "outputs": [
    {
     "data": {
      "text/html": [
       "<div>\n",
       "<style scoped>\n",
       "    .dataframe tbody tr th:only-of-type {\n",
       "        vertical-align: middle;\n",
       "    }\n",
       "\n",
       "    .dataframe tbody tr th {\n",
       "        vertical-align: top;\n",
       "    }\n",
       "\n",
       "    .dataframe thead th {\n",
       "        text-align: right;\n",
       "    }\n",
       "</style>\n",
       "<table border=\"1\" class=\"dataframe\">\n",
       "  <thead>\n",
       "    <tr style=\"text-align: right;\">\n",
       "      <th></th>\n",
       "      <th>casual</th>\n",
       "      <th>count</th>\n",
       "    </tr>\n",
       "  </thead>\n",
       "  <tbody>\n",
       "    <tr>\n",
       "      <th>0</th>\n",
       "      <td>3</td>\n",
       "      <td>16</td>\n",
       "    </tr>\n",
       "    <tr>\n",
       "      <th>1</th>\n",
       "      <td>8</td>\n",
       "      <td>40</td>\n",
       "    </tr>\n",
       "    <tr>\n",
       "      <th>2</th>\n",
       "      <td>5</td>\n",
       "      <td>32</td>\n",
       "    </tr>\n",
       "  </tbody>\n",
       "</table>\n",
       "</div>"
      ],
      "text/plain": [
       "   casual  count\n",
       "0       3     16\n",
       "1       8     40\n",
       "2       5     32"
      ]
     },
     "execution_count": 117,
     "metadata": {},
     "output_type": "execute_result"
    }
   ],
   "source": [
    "bike_json.iloc[:3, 1:3]"
   ]
  },
  {
   "cell_type": "code",
   "execution_count": 118,
   "metadata": {},
   "outputs": [
    {
     "data": {
      "text/plain": [
       "casual    16\n",
       "count     88\n",
       "dtype: int64"
      ]
     },
     "execution_count": 118,
     "metadata": {},
     "output_type": "execute_result"
    }
   ],
   "source": [
    "bike_json.iloc[:3, 1:3].sum(axis=0)"
   ]
  },
  {
   "cell_type": "code",
   "execution_count": 119,
   "metadata": {},
   "outputs": [
    {
     "data": {
      "text/plain": [
       "0    19\n",
       "1    48\n",
       "2    37\n",
       "dtype: int64"
      ]
     },
     "execution_count": 119,
     "metadata": {},
     "output_type": "execute_result"
    }
   ],
   "source": [
    "bike_json.iloc[:3, 1:3].sum(axis=1)"
   ]
  },
  {
   "cell_type": "code",
   "execution_count": 120,
   "metadata": {},
   "outputs": [
    {
     "data": {
      "text/plain": [
       "casual    16\n",
       "count     88\n",
       "dtype: int64"
      ]
     },
     "execution_count": 120,
     "metadata": {},
     "output_type": "execute_result"
    }
   ],
   "source": [
    "bike_json.iloc[:3, 1:3].sum()"
   ]
  },
  {
   "cell_type": "code",
   "execution_count": 121,
   "metadata": {},
   "outputs": [
    {
     "data": {
      "text/plain": [
       "casual    16\n",
       "count     88\n",
       "dtype: int64"
      ]
     },
     "execution_count": 121,
     "metadata": {},
     "output_type": "execute_result"
    }
   ],
   "source": [
    "bike_json.iloc[:3, 1:3].sum(0)"
   ]
  },
  {
   "cell_type": "code",
   "execution_count": 122,
   "metadata": {},
   "outputs": [
    {
     "data": {
      "text/html": [
       "<div>\n",
       "<style scoped>\n",
       "    .dataframe tbody tr th:only-of-type {\n",
       "        vertical-align: middle;\n",
       "    }\n",
       "\n",
       "    .dataframe tbody tr th {\n",
       "        vertical-align: top;\n",
       "    }\n",
       "\n",
       "    .dataframe thead th {\n",
       "        text-align: right;\n",
       "    }\n",
       "</style>\n",
       "<table border=\"1\" class=\"dataframe\">\n",
       "  <thead>\n",
       "    <tr style=\"text-align: right;\">\n",
       "      <th>holiday</th>\n",
       "      <th>0</th>\n",
       "      <th>1</th>\n",
       "    </tr>\n",
       "    <tr>\n",
       "      <th>season</th>\n",
       "      <th></th>\n",
       "      <th></th>\n",
       "    </tr>\n",
       "  </thead>\n",
       "  <tbody>\n",
       "    <tr>\n",
       "      <th>1</th>\n",
       "      <td>0.247281</td>\n",
       "      <td>0.228296</td>\n",
       "    </tr>\n",
       "    <tr>\n",
       "      <th>2</th>\n",
       "      <td>0.253901</td>\n",
       "      <td>0.154341</td>\n",
       "    </tr>\n",
       "    <tr>\n",
       "      <th>3</th>\n",
       "      <td>0.249362</td>\n",
       "      <td>0.308682</td>\n",
       "    </tr>\n",
       "    <tr>\n",
       "      <th>4</th>\n",
       "      <td>0.249456</td>\n",
       "      <td>0.308682</td>\n",
       "    </tr>\n",
       "  </tbody>\n",
       "</table>\n",
       "</div>"
      ],
      "text/plain": [
       "holiday         0         1\n",
       "season                     \n",
       "1        0.247281  0.228296\n",
       "2        0.253901  0.154341\n",
       "3        0.249362  0.308682\n",
       "4        0.249456  0.308682"
      ]
     },
     "execution_count": 122,
     "metadata": {},
     "output_type": "execute_result"
    }
   ],
   "source": [
    "pd.crosstab(bike_json[\"season\"], bike_json[\"holiday\"], normalize=1)"
   ]
  },
  {
   "cell_type": "code",
   "execution_count": 123,
   "metadata": {},
   "outputs": [
    {
     "data": {
      "text/plain": [
       "0        1\n",
       "1        1\n",
       "2        1\n",
       "3        1\n",
       "4        1\n",
       "5        1\n",
       "6        1\n",
       "7        1\n",
       "8        1\n",
       "9        1\n",
       "10       1\n",
       "11       1\n",
       "12       1\n",
       "13       1\n",
       "14       1\n",
       "15       1\n",
       "16       1\n",
       "17       1\n",
       "18       1\n",
       "19       1\n",
       "20       1\n",
       "21       1\n",
       "22       1\n",
       "23       1\n",
       "24       1\n",
       "25       1\n",
       "26       1\n",
       "27       1\n",
       "28       1\n",
       "29       1\n",
       "        ..\n",
       "10856    4\n",
       "10857    4\n",
       "10858    4\n",
       "10859    4\n",
       "10860    4\n",
       "10861    4\n",
       "10862    4\n",
       "10863    4\n",
       "10864    4\n",
       "10865    4\n",
       "10866    4\n",
       "10867    4\n",
       "10868    4\n",
       "10869    4\n",
       "10870    4\n",
       "10871    4\n",
       "10872    4\n",
       "10873    4\n",
       "10874    4\n",
       "10875    4\n",
       "10876    4\n",
       "10877    4\n",
       "10878    4\n",
       "10879    4\n",
       "10880    4\n",
       "10881    4\n",
       "10882    4\n",
       "10883    4\n",
       "10884    4\n",
       "10885    4\n",
       "Name: season, Length: 10886, dtype: int64"
      ]
     },
     "execution_count": 123,
     "metadata": {},
     "output_type": "execute_result"
    }
   ],
   "source": [
    "bike_json[\"season\"]"
   ]
  },
  {
   "cell_type": "code",
   "execution_count": 125,
   "metadata": {},
   "outputs": [],
   "source": [
    "# bike_json.iloc[:, [1, 12]].groupby(\"season\").mean()"
   ]
  },
  {
   "cell_type": "code",
   "execution_count": 126,
   "metadata": {},
   "outputs": [
    {
     "data": {
      "text/html": [
       "<div>\n",
       "<style scoped>\n",
       "    .dataframe tbody tr th:only-of-type {\n",
       "        vertical-align: middle;\n",
       "    }\n",
       "\n",
       "    .dataframe tbody tr th {\n",
       "        vertical-align: top;\n",
       "    }\n",
       "\n",
       "    .dataframe thead th {\n",
       "        text-align: right;\n",
       "    }\n",
       "</style>\n",
       "<table border=\"1\" class=\"dataframe\">\n",
       "  <thead>\n",
       "    <tr style=\"text-align: right;\">\n",
       "      <th></th>\n",
       "      <th>casual</th>\n",
       "    </tr>\n",
       "    <tr>\n",
       "      <th>season</th>\n",
       "      <th></th>\n",
       "    </tr>\n",
       "  </thead>\n",
       "  <tbody>\n",
       "    <tr>\n",
       "      <th>1</th>\n",
       "      <td>15.489576</td>\n",
       "    </tr>\n",
       "    <tr>\n",
       "      <th>2</th>\n",
       "      <td>47.446762</td>\n",
       "    </tr>\n",
       "    <tr>\n",
       "      <th>3</th>\n",
       "      <td>52.220271</td>\n",
       "    </tr>\n",
       "    <tr>\n",
       "      <th>4</th>\n",
       "      <td>28.580834</td>\n",
       "    </tr>\n",
       "  </tbody>\n",
       "</table>\n",
       "</div>"
      ],
      "text/plain": [
       "           casual\n",
       "season           \n",
       "1       15.489576\n",
       "2       47.446762\n",
       "3       52.220271\n",
       "4       28.580834"
      ]
     },
     "execution_count": 126,
     "metadata": {},
     "output_type": "execute_result"
    }
   ],
   "source": [
    "bike_json.loc[:, [\"season\", \"casual\"]].groupby(\"season\").mean()\n"
   ]
  },
  {
   "cell_type": "code",
   "execution_count": 127,
   "metadata": {},
   "outputs": [
    {
     "data": {
      "text/html": [
       "<div>\n",
       "<style scoped>\n",
       "    .dataframe tbody tr th:only-of-type {\n",
       "        vertical-align: middle;\n",
       "    }\n",
       "\n",
       "    .dataframe tbody tr th {\n",
       "        vertical-align: top;\n",
       "    }\n",
       "\n",
       "    .dataframe thead th {\n",
       "        text-align: right;\n",
       "    }\n",
       "</style>\n",
       "<table border=\"1\" class=\"dataframe\">\n",
       "  <thead>\n",
       "    <tr style=\"text-align: right;\">\n",
       "      <th></th>\n",
       "      <th>casual</th>\n",
       "      <th>registered</th>\n",
       "    </tr>\n",
       "    <tr>\n",
       "      <th>season</th>\n",
       "      <th></th>\n",
       "      <th></th>\n",
       "    </tr>\n",
       "  </thead>\n",
       "  <tbody>\n",
       "    <tr>\n",
       "      <th>1</th>\n",
       "      <td>15.489576</td>\n",
       "      <td>100.853686</td>\n",
       "    </tr>\n",
       "    <tr>\n",
       "      <th>2</th>\n",
       "      <td>47.446762</td>\n",
       "      <td>167.804610</td>\n",
       "    </tr>\n",
       "    <tr>\n",
       "      <th>3</th>\n",
       "      <td>52.220271</td>\n",
       "      <td>182.196853</td>\n",
       "    </tr>\n",
       "    <tr>\n",
       "      <th>4</th>\n",
       "      <td>28.580834</td>\n",
       "      <td>170.407462</td>\n",
       "    </tr>\n",
       "  </tbody>\n",
       "</table>\n",
       "</div>"
      ],
      "text/plain": [
       "           casual  registered\n",
       "season                       \n",
       "1       15.489576  100.853686\n",
       "2       47.446762  167.804610\n",
       "3       52.220271  182.196853\n",
       "4       28.580834  170.407462"
      ]
     },
     "execution_count": 127,
     "metadata": {},
     "output_type": "execute_result"
    }
   ],
   "source": [
    "bike_json.loc[:, [\"season\", \"casual\", \"registered\"]].groupby(\"season\").mean()\n",
    "# casual 일일대여\n",
    "# registered 정기대여"
   ]
  },
  {
   "cell_type": "code",
   "execution_count": 128,
   "metadata": {},
   "outputs": [],
   "source": [
    "bike_json_sub = bike_json[bike_json.season == 1]"
   ]
  },
  {
   "cell_type": "code",
   "execution_count": 129,
   "metadata": {},
   "outputs": [
    {
     "data": {
      "text/html": [
       "<div>\n",
       "<style scoped>\n",
       "    .dataframe tbody tr th:only-of-type {\n",
       "        vertical-align: middle;\n",
       "    }\n",
       "\n",
       "    .dataframe tbody tr th {\n",
       "        vertical-align: top;\n",
       "    }\n",
       "\n",
       "    .dataframe thead th {\n",
       "        text-align: right;\n",
       "    }\n",
       "</style>\n",
       "<table border=\"1\" class=\"dataframe\">\n",
       "  <thead>\n",
       "    <tr style=\"text-align: right;\">\n",
       "      <th></th>\n",
       "      <th>atemp</th>\n",
       "      <th>casual</th>\n",
       "      <th>count</th>\n",
       "      <th>datetime</th>\n",
       "      <th>holiday</th>\n",
       "      <th>humidity</th>\n",
       "      <th>registered</th>\n",
       "      <th>season</th>\n",
       "      <th>temp</th>\n",
       "      <th>weather</th>\n",
       "      <th>windspeed</th>\n",
       "      <th>workingday</th>\n",
       "    </tr>\n",
       "  </thead>\n",
       "  <tbody>\n",
       "    <tr>\n",
       "      <th>0</th>\n",
       "      <td>14.395</td>\n",
       "      <td>3</td>\n",
       "      <td>16</td>\n",
       "      <td>2011-01-01 00:00:00</td>\n",
       "      <td>0</td>\n",
       "      <td>81</td>\n",
       "      <td>13</td>\n",
       "      <td>1</td>\n",
       "      <td>9.84</td>\n",
       "      <td>1</td>\n",
       "      <td>0.0</td>\n",
       "      <td>0</td>\n",
       "    </tr>\n",
       "    <tr>\n",
       "      <th>1</th>\n",
       "      <td>13.635</td>\n",
       "      <td>8</td>\n",
       "      <td>40</td>\n",
       "      <td>2011-01-01 01:00:00</td>\n",
       "      <td>0</td>\n",
       "      <td>80</td>\n",
       "      <td>32</td>\n",
       "      <td>1</td>\n",
       "      <td>9.02</td>\n",
       "      <td>1</td>\n",
       "      <td>0.0</td>\n",
       "      <td>0</td>\n",
       "    </tr>\n",
       "  </tbody>\n",
       "</table>\n",
       "</div>"
      ],
      "text/plain": [
       "    atemp  casual  count            datetime  holiday  humidity  registered  \\\n",
       "0  14.395       3     16 2011-01-01 00:00:00        0        81          13   \n",
       "1  13.635       8     40 2011-01-01 01:00:00        0        80          32   \n",
       "\n",
       "   season  temp  weather  windspeed  workingday  \n",
       "0       1  9.84        1        0.0           0  \n",
       "1       1  9.02        1        0.0           0  "
      ]
     },
     "execution_count": 129,
     "metadata": {},
     "output_type": "execute_result"
    }
   ],
   "source": [
    "bike_json_sub.head(2)"
   ]
  },
  {
   "cell_type": "code",
   "execution_count": 130,
   "metadata": {},
   "outputs": [
    {
     "data": {
      "text/plain": [
       "(2686, 12)"
      ]
     },
     "execution_count": 130,
     "metadata": {},
     "output_type": "execute_result"
    }
   ],
   "source": [
    "bike_json_sub.shape"
   ]
  },
  {
   "cell_type": "code",
   "execution_count": 131,
   "metadata": {},
   "outputs": [
    {
     "data": {
      "text/plain": [
       "{1}"
      ]
     },
     "execution_count": 131,
     "metadata": {},
     "output_type": "execute_result"
    }
   ],
   "source": [
    "set(bike_json_sub.season)"
   ]
  },
  {
   "cell_type": "code",
   "execution_count": 132,
   "metadata": {},
   "outputs": [],
   "source": [
    "bike_json_sub2 = bike_json[(bike_json.season == 1) & (bike_json.holiday == 1)]"
   ]
  },
  {
   "cell_type": "code",
   "execution_count": 133,
   "metadata": {},
   "outputs": [
    {
     "data": {
      "text/html": [
       "<div>\n",
       "<style scoped>\n",
       "    .dataframe tbody tr th:only-of-type {\n",
       "        vertical-align: middle;\n",
       "    }\n",
       "\n",
       "    .dataframe tbody tr th {\n",
       "        vertical-align: top;\n",
       "    }\n",
       "\n",
       "    .dataframe thead th {\n",
       "        text-align: right;\n",
       "    }\n",
       "</style>\n",
       "<table border=\"1\" class=\"dataframe\">\n",
       "  <thead>\n",
       "    <tr style=\"text-align: right;\">\n",
       "      <th></th>\n",
       "      <th>atemp</th>\n",
       "      <th>casual</th>\n",
       "      <th>count</th>\n",
       "      <th>datetime</th>\n",
       "      <th>holiday</th>\n",
       "      <th>humidity</th>\n",
       "      <th>registered</th>\n",
       "      <th>season</th>\n",
       "      <th>temp</th>\n",
       "      <th>weather</th>\n",
       "      <th>windspeed</th>\n",
       "      <th>workingday</th>\n",
       "    </tr>\n",
       "  </thead>\n",
       "  <tbody>\n",
       "    <tr>\n",
       "      <th>372</th>\n",
       "      <td>9.85</td>\n",
       "      <td>1</td>\n",
       "      <td>17</td>\n",
       "      <td>2011-01-17 00:00:00</td>\n",
       "      <td>1</td>\n",
       "      <td>47</td>\n",
       "      <td>16</td>\n",
       "      <td>1</td>\n",
       "      <td>8.2</td>\n",
       "      <td>2</td>\n",
       "      <td>15.0013</td>\n",
       "      <td>0</td>\n",
       "    </tr>\n",
       "    <tr>\n",
       "      <th>373</th>\n",
       "      <td>9.85</td>\n",
       "      <td>1</td>\n",
       "      <td>16</td>\n",
       "      <td>2011-01-17 01:00:00</td>\n",
       "      <td>1</td>\n",
       "      <td>44</td>\n",
       "      <td>15</td>\n",
       "      <td>1</td>\n",
       "      <td>8.2</td>\n",
       "      <td>2</td>\n",
       "      <td>12.9980</td>\n",
       "      <td>0</td>\n",
       "    </tr>\n",
       "  </tbody>\n",
       "</table>\n",
       "</div>"
      ],
      "text/plain": [
       "     atemp  casual  count            datetime  holiday  humidity  registered  \\\n",
       "372   9.85       1     17 2011-01-17 00:00:00        1        47          16   \n",
       "373   9.85       1     16 2011-01-17 01:00:00        1        44          15   \n",
       "\n",
       "     season  temp  weather  windspeed  workingday  \n",
       "372       1   8.2        2    15.0013           0  \n",
       "373       1   8.2        2    12.9980           0  "
      ]
     },
     "execution_count": 133,
     "metadata": {},
     "output_type": "execute_result"
    }
   ],
   "source": [
    "bike_json_sub2.head(2)"
   ]
  },
  {
   "cell_type": "code",
   "execution_count": 134,
   "metadata": {},
   "outputs": [
    {
     "data": {
      "text/plain": [
       "{1}"
      ]
     },
     "execution_count": 134,
     "metadata": {},
     "output_type": "execute_result"
    }
   ],
   "source": [
    "set(bike_json_sub2.season)"
   ]
  },
  {
   "cell_type": "code",
   "execution_count": 135,
   "metadata": {},
   "outputs": [
    {
     "data": {
      "text/plain": [
       "{1, 2}"
      ]
     },
     "execution_count": 135,
     "metadata": {},
     "output_type": "execute_result"
    }
   ],
   "source": [
    "bike_json_sub = bike_json.iloc[np.in1d(bike_json.season, [1,2]), :]\n",
    "set(bike_json_sub.season)"
   ]
  },
  {
   "cell_type": "code",
   "execution_count": null,
   "metadata": {},
   "outputs": [],
   "source": [
    "\n"
   ]
  },
  {
   "cell_type": "code",
   "execution_count": 136,
   "metadata": {},
   "outputs": [],
   "source": [
    "df = bike_json"
   ]
  },
  {
   "cell_type": "code",
   "execution_count": 137,
   "metadata": {},
   "outputs": [
    {
     "data": {
      "text/plain": [
       "(2686, 12)"
      ]
     },
     "execution_count": 137,
     "metadata": {},
     "output_type": "execute_result"
    }
   ],
   "source": [
    "df_sub = df[df[\"season\"] == 1]\n",
    "df_sub.shape"
   ]
  },
  {
   "cell_type": "code",
   "execution_count": 138,
   "metadata": {},
   "outputs": [
    {
     "data": {
      "text/plain": [
       "{1}"
      ]
     },
     "execution_count": 138,
     "metadata": {},
     "output_type": "execute_result"
    }
   ],
   "source": [
    "df_sub2 = df[(df[\"season\"] == 1) & (df[\"holiday\"] == 1)]\n",
    "set(df_sub2[\"season\"])"
   ]
  },
  {
   "cell_type": "code",
   "execution_count": 139,
   "metadata": {},
   "outputs": [
    {
     "data": {
      "text/plain": [
       "{1, 2, 3, 4}"
      ]
     },
     "execution_count": 139,
     "metadata": {},
     "output_type": "execute_result"
    }
   ],
   "source": [
    "df_sub3 = df[(df[\"season\"] == 1) | (df[\"holiday\"] == 1)]\n",
    "set(df_sub3[\"season\"])"
   ]
  },
  {
   "cell_type": "code",
   "execution_count": 140,
   "metadata": {},
   "outputs": [
    {
     "data": {
      "text/html": [
       "<div>\n",
       "<style scoped>\n",
       "    .dataframe tbody tr th:only-of-type {\n",
       "        vertical-align: middle;\n",
       "    }\n",
       "\n",
       "    .dataframe tbody tr th {\n",
       "        vertical-align: top;\n",
       "    }\n",
       "\n",
       "    .dataframe thead th {\n",
       "        text-align: right;\n",
       "    }\n",
       "</style>\n",
       "<table border=\"1\" class=\"dataframe\">\n",
       "  <thead>\n",
       "    <tr style=\"text-align: right;\">\n",
       "      <th></th>\n",
       "      <th>atemp</th>\n",
       "      <th>casual</th>\n",
       "      <th>count</th>\n",
       "      <th>datetime</th>\n",
       "      <th>holiday</th>\n",
       "      <th>humidity</th>\n",
       "      <th>registered</th>\n",
       "      <th>season</th>\n",
       "      <th>temp</th>\n",
       "      <th>weather</th>\n",
       "      <th>windspeed</th>\n",
       "      <th>workingday</th>\n",
       "    </tr>\n",
       "  </thead>\n",
       "  <tbody>\n",
       "    <tr>\n",
       "      <th>0</th>\n",
       "      <td>14.395</td>\n",
       "      <td>3</td>\n",
       "      <td>16</td>\n",
       "      <td>2011-01-01 00:00:00</td>\n",
       "      <td>0</td>\n",
       "      <td>81</td>\n",
       "      <td>13</td>\n",
       "      <td>1</td>\n",
       "      <td>9.84</td>\n",
       "      <td>1</td>\n",
       "      <td>0.0</td>\n",
       "      <td>0</td>\n",
       "    </tr>\n",
       "    <tr>\n",
       "      <th>1</th>\n",
       "      <td>13.635</td>\n",
       "      <td>8</td>\n",
       "      <td>40</td>\n",
       "      <td>2011-01-01 01:00:00</td>\n",
       "      <td>0</td>\n",
       "      <td>80</td>\n",
       "      <td>32</td>\n",
       "      <td>1</td>\n",
       "      <td>9.02</td>\n",
       "      <td>1</td>\n",
       "      <td>0.0</td>\n",
       "      <td>0</td>\n",
       "    </tr>\n",
       "    <tr>\n",
       "      <th>2</th>\n",
       "      <td>13.635</td>\n",
       "      <td>5</td>\n",
       "      <td>32</td>\n",
       "      <td>2011-01-01 02:00:00</td>\n",
       "      <td>0</td>\n",
       "      <td>80</td>\n",
       "      <td>27</td>\n",
       "      <td>1</td>\n",
       "      <td>9.02</td>\n",
       "      <td>1</td>\n",
       "      <td>0.0</td>\n",
       "      <td>0</td>\n",
       "    </tr>\n",
       "  </tbody>\n",
       "</table>\n",
       "</div>"
      ],
      "text/plain": [
       "    atemp  casual  count            datetime  holiday  humidity  registered  \\\n",
       "0  14.395       3     16 2011-01-01 00:00:00        0        81          13   \n",
       "1  13.635       8     40 2011-01-01 01:00:00        0        80          32   \n",
       "2  13.635       5     32 2011-01-01 02:00:00        0        80          27   \n",
       "\n",
       "   season  temp  weather  windspeed  workingday  \n",
       "0       1  9.84        1        0.0           0  \n",
       "1       1  9.02        1        0.0           0  \n",
       "2       1  9.02        1        0.0           0  "
      ]
     },
     "execution_count": 140,
     "metadata": {},
     "output_type": "execute_result"
    }
   ],
   "source": [
    "df_sub3.head(3)"
   ]
  },
  {
   "cell_type": "code",
   "execution_count": null,
   "metadata": {},
   "outputs": [],
   "source": []
  },
  {
   "cell_type": "code",
   "execution_count": 141,
   "metadata": {},
   "outputs": [
    {
     "name": "stdout",
     "output_type": "stream",
     "text": [
      "retake\n"
     ]
    }
   ],
   "source": [
    "level = [\"A\", \"B\", \"C\", \"D\", \"F\"]\n",
    "mine = \"C\"\n",
    "if mine in level[:1]:\n",
    "    print(\"Pass\")\n",
    "elif mine == level[2]:\n",
    "    print(\"retake\")\n",
    "else : \n",
    "    print(\"Fail\")"
   ]
  },
  {
   "cell_type": "code",
   "execution_count": 142,
   "metadata": {},
   "outputs": [
    {
     "name": "stdout",
     "output_type": "stream",
     "text": [
      "a\n",
      "b\n",
      "c\n"
     ]
    }
   ],
   "source": [
    "listt = [\"a\", \"b\", \"c\"]\n",
    "for i in listt:\n",
    "    print(i)"
   ]
  },
  {
   "cell_type": "code",
   "execution_count": 143,
   "metadata": {},
   "outputs": [
    {
     "name": "stdout",
     "output_type": "stream",
     "text": [
      "3\n",
      "7\n",
      "11\n"
     ]
    }
   ],
   "source": [
    "a = [(1,2), (3,4), (5,6)]\n",
    "for (first, last) in a:\n",
    "    print(first+ last)"
   ]
  },
  {
   "cell_type": "code",
   "execution_count": 144,
   "metadata": {},
   "outputs": [
    {
     "name": "stdout",
     "output_type": "stream",
     "text": [
      "0\n",
      "1\n",
      "2\n",
      "3\n",
      "4\n",
      "5\n",
      "6\n",
      "7\n",
      "8\n",
      "9\n"
     ]
    }
   ],
   "source": [
    "for n in range(10):\n",
    "    print(n)"
   ]
  },
  {
   "cell_type": "code",
   "execution_count": 145,
   "metadata": {},
   "outputs": [
    {
     "data": {
      "text/plain": [
       "[2, 6, 8]"
      ]
     },
     "execution_count": 145,
     "metadata": {},
     "output_type": "execute_result"
    }
   ],
   "source": [
    "a = [2, 6,7,8,9]\n",
    "[num for num in a if num % 2 == 0]"
   ]
  },
  {
   "cell_type": "code",
   "execution_count": 146,
   "metadata": {},
   "outputs": [
    {
     "data": {
      "text/plain": [
       "[2, 6, 8]"
      ]
     },
     "execution_count": 146,
     "metadata": {},
     "output_type": "execute_result"
    }
   ],
   "source": [
    "listt = []\n",
    "for num in a:\n",
    "    if num % 2 ==0:\n",
    "        listt = listt + [num]\n",
    "listt"
   ]
  },
  {
   "cell_type": "code",
   "execution_count": null,
   "metadata": {},
   "outputs": [],
   "source": []
  },
  {
   "cell_type": "code",
   "execution_count": null,
   "metadata": {},
   "outputs": [],
   "source": []
  },
  {
   "cell_type": "code",
   "execution_count": null,
   "metadata": {},
   "outputs": [],
   "source": []
  },
  {
   "cell_type": "code",
   "execution_count": null,
   "metadata": {},
   "outputs": [],
   "source": []
  },
  {
   "cell_type": "code",
   "execution_count": null,
   "metadata": {},
   "outputs": [],
   "source": []
  },
  {
   "cell_type": "code",
   "execution_count": null,
   "metadata": {},
   "outputs": [],
   "source": []
  },
  {
   "cell_type": "code",
   "execution_count": null,
   "metadata": {},
   "outputs": [],
   "source": []
  },
  {
   "cell_type": "code",
   "execution_count": null,
   "metadata": {},
   "outputs": [],
   "source": []
  },
  {
   "cell_type": "code",
   "execution_count": null,
   "metadata": {},
   "outputs": [],
   "source": []
  },
  {
   "cell_type": "code",
   "execution_count": null,
   "metadata": {},
   "outputs": [],
   "source": []
  },
  {
   "cell_type": "code",
   "execution_count": null,
   "metadata": {},
   "outputs": [],
   "source": []
  }
 ],
 "metadata": {
  "kernelspec": {
   "display_name": "Python 3",
   "language": "python",
   "name": "python3"
  },
  "language_info": {
   "codemirror_mode": {
    "name": "ipython",
    "version": 3
   },
   "file_extension": ".py",
   "mimetype": "text/x-python",
   "name": "python",
   "nbconvert_exporter": "python",
   "pygments_lexer": "ipython3",
   "version": "3.7.3"
  }
 },
 "nbformat": 4,
 "nbformat_minor": 2
}
