{
 "cells": [
  {
   "cell_type": "markdown",
   "metadata": {},
   "source": [
    "## 신생아"
   ]
  },
  {
   "cell_type": "code",
   "execution_count": 24,
   "metadata": {},
   "outputs": [],
   "source": [
    "import pandas as pd\n",
    "import numpy as np\n",
    "\n",
    "from statsmodels.formula.api import ols\n",
    "import statsmodels.api as sm\n",
    "\n",
    "from sklearn.metrics import classification_report\n",
    "from sklearn.metrics import auc\n",
    "from sklearn.metrics import roc_curve"
   ]
  },
  {
   "cell_type": "markdown",
   "metadata": {},
   "source": [
    "#### [문제 5] 데이터 파일(birth_risk.csv, birth_risk_br.csv)을 통해 신생아와 산모의 데이터를 구축한다. 데이터의 변수명과 변수의 타입은 위의 변수 설명을 참고해 변경하시오. immature는 \"37주 미만\"을 참조 레벨로, plural은 \"한명\"을 참조 레벨로 정의한다. 임신 전 산모의 체중 변수에서 이상치들을 제거 후 데이터의 개수를 표시하시오. 이상치는 Q1(25%)을 기준으로 IQR(Q3 - Q1)의 1.5배 보다 작은(미만) 값들과, Q3(75%)을 기준으로 IQR의 1.5배 보다 큰(초과) 값들로 정의해 계산하시오. (10점)\n",
    "- Brightics의 경우 범주형 변수로부터 Dummy 변수를 생성할 때는 변수값의 고유한 개수(k)에서 하나를 뺀 개수만큼(k-1)의 Dummy 변수를 만드시오. 예를 들어 원래 변수가 성별(남, 여)이라면 남성 여부 또는 여성 여부 둘 중에 하나만 만든다. (범주의 개수가 2개인 경우 Dummy 변수 1개 생성)\n",
    "- Brightics의 경우 참조 레벨은 고려하지 않고 생성하시오.\n",
    "\n",
    "(답안예시) 123 \n"
   ]
  },
  {
   "cell_type": "code",
   "execution_count": 2,
   "metadata": {},
   "outputs": [
    {
     "data": {
      "text/html": [
       "<div>\n",
       "<style scoped>\n",
       "    .dataframe tbody tr th:only-of-type {\n",
       "        vertical-align: middle;\n",
       "    }\n",
       "\n",
       "    .dataframe tbody tr th {\n",
       "        vertical-align: top;\n",
       "    }\n",
       "\n",
       "    .dataframe thead th {\n",
       "        text-align: right;\n",
       "    }\n",
       "</style>\n",
       "<table border=\"1\" class=\"dataframe\">\n",
       "  <thead>\n",
       "    <tr style=\"text-align: right;\">\n",
       "      <th></th>\n",
       "      <th>weight</th>\n",
       "      <th>visits</th>\n",
       "      <th>smoke</th>\n",
       "      <th>immature</th>\n",
       "      <th>plural</th>\n",
       "      <th>amniotic_fluid</th>\n",
       "      <th>parturition</th>\n",
       "      <th>breech</th>\n",
       "      <th>glycosuria</th>\n",
       "      <th>chypertension</th>\n",
       "      <th>phypertension</th>\n",
       "      <th>gestosis</th>\n",
       "      <th>xgrp</th>\n",
       "      <th>at_risk</th>\n",
       "    </tr>\n",
       "  </thead>\n",
       "  <tbody>\n",
       "    <tr>\n",
       "      <th>0</th>\n",
       "      <td>68.934240</td>\n",
       "      <td>12</td>\n",
       "      <td>False</td>\n",
       "      <td>37주이상</td>\n",
       "      <td>한명</td>\n",
       "      <td>False</td>\n",
       "      <td>False</td>\n",
       "      <td>False</td>\n",
       "      <td>False</td>\n",
       "      <td>False</td>\n",
       "      <td>False</td>\n",
       "      <td>False</td>\n",
       "      <td>8</td>\n",
       "      <td>False</td>\n",
       "    </tr>\n",
       "    <tr>\n",
       "      <th>1</th>\n",
       "      <td>88.435374</td>\n",
       "      <td>9</td>\n",
       "      <td>False</td>\n",
       "      <td>37주이상</td>\n",
       "      <td>한명</td>\n",
       "      <td>False</td>\n",
       "      <td>False</td>\n",
       "      <td>False</td>\n",
       "      <td>False</td>\n",
       "      <td>False</td>\n",
       "      <td>False</td>\n",
       "      <td>False</td>\n",
       "      <td>2</td>\n",
       "      <td>False</td>\n",
       "    </tr>\n",
       "  </tbody>\n",
       "</table>\n",
       "</div>"
      ],
      "text/plain": [
       "      weight  visits  smoke immature plural  amniotic_fluid  parturition  \\\n",
       "0  68.934240      12  False    37주이상     한명           False        False   \n",
       "1  88.435374       9  False    37주이상     한명           False        False   \n",
       "\n",
       "   breech  glycosuria  chypertension  phypertension  gestosis  xgrp  at_risk  \n",
       "0   False       False          False          False     False     8    False  \n",
       "1   False       False          False          False     False     2    False  "
      ]
     },
     "execution_count": 2,
     "metadata": {},
     "output_type": "execute_result"
    }
   ],
   "source": [
    "df = pd.read_csv(\"birth.csv\")\n",
    "df.head(2)"
   ]
  },
  {
   "cell_type": "code",
   "execution_count": 3,
   "metadata": {},
   "outputs": [
    {
     "data": {
      "text/plain": [
       "weight            {102.947845804989, 103.40136054421801, 103.854...\n",
       "visits            {0, 1, 2, 3, 4, 5, 6, 7, 8, 9, 10, 11, 12, 13,...\n",
       "smoke                                                 {False, True}\n",
       "immature                                             {37주이상, 37주미만}\n",
       "plural                                            {쌍둥이, 한명, 세쌍둥이이상}\n",
       "amniotic_fluid                                        {False, True}\n",
       "parturition                                           {False, True}\n",
       "breech                                                {False, True}\n",
       "glycosuria                                            {False, True}\n",
       "chypertension                                         {False, True}\n",
       "phypertension                                         {False, True}\n",
       "gestosis                                              {False, True}\n",
       "xgrp                             {0, 1, 2, 3, 4, 5, 6, 7, 8, 9, 10}\n",
       "at_risk                                               {False, True}\n",
       "dtype: object"
      ]
     },
     "execution_count": 3,
     "metadata": {},
     "output_type": "execute_result"
    }
   ],
   "source": [
    "df.apply(lambda x: set(x), axis = 0)"
   ]
  },
  {
   "cell_type": "code",
   "execution_count": 4,
   "metadata": {},
   "outputs": [
    {
     "data": {
      "text/html": [
       "<div>\n",
       "<style scoped>\n",
       "    .dataframe tbody tr th:only-of-type {\n",
       "        vertical-align: middle;\n",
       "    }\n",
       "\n",
       "    .dataframe tbody tr th {\n",
       "        vertical-align: top;\n",
       "    }\n",
       "\n",
       "    .dataframe thead th {\n",
       "        text-align: right;\n",
       "    }\n",
       "</style>\n",
       "<table border=\"1\" class=\"dataframe\">\n",
       "  <thead>\n",
       "    <tr style=\"text-align: right;\">\n",
       "      <th></th>\n",
       "      <th>weight</th>\n",
       "      <th>visits</th>\n",
       "      <th>smoke</th>\n",
       "      <th>immature</th>\n",
       "      <th>plural</th>\n",
       "      <th>amniotic_fluid</th>\n",
       "      <th>parturition</th>\n",
       "      <th>breech</th>\n",
       "      <th>glycosuria</th>\n",
       "      <th>chypertension</th>\n",
       "      <th>phypertension</th>\n",
       "      <th>gestosis</th>\n",
       "      <th>xgrp</th>\n",
       "      <th>at_risk</th>\n",
       "    </tr>\n",
       "  </thead>\n",
       "  <tbody>\n",
       "    <tr>\n",
       "      <th>0</th>\n",
       "      <td>68.934240</td>\n",
       "      <td>12</td>\n",
       "      <td>False</td>\n",
       "      <td>1</td>\n",
       "      <td>한명</td>\n",
       "      <td>False</td>\n",
       "      <td>False</td>\n",
       "      <td>False</td>\n",
       "      <td>False</td>\n",
       "      <td>False</td>\n",
       "      <td>False</td>\n",
       "      <td>False</td>\n",
       "      <td>8</td>\n",
       "      <td>False</td>\n",
       "    </tr>\n",
       "    <tr>\n",
       "      <th>1</th>\n",
       "      <td>88.435374</td>\n",
       "      <td>9</td>\n",
       "      <td>False</td>\n",
       "      <td>1</td>\n",
       "      <td>한명</td>\n",
       "      <td>False</td>\n",
       "      <td>False</td>\n",
       "      <td>False</td>\n",
       "      <td>False</td>\n",
       "      <td>False</td>\n",
       "      <td>False</td>\n",
       "      <td>False</td>\n",
       "      <td>2</td>\n",
       "      <td>False</td>\n",
       "    </tr>\n",
       "  </tbody>\n",
       "</table>\n",
       "</div>"
      ],
      "text/plain": [
       "      weight  visits  smoke  immature plural  amniotic_fluid  parturition  \\\n",
       "0  68.934240      12  False         1     한명           False        False   \n",
       "1  88.435374       9  False         1     한명           False        False   \n",
       "\n",
       "   breech  glycosuria  chypertension  phypertension  gestosis  xgrp  at_risk  \n",
       "0   False       False          False          False     False     8    False  \n",
       "1   False       False          False          False     False     2    False  "
      ]
     },
     "execution_count": 4,
     "metadata": {},
     "output_type": "execute_result"
    }
   ],
   "source": [
    "df[\"immature\"] = (df[\"immature\"] == \"37주이상\") + 0\n",
    "df.head(2)"
   ]
  },
  {
   "cell_type": "code",
   "execution_count": 5,
   "metadata": {},
   "outputs": [
    {
     "data": {
      "text/html": [
       "<div>\n",
       "<style scoped>\n",
       "    .dataframe tbody tr th:only-of-type {\n",
       "        vertical-align: middle;\n",
       "    }\n",
       "\n",
       "    .dataframe tbody tr th {\n",
       "        vertical-align: top;\n",
       "    }\n",
       "\n",
       "    .dataframe thead th {\n",
       "        text-align: right;\n",
       "    }\n",
       "</style>\n",
       "<table border=\"1\" class=\"dataframe\">\n",
       "  <thead>\n",
       "    <tr style=\"text-align: right;\">\n",
       "      <th></th>\n",
       "      <th>weight</th>\n",
       "      <th>visits</th>\n",
       "      <th>smoke</th>\n",
       "      <th>immature</th>\n",
       "      <th>plural</th>\n",
       "      <th>amniotic_fluid</th>\n",
       "      <th>parturition</th>\n",
       "      <th>breech</th>\n",
       "      <th>glycosuria</th>\n",
       "      <th>chypertension</th>\n",
       "      <th>phypertension</th>\n",
       "      <th>gestosis</th>\n",
       "      <th>xgrp</th>\n",
       "      <th>at_risk</th>\n",
       "    </tr>\n",
       "  </thead>\n",
       "  <tbody>\n",
       "    <tr>\n",
       "      <th>0</th>\n",
       "      <td>68.934240</td>\n",
       "      <td>12</td>\n",
       "      <td>0</td>\n",
       "      <td>1</td>\n",
       "      <td>한명</td>\n",
       "      <td>0</td>\n",
       "      <td>0</td>\n",
       "      <td>0</td>\n",
       "      <td>0</td>\n",
       "      <td>0</td>\n",
       "      <td>0</td>\n",
       "      <td>0</td>\n",
       "      <td>8</td>\n",
       "      <td>0</td>\n",
       "    </tr>\n",
       "    <tr>\n",
       "      <th>1</th>\n",
       "      <td>88.435374</td>\n",
       "      <td>9</td>\n",
       "      <td>0</td>\n",
       "      <td>1</td>\n",
       "      <td>한명</td>\n",
       "      <td>0</td>\n",
       "      <td>0</td>\n",
       "      <td>0</td>\n",
       "      <td>0</td>\n",
       "      <td>0</td>\n",
       "      <td>0</td>\n",
       "      <td>0</td>\n",
       "      <td>2</td>\n",
       "      <td>0</td>\n",
       "    </tr>\n",
       "  </tbody>\n",
       "</table>\n",
       "</div>"
      ],
      "text/plain": [
       "      weight  visits  smoke  immature plural  amniotic_fluid  parturition  \\\n",
       "0  68.934240      12      0         1     한명               0            0   \n",
       "1  88.435374       9      0         1     한명               0            0   \n",
       "\n",
       "   breech  glycosuria  chypertension  phypertension  gestosis  xgrp  at_risk  \n",
       "0       0           0              0              0         0     8        0  \n",
       "1       0           0              0              0         0     2        0  "
      ]
     },
     "execution_count": 5,
     "metadata": {},
     "output_type": "execute_result"
    }
   ],
   "source": [
    "for n in np.r_[2, 5:14]:\n",
    "    df.iloc[:, n] = df.iloc[:, n] + 0\n",
    "df.head(2)"
   ]
  },
  {
   "cell_type": "code",
   "execution_count": 6,
   "metadata": {},
   "outputs": [
    {
     "data": {
      "text/html": [
       "<div>\n",
       "<style scoped>\n",
       "    .dataframe tbody tr th:only-of-type {\n",
       "        vertical-align: middle;\n",
       "    }\n",
       "\n",
       "    .dataframe tbody tr th {\n",
       "        vertical-align: top;\n",
       "    }\n",
       "\n",
       "    .dataframe thead th {\n",
       "        text-align: right;\n",
       "    }\n",
       "</style>\n",
       "<table border=\"1\" class=\"dataframe\">\n",
       "  <thead>\n",
       "    <tr style=\"text-align: right;\">\n",
       "      <th></th>\n",
       "      <th>weight</th>\n",
       "      <th>visits</th>\n",
       "      <th>smoke</th>\n",
       "      <th>immature</th>\n",
       "      <th>amniotic_fluid</th>\n",
       "      <th>parturition</th>\n",
       "      <th>breech</th>\n",
       "      <th>glycosuria</th>\n",
       "      <th>chypertension</th>\n",
       "      <th>phypertension</th>\n",
       "      <th>gestosis</th>\n",
       "      <th>xgrp</th>\n",
       "      <th>at_risk</th>\n",
       "      <th>plural_세쌍둥이이상</th>\n",
       "      <th>plural_쌍둥이</th>\n",
       "      <th>plural_한명</th>\n",
       "    </tr>\n",
       "  </thead>\n",
       "  <tbody>\n",
       "    <tr>\n",
       "      <th>0</th>\n",
       "      <td>68.934240</td>\n",
       "      <td>12</td>\n",
       "      <td>0</td>\n",
       "      <td>1</td>\n",
       "      <td>0</td>\n",
       "      <td>0</td>\n",
       "      <td>0</td>\n",
       "      <td>0</td>\n",
       "      <td>0</td>\n",
       "      <td>0</td>\n",
       "      <td>0</td>\n",
       "      <td>8</td>\n",
       "      <td>0</td>\n",
       "      <td>0</td>\n",
       "      <td>0</td>\n",
       "      <td>1</td>\n",
       "    </tr>\n",
       "    <tr>\n",
       "      <th>1</th>\n",
       "      <td>88.435374</td>\n",
       "      <td>9</td>\n",
       "      <td>0</td>\n",
       "      <td>1</td>\n",
       "      <td>0</td>\n",
       "      <td>0</td>\n",
       "      <td>0</td>\n",
       "      <td>0</td>\n",
       "      <td>0</td>\n",
       "      <td>0</td>\n",
       "      <td>0</td>\n",
       "      <td>2</td>\n",
       "      <td>0</td>\n",
       "      <td>0</td>\n",
       "      <td>0</td>\n",
       "      <td>1</td>\n",
       "    </tr>\n",
       "  </tbody>\n",
       "</table>\n",
       "</div>"
      ],
      "text/plain": [
       "      weight  visits  smoke  immature  amniotic_fluid  parturition  breech  \\\n",
       "0  68.934240      12      0         1               0            0       0   \n",
       "1  88.435374       9      0         1               0            0       0   \n",
       "\n",
       "   glycosuria  chypertension  phypertension  gestosis  xgrp  at_risk  \\\n",
       "0           0              0              0         0     8        0   \n",
       "1           0              0              0         0     2        0   \n",
       "\n",
       "   plural_세쌍둥이이상  plural_쌍둥이  plural_한명  \n",
       "0              0           0          1  \n",
       "1              0           0          1  "
      ]
     },
     "execution_count": 6,
     "metadata": {},
     "output_type": "execute_result"
    }
   ],
   "source": [
    "df = pd.get_dummies(df)\n",
    "df.head(2)"
   ]
  },
  {
   "cell_type": "code",
   "execution_count": 7,
   "metadata": {},
   "outputs": [
    {
     "data": {
      "text/html": [
       "<div>\n",
       "<style scoped>\n",
       "    .dataframe tbody tr th:only-of-type {\n",
       "        vertical-align: middle;\n",
       "    }\n",
       "\n",
       "    .dataframe tbody tr th {\n",
       "        vertical-align: top;\n",
       "    }\n",
       "\n",
       "    .dataframe thead th {\n",
       "        text-align: right;\n",
       "    }\n",
       "</style>\n",
       "<table border=\"1\" class=\"dataframe\">\n",
       "  <thead>\n",
       "    <tr style=\"text-align: right;\">\n",
       "      <th></th>\n",
       "      <th>weight</th>\n",
       "      <th>visits</th>\n",
       "      <th>smoke</th>\n",
       "      <th>immature</th>\n",
       "      <th>amniotic_fluid</th>\n",
       "      <th>parturition</th>\n",
       "      <th>breech</th>\n",
       "      <th>glycosuria</th>\n",
       "      <th>chypertension</th>\n",
       "      <th>phypertension</th>\n",
       "      <th>gestosis</th>\n",
       "      <th>xgrp</th>\n",
       "      <th>at_risk</th>\n",
       "      <th>plural_세쌍둥이이상</th>\n",
       "      <th>plural_쌍둥이</th>\n",
       "    </tr>\n",
       "  </thead>\n",
       "  <tbody>\n",
       "    <tr>\n",
       "      <th>0</th>\n",
       "      <td>68.934240</td>\n",
       "      <td>12</td>\n",
       "      <td>0</td>\n",
       "      <td>1</td>\n",
       "      <td>0</td>\n",
       "      <td>0</td>\n",
       "      <td>0</td>\n",
       "      <td>0</td>\n",
       "      <td>0</td>\n",
       "      <td>0</td>\n",
       "      <td>0</td>\n",
       "      <td>8</td>\n",
       "      <td>0</td>\n",
       "      <td>0</td>\n",
       "      <td>0</td>\n",
       "    </tr>\n",
       "    <tr>\n",
       "      <th>1</th>\n",
       "      <td>88.435374</td>\n",
       "      <td>9</td>\n",
       "      <td>0</td>\n",
       "      <td>1</td>\n",
       "      <td>0</td>\n",
       "      <td>0</td>\n",
       "      <td>0</td>\n",
       "      <td>0</td>\n",
       "      <td>0</td>\n",
       "      <td>0</td>\n",
       "      <td>0</td>\n",
       "      <td>2</td>\n",
       "      <td>0</td>\n",
       "      <td>0</td>\n",
       "      <td>0</td>\n",
       "    </tr>\n",
       "  </tbody>\n",
       "</table>\n",
       "</div>"
      ],
      "text/plain": [
       "      weight  visits  smoke  immature  amniotic_fluid  parturition  breech  \\\n",
       "0  68.934240      12      0         1               0            0       0   \n",
       "1  88.435374       9      0         1               0            0       0   \n",
       "\n",
       "   glycosuria  chypertension  phypertension  gestosis  xgrp  at_risk  \\\n",
       "0           0              0              0         0     8        0   \n",
       "1           0              0              0         0     2        0   \n",
       "\n",
       "   plural_세쌍둥이이상  plural_쌍둥이  \n",
       "0              0           0  \n",
       "1              0           0  "
      ]
     },
     "execution_count": 7,
     "metadata": {},
     "output_type": "execute_result"
    }
   ],
   "source": [
    "df = df.iloc[:, :-1]\n",
    "df.head(2)"
   ]
  },
  {
   "cell_type": "code",
   "execution_count": 8,
   "metadata": {},
   "outputs": [
    {
     "name": "stdout",
     "output_type": "stream",
     "text": [
      "56.6893424036281 76.1904761904762\n"
     ]
    }
   ],
   "source": [
    "weight_q1 = df[\"weight\"].quantile(0.25)\n",
    "weight_q3 = df[\"weight\"].quantile(0.75)\n",
    "print(weight_q1, weight_q3)"
   ]
  },
  {
   "cell_type": "code",
   "execution_count": 9,
   "metadata": {},
   "outputs": [
    {
     "name": "stdout",
     "output_type": "stream",
     "text": [
      "19.5011337868481\n"
     ]
    }
   ],
   "source": [
    "IQR = weight_q3 - weight_q1\n",
    "print(IQR)"
   ]
  },
  {
   "cell_type": "code",
   "execution_count": 10,
   "metadata": {},
   "outputs": [
    {
     "name": "stdout",
     "output_type": "stream",
     "text": [
      "25000\n",
      "24636\n"
     ]
    }
   ],
   "source": [
    "df_sub = df.loc[(df[\"weight\"] >= (weight_q1 - 1.5 * IQR)) & (df[\"weight\"] <= (weight_q3 + 1.5 * IQR)),]\n",
    "print(len(df))\n",
    "print(len(df_sub))"
   ]
  },
  {
   "cell_type": "markdown",
   "metadata": {},
   "source": [
    "#### [문제 6] [문제 5]의 결과 데이터 프레임에서 변수 xgrp의 값이 5 이하인 데이터로 훈련 데이터 셋을, 6 이상의 데이터로 테스트 데이터 셋을 만들고, xgrp 변수를 제외한 나머지 변수를 이용해 신생아의 위험 여부를 판단하는 로지스틱 회귀(Logistic Regression) 모델을 구축하시오. 로지스틱 회귀 모델의 계수는 입력변수와 출력변수 간의 관계를 설명한다. \n",
    "생성된 모델의 모든 조건이 동일하다는 전제 하에 정상 분만의 신생아가 미숙아보다 위험에 빠질 오즈(Odds)는 몇 배 줄어드는지, 계산하여 답하시오. (5점)\n",
    "- 로지스틱 회귀모델은 훈련 데이터 셋으로 구축하시오.\n",
    "- 소수점 둘째 자리에서 반올림하고, 소수점 첫째 자리까지 표시하시오.\n",
    "\n",
    "(답안예시) 1.2"
   ]
  },
  {
   "cell_type": "code",
   "execution_count": 11,
   "metadata": {},
   "outputs": [
    {
     "data": {
      "text/plain": [
       "Index(['weight', 'visits', 'smoke', 'immature', 'amniotic_fluid',\n",
       "       'parturition', 'breech', 'glycosuria', 'chypertension', 'phypertension',\n",
       "       'gestosis', 'at_risk', 'plural_세쌍둥이이상', 'plural_쌍둥이'],\n",
       "      dtype='object')"
      ]
     },
     "execution_count": 11,
     "metadata": {},
     "output_type": "execute_result"
    }
   ],
   "source": [
    "columns = df_sub.columns[:11].append(df_sub.columns[12:])\n",
    "columns"
   ]
  },
  {
   "cell_type": "code",
   "execution_count": 12,
   "metadata": {},
   "outputs": [
    {
     "data": {
      "text/html": [
       "<div>\n",
       "<style scoped>\n",
       "    .dataframe tbody tr th:only-of-type {\n",
       "        vertical-align: middle;\n",
       "    }\n",
       "\n",
       "    .dataframe tbody tr th {\n",
       "        vertical-align: top;\n",
       "    }\n",
       "\n",
       "    .dataframe thead th {\n",
       "        text-align: right;\n",
       "    }\n",
       "</style>\n",
       "<table border=\"1\" class=\"dataframe\">\n",
       "  <thead>\n",
       "    <tr style=\"text-align: right;\">\n",
       "      <th></th>\n",
       "      <th>weight</th>\n",
       "      <th>visits</th>\n",
       "      <th>smoke</th>\n",
       "      <th>immature</th>\n",
       "      <th>amniotic_fluid</th>\n",
       "      <th>parturition</th>\n",
       "      <th>breech</th>\n",
       "      <th>glycosuria</th>\n",
       "      <th>chypertension</th>\n",
       "      <th>phypertension</th>\n",
       "      <th>gestosis</th>\n",
       "      <th>at_risk</th>\n",
       "      <th>plural_세쌍둥이이상</th>\n",
       "      <th>plural_쌍둥이</th>\n",
       "    </tr>\n",
       "  </thead>\n",
       "  <tbody>\n",
       "    <tr>\n",
       "      <th>1</th>\n",
       "      <td>88.435374</td>\n",
       "      <td>9</td>\n",
       "      <td>0</td>\n",
       "      <td>1</td>\n",
       "      <td>0</td>\n",
       "      <td>0</td>\n",
       "      <td>0</td>\n",
       "      <td>0</td>\n",
       "      <td>0</td>\n",
       "      <td>0</td>\n",
       "      <td>0</td>\n",
       "      <td>0</td>\n",
       "      <td>0</td>\n",
       "      <td>0</td>\n",
       "    </tr>\n",
       "    <tr>\n",
       "      <th>2</th>\n",
       "      <td>78.911565</td>\n",
       "      <td>9</td>\n",
       "      <td>0</td>\n",
       "      <td>1</td>\n",
       "      <td>0</td>\n",
       "      <td>0</td>\n",
       "      <td>0</td>\n",
       "      <td>0</td>\n",
       "      <td>0</td>\n",
       "      <td>0</td>\n",
       "      <td>0</td>\n",
       "      <td>0</td>\n",
       "      <td>0</td>\n",
       "      <td>0</td>\n",
       "    </tr>\n",
       "  </tbody>\n",
       "</table>\n",
       "</div>"
      ],
      "text/plain": [
       "      weight  visits  smoke  immature  amniotic_fluid  parturition  breech  \\\n",
       "1  88.435374       9      0         1               0            0       0   \n",
       "2  78.911565       9      0         1               0            0       0   \n",
       "\n",
       "   glycosuria  chypertension  phypertension  gestosis  at_risk  plural_세쌍둥이이상  \\\n",
       "1           0              0              0         0        0              0   \n",
       "2           0              0              0         0        0              0   \n",
       "\n",
       "   plural_쌍둥이  \n",
       "1           0  \n",
       "2           0  "
      ]
     },
     "execution_count": 12,
     "metadata": {},
     "output_type": "execute_result"
    }
   ],
   "source": [
    "train = df_sub.loc[df_sub[\"xgrp\"] <= 5, columns]\n",
    "test = df_sub.loc[df_sub[\"xgrp\"] >= 6, columns]\n",
    "train.head(2)"
   ]
  },
  {
   "cell_type": "code",
   "execution_count": 26,
   "metadata": {},
   "outputs": [
    {
     "name": "stdout",
     "output_type": "stream",
     "text": [
      "Optimization terminated successfully.\n",
      "         Current function value: 0.084424\n",
      "         Iterations 9\n"
     ]
    },
    {
     "data": {
      "text/html": [
       "<table class=\"simpletable\">\n",
       "<caption>Logit Regression Results</caption>\n",
       "<tr>\n",
       "  <th>Dep. Variable:</th>        <td>at_risk</td>     <th>  No. Observations:  </th>  <td> 13321</td>  \n",
       "</tr>\n",
       "<tr>\n",
       "  <th>Model:</th>                 <td>Logit</td>      <th>  Df Residuals:      </th>  <td> 13308</td>  \n",
       "</tr>\n",
       "<tr>\n",
       "  <th>Method:</th>                 <td>MLE</td>       <th>  Df Model:          </th>  <td>    12</td>  \n",
       "</tr>\n",
       "<tr>\n",
       "  <th>Date:</th>            <td>Fri, 23 Aug 2019</td> <th>  Pseudo R-squ.:     </th>  <td>0.04509</td> \n",
       "</tr>\n",
       "<tr>\n",
       "  <th>Time:</th>                <td>10:36:41</td>     <th>  Log-Likelihood:    </th> <td> -1124.6</td> \n",
       "</tr>\n",
       "<tr>\n",
       "  <th>converged:</th>             <td>True</td>       <th>  LL-Null:           </th> <td> -1177.7</td> \n",
       "</tr>\n",
       "<tr>\n",
       "  <th>Covariance Type:</th>     <td>nonrobust</td>    <th>  LLR p-value:       </th> <td>3.369e-17</td>\n",
       "</tr>\n",
       "</table>\n",
       "<table class=\"simpletable\">\n",
       "<tr>\n",
       "         <td></td>           <th>coef</th>     <th>std err</th>      <th>z</th>      <th>P>|z|</th>  <th>[0.025</th>    <th>0.975]</th>  \n",
       "</tr>\n",
       "<tr>\n",
       "  <th>weight</th>         <td>   -0.0251</td> <td>    0.003</td> <td>   -9.840</td> <td> 0.000</td> <td>   -0.030</td> <td>   -0.020</td>\n",
       "</tr>\n",
       "<tr>\n",
       "  <th>visits</th>         <td>   -0.1139</td> <td>    0.015</td> <td>   -7.573</td> <td> 0.000</td> <td>   -0.143</td> <td>   -0.084</td>\n",
       "</tr>\n",
       "<tr>\n",
       "  <th>smoke</th>          <td>    0.1410</td> <td>    0.202</td> <td>    0.699</td> <td> 0.485</td> <td>   -0.254</td> <td>    0.536</td>\n",
       "</tr>\n",
       "<tr>\n",
       "  <th>immature</th>       <td>   -1.6888</td> <td>    0.140</td> <td>  -12.028</td> <td> 0.000</td> <td>   -1.964</td> <td>   -1.414</td>\n",
       "</tr>\n",
       "<tr>\n",
       "  <th>amniotic_fluid</th> <td>    0.7303</td> <td>    0.255</td> <td>    2.858</td> <td> 0.004</td> <td>    0.230</td> <td>    1.231</td>\n",
       "</tr>\n",
       "<tr>\n",
       "  <th>parturition</th>    <td>   -0.2851</td> <td>    0.429</td> <td>   -0.664</td> <td> 0.507</td> <td>   -1.126</td> <td>    0.556</td>\n",
       "</tr>\n",
       "<tr>\n",
       "  <th>breech</th>         <td>    0.3995</td> <td>    0.201</td> <td>    1.983</td> <td> 0.047</td> <td>    0.005</td> <td>    0.794</td>\n",
       "</tr>\n",
       "<tr>\n",
       "  <th>glycosuria</th>     <td>   -0.2458</td> <td>    0.320</td> <td>   -0.769</td> <td> 0.442</td> <td>   -0.872</td> <td>    0.381</td>\n",
       "</tr>\n",
       "<tr>\n",
       "  <th>chypertension</th>  <td>    0.2798</td> <td>    0.530</td> <td>    0.528</td> <td> 0.597</td> <td>   -0.758</td> <td>    1.318</td>\n",
       "</tr>\n",
       "<tr>\n",
       "  <th>phypertension</th>  <td>    0.1307</td> <td>    0.282</td> <td>    0.463</td> <td> 0.643</td> <td>   -0.422</td> <td>    0.684</td>\n",
       "</tr>\n",
       "<tr>\n",
       "  <th>gestosis</th>       <td>    0.3325</td> <td>    1.063</td> <td>    0.313</td> <td> 0.754</td> <td>   -1.752</td> <td>    2.417</td>\n",
       "</tr>\n",
       "<tr>\n",
       "  <th>plural_세쌍둥이이상</th>  <td>    1.2873</td> <td>    0.586</td> <td>    2.195</td> <td> 0.028</td> <td>    0.138</td> <td>    2.437</td>\n",
       "</tr>\n",
       "<tr>\n",
       "  <th>plural_쌍둥이</th>     <td>    0.5100</td> <td>    0.250</td> <td>    2.038</td> <td> 0.042</td> <td>    0.019</td> <td>    1.001</td>\n",
       "</tr>\n",
       "</table>"
      ],
      "text/plain": [
       "<class 'statsmodels.iolib.summary.Summary'>\n",
       "\"\"\"\n",
       "                           Logit Regression Results                           \n",
       "==============================================================================\n",
       "Dep. Variable:                at_risk   No. Observations:                13321\n",
       "Model:                          Logit   Df Residuals:                    13308\n",
       "Method:                           MLE   Df Model:                           12\n",
       "Date:                Fri, 23 Aug 2019   Pseudo R-squ.:                 0.04509\n",
       "Time:                        10:36:41   Log-Likelihood:                -1124.6\n",
       "converged:                       True   LL-Null:                       -1177.7\n",
       "Covariance Type:            nonrobust   LLR p-value:                 3.369e-17\n",
       "==================================================================================\n",
       "                     coef    std err          z      P>|z|      [0.025      0.975]\n",
       "----------------------------------------------------------------------------------\n",
       "weight            -0.0251      0.003     -9.840      0.000      -0.030      -0.020\n",
       "visits            -0.1139      0.015     -7.573      0.000      -0.143      -0.084\n",
       "smoke              0.1410      0.202      0.699      0.485      -0.254       0.536\n",
       "immature          -1.6888      0.140    -12.028      0.000      -1.964      -1.414\n",
       "amniotic_fluid     0.7303      0.255      2.858      0.004       0.230       1.231\n",
       "parturition       -0.2851      0.429     -0.664      0.507      -1.126       0.556\n",
       "breech             0.3995      0.201      1.983      0.047       0.005       0.794\n",
       "glycosuria        -0.2458      0.320     -0.769      0.442      -0.872       0.381\n",
       "chypertension      0.2798      0.530      0.528      0.597      -0.758       1.318\n",
       "phypertension      0.1307      0.282      0.463      0.643      -0.422       0.684\n",
       "gestosis           0.3325      1.063      0.313      0.754      -1.752       2.417\n",
       "plural_세쌍둥이이상      1.2873      0.586      2.195      0.028       0.138       2.437\n",
       "plural_쌍둥이         0.5100      0.250      2.038      0.042       0.019       1.001\n",
       "==================================================================================\n",
       "\"\"\""
      ]
     },
     "execution_count": 26,
     "metadata": {},
     "output_type": "execute_result"
    }
   ],
   "source": [
    "model = sm.Logit(train[\"at_risk\"], train.drop(\"at_risk\", axis = 1))\n",
    "model_fit = model.fit()\n",
    "model_fit.summary()"
   ]
  },
  {
   "cell_type": "code",
   "execution_count": 17,
   "metadata": {},
   "outputs": [
    {
     "data": {
      "text/plain": [
       "0.2"
      ]
     },
     "execution_count": 17,
     "metadata": {},
     "output_type": "execute_result"
    }
   ],
   "source": [
    "round(np.exp(-1.6888), 1)"
   ]
  },
  {
   "cell_type": "markdown",
   "metadata": {},
   "source": [
    "#### [문제 7] [문제 6]의 결과 모델을 이용하여 산모가 임신 중 병원을 방문할 때마다 신생아의 위험에 빠질 오즈(Odds)는 몇 배 줄어든다고 할 수 있는지 계산하여 답하시오. (5점)\n",
    "- 소수점 둘째 자리에서 반올림하고, 소수점 첫째 자리까지 표시하시오\n",
    "\n",
    "(답안예시) 1.5"
   ]
  },
  {
   "cell_type": "code",
   "execution_count": 18,
   "metadata": {},
   "outputs": [
    {
     "data": {
      "text/plain": [
       "0.9"
      ]
     },
     "execution_count": 18,
     "metadata": {},
     "output_type": "execute_result"
    }
   ],
   "source": [
    "round(np.exp(-0.1139), 1)"
   ]
  },
  {
   "cell_type": "markdown",
   "metadata": {},
   "source": [
    "#### [문제 8] [문제 6]에서 생성한 로지스틱 회귀 모델을 이용해 다음의 입력 데이터에 대하여 예측 결과를 백분율(%)과 \"위험\" 또는 \"정상\"으로 표시하십시오. 이 때 분류를 위한 경계값으로 0.02를 사용합니다. (백분율은 소수점 둘째 자리에서 반올림하고, 소수점 첫째 자리까지 표시하고, XX.X%(정상) 또는 XX.X%(위험)과 같이 기술하십시오.) (10점)\n",
    "\n",
    "입력 데이터: weight: 59, visits: 8, smoke: FALSE, immature: \"37주미만\", plural: \"쌍둥이\", amniotic_fluid: FALSE, parturition: FALSE, breech: TRUE, glycosuria: FALSE, chypertension: FALSE, phypertension: FALSE, gestosis: FALSE\n"
   ]
  },
  {
   "cell_type": "code",
   "execution_count": 19,
   "metadata": {},
   "outputs": [
    {
     "data": {
      "text/html": [
       "<div>\n",
       "<style scoped>\n",
       "    .dataframe tbody tr th:only-of-type {\n",
       "        vertical-align: middle;\n",
       "    }\n",
       "\n",
       "    .dataframe tbody tr th {\n",
       "        vertical-align: top;\n",
       "    }\n",
       "\n",
       "    .dataframe thead th {\n",
       "        text-align: right;\n",
       "    }\n",
       "</style>\n",
       "<table border=\"1\" class=\"dataframe\">\n",
       "  <thead>\n",
       "    <tr style=\"text-align: right;\">\n",
       "      <th></th>\n",
       "      <th>weight</th>\n",
       "      <th>visits</th>\n",
       "      <th>smoke</th>\n",
       "      <th>immature</th>\n",
       "      <th>amniotic_fluid</th>\n",
       "      <th>parturition</th>\n",
       "      <th>breech</th>\n",
       "      <th>glycosuria</th>\n",
       "      <th>chypertension</th>\n",
       "      <th>phypertension</th>\n",
       "      <th>gestosis</th>\n",
       "      <th>at_risk</th>\n",
       "      <th>plural_세쌍둥이이상</th>\n",
       "      <th>plural_쌍둥이</th>\n",
       "    </tr>\n",
       "  </thead>\n",
       "  <tbody>\n",
       "    <tr>\n",
       "      <th>0</th>\n",
       "      <td>59</td>\n",
       "      <td>8</td>\n",
       "      <td>0</td>\n",
       "      <td>0</td>\n",
       "      <td>0</td>\n",
       "      <td>0</td>\n",
       "      <td>1</td>\n",
       "      <td>0</td>\n",
       "      <td>0</td>\n",
       "      <td>0</td>\n",
       "      <td>0</td>\n",
       "      <td>0</td>\n",
       "      <td>0</td>\n",
       "      <td>1</td>\n",
       "    </tr>\n",
       "  </tbody>\n",
       "</table>\n",
       "</div>"
      ],
      "text/plain": [
       "   weight  visits  smoke  immature  amniotic_fluid  parturition  breech  \\\n",
       "0      59       8      0         0               0            0       1   \n",
       "\n",
       "   glycosuria  chypertension  phypertension  gestosis  at_risk  plural_세쌍둥이이상  \\\n",
       "0           0              0              0         0        0              0   \n",
       "\n",
       "   plural_쌍둥이  \n",
       "0           1  "
      ]
     },
     "execution_count": 19,
     "metadata": {},
     "output_type": "execute_result"
    }
   ],
   "source": [
    "test_one = pd.DataFrame(columns = train.columns,\n",
    "                        data = [[59, 8, 0, 0, 0, 0, 1, 0, 0, 0, 0, 0, 0, 1]])\n",
    "test_one"
   ]
  },
  {
   "cell_type": "code",
   "execution_count": 20,
   "metadata": {},
   "outputs": [
    {
     "data": {
      "text/plain": [
       "0    0.184955\n",
       "dtype: float64"
      ]
     },
     "execution_count": 20,
     "metadata": {},
     "output_type": "execute_result"
    }
   ],
   "source": [
    "model_fit.predict(test_one.drop(\"at_risk\", axis = 1))"
   ]
  },
  {
   "cell_type": "markdown",
   "metadata": {},
   "source": [
    "#### [문제 9] [문제 6]에서 생성한 신생아 위험 여부를 예측하는 로지스틱 회귀 모델의 성능을 측정하고자 한다. 분류를 위한 경계값을 0.02로 정의했을 때 분류기의 예측 정밀도(precision)를 구하시오. (10점)\n",
    "- 테스트 데이터 셋으로 계산하시오.\n",
    "- 정밀도는 신생아의 위험 여부(at_risk=TRUE)인 것을 기준으로 구하시오.\n",
    "- 소수점에서 셋째 자리까지만 표시하고 나머진 버리시오.\n",
    "\n",
    "(답안예시) 0.567"
   ]
  },
  {
   "cell_type": "code",
   "execution_count": 21,
   "metadata": {},
   "outputs": [],
   "source": [
    "pred = model_fit.predict(test.drop(\"at_risk\", axis = 1))"
   ]
  },
  {
   "cell_type": "code",
   "execution_count": 22,
   "metadata": {},
   "outputs": [
    {
     "data": {
      "text/plain": [
       "0    0.008272\n",
       "3    0.062609\n",
       "4    0.005382\n",
       "5    0.010145\n",
       "9    0.185118\n",
       "dtype: float64"
      ]
     },
     "execution_count": 22,
     "metadata": {},
     "output_type": "execute_result"
    }
   ],
   "source": [
    "pred.head()"
   ]
  },
  {
   "cell_type": "code",
   "execution_count": 23,
   "metadata": {},
   "outputs": [
    {
     "name": "stdout",
     "output_type": "stream",
     "text": [
      "              precision    recall  f1-score   support\n",
      "\n",
      "           0      0.990     0.799     0.884     11135\n",
      "           1      0.039     0.511     0.073       180\n",
      "\n",
      "    accuracy                          0.794     11315\n",
      "   macro avg      0.515     0.655     0.479     11315\n",
      "weighted avg      0.975     0.794     0.871     11315\n",
      "\n"
     ]
    }
   ],
   "source": [
    "print(classification_report(test[\"at_risk\"], (pred > 0.02) + 0, digits = 3))"
   ]
  },
  {
   "cell_type": "markdown",
   "metadata": {},
   "source": [
    "#### [문제 10] [문제 6]에서 생성한 신생아 위험 여부를 예측하는 로지스틱 회귀 모델의 성능 중 AUC-ROC 지표를 구하시오. (10점)\n",
    "- 테스트 데이터 셋으로 계산하시오.\n",
    "- 소수점에서 셋째 자리까지만 표시하고 나머진 버리시오.\n",
    "\n",
    "(답안예시) 0.123"
   ]
  },
  {
   "cell_type": "code",
   "execution_count": 25,
   "metadata": {},
   "outputs": [
    {
     "data": {
      "text/plain": [
       "0.6847156114354138"
      ]
     },
     "execution_count": 25,
     "metadata": {},
     "output_type": "execute_result"
    }
   ],
   "source": [
    "fpr, tpr, thresholds = roc_curve(test[\"at_risk\"], pred)\n",
    "auc(fpr, tpr)"
   ]
  },
  {
   "cell_type": "code",
   "execution_count": null,
   "metadata": {},
   "outputs": [],
   "source": []
  }
 ],
 "metadata": {
  "kernelspec": {
   "display_name": "Python 3",
   "language": "python",
   "name": "python3"
  },
  "language_info": {
   "codemirror_mode": {
    "name": "ipython",
    "version": 3
   },
   "file_extension": ".py",
   "mimetype": "text/x-python",
   "name": "python",
   "nbconvert_exporter": "python",
   "pygments_lexer": "ipython3",
   "version": "3.7.3"
  }
 },
 "nbformat": 4,
 "nbformat_minor": 2
}
