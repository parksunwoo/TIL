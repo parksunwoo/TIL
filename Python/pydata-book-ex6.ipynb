{
 "cells": [
  {
   "cell_type": "markdown",
   "metadata": {},
   "source": [
    "## 쇼핑몰"
   ]
  },
  {
   "cell_type": "code",
   "execution_count": 39,
   "metadata": {},
   "outputs": [],
   "source": [
    "import pandas as pd\n",
    "import numpy as np\n",
    "from datetime import datetime as dt"
   ]
  },
  {
   "cell_type": "code",
   "execution_count": 40,
   "metadata": {},
   "outputs": [],
   "source": [
    "df_pur = pd.read_csv(\"ds_purchase_log.csv\")\n",
    "df_cust = pd.read_csv(\"ds_customer_mst.csv\")\n",
    "df_prod = pd.read_csv(\"ds_product_mst.csv\")"
   ]
  },
  {
   "cell_type": "code",
   "execution_count": 41,
   "metadata": {},
   "outputs": [
    {
     "data": {
      "text/plain": [
       "(27910, 7)"
      ]
     },
     "execution_count": 41,
     "metadata": {},
     "output_type": "execute_result"
    }
   ],
   "source": [
    "df_cust_max = df_cust[[\"cust_no\",\"age_gender\",\"update_dt\"]].groupby(\"cust_no\").max()\n",
    "base = pd.merge(df_pur,df_cust_max, how=\"left\", on=\"cust_no\")\n",
    "base = pd.merge(base,df_prod, how=\"left\", on=\"item_no\")\n",
    "base.head()\n",
    "base.shape"
   ]
  },
  {
   "cell_type": "markdown",
   "metadata": {},
   "source": [
    "#### [문제 1] (base_table을 활용하여 분석을 수행하시오.) 성별에 따라 어떤 대카테고리에 더 많은 매출이 발생하는지 비교하고자 한다. 매출의 비교는 대카테고리별 인당 매출금액 기준으로하며, 인당 매출금액은 매출 총 금액을 매출을 발생시킨 회원수를 나눈 값으로 한다. 남녀 간 비교를 위해 회원 연령대, 성별(age_gender)을 활용하여 성별 컬럼을 만들고, 성별 대 카테고리별 인당 구매금액을 산출하여, 남성 1인당 매출액 2위인 카테고리(A)와, 여성 1인당 매출액 2위인 카테고리(B)를 차례로 쓰시오. (10점)"
   ]
  },
  {
   "cell_type": "code",
   "execution_count": 42,
   "metadata": {},
   "outputs": [
    {
     "data": {
      "text/html": [
       "<div>\n",
       "<style scoped>\n",
       "    .dataframe tbody tr th:only-of-type {\n",
       "        vertical-align: middle;\n",
       "    }\n",
       "\n",
       "    .dataframe tbody tr th {\n",
       "        vertical-align: top;\n",
       "    }\n",
       "\n",
       "    .dataframe thead th {\n",
       "        text-align: right;\n",
       "    }\n",
       "</style>\n",
       "<table border=\"1\" class=\"dataframe\">\n",
       "  <thead>\n",
       "    <tr style=\"text-align: right;\">\n",
       "      <th></th>\n",
       "      <th>cust_no</th>\n",
       "      <th>item_no</th>\n",
       "      <th>age_gender</th>\n",
       "      <th>update_dt</th>\n",
       "      <th>item_ctg1</th>\n",
       "      <th>item_ctg2</th>\n",
       "      <th>item_amt</th>\n",
       "      <th>sex</th>\n",
       "    </tr>\n",
       "  </thead>\n",
       "  <tbody>\n",
       "    <tr>\n",
       "      <td>0</td>\n",
       "      <td>1</td>\n",
       "      <td>1322</td>\n",
       "      <td>40대 M</td>\n",
       "      <td>20180829</td>\n",
       "      <td>의류</td>\n",
       "      <td>남성의류</td>\n",
       "      <td>94900.0</td>\n",
       "      <td>M</td>\n",
       "    </tr>\n",
       "    <tr>\n",
       "      <td>1</td>\n",
       "      <td>2</td>\n",
       "      <td>2273</td>\n",
       "      <td>40대 M</td>\n",
       "      <td>20180829</td>\n",
       "      <td>의류</td>\n",
       "      <td>남성의류</td>\n",
       "      <td>99900.0</td>\n",
       "      <td>M</td>\n",
       "    </tr>\n",
       "    <tr>\n",
       "      <td>2</td>\n",
       "      <td>2</td>\n",
       "      <td>2275</td>\n",
       "      <td>40대 M</td>\n",
       "      <td>20180829</td>\n",
       "      <td>의류</td>\n",
       "      <td>유아의류</td>\n",
       "      <td>36700.0</td>\n",
       "      <td>M</td>\n",
       "    </tr>\n",
       "    <tr>\n",
       "      <td>3</td>\n",
       "      <td>3</td>\n",
       "      <td>1309</td>\n",
       "      <td>40대 F</td>\n",
       "      <td>20180831</td>\n",
       "      <td>식품</td>\n",
       "      <td>간식</td>\n",
       "      <td>26000.0</td>\n",
       "      <td>F</td>\n",
       "    </tr>\n",
       "    <tr>\n",
       "      <td>4</td>\n",
       "      <td>3</td>\n",
       "      <td>605</td>\n",
       "      <td>40대 F</td>\n",
       "      <td>20180831</td>\n",
       "      <td>의류</td>\n",
       "      <td>남성의류</td>\n",
       "      <td>98600.0</td>\n",
       "      <td>F</td>\n",
       "    </tr>\n",
       "  </tbody>\n",
       "</table>\n",
       "</div>"
      ],
      "text/plain": [
       "   cust_no  item_no age_gender  update_dt item_ctg1 item_ctg2  item_amt sex\n",
       "0        1     1322      40대 M   20180829        의류      남성의류   94900.0   M\n",
       "1        2     2273      40대 M   20180829        의류      남성의류   99900.0   M\n",
       "2        2     2275      40대 M   20180829        의류      유아의류   36700.0   M\n",
       "3        3     1309      40대 F   20180831        식품        간식   26000.0   F\n",
       "4        3      605      40대 F   20180831        의류      남성의류   98600.0   F"
      ]
     },
     "execution_count": 42,
     "metadata": {},
     "output_type": "execute_result"
    }
   ],
   "source": [
    "base[\"sex\"] = base[\"age_gender\"].apply(lambda x : str(x)[-1:])\n",
    "base.head()"
   ]
  },
  {
   "cell_type": "code",
   "execution_count": 43,
   "metadata": {},
   "outputs": [],
   "source": [
    "def get_cnt(ctgr,sex):\n",
    "    return len(base.loc[(base.item_ctg1 == ctgr) & (base.sex == sex)].cust_no.value_counts())"
   ]
  },
  {
   "cell_type": "code",
   "execution_count": 44,
   "metadata": {},
   "outputs": [
    {
     "data": {
      "text/html": [
       "<div>\n",
       "<style scoped>\n",
       "    .dataframe tbody tr th:only-of-type {\n",
       "        vertical-align: middle;\n",
       "    }\n",
       "\n",
       "    .dataframe tbody tr th {\n",
       "        vertical-align: top;\n",
       "    }\n",
       "\n",
       "    .dataframe thead th {\n",
       "        text-align: right;\n",
       "    }\n",
       "</style>\n",
       "<table border=\"1\" class=\"dataframe\">\n",
       "  <thead>\n",
       "    <tr style=\"text-align: right;\">\n",
       "      <th></th>\n",
       "      <th>item_ctg1</th>\n",
       "      <th>item_amt</th>\n",
       "      <th>cust_no</th>\n",
       "      <th>total_sales</th>\n",
       "    </tr>\n",
       "  </thead>\n",
       "  <tbody>\n",
       "    <tr>\n",
       "      <td>0</td>\n",
       "      <td>가전</td>\n",
       "      <td>130788200.0</td>\n",
       "      <td>255</td>\n",
       "      <td>512894.901961</td>\n",
       "    </tr>\n",
       "    <tr>\n",
       "      <td>1</td>\n",
       "      <td>의류</td>\n",
       "      <td>604807600.0</td>\n",
       "      <td>7315</td>\n",
       "      <td>82680.464798</td>\n",
       "    </tr>\n",
       "  </tbody>\n",
       "</table>\n",
       "</div>"
      ],
      "text/plain": [
       "  item_ctg1     item_amt  cust_no    total_sales\n",
       "0        가전  130788200.0      255  512894.901961\n",
       "1        의류  604807600.0     7315   82680.464798"
      ]
     },
     "execution_count": 44,
     "metadata": {},
     "output_type": "execute_result"
    }
   ],
   "source": [
    "df_m = base.loc[base[\"sex\"] == 'M', [\"item_ctg1\", \"item_amt\"]].groupby(\"item_ctg1\").agg(sum)\n",
    "df_m = df_m.reset_index()\n",
    "df_m[\"cust_no\"] = df_m[\"item_ctg1\"].apply(lambda x : get_cnt(x,'M'))\n",
    "df_m[\"total_sales\"] = df_m[\"item_amt\"]/df_m[\"cust_no\"]\n",
    "df_m = df_m.sort_values(\"total_sales\",ascending=False).reset_index(drop=True)\n",
    "df_m.head(2)"
   ]
  },
  {
   "cell_type": "code",
   "execution_count": 45,
   "metadata": {},
   "outputs": [
    {
     "data": {
      "text/html": [
       "<div>\n",
       "<style scoped>\n",
       "    .dataframe tbody tr th:only-of-type {\n",
       "        vertical-align: middle;\n",
       "    }\n",
       "\n",
       "    .dataframe tbody tr th {\n",
       "        vertical-align: top;\n",
       "    }\n",
       "\n",
       "    .dataframe thead th {\n",
       "        text-align: right;\n",
       "    }\n",
       "</style>\n",
       "<table border=\"1\" class=\"dataframe\">\n",
       "  <thead>\n",
       "    <tr style=\"text-align: right;\">\n",
       "      <th></th>\n",
       "      <th>item_ctg1</th>\n",
       "      <th>item_amt</th>\n",
       "      <th>cust_no</th>\n",
       "      <th>total_sales</th>\n",
       "    </tr>\n",
       "  </thead>\n",
       "  <tbody>\n",
       "    <tr>\n",
       "      <td>0</td>\n",
       "      <td>가전</td>\n",
       "      <td>119879200.0</td>\n",
       "      <td>231</td>\n",
       "      <td>518957.575758</td>\n",
       "    </tr>\n",
       "    <tr>\n",
       "      <td>1</td>\n",
       "      <td>화장품</td>\n",
       "      <td>20847200.0</td>\n",
       "      <td>245</td>\n",
       "      <td>85090.612245</td>\n",
       "    </tr>\n",
       "  </tbody>\n",
       "</table>\n",
       "</div>"
      ],
      "text/plain": [
       "  item_ctg1     item_amt  cust_no    total_sales\n",
       "0        가전  119879200.0      231  518957.575758\n",
       "1       화장품   20847200.0      245   85090.612245"
      ]
     },
     "execution_count": 45,
     "metadata": {},
     "output_type": "execute_result"
    }
   ],
   "source": [
    "df_f = base.loc[base[\"sex\"]=='F', [\"item_ctg1\",\"item_amt\"]].groupby(\"item_ctg1\").agg(sum)\n",
    "df_f = df_f.reset_index()\n",
    "df_f[\"cust_no\"] = df_f[\"item_ctg1\"].apply(lambda x : get_cnt(x,'F'))\n",
    "df_f[\"total_sales\"] = df_f[\"item_amt\"]/df_f[\"cust_no\"]\n",
    "df_f = df_f.sort_values(\"total_sales\",ascending=False).reset_index(drop=True)\n",
    "df_f.head(2)"
   ]
  },
  {
   "cell_type": "markdown",
   "metadata": {},
   "source": [
    "A:의류 B: 화장품"
   ]
  },
  {
   "cell_type": "markdown",
   "metadata": {},
   "source": [
    "#### [문제 2] (base_table 또는 ds_purchase_log.csv을 활용하여 분석을 수행하시오.) 상위 20퍼센트의회원이 일으킨 매출은 전체 매출의 몇 퍼센트를 차지하며, 상위 20퍼센트의회원이 일으킨 매출은 하위 20퍼센트의 회원이 일으킨 매출의 몇 배인지 분석하고자 한다. 상위 20퍼센트와 하위 20퍼센트를산정하는 방식은 다음과 같다."
   ]
  },
  {
   "cell_type": "code",
   "execution_count": 46,
   "metadata": {},
   "outputs": [],
   "source": [
    "# (a) 전체 회원에 대해 회원별 구매금액에 대해 내림차순으로 순위를 매긴다. 순위는 동차발생시 동차로 등수를 주고 \n",
    "# 그 다음 순위는 동차 사람수만큼 더한 이후 그 다음 순위를준다 (아래 예시 참조)\n",
    "#  <순위예시>\n",
    "#  금액     순위\n",
    "#  5300     1\n",
    "#  5300     1\n",
    "#  5300     1\n",
    "#  5200     4\n",
    "#  5200     4"
   ]
  },
  {
   "cell_type": "code",
   "execution_count": 47,
   "metadata": {},
   "outputs": [
    {
     "data": {
      "text/html": [
       "<div>\n",
       "<style scoped>\n",
       "    .dataframe tbody tr th:only-of-type {\n",
       "        vertical-align: middle;\n",
       "    }\n",
       "\n",
       "    .dataframe tbody tr th {\n",
       "        vertical-align: top;\n",
       "    }\n",
       "\n",
       "    .dataframe thead th {\n",
       "        text-align: right;\n",
       "    }\n",
       "</style>\n",
       "<table border=\"1\" class=\"dataframe\">\n",
       "  <thead>\n",
       "    <tr style=\"text-align: right;\">\n",
       "      <th></th>\n",
       "      <th>cust_no</th>\n",
       "      <th>item_amt</th>\n",
       "      <th>rank</th>\n",
       "    </tr>\n",
       "  </thead>\n",
       "  <tbody>\n",
       "    <tr>\n",
       "      <td>0</td>\n",
       "      <td>6932</td>\n",
       "      <td>2394000.0</td>\n",
       "      <td>1.0</td>\n",
       "    </tr>\n",
       "    <tr>\n",
       "      <td>1</td>\n",
       "      <td>4401</td>\n",
       "      <td>1978900.0</td>\n",
       "      <td>2.0</td>\n",
       "    </tr>\n",
       "    <tr>\n",
       "      <td>2</td>\n",
       "      <td>2968</td>\n",
       "      <td>1930700.0</td>\n",
       "      <td>3.0</td>\n",
       "    </tr>\n",
       "    <tr>\n",
       "      <td>3</td>\n",
       "      <td>2223</td>\n",
       "      <td>1795200.0</td>\n",
       "      <td>4.0</td>\n",
       "    </tr>\n",
       "    <tr>\n",
       "      <td>4</td>\n",
       "      <td>12049</td>\n",
       "      <td>1716000.0</td>\n",
       "      <td>5.0</td>\n",
       "    </tr>\n",
       "  </tbody>\n",
       "</table>\n",
       "</div>"
      ],
      "text/plain": [
       "   cust_no   item_amt  rank\n",
       "0     6932  2394000.0   1.0\n",
       "1     4401  1978900.0   2.0\n",
       "2     2968  1930700.0   3.0\n",
       "3     2223  1795200.0   4.0\n",
       "4    12049  1716000.0   5.0"
      ]
     },
     "execution_count": 47,
     "metadata": {},
     "output_type": "execute_result"
    }
   ],
   "source": [
    "df_sales = base[[\"cust_no\",\"item_amt\"]].groupby(\"cust_no\").agg(sum)\n",
    "df_sales\n",
    "df_sales[\"rank\"] = df_sales[\"item_amt\"].rank(ascending = False, method = \"min\")\n",
    "df_sales = df_sales.sort_values(\"rank\").reset_index()\n",
    "df_sales.head()"
   ]
  },
  {
   "cell_type": "code",
   "execution_count": 11,
   "metadata": {},
   "outputs": [],
   "source": [
    "# (b) 상위 20퍼센트는 Rank <= N*0.2 인 회원을 의미하며, 하위 20퍼센트는 Rank >= N*0.8 인 회원을 의미한다. \n",
    "# (여기서 N은 base_table또는 ds_purchase_log.csv에 구매이력이 존재하는 회원수, Rank는 위 (a)에서 만든 순위를 의미한다)\n",
    "# 상위 20퍼센트의 회원이 일으킨 매출은 전체 매출의 몇 퍼센트(A)이며, 상위 20퍼센트의회원이 일으킨 매출은 하위 20퍼센트의 \n",
    "# 회원이 일으킨 매출의 몇 배(B)인지 차례대로 쓰시오. (10점)\n",
    "\n",
    "# - Hint : Brightics는 rank() over(order by) 활용\n",
    "# - A, B는 소수점 아래는 버리고,정수형으로 기술하시오."
   ]
  },
  {
   "cell_type": "code",
   "execution_count": 48,
   "metadata": {},
   "outputs": [
    {
     "data": {
      "text/plain": [
       "90639900.0"
      ]
     },
     "execution_count": 48,
     "metadata": {},
     "output_type": "execute_result"
    }
   ],
   "source": [
    "N = df_sales[\"rank\"].max()\n",
    "\n",
    "len(df_sales.loc[df_sales[\"rank\"] <= N*0.2])\n",
    "len(df_sales.loc[df_sales[\"rank\"] >= N*0.8])\n",
    "\n",
    "df_sales.loc[df_sales[\"rank\"] <= N*0.2].item_amt.agg(sum)\n",
    "df_sales.loc[df_sales[\"rank\"] >= N*0.8].item_amt.agg(sum)"
   ]
  },
  {
   "cell_type": "code",
   "execution_count": 13,
   "metadata": {},
   "outputs": [
    {
     "data": {
      "text/plain": [
       "49"
      ]
     },
     "execution_count": 13,
     "metadata": {},
     "output_type": "execute_result"
    }
   ],
   "source": [
    "(df_sales.loc[df_sales[\"rank\"] <= N*0.2,\"item_amt\"].sum() / df_sales[\"item_amt\"].sum() *100).astype('int')"
   ]
  },
  {
   "cell_type": "code",
   "execution_count": 14,
   "metadata": {},
   "outputs": [
    {
     "data": {
      "text/plain": [
       "9"
      ]
     },
     "execution_count": 14,
     "metadata": {},
     "output_type": "execute_result"
    }
   ],
   "source": [
    "(df_sales.loc[df_sales[\"rank\"] <= N*0.2,\"item_amt\"].sum() / df_sales.loc[df_sales[\"rank\"] >= N*0.8,\"item_amt\"].sum()).astype('int')"
   ]
  },
  {
   "cell_type": "markdown",
   "metadata": {},
   "source": [
    "#### [문제 3] (base_table을 활용하여 분석을 수행하시오.) 회원별 구매금액이 연령대별로 차이가 있는지 비교하고자 회원 연령대, 성별(age_gender)을 활용하여 연령대(age_cls) 컬럼을 만들고 다음 분석을 수행한다.(15점)\n",
    " - 각 회원별 구매한 총 구매금액(y)을 산출하고, 회원의 연령대 그룹을 매핑한다. \n",
    " - 연령대 그룹(x)은 age_cls가 '30대'이면 그룹이 ‘G1’, age_cls가 '40대'이면 그룹이 ‘G2’, age_cls가 그 외 연령대이면 그룹이 ‘G3’이다. \n",
    " - 연령대 그룹(x)에 따라 회원별 구매한 총 구매금액(y)이 차이가 있는지 ANOVA를 수행하고, ANOVA의 F-통계량 추정치(A)를 구하시오. \n",
    " - 사후검정으로 Duncan Test(alpha=0.05)를 수행하여 평균구매금액 순으로 오름차순하고, 그 결과를 등호, 부등호로 표기하시오. "
   ]
  },
  {
   "cell_type": "code",
   "execution_count": 15,
   "metadata": {},
   "outputs": [],
   "source": [
    "def def_age(s):\n",
    "    if s == \"30\":\n",
    "        return 'G1'\n",
    "    if s == \"40\": \n",
    "        return 'G2'    \n",
    "    else:\n",
    "        return 'G3'        "
   ]
  },
  {
   "cell_type": "code",
   "execution_count": 16,
   "metadata": {},
   "outputs": [
    {
     "data": {
      "text/plain": [
       "11"
      ]
     },
     "execution_count": 16,
     "metadata": {},
     "output_type": "execute_result"
    }
   ],
   "source": [
    "base[\"age_cls\"] = base[\"age_gender\"].apply(lambda x : def_age(x[:2]))\n",
    "base\n",
    "\n",
    "df_total = base[[\"cust_no\",\"age_cls\",\"item_amt\"]].groupby([\"cust_no\",\"age_cls\"]).agg(sum)\n",
    "df_total = df_total.reset_index()\n",
    "\n",
    "df_anv = df_total[[\"age_cls\",\"item_amt\"]] \n",
    "df_anv = df_anv.rename(columns={\"age_cls\":\"x\",\n",
    "                       \"item_amt\":\"y\"})\n",
    "df_anv                        \n",
    "\n",
    "# 연령대 그룹(x)에 따라 회원별 구매한 총 구매금액(y)이 차이가 있는지 ANOVA를 수행하고, \n",
    "# ANOVA의 F-통계량 추정치(A)를 구하시오. A는 소수점 아래는 버리고, 정수형으로 기술하시오.\n",
    "from scipy.stats import f_oneway\n",
    "\n",
    "stats, p_value = f_oneway(df_anv.loc[df_anv[\"x\"]==\"G1\",\"y\"],\n",
    "                          df_anv.loc[df_anv[\"x\"]==\"G2\",\"y\"],\n",
    "                          df_anv.loc[df_anv[\"x\"]==\"G3\",\"y\"])\n",
    "\n",
    "stats.astype('int')"
   ]
  },
  {
   "cell_type": "code",
   "execution_count": 17,
   "metadata": {},
   "outputs": [
    {
     "data": {
      "text/html": [
       "<table class=\"simpletable\">\n",
       "<caption>Multiple Comparison of Means - Tukey HSD,FWER=0.05</caption>\n",
       "<tr>\n",
       "  <th>group1</th> <th>group2</th>  <th>meandiff</th>     <th>lower</th>       <th>upper</th>   <th>reject</th>\n",
       "</tr>\n",
       "<tr>\n",
       "    <td>G1</td>     <td>G2</td>    <td>8461.1735</td>  <td>4117.8207</td>  <td>12804.5262</td>  <td>True</td> \n",
       "</tr>\n",
       "<tr>\n",
       "    <td>G1</td>     <td>G3</td>    <td>717.8831</td>  <td>-3454.2396</td>   <td>4890.0058</td>  <td>False</td>\n",
       "</tr>\n",
       "<tr>\n",
       "    <td>G2</td>     <td>G3</td>   <td>-7743.2904</td> <td>-12467.8902</td> <td>-3018.6906</td>  <td>True</td> \n",
       "</tr>\n",
       "</table>"
      ],
      "text/plain": [
       "<class 'statsmodels.iolib.table.SimpleTable'>"
      ]
     },
     "execution_count": 17,
     "metadata": {},
     "output_type": "execute_result"
    }
   ],
   "source": [
    "# 또한, 사후검정으로\n",
    "# Brightics: Tukey's Range Test(alpha=0.05)\n",
    "# R: Duncan Test(alpha=0.05)를\n",
    "# 를 수행하여 평균구매금액 순으로 오름차순하고, 그 결과를 등호, 부등호로 표기하시오(B). (15점)\n",
    "# - B는 회원별 구매한 총 구매금액(y)의평균이 그룹 G1, G2, G3 순으로 크고, \n",
    "# Test 결과가 1, 2가 같다면 G1=G2>G3으로 표기한다.\n",
    "\n",
    "from statsmodels.stats import multicomp\n",
    "\n",
    "result = multicomp.pairwise_tukeyhsd(df_anv[\"y\"], df_anv[\"x\"], alpha=0.05)\n",
    "result.summary()"
   ]
  },
  {
   "cell_type": "markdown",
   "metadata": {},
   "source": [
    "#### [문제 4] (base_table을 활용하여 분석을 수행하시오.) 함께 구매되는 상품이 어떤지 분석하여 상품 상세 페이지에 ‘함께 구매하는 상품’으로 추천하기 위해, 구매 로그의 중카테고리 기준으로 연관성 분석(Association Rule)을 수행하고자 한다. 하나의 중카테고리만 구매한 이력이 있는 회원은 제외하고, 둘 이상의 중카테고리를 구매한 회원의 구매 이력을 기반으로 연관성 분석을 수행하고, 중카테고리가 ‘농산물’인 상품의 상세 페이지에 함께 노출되면 좋을 Lift 기준의 가장 적합한 중카테고리를 구하시오. (단, Min Support는 0.001 이상, Min Confidence는 0.001 이상 이어야 한다.) (15점)"
   ]
  },
  {
   "cell_type": "code",
   "execution_count": 18,
   "metadata": {},
   "outputs": [],
   "source": [
    "from mlxtend.preprocessing import TransactionEncoder\n",
    "from mlxtend.frequent_patterns import apriori\n",
    "from mlxtend.frequent_patterns import association_rules"
   ]
  },
  {
   "cell_type": "code",
   "execution_count": 19,
   "metadata": {},
   "outputs": [
    {
     "data": {
      "text/html": [
       "<div>\n",
       "<style scoped>\n",
       "    .dataframe tbody tr th:only-of-type {\n",
       "        vertical-align: middle;\n",
       "    }\n",
       "\n",
       "    .dataframe tbody tr th {\n",
       "        vertical-align: top;\n",
       "    }\n",
       "\n",
       "    .dataframe thead th {\n",
       "        text-align: right;\n",
       "    }\n",
       "</style>\n",
       "<table border=\"1\" class=\"dataframe\">\n",
       "  <thead>\n",
       "    <tr style=\"text-align: right;\">\n",
       "      <th></th>\n",
       "      <th>cust_no</th>\n",
       "      <th>item_no</th>\n",
       "      <th>age_gender</th>\n",
       "      <th>update_dt</th>\n",
       "      <th>item_ctg1</th>\n",
       "      <th>item_ctg2</th>\n",
       "      <th>item_amt</th>\n",
       "      <th>sex</th>\n",
       "      <th>age_cls</th>\n",
       "    </tr>\n",
       "  </thead>\n",
       "  <tbody>\n",
       "    <tr>\n",
       "      <td>0</td>\n",
       "      <td>1</td>\n",
       "      <td>1322</td>\n",
       "      <td>40대 M</td>\n",
       "      <td>20180829</td>\n",
       "      <td>의류</td>\n",
       "      <td>남성의류</td>\n",
       "      <td>94900.0</td>\n",
       "      <td>M</td>\n",
       "      <td>G2</td>\n",
       "    </tr>\n",
       "    <tr>\n",
       "      <td>1</td>\n",
       "      <td>2</td>\n",
       "      <td>2273</td>\n",
       "      <td>40대 M</td>\n",
       "      <td>20180829</td>\n",
       "      <td>의류</td>\n",
       "      <td>남성의류</td>\n",
       "      <td>99900.0</td>\n",
       "      <td>M</td>\n",
       "      <td>G2</td>\n",
       "    </tr>\n",
       "    <tr>\n",
       "      <td>2</td>\n",
       "      <td>2</td>\n",
       "      <td>2275</td>\n",
       "      <td>40대 M</td>\n",
       "      <td>20180829</td>\n",
       "      <td>의류</td>\n",
       "      <td>유아의류</td>\n",
       "      <td>36700.0</td>\n",
       "      <td>M</td>\n",
       "      <td>G2</td>\n",
       "    </tr>\n",
       "    <tr>\n",
       "      <td>3</td>\n",
       "      <td>3</td>\n",
       "      <td>1309</td>\n",
       "      <td>40대 F</td>\n",
       "      <td>20180831</td>\n",
       "      <td>식품</td>\n",
       "      <td>간식</td>\n",
       "      <td>26000.0</td>\n",
       "      <td>F</td>\n",
       "      <td>G2</td>\n",
       "    </tr>\n",
       "    <tr>\n",
       "      <td>4</td>\n",
       "      <td>3</td>\n",
       "      <td>605</td>\n",
       "      <td>40대 F</td>\n",
       "      <td>20180831</td>\n",
       "      <td>의류</td>\n",
       "      <td>남성의류</td>\n",
       "      <td>98600.0</td>\n",
       "      <td>F</td>\n",
       "      <td>G2</td>\n",
       "    </tr>\n",
       "  </tbody>\n",
       "</table>\n",
       "</div>"
      ],
      "text/plain": [
       "   cust_no  item_no age_gender  update_dt item_ctg1 item_ctg2  item_amt sex  \\\n",
       "0        1     1322      40대 M   20180829        의류      남성의류   94900.0   M   \n",
       "1        2     2273      40대 M   20180829        의류      남성의류   99900.0   M   \n",
       "2        2     2275      40대 M   20180829        의류      유아의류   36700.0   M   \n",
       "3        3     1309      40대 F   20180831        식품        간식   26000.0   F   \n",
       "4        3      605      40대 F   20180831        의류      남성의류   98600.0   F   \n",
       "\n",
       "  age_cls  \n",
       "0      G2  \n",
       "1      G2  \n",
       "2      G2  \n",
       "3      G2  \n",
       "4      G2  "
      ]
     },
     "execution_count": 19,
     "metadata": {},
     "output_type": "execute_result"
    }
   ],
   "source": [
    "base.head()"
   ]
  },
  {
   "cell_type": "code",
   "execution_count": 20,
   "metadata": {},
   "outputs": [
    {
     "data": {
      "text/html": [
       "<div>\n",
       "<style scoped>\n",
       "    .dataframe tbody tr th:only-of-type {\n",
       "        vertical-align: middle;\n",
       "    }\n",
       "\n",
       "    .dataframe tbody tr th {\n",
       "        vertical-align: top;\n",
       "    }\n",
       "\n",
       "    .dataframe thead th {\n",
       "        text-align: right;\n",
       "    }\n",
       "</style>\n",
       "<table border=\"1\" class=\"dataframe\">\n",
       "  <thead>\n",
       "    <tr style=\"text-align: right;\">\n",
       "      <th></th>\n",
       "      <th>cust_no</th>\n",
       "      <th>item_ctg2</th>\n",
       "    </tr>\n",
       "  </thead>\n",
       "  <tbody>\n",
       "    <tr>\n",
       "      <td>0</td>\n",
       "      <td>1</td>\n",
       "      <td>남성의류</td>\n",
       "    </tr>\n",
       "    <tr>\n",
       "      <td>1</td>\n",
       "      <td>2</td>\n",
       "      <td>남성의류</td>\n",
       "    </tr>\n",
       "    <tr>\n",
       "      <td>2</td>\n",
       "      <td>2</td>\n",
       "      <td>유아의류</td>\n",
       "    </tr>\n",
       "    <tr>\n",
       "      <td>3</td>\n",
       "      <td>3</td>\n",
       "      <td>간식</td>\n",
       "    </tr>\n",
       "    <tr>\n",
       "      <td>4</td>\n",
       "      <td>3</td>\n",
       "      <td>남성의류</td>\n",
       "    </tr>\n",
       "  </tbody>\n",
       "</table>\n",
       "</div>"
      ],
      "text/plain": [
       "   cust_no item_ctg2\n",
       "0        1      남성의류\n",
       "1        2      남성의류\n",
       "2        2      유아의류\n",
       "3        3        간식\n",
       "4        3      남성의류"
      ]
     },
     "execution_count": 20,
     "metadata": {},
     "output_type": "execute_result"
    }
   ],
   "source": [
    "df_item = base[[\"cust_no\", \"item_ctg2\"]].drop_duplicates()\n",
    "df_sample = df_item.head()\n",
    "df_sample"
   ]
  },
  {
   "cell_type": "code",
   "execution_count": 21,
   "metadata": {},
   "outputs": [
    {
     "data": {
      "text/html": [
       "<div>\n",
       "<style scoped>\n",
       "    .dataframe tbody tr th:only-of-type {\n",
       "        vertical-align: middle;\n",
       "    }\n",
       "\n",
       "    .dataframe tbody tr th {\n",
       "        vertical-align: top;\n",
       "    }\n",
       "\n",
       "    .dataframe thead th {\n",
       "        text-align: right;\n",
       "    }\n",
       "</style>\n",
       "<table border=\"1\" class=\"dataframe\">\n",
       "  <thead>\n",
       "    <tr style=\"text-align: right;\">\n",
       "      <th></th>\n",
       "      <th>item_ctg2</th>\n",
       "    </tr>\n",
       "    <tr>\n",
       "      <th>cust_no</th>\n",
       "      <th></th>\n",
       "    </tr>\n",
       "  </thead>\n",
       "  <tbody>\n",
       "    <tr>\n",
       "      <td>1</td>\n",
       "      <td>[남성의류]</td>\n",
       "    </tr>\n",
       "    <tr>\n",
       "      <td>2</td>\n",
       "      <td>[남성의류, 유아의류]</td>\n",
       "    </tr>\n",
       "    <tr>\n",
       "      <td>3</td>\n",
       "      <td>[간식, 남성의류]</td>\n",
       "    </tr>\n",
       "  </tbody>\n",
       "</table>\n",
       "</div>"
      ],
      "text/plain": [
       "            item_ctg2\n",
       "cust_no              \n",
       "1              [남성의류]\n",
       "2        [남성의류, 유아의류]\n",
       "3          [간식, 남성의류]"
      ]
     },
     "execution_count": 21,
     "metadata": {},
     "output_type": "execute_result"
    }
   ],
   "source": [
    "df_sample.groupby(['cust_no']).agg(lambda x: list(x))"
   ]
  },
  {
   "cell_type": "code",
   "execution_count": 22,
   "metadata": {},
   "outputs": [],
   "source": [
    "df_item = df_item.groupby(['cust_no']).agg(lambda x: list(x))"
   ]
  },
  {
   "cell_type": "code",
   "execution_count": 23,
   "metadata": {},
   "outputs": [
    {
     "data": {
      "text/html": [
       "<div>\n",
       "<style scoped>\n",
       "    .dataframe tbody tr th:only-of-type {\n",
       "        vertical-align: middle;\n",
       "    }\n",
       "\n",
       "    .dataframe tbody tr th {\n",
       "        vertical-align: top;\n",
       "    }\n",
       "\n",
       "    .dataframe thead th {\n",
       "        text-align: right;\n",
       "    }\n",
       "</style>\n",
       "<table border=\"1\" class=\"dataframe\">\n",
       "  <thead>\n",
       "    <tr style=\"text-align: right;\">\n",
       "      <th></th>\n",
       "      <th>item_ctg2</th>\n",
       "    </tr>\n",
       "    <tr>\n",
       "      <th>cust_no</th>\n",
       "      <th></th>\n",
       "    </tr>\n",
       "  </thead>\n",
       "  <tbody>\n",
       "    <tr>\n",
       "      <td>1</td>\n",
       "      <td>[남성의류]</td>\n",
       "    </tr>\n",
       "    <tr>\n",
       "      <td>2</td>\n",
       "      <td>[남성의류, 유아의류]</td>\n",
       "    </tr>\n",
       "    <tr>\n",
       "      <td>3</td>\n",
       "      <td>[간식, 남성의류]</td>\n",
       "    </tr>\n",
       "    <tr>\n",
       "      <td>4</td>\n",
       "      <td>[유아의류]</td>\n",
       "    </tr>\n",
       "    <tr>\n",
       "      <td>5</td>\n",
       "      <td>[화장지, 남성의류]</td>\n",
       "    </tr>\n",
       "    <tr>\n",
       "      <td>6</td>\n",
       "      <td>[기타의류]</td>\n",
       "    </tr>\n",
       "  </tbody>\n",
       "</table>\n",
       "</div>"
      ],
      "text/plain": [
       "            item_ctg2\n",
       "cust_no              \n",
       "1              [남성의류]\n",
       "2        [남성의류, 유아의류]\n",
       "3          [간식, 남성의류]\n",
       "4              [유아의류]\n",
       "5         [화장지, 남성의류]\n",
       "6              [기타의류]"
      ]
     },
     "execution_count": 23,
     "metadata": {},
     "output_type": "execute_result"
    }
   ],
   "source": [
    "df_item.head(6)"
   ]
  },
  {
   "cell_type": "code",
   "execution_count": 24,
   "metadata": {},
   "outputs": [],
   "source": [
    "te = TransactionEncoder()\n",
    "te_ary = te.fit(df_item['item_ctg2']).transform(df_item['item_ctg2'])"
   ]
  },
  {
   "cell_type": "code",
   "execution_count": 25,
   "metadata": {},
   "outputs": [
    {
     "data": {
      "text/html": [
       "<div>\n",
       "<style scoped>\n",
       "    .dataframe tbody tr th:only-of-type {\n",
       "        vertical-align: middle;\n",
       "    }\n",
       "\n",
       "    .dataframe tbody tr th {\n",
       "        vertical-align: top;\n",
       "    }\n",
       "\n",
       "    .dataframe thead th {\n",
       "        text-align: right;\n",
       "    }\n",
       "</style>\n",
       "<table border=\"1\" class=\"dataframe\">\n",
       "  <thead>\n",
       "    <tr style=\"text-align: right;\">\n",
       "      <th></th>\n",
       "      <th>support</th>\n",
       "      <th>itemsets</th>\n",
       "    </tr>\n",
       "  </thead>\n",
       "  <tbody>\n",
       "    <tr>\n",
       "      <td>0</td>\n",
       "      <td>0.009076</td>\n",
       "      <td>(가공식품)</td>\n",
       "    </tr>\n",
       "    <tr>\n",
       "      <td>1</td>\n",
       "      <td>0.008656</td>\n",
       "      <td>(간식)</td>\n",
       "    </tr>\n",
       "    <tr>\n",
       "      <td>2</td>\n",
       "      <td>0.018572</td>\n",
       "      <td>(건강식품)</td>\n",
       "    </tr>\n",
       "    <tr>\n",
       "      <td>3</td>\n",
       "      <td>0.055926</td>\n",
       "      <td>(과자류)</td>\n",
       "    </tr>\n",
       "    <tr>\n",
       "      <td>4</td>\n",
       "      <td>0.045066</td>\n",
       "      <td>(기타의류)</td>\n",
       "    </tr>\n",
       "  </tbody>\n",
       "</table>\n",
       "</div>"
      ],
      "text/plain": [
       "    support itemsets\n",
       "0  0.009076   (가공식품)\n",
       "1  0.008656     (간식)\n",
       "2  0.018572   (건강식품)\n",
       "3  0.055926    (과자류)\n",
       "4  0.045066   (기타의류)"
      ]
     },
     "execution_count": 25,
     "metadata": {},
     "output_type": "execute_result"
    }
   ],
   "source": [
    "df_rule = pd.DataFrame(te_ary, columns=te.columns_)\n",
    "frequent_itemsets = apriori(df_rule, min_support = 0.001, use_colnames=True)\n",
    "frequent_itemsets.head()"
   ]
  },
  {
   "cell_type": "code",
   "execution_count": 26,
   "metadata": {},
   "outputs": [
    {
     "data": {
      "text/html": [
       "<div>\n",
       "<style scoped>\n",
       "    .dataframe tbody tr th:only-of-type {\n",
       "        vertical-align: middle;\n",
       "    }\n",
       "\n",
       "    .dataframe tbody tr th {\n",
       "        vertical-align: top;\n",
       "    }\n",
       "\n",
       "    .dataframe thead th {\n",
       "        text-align: right;\n",
       "    }\n",
       "</style>\n",
       "<table border=\"1\" class=\"dataframe\">\n",
       "  <thead>\n",
       "    <tr style=\"text-align: right;\">\n",
       "      <th></th>\n",
       "      <th>antecedents</th>\n",
       "      <th>consequents</th>\n",
       "      <th>antecedent support</th>\n",
       "      <th>consequent support</th>\n",
       "      <th>support</th>\n",
       "      <th>confidence</th>\n",
       "      <th>lift</th>\n",
       "      <th>leverage</th>\n",
       "      <th>conviction</th>\n",
       "    </tr>\n",
       "  </thead>\n",
       "  <tbody>\n",
       "    <tr>\n",
       "      <td>0</td>\n",
       "      <td>(농산물)</td>\n",
       "      <td>(가공식품)</td>\n",
       "      <td>0.022664</td>\n",
       "      <td>0.009076</td>\n",
       "      <td>0.001574</td>\n",
       "      <td>0.069444</td>\n",
       "      <td>7.651333</td>\n",
       "      <td>0.001368</td>\n",
       "      <td>1.064873</td>\n",
       "    </tr>\n",
       "    <tr>\n",
       "      <td>1</td>\n",
       "      <td>(가공식품)</td>\n",
       "      <td>(농산물)</td>\n",
       "      <td>0.009076</td>\n",
       "      <td>0.022664</td>\n",
       "      <td>0.001574</td>\n",
       "      <td>0.173410</td>\n",
       "      <td>7.651333</td>\n",
       "      <td>0.001368</td>\n",
       "      <td>1.182371</td>\n",
       "    </tr>\n",
       "    <tr>\n",
       "      <td>2</td>\n",
       "      <td>(남성의류)</td>\n",
       "      <td>(건강식품)</td>\n",
       "      <td>0.204921</td>\n",
       "      <td>0.018572</td>\n",
       "      <td>0.001259</td>\n",
       "      <td>0.006144</td>\n",
       "      <td>0.330843</td>\n",
       "      <td>-0.002547</td>\n",
       "      <td>0.987496</td>\n",
       "    </tr>\n",
       "    <tr>\n",
       "      <td>3</td>\n",
       "      <td>(건강식품)</td>\n",
       "      <td>(남성의류)</td>\n",
       "      <td>0.018572</td>\n",
       "      <td>0.204921</td>\n",
       "      <td>0.001259</td>\n",
       "      <td>0.067797</td>\n",
       "      <td>0.330843</td>\n",
       "      <td>-0.002547</td>\n",
       "      <td>0.852903</td>\n",
       "    </tr>\n",
       "    <tr>\n",
       "      <td>4</td>\n",
       "      <td>(농산물)</td>\n",
       "      <td>(건강식품)</td>\n",
       "      <td>0.022664</td>\n",
       "      <td>0.018572</td>\n",
       "      <td>0.001102</td>\n",
       "      <td>0.048611</td>\n",
       "      <td>2.617447</td>\n",
       "      <td>0.000681</td>\n",
       "      <td>1.031574</td>\n",
       "    </tr>\n",
       "  </tbody>\n",
       "</table>\n",
       "</div>"
      ],
      "text/plain": [
       "  antecedents consequents  antecedent support  consequent support   support  \\\n",
       "0       (농산물)      (가공식품)            0.022664            0.009076  0.001574   \n",
       "1      (가공식품)       (농산물)            0.009076            0.022664  0.001574   \n",
       "2      (남성의류)      (건강식품)            0.204921            0.018572  0.001259   \n",
       "3      (건강식품)      (남성의류)            0.018572            0.204921  0.001259   \n",
       "4       (농산물)      (건강식품)            0.022664            0.018572  0.001102   \n",
       "\n",
       "   confidence      lift  leverage  conviction  \n",
       "0    0.069444  7.651333  0.001368    1.064873  \n",
       "1    0.173410  7.651333  0.001368    1.182371  \n",
       "2    0.006144  0.330843 -0.002547    0.987496  \n",
       "3    0.067797  0.330843 -0.002547    0.852903  \n",
       "4    0.048611  2.617447  0.000681    1.031574  "
      ]
     },
     "execution_count": 26,
     "metadata": {},
     "output_type": "execute_result"
    }
   ],
   "source": [
    "rules = association_rules(frequent_itemsets, metric=\"confidence\", min_threshold = 0.001)\n",
    "rules.head()"
   ]
  },
  {
   "cell_type": "code",
   "execution_count": 27,
   "metadata": {},
   "outputs": [
    {
     "data": {
      "text/html": [
       "<div>\n",
       "<style scoped>\n",
       "    .dataframe tbody tr th:only-of-type {\n",
       "        vertical-align: middle;\n",
       "    }\n",
       "\n",
       "    .dataframe tbody tr th {\n",
       "        vertical-align: top;\n",
       "    }\n",
       "\n",
       "    .dataframe thead th {\n",
       "        text-align: right;\n",
       "    }\n",
       "</style>\n",
       "<table border=\"1\" class=\"dataframe\">\n",
       "  <thead>\n",
       "    <tr style=\"text-align: right;\">\n",
       "      <th></th>\n",
       "      <th>antecedents</th>\n",
       "      <th>consequents</th>\n",
       "      <th>antecedent support</th>\n",
       "      <th>consequent support</th>\n",
       "      <th>support</th>\n",
       "      <th>confidence</th>\n",
       "      <th>lift</th>\n",
       "      <th>leverage</th>\n",
       "      <th>conviction</th>\n",
       "    </tr>\n",
       "  </thead>\n",
       "  <tbody>\n",
       "    <tr>\n",
       "      <td>1</td>\n",
       "      <td>(가공식품)</td>\n",
       "      <td>(농산물)</td>\n",
       "      <td>0.009076</td>\n",
       "      <td>0.022664</td>\n",
       "      <td>0.001574</td>\n",
       "      <td>0.17341</td>\n",
       "      <td>7.651333</td>\n",
       "      <td>0.001368</td>\n",
       "      <td>1.182371</td>\n",
       "    </tr>\n",
       "  </tbody>\n",
       "</table>\n",
       "</div>"
      ],
      "text/plain": [
       "  antecedents consequents  antecedent support  consequent support   support  \\\n",
       "1      (가공식품)       (농산물)            0.009076            0.022664  0.001574   \n",
       "\n",
       "   confidence      lift  leverage  conviction  \n",
       "1     0.17341  7.651333  0.001368    1.182371  "
      ]
     },
     "execution_count": 27,
     "metadata": {},
     "output_type": "execute_result"
    }
   ],
   "source": [
    "df_farm = rules.loc[rules['antecedents'] == rules.iloc[1,0], ]\n",
    "df_farm.sort_values(by = ['lift'], ascending = False)"
   ]
  },
  {
   "cell_type": "markdown",
   "metadata": {},
   "source": [
    "------------------\n",
    "\n",
    "#### [정답]\n",
    "1 : 의류,화장품 <br>\n",
    "2 : 49,9 <br>\n",
    "3 : 11,G2>G3=G1 <br>\n",
    "4 : 가공식품 <br>"
   ]
  }
 ],
 "metadata": {
  "kernelspec": {
   "display_name": "kaggle_env",
   "language": "python",
   "name": "kaggle_env"
  },
  "language_info": {
   "codemirror_mode": {
    "name": "ipython",
    "version": 3
   },
   "file_extension": ".py",
   "mimetype": "text/x-python",
   "name": "python",
   "nbconvert_exporter": "python",
   "pygments_lexer": "ipython3",
   "version": "3.6.8"
  }
 },
 "nbformat": 4,
 "nbformat_minor": 2
}
