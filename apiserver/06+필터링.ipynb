{
 "cells": [
  {
   "cell_type": "markdown",
   "metadata": {},
   "source": [
    "# EP 06 - 필터링"
   ]
  },
  {
   "cell_type": "markdown",
   "metadata": {},
   "source": [
    "목록조회 APIView(`ListAPIView`)에서는 조건에 따라 QuerySet을 필터링이 필요할 수 있습니다. `APIView`는 `View`를 상속받은 `CBV`이므로, `CBV`에서 하던 대로 필터링을 수행할 수 있습니다.\n",
    "\n",
    "### 필터링에 필요한 인자 획득\n",
    "\n",
    "`self.request`를 통해 `HttpRequest`객체를 참조할 수 있습니다.\n",
    "\n",
    "+ `self.request.user` : 현재 로그인 유저 Instance. 로그아웃 시에는 AnonymousUser 인스턴스\n",
    "+ `self.request.GET` : 요청 `GET인자`\n",
    "+ `self.request.query_params` : `GET인자`와 동일한 값입니다. `rest_framework`에서는 보다 가독성높은 이름으로서 이 속성을 지원하고 있습니다.\n",
    "\n",
    "그리고, `CBV`이기에 `self.kwargs`를 통해 `URL Capture`된 인자를 획득할 수 있습니다. 아래와 같이 URL패턴이 정의되어있을 경우, `self.kwargs['username']`으로 해당 값을 참조할 수 있습니다.\n",
    "\n",
    "```python\n",
    "urlpatterns = [\n",
    "    url(r'^(?P<username>\\w+)/$', views.PostListAPIView.as_view()),\n",
    "    url(r'^$', views.PostListAPIView.as_view()),\n",
    "]\n",
    "```\n",
    "\n",
    "### `get_queryset`을 통한 쿼리셋 필터링\n",
    "\n",
    "`ListAPIView`에는 `queryset`인자를 지정하고, 상황에 따라 필터링이 필요한 경우에는 `get_queryset`함수를 재정의해서 구현할 수 있습니다.\n",
    "\n",
    "```python\n",
    "from rest_framework import generics\n",
    "\n",
    "class PostListAPIView(generics.ListAPIView):\n",
    "    queryset = Post.objects.all()\n",
    "    \n",
    "    def get_queryset(self):\n",
    "        qs = super().get_queryset()\n",
    "        qs = qs.filter(...)  # 직절히 필터링\n",
    "        return qs\n",
    "```\n",
    "\n"
   ]
  },
  {
   "cell_type": "markdown",
   "metadata": {},
   "source": [
    "## Search 구현\n",
    "\n",
    "[Django Admin의 Search기능](https://docs.djangoproject.com/en/dev/ref/contrib/admin/#django.contrib.admin.ModelAdmin.search_fields)과 유사하게 제공합니다. 이는 별도의 검색엔진을 사용하는 것이 아니라, DBMS의 LIKE/ILIKE 조건절을 활용합니다.\n",
    "\n",
    "```python\n",
    "from rest_framework.filters import SearchFilter\n",
    "\n",
    "class PostListAPIView(generics.ListAPIView):\n",
    "    # 중략\n",
    "\n",
    "    filter_backends = [SearchFilter]\n",
    "    search_fields = ['title']  # 검색 키워드를 지정했을 때, 매칭을 시도할 필드\n",
    "```"
   ]
  },
  {
   "cell_type": "markdown",
   "metadata": {
    "collapsed": true
   },
   "source": [
    "---\n",
    "\n",
    "Life is short. Use Python3/Django.\n",
    "\n"
   ]
  }
 ],
 "metadata": {
  "kernelspec": {
   "display_name": "Python 3",
   "language": "python",
   "name": "python3"
  },
  "language_info": {
   "codemirror_mode": {
    "name": "ipython",
    "version": 3
   },
   "file_extension": ".py",
   "mimetype": "text/x-python",
   "name": "python",
   "nbconvert_exporter": "python",
   "pygments_lexer": "ipython3",
   "version": "3.6.1"
  }
 },
 "nbformat": 4,
 "nbformat_minor": 2
}
