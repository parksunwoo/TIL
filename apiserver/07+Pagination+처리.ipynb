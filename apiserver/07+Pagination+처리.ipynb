{
 "cells": [
  {
   "cell_type": "markdown",
   "metadata": {},
   "source": [
    "# EP 07. Pagination 처리"
   ]
  },
  {
   "cell_type": "markdown",
   "metadata": {},
   "source": [
    "레코드 갯수가 많은 경우 목록을 하나의 API 요청만으로 받는 것은 피해야할 것입니다. 이럴 때 여러 페이지에 나눠서 요청을 처리할 수 있겠는 데요. 이에 대해 `rest_framework`에서는 여러 페이징 기법을 지원해주고 있습니다.\n",
    "\n",
    "+ `PageNumberPagination` : `page`인자를 통해 페이징 처리\n",
    "    - `http://api.example.org/accounts/?page=4`\n",
    "    - `http://api.example.org/accounts/?page=4&page_size=100`\n",
    "+ `LimitOffsetPagination` : `limit`인자를 통한 페이징 처리\n",
    "    - `http://api.example.org/accounts/?limit=100`\n",
    "    - `http://api.example.org/accounts/?offset=400&limit=100`"
   ]
  },
  {
   "cell_type": "markdown",
   "metadata": {},
   "source": [
    "\n",
    "`rest_framework/generics.py` 내 `GenericAPIView`에는 이미 `pagination_class = PageNumberPagination` 설정이었습니다. 하지만, `3.7.0`버전부터는 `디폴트 None`으로 지정으로 변경되었습니다. 현재 (2017년 11월) 최신 버전은 `3.7.3`버전입니다.\n",
    "\n",
    "```python\n",
    "from rest_framework.pagination import PageNumberPagination\n",
    "\n",
    "class GenericAPIView(ApiView):\n",
    "    pagination_class = PageNumberPagination  # 디폴트 지정\n",
    "```\n",
    "\n",
    "하지만 디폴트 설정으로 `PAGE_SIZE`인자가 `None`으로 설정되어있기 때문에, 리스트 처리에서 페이징처리가 되지 않습니다. 다음과 같이 전역으로 `PAGE_SIZE`설정을 하셔도 되구요.\n",
    "\n",
    "```\n",
    "# 프로젝트/settings.py\n",
    "\n",
    "REST_FRAMEWORK = {\n",
    "    'PAGE_SIZE': 20,  # 디폴트 값은 None으로서 페이징 비활성화\n",
    "}\n",
    "```"
   ]
  },
  {
   "cell_type": "markdown",
   "metadata": {},
   "source": [
    "각 API별로 `PAGE_SIZE`설정을 다르게 할 수도 있지만, 이는 `Pagination`의 역할이기에 `Pagination`을 커스텀하셔야 합니다.\n",
    "\n",
    "```python\n",
    "from rest_framework.pagination import PageNumberPagination\n",
    "\n",
    "class PostPageNumberPagination(PageNumberPagination):\n",
    "    page_size = 20\n",
    "\n",
    "class PostViewSet(..):\n",
    "    pagination_class = PostPageNumberPagination\n",
    "```"
   ]
  },
  {
   "cell_type": "markdown",
   "metadata": {},
   "source": [
    "Tip: `3.7.0`버전부터 디폴트 페이징 클래스 설정이 `None`으로 [디폴트 설정이 변경](https://github.com/encode/django-rest-framework/commit/107e8b3d23a933b8cdc1f14045d7d42742be53a9#diff-f9716c39348a77db61afdaa2ed35cd87R54)되기에, 낮은 버전을 쓰고 계시더라도 다음과 같이 전역설정을 해두시는 것이 좋습니다. ;)\n",
    "\n",
    "```python\n",
    "REST_FRAMEWORK = {\n",
    "    'DEFAULT_PAGINATION_CLASS': 'rest_framework.pagination.PageNumberPagination',\n",
    "}\n",
    "```"
   ]
  },
  {
   "cell_type": "markdown",
   "metadata": {},
   "source": [
    "----\n",
    "\n",
    "Life is short. Use Python3/Django.\n",
    "\n",
    "\\- AskDjango"
   ]
  }
 ],
 "metadata": {
  "kernelspec": {
   "display_name": "Python 3",
   "language": "python",
   "name": "python3"
  },
  "language_info": {
   "codemirror_mode": {
    "name": "ipython",
    "version": 3
   },
   "file_extension": ".py",
   "mimetype": "text/x-python",
   "name": "python",
   "nbconvert_exporter": "python",
   "pygments_lexer": "ipython3",
   "version": "3.6.1"
  }
 },
 "nbformat": 4,
 "nbformat_minor": 2
}
